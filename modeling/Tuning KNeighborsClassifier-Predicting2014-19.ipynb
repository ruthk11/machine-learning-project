{
 "cells": [
  {
   "cell_type": "markdown",
   "id": "d0481b5b",
   "metadata": {},
   "source": [
    "# Tuning k-NN "
   ]
  },
  {
   "cell_type": "code",
   "execution_count": 30,
   "id": "aa0c2fe9",
   "metadata": {},
   "outputs": [],
   "source": [
    "import pandas as pd\n",
    "import numpy as np\n",
    "\n",
    "from sklearn.neighbors import KNeighborsClassifier\n",
    "\n",
    "from sklearn.model_selection import GridSearchCV\n",
    "from sklearn.model_selection import train_test_split\n",
    "\n",
    "from sklearn.metrics import accuracy_score\n",
    "from sklearn.metrics import confusion_matrix\n",
    "\n",
    "from matplotlib import pyplot as plt\n",
    "import seaborn as sns"
   ]
  },
  {
   "cell_type": "code",
   "execution_count": 2,
   "id": "2c9348b5",
   "metadata": {},
   "outputs": [
    {
     "name": "stderr",
     "output_type": "stream",
     "text": [
      "/Users/bigyanbhandari/opt/anaconda3/lib/python3.8/site-packages/numpy/lib/arraysetops.py:583: FutureWarning: elementwise comparison failed; returning scalar instead, but in the future will perform elementwise comparison\n",
      "  mask |= (ar1 == a)\n"
     ]
    }
   ],
   "source": [
    "X = pd.read_csv('final_model_for_tuning.csv', index_col = 0)\n",
    "X_Pred = pd.read_csv('data_for_prediction.csv', index_col = 0)"
   ]
  },
  {
   "cell_type": "code",
   "execution_count": 3,
   "id": "628cfcbc",
   "metadata": {
    "scrolled": true
   },
   "outputs": [
    {
     "data": {
      "text/html": [
       "<div>\n",
       "<style scoped>\n",
       "    .dataframe tbody tr th:only-of-type {\n",
       "        vertical-align: middle;\n",
       "    }\n",
       "\n",
       "    .dataframe tbody tr th {\n",
       "        vertical-align: top;\n",
       "    }\n",
       "\n",
       "    .dataframe thead th {\n",
       "        text-align: right;\n",
       "    }\n",
       "</style>\n",
       "<table border=\"1\" class=\"dataframe\">\n",
       "  <thead>\n",
       "    <tr style=\"text-align: right;\">\n",
       "      <th></th>\n",
       "      <th>ABBR</th>\n",
       "      <th>LOCALE</th>\n",
       "      <th>TOTAL STUDENTS</th>\n",
       "      <th>ASIAN</th>\n",
       "      <th>HISPANIC</th>\n",
       "      <th>BLACK</th>\n",
       "      <th>WHITE</th>\n",
       "    </tr>\n",
       "  </thead>\n",
       "  <tbody>\n",
       "    <tr>\n",
       "      <th>0</th>\n",
       "      <td>1</td>\n",
       "      <td>101</td>\n",
       "      <td>-0.992013</td>\n",
       "      <td>-0.307686</td>\n",
       "      <td>-0.372211</td>\n",
       "      <td>-0.424484</td>\n",
       "      <td>-0.817053</td>\n",
       "    </tr>\n",
       "    <tr>\n",
       "      <th>1</th>\n",
       "      <td>1</td>\n",
       "      <td>102</td>\n",
       "      <td>-1.156632</td>\n",
       "      <td>-0.321053</td>\n",
       "      <td>-0.476906</td>\n",
       "      <td>-0.525924</td>\n",
       "      <td>-0.920000</td>\n",
       "    </tr>\n",
       "    <tr>\n",
       "      <th>2</th>\n",
       "      <td>2</td>\n",
       "      <td>102</td>\n",
       "      <td>-1.073195</td>\n",
       "      <td>-0.321053</td>\n",
       "      <td>-0.468181</td>\n",
       "      <td>-0.525924</td>\n",
       "      <td>-0.803769</td>\n",
       "    </tr>\n",
       "    <tr>\n",
       "      <th>3</th>\n",
       "      <td>3</td>\n",
       "      <td>102</td>\n",
       "      <td>0.275329</td>\n",
       "      <td>-0.294320</td>\n",
       "      <td>-0.468181</td>\n",
       "      <td>0.476543</td>\n",
       "      <td>0.604290</td>\n",
       "    </tr>\n",
       "    <tr>\n",
       "      <th>4</th>\n",
       "      <td>4</td>\n",
       "      <td>101</td>\n",
       "      <td>0.597802</td>\n",
       "      <td>-0.267587</td>\n",
       "      <td>0.029117</td>\n",
       "      <td>0.643621</td>\n",
       "      <td>0.604290</td>\n",
       "    </tr>\n",
       "  </tbody>\n",
       "</table>\n",
       "</div>"
      ],
      "text/plain": [
       "   ABBR  LOCALE  TOTAL STUDENTS     ASIAN  HISPANIC     BLACK     WHITE\n",
       "0     1     101       -0.992013 -0.307686 -0.372211 -0.424484 -0.817053\n",
       "1     1     102       -1.156632 -0.321053 -0.476906 -0.525924 -0.920000\n",
       "2     2     102       -1.073195 -0.321053 -0.468181 -0.525924 -0.803769\n",
       "3     3     102        0.275329 -0.294320 -0.468181  0.476543  0.604290\n",
       "4     4     101        0.597802 -0.267587  0.029117  0.643621  0.604290"
      ]
     },
     "execution_count": 3,
     "metadata": {},
     "output_type": "execute_result"
    }
   ],
   "source": [
    "X.head()"
   ]
  },
  {
   "cell_type": "code",
   "execution_count": 4,
   "id": "cf486b7d",
   "metadata": {
    "scrolled": true
   },
   "outputs": [
    {
     "data": {
      "text/html": [
       "<div>\n",
       "<style scoped>\n",
       "    .dataframe tbody tr th:only-of-type {\n",
       "        vertical-align: middle;\n",
       "    }\n",
       "\n",
       "    .dataframe tbody tr th {\n",
       "        vertical-align: top;\n",
       "    }\n",
       "\n",
       "    .dataframe thead th {\n",
       "        text-align: right;\n",
       "    }\n",
       "</style>\n",
       "<table border=\"1\" class=\"dataframe\">\n",
       "  <thead>\n",
       "    <tr style=\"text-align: right;\">\n",
       "      <th></th>\n",
       "      <th>ABBR</th>\n",
       "      <th>LOCALE</th>\n",
       "      <th>TOTAL STUDENTS</th>\n",
       "      <th>AMERICAN INDIAN</th>\n",
       "      <th>ASIAN</th>\n",
       "      <th>HISPANIC</th>\n",
       "      <th>BLACK</th>\n",
       "      <th>WHITE</th>\n",
       "    </tr>\n",
       "  </thead>\n",
       "  <tbody>\n",
       "    <tr>\n",
       "      <th>0</th>\n",
       "      <td>50</td>\n",
       "      <td>110</td>\n",
       "      <td>-0.818646</td>\n",
       "      <td>0.635619</td>\n",
       "      <td>-0.248729</td>\n",
       "      <td>-0.494610</td>\n",
       "      <td>-0.526397</td>\n",
       "      <td>-0.569339</td>\n",
       "    </tr>\n",
       "    <tr>\n",
       "      <th>1</th>\n",
       "      <td>39</td>\n",
       "      <td>111</td>\n",
       "      <td>-1.126164</td>\n",
       "      <td>-0.198263</td>\n",
       "      <td>-0.328739</td>\n",
       "      <td>-0.562080</td>\n",
       "      <td>-0.526397</td>\n",
       "      <td>-0.867948</td>\n",
       "    </tr>\n",
       "    <tr>\n",
       "      <th>2</th>\n",
       "      <td>39</td>\n",
       "      <td>111</td>\n",
       "      <td>-0.318654</td>\n",
       "      <td>-0.105610</td>\n",
       "      <td>-0.122998</td>\n",
       "      <td>-0.272354</td>\n",
       "      <td>-0.316468</td>\n",
       "      <td>-0.069169</td>\n",
       "    </tr>\n",
       "    <tr>\n",
       "      <th>3</th>\n",
       "      <td>45</td>\n",
       "      <td>114</td>\n",
       "      <td>0.075146</td>\n",
       "      <td>-0.198263</td>\n",
       "      <td>0.437077</td>\n",
       "      <td>-0.454921</td>\n",
       "      <td>-0.208117</td>\n",
       "      <td>0.445931</td>\n",
       "    </tr>\n",
       "    <tr>\n",
       "      <th>4</th>\n",
       "      <td>41</td>\n",
       "      <td>111</td>\n",
       "      <td>-1.006697</td>\n",
       "      <td>-0.198263</td>\n",
       "      <td>-0.328739</td>\n",
       "      <td>-0.335856</td>\n",
       "      <td>-0.431590</td>\n",
       "      <td>-0.927670</td>\n",
       "    </tr>\n",
       "  </tbody>\n",
       "</table>\n",
       "</div>"
      ],
      "text/plain": [
       "   ABBR  LOCALE  TOTAL STUDENTS  AMERICAN INDIAN     ASIAN  HISPANIC  \\\n",
       "0    50     110       -0.818646         0.635619 -0.248729 -0.494610   \n",
       "1    39     111       -1.126164        -0.198263 -0.328739 -0.562080   \n",
       "2    39     111       -0.318654        -0.105610 -0.122998 -0.272354   \n",
       "3    45     114        0.075146        -0.198263  0.437077 -0.454921   \n",
       "4    41     111       -1.006697        -0.198263 -0.328739 -0.335856   \n",
       "\n",
       "      BLACK     WHITE  \n",
       "0 -0.526397 -0.569339  \n",
       "1 -0.526397 -0.867948  \n",
       "2 -0.316468 -0.069169  \n",
       "3 -0.208117  0.445931  \n",
       "4 -0.431590 -0.927670  "
      ]
     },
     "execution_count": 4,
     "metadata": {},
     "output_type": "execute_result"
    }
   ],
   "source": [
    "X_Pred.head()"
   ]
  },
  {
   "cell_type": "code",
   "execution_count": 5,
   "id": "8ca84983",
   "metadata": {},
   "outputs": [],
   "source": [
    "X_Pred.drop(columns = ['AMERICAN INDIAN'], inplace = True)"
   ]
  },
  {
   "cell_type": "code",
   "execution_count": 6,
   "id": "1175e339",
   "metadata": {},
   "outputs": [],
   "source": [
    "Y_HI = pd.read_csv('high-poverty-label.csv')\n",
    "Y_PRED_HI = pd.read_csv('High-label-20.csv', index_col = 0)"
   ]
  },
  {
   "cell_type": "code",
   "execution_count": 7,
   "id": "752397a4",
   "metadata": {},
   "outputs": [
    {
     "data": {
      "text/html": [
       "<div>\n",
       "<style scoped>\n",
       "    .dataframe tbody tr th:only-of-type {\n",
       "        vertical-align: middle;\n",
       "    }\n",
       "\n",
       "    .dataframe tbody tr th {\n",
       "        vertical-align: top;\n",
       "    }\n",
       "\n",
       "    .dataframe thead th {\n",
       "        text-align: right;\n",
       "    }\n",
       "</style>\n",
       "<table border=\"1\" class=\"dataframe\">\n",
       "  <thead>\n",
       "    <tr style=\"text-align: right;\">\n",
       "      <th></th>\n",
       "      <th>HI-LABEL-19-20</th>\n",
       "    </tr>\n",
       "  </thead>\n",
       "  <tbody>\n",
       "    <tr>\n",
       "      <th>0</th>\n",
       "      <td>1</td>\n",
       "    </tr>\n",
       "    <tr>\n",
       "      <th>1</th>\n",
       "      <td>0</td>\n",
       "    </tr>\n",
       "    <tr>\n",
       "      <th>2</th>\n",
       "      <td>1</td>\n",
       "    </tr>\n",
       "    <tr>\n",
       "      <th>3</th>\n",
       "      <td>0</td>\n",
       "    </tr>\n",
       "    <tr>\n",
       "      <th>4</th>\n",
       "      <td>1</td>\n",
       "    </tr>\n",
       "  </tbody>\n",
       "</table>\n",
       "</div>"
      ],
      "text/plain": [
       "   HI-LABEL-19-20\n",
       "0               1\n",
       "1               0\n",
       "2               1\n",
       "3               0\n",
       "4               1"
      ]
     },
     "execution_count": 7,
     "metadata": {},
     "output_type": "execute_result"
    }
   ],
   "source": [
    "Y_PRED_HI.head()"
   ]
  },
  {
   "cell_type": "code",
   "execution_count": 8,
   "id": "88a5799f",
   "metadata": {},
   "outputs": [],
   "source": [
    "Y_HI = Y_HI['HI-LABEL']\n",
    "Y_PRED_HI = Y_PRED_HI['HI-LABEL-19-20']"
   ]
  },
  {
   "cell_type": "code",
   "execution_count": 9,
   "id": "aa6fe22c",
   "metadata": {},
   "outputs": [],
   "source": [
    "Y_STRICT = pd.read_csv('strict-poverty-label.csv')\n",
    "Y_PRED_STRICT = pd.read_csv('Strict-label-20.csv', index_col = 0)"
   ]
  },
  {
   "cell_type": "code",
   "execution_count": 10,
   "id": "a8c654ff",
   "metadata": {},
   "outputs": [],
   "source": [
    "Y_STRICT = Y_STRICT['STRICT-LABEL']\n",
    "Y_PRED_STRICT = Y_PRED_STRICT['STRICT-LABEL-19-20']"
   ]
  },
  {
   "cell_type": "code",
   "execution_count": 11,
   "id": "f39c92da",
   "metadata": {},
   "outputs": [],
   "source": [
    "grid_params = { 'n_neighbors' : [10, 20, 30, 40, 50],\n",
    "    'weights' : ['uniform', 'distance'],\n",
    "    'metric' : ['minkowski', 'euclidean', 'manhattan']\n",
    "}"
   ]
  },
  {
   "cell_type": "markdown",
   "id": "0776f263",
   "metadata": {},
   "source": [
    "# Predict HIGH-poverty"
   ]
  },
  {
   "cell_type": "code",
   "execution_count": 12,
   "id": "196156c7",
   "metadata": {},
   "outputs": [],
   "source": [
    "model = KNeighborsClassifier( n_neighbors = 25, metric = 'minkowski', weights = 'uniform')"
   ]
  },
  {
   "cell_type": "code",
   "execution_count": 13,
   "id": "1e0f7951",
   "metadata": {},
   "outputs": [],
   "source": [
    "X_train, X_test, y_train, y_test = train_test_split( X, Y_HI, stratify = Y_HI, random_state = 10)"
   ]
  },
  {
   "cell_type": "code",
   "execution_count": 14,
   "id": "585894fe",
   "metadata": {},
   "outputs": [
    {
     "data": {
      "text/plain": [
       "KNeighborsClassifier(n_neighbors=25)"
      ]
     },
     "execution_count": 14,
     "metadata": {},
     "output_type": "execute_result"
    }
   ],
   "source": [
    "model.fit( X_train, y_train)"
   ]
  },
  {
   "cell_type": "code",
   "execution_count": 15,
   "id": "c7b9bbc8",
   "metadata": {},
   "outputs": [],
   "source": [
    "hi_predict = model.predict( X_Pred)"
   ]
  },
  {
   "cell_type": "code",
   "execution_count": 16,
   "id": "7e7bf134",
   "metadata": {},
   "outputs": [
    {
     "name": "stdout",
     "output_type": "stream",
     "text": [
      "0.8447079407487971\n"
     ]
    }
   ],
   "source": [
    "print( accuracy_score( hi_predict, Y_PRED_HI))"
   ]
  },
  {
   "cell_type": "code",
   "execution_count": 17,
   "id": "9afc2825",
   "metadata": {
    "scrolled": false
   },
   "outputs": [
    {
     "name": "stdout",
     "output_type": "stream",
     "text": [
      "[[13514  8967]\n",
      " [ 4169 57939]]\n"
     ]
    }
   ],
   "source": [
    "print( confusion_matrix(hi_predict, Y_PRED_HI))"
   ]
  },
  {
   "cell_type": "code",
   "execution_count": 41,
   "id": "32d14cfd",
   "metadata": {
    "scrolled": true
   },
   "outputs": [
    {
     "data": {
      "image/png": "[encoded data removed]",
      "text/plain": [
       "<Figure size 432x288 with 2 Axes>"
      ]
     },
     "metadata": {
      "needs_background": "light"
     },
     "output_type": "display_data"
    }
   ],
   "source": [
    "df_cm = pd.DataFrame(confusion_matrix(Y_PRED_HI, hi_predict), range(2), range(2))\n",
    "# plt.figure(figsize=(10,7))\n",
    "#sns.set(font_scale=1.4) # for label size\n",
    "sns.heatmap(df_cm, annot=True, annot_kws={\"size\": 16}, fmt = 'g') # font size\n",
    "plt.title( 'Heatmap of High-Poverty prediction')\n",
    "plt.xlabel('Predicted')\n",
    "plt.ylabel('Actual')\n",
    "\n",
    "plt.show()"
   ]
  },
  {
   "cell_type": "code",
   "execution_count": 44,
   "id": "ec64e862",
   "metadata": {},
   "outputs": [],
   "source": [
    "from sklearn.metrics import classification_report\n"
   ]
  },
  {
   "cell_type": "code",
   "execution_count": 45,
   "id": "5a5d330c",
   "metadata": {},
   "outputs": [
    {
     "name": "stdout",
     "output_type": "stream",
     "text": [
      "Classification report : \n",
      "               precision    recall  f1-score   support\n",
      "\n",
      "           1       0.93      0.87      0.90     66906\n",
      "           0       0.60      0.76      0.67     17683\n",
      "\n",
      "    accuracy                           0.84     84589\n",
      "   macro avg       0.77      0.82      0.79     84589\n",
      "weighted avg       0.86      0.84      0.85     84589\n",
      "\n"
     ]
    }
   ],
   "source": [
    "matrix = classification_report(Y_PRED_HI,hi_predict,labels=[1,0])\n",
    "print('Classification report : \\n',matrix)"
   ]
  },
  {
   "cell_type": "markdown",
   "id": "f25687e5",
   "metadata": {},
   "source": [
    "# Model on Y_Strict"
   ]
  },
  {
   "cell_type": "code",
   "execution_count": 18,
   "id": "61cfccb5",
   "metadata": {},
   "outputs": [],
   "source": [
    "X_s_train, X_s_test, y_s_train, y_s_test = train_test_split( X, Y_STRICT, stratify = Y_STRICT, random_state = 10)"
   ]
  },
  {
   "cell_type": "code",
   "execution_count": 19,
   "id": "8673114b",
   "metadata": {},
   "outputs": [],
   "source": [
    "model_2 = KNeighborsClassifier( n_neighbors = 25, metric = 'minkowski', weights = 'uniform')"
   ]
  },
  {
   "cell_type": "code",
   "execution_count": 20,
   "id": "3b6fda6b",
   "metadata": {},
   "outputs": [
    {
     "data": {
      "text/plain": [
       "KNeighborsClassifier(n_neighbors=25)"
      ]
     },
     "execution_count": 20,
     "metadata": {},
     "output_type": "execute_result"
    }
   ],
   "source": [
    "model_2.fit(X_s_train, y_s_train)"
   ]
  },
  {
   "cell_type": "code",
   "execution_count": 21,
   "id": "554e9fee",
   "metadata": {},
   "outputs": [],
   "source": [
    "strict_predict = model_2.predict( X_Pred)"
   ]
  },
  {
   "cell_type": "code",
   "execution_count": 22,
   "id": "ad1bbe8a",
   "metadata": {},
   "outputs": [
    {
     "name": "stdout",
     "output_type": "stream",
     "text": [
      "0.8007424133161523\n"
     ]
    }
   ],
   "source": [
    "print( accuracy_score( strict_predict, Y_PRED_STRICT))"
   ]
  },
  {
   "cell_type": "code",
   "execution_count": 23,
   "id": "8866b44c",
   "metadata": {
    "scrolled": true
   },
   "outputs": [
    {
     "name": "stdout",
     "output_type": "stream",
     "text": [
      "[[25286 12897]\n",
      " [ 3958 42448]]\n"
     ]
    }
   ],
   "source": [
    "print( confusion_matrix( strict_predict, Y_PRED_STRICT))"
   ]
  },
  {
   "cell_type": "code",
   "execution_count": 43,
   "id": "fbfca6f3",
   "metadata": {
    "scrolled": true
   },
   "outputs": [
    {
     "data": {
      "image/png": "[encoded data removed]",
      "text/plain": [
       "<Figure size 432x288 with 2 Axes>"
      ]
     },
     "metadata": {
      "needs_background": "light"
     },
     "output_type": "display_data"
    }
   ],
   "source": [
    "df_cm = pd.DataFrame(confusion_matrix(Y_PRED_STRICT, strict_predict), range(2), range(2))\n",
    "# plt.figure(figsize=(10,7))\n",
    "#sns.set(font_scale=1.4) # for label size\n",
    "sns.heatmap(df_cm, annot=True, annot_kws={\"size\": 16}, fmt = 'g') # font size\n",
    "plt.title( 'Heatmap of Strict-Poverty prediction')\n",
    "plt.xlabel('Predicted')\n",
    "plt.ylabel('Actual')\n",
    "\n",
    "plt.show()"
   ]
  },
  {
   "cell_type": "code",
   "execution_count": 46,
   "id": "f435cf23",
   "metadata": {},
   "outputs": [
    {
     "name": "stdout",
     "output_type": "stream",
     "text": [
      "Classification report : \n",
      "               precision    recall  f1-score   support\n",
      "\n",
      "           1       0.91      0.77      0.83     55345\n",
      "           0       0.66      0.86      0.75     29244\n",
      "\n",
      "    accuracy                           0.80     84589\n",
      "   macro avg       0.79      0.82      0.79     84589\n",
      "weighted avg       0.83      0.80      0.81     84589\n",
      "\n"
     ]
    }
   ],
   "source": [
    "matrix = classification_report(Y_PRED_STRICT,strict_predict,labels=[1,0])\n",
    "print('Classification report : \\n',matrix)"
   ]
  }
 ],
 "metadata": {
  "kernelspec": {
   "display_name": "Python 3 (ipykernel)",
   "language": "python",
   "name": "python3"
  },
  "language_info": {
   "codemirror_mode": {
    "name": "ipython",
    "version": 3
   },
   "file_extension": ".py",
   "mimetype": "text/x-python",
   "name": "python",
   "nbconvert_exporter": "python",
   "pygments_lexer": "ipython3",
   "version": "3.8.11"
  }
 },
 "nbformat": 4,
 "nbformat_minor": 5
}
