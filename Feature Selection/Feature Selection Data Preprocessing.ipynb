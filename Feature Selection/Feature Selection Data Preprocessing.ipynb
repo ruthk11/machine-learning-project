{
 "cells": [
  {
   "cell_type": "code",
   "execution_count": 1,
   "id": "9dc6ce2a",
   "metadata": {},
   "outputs": [],
   "source": [
    "import pandas as pd\n",
    "import numpy as np"
   ]
  },
  {
   "cell_type": "code",
   "execution_count": 2,
   "id": "5f75914e",
   "metadata": {},
   "outputs": [],
   "source": [
    "df1 = pd.read_csv('1991-92-clean.csv')\n",
    "df1.drop(columns = ['Unnamed: 0'], inplace = True)\n",
    "\n",
    "df2 = pd.read_csv('1992-93-clean.csv')\n",
    "df2.drop(columns = ['Unnamed: 0'], inplace = True)\n",
    "\n",
    "df3 = pd.read_csv('1993-94-clean.csv')\n",
    "df3.drop(columns = ['Unnamed: 0'], inplace = True)\n",
    "\n",
    "df4 = pd.read_csv('1995-96-clean.csv')\n",
    "df4.drop(columns = ['Unnamed: 0'], inplace = True)\n",
    "\n",
    "df5 = pd.read_csv('1996-97-clean.csv')\n",
    "df5.drop(columns = ['Unnamed: 0'], inplace = True)"
   ]
  },
  {
   "cell_type": "code",
   "execution_count": 3,
   "id": "5f680aba",
   "metadata": {},
   "outputs": [
    {
     "data": {
      "text/plain": [
       "Index(['School Name', 'State',\n",
       "       'State Abbr [Public School] Latest available year',\n",
       "       'School ID - NCES Assigned [Public School] Latest available year',\n",
       "       'County Name [Public School] 1991-92', 'Locale [Public School] 1991-92',\n",
       "       'Total Students All Grades (Excludes AE) [Public School] 1991-92',\n",
       "       'Free Lunch Eligible [Public School] 1991-92',\n",
       "       'American Indian/Alaska Native Students [Public School] 1991-92',\n",
       "       'Asian or Asian/Pacific Islander Students [Public School] 1991-92',\n",
       "       'Hispanic Students [Public School] 1991-92',\n",
       "       'Black or African American Students [Public School] 1991-92',\n",
       "       'White Students [Public School] 1991-92',\n",
       "       'Full-Time Equivalent (FTE) Teachers [Public School] 1991-92'],\n",
       "      dtype='object')"
      ]
     },
     "execution_count": 3,
     "metadata": {},
     "output_type": "execute_result"
    }
   ],
   "source": [
    "df1.columns "
   ]
  },
  {
   "cell_type": "code",
   "execution_count": 4,
   "id": "c3179fe3",
   "metadata": {},
   "outputs": [],
   "source": [
    "df1.rename(columns = {\n",
    "        'School Name' : \"SCHOOL\",\n",
    "        'State': 'STATE',\n",
    "       'State Abbr [Public School] Latest available year': 'ABBR',\n",
    "       'School ID - NCES Assigned [Public School] Latest available year': 'ID',\n",
    "       'County Name [Public School] 1991-92': 'COUNTY',\n",
    "        'Locale [Public School] 1991-92': 'LOCALE',\n",
    "       'Total Students All Grades (Excludes AE) [Public School] 1991-92' : 'TOTAL STUDENTS',\n",
    "       'Free Lunch Eligible [Public School] 1991-92': 'FREE LUNCH ELIGIBLE',\n",
    "       'American Indian/Alaska Native Students [Public School] 1991-92' : 'AMERICAN INDIAN',\n",
    "       'Asian or Asian/Pacific Islander Students [Public School] 1991-92' : 'ASIAN',\n",
    "       'Hispanic Students [Public School] 1991-92' : 'HISPANIC',\n",
    "       'Black or African American Students [Public School] 1991-92': 'BLACK',\n",
    "       'White Students [Public School] 1991-92': 'WHITE',\n",
    "       'Full-Time Equivalent (FTE) Teachers [Public School] 1991-92': 'FTE TEACHERS'   \n",
    "}, inplace = True)"
   ]
  },
  {
   "cell_type": "code",
   "execution_count": 5,
   "id": "5725cb28",
   "metadata": {},
   "outputs": [],
   "source": [
    "df2.rename(columns = {\n",
    "        'School Name' : \"SCHOOL\",\n",
    "        'State Name [Public School] Latest available year': 'STATE',\n",
    "       'State Abbr [Public School] Latest available year': 'ABBR',\n",
    "       'School ID - NCES Assigned [Public School] Latest available year': 'ID',\n",
    "       'County Name [Public School] 1992-93': 'COUNTY',\n",
    "        'Locale [Public School] 1992-93': 'LOCALE',\n",
    "       'Total Students All Grades (Excludes AE) [Public School] 1992-93' : 'TOTAL STUDENTS',\n",
    "       'Free Lunch Eligible [Public School] 1992-93': 'FREE LUNCH ELIGIBLE',\n",
    "       'American Indian/Alaska Native Students [Public School] 1992-93' : 'AMERICAN INDIAN',\n",
    "       'Asian or Asian/Pacific Islander Students [Public School] 1992-93' : 'ASIAN',\n",
    "       'Hispanic Students [Public School] 1992-93' : 'HISPANIC',\n",
    "       'Black or African American Students [Public School] 1992-93': 'BLACK',\n",
    "       'White Students [Public School] 1992-93': 'WHITE',\n",
    "       'Full-Time Equivalent (FTE) Teachers [Public School] 1992-93': 'FTE TEACHERS'   \n",
    "}, inplace = True)"
   ]
  },
  {
   "cell_type": "code",
   "execution_count": 6,
   "id": "74179786",
   "metadata": {},
   "outputs": [],
   "source": [
    "df3.rename(columns = {\n",
    "        'School Name' : \"SCHOOL\",\n",
    "        'State Name [Public School] Latest available year': 'STATE',\n",
    "       'State Abbr [Public School] Latest available year': 'ABBR',\n",
    "       'School ID - NCES Assigned [Public School] Latest available year': 'ID',\n",
    "       'County Name [Public School] 1993-94': 'COUNTY',\n",
    "        'Locale [Public School] 1993-94': 'LOCALE',\n",
    "       'Total Students All Grades (Excludes AE) [Public School] 1993-94' : 'TOTAL STUDENTS',\n",
    "       'Free Lunch Eligible [Public School] 1993-94': 'FREE LUNCH ELIGIBLE',\n",
    "       'American Indian/Alaska Native Students [Public School] 1993-94' : 'AMERICAN INDIAN',\n",
    "       'Asian or Asian/Pacific Islander Students [Public School] 1993-94' : 'ASIAN',\n",
    "       'Hispanic Students [Public School] 1993-94' : 'HISPANIC',\n",
    "       'Black or African American Students [Public School] 1993-94': 'BLACK',\n",
    "       'White Students [Public School] 1993-94': 'WHITE',\n",
    "       'Full-Time Equivalent (FTE) Teachers [Public School] 1993-94': 'FTE TEACHERS'   \n",
    "}, inplace = True)"
   ]
  },
  {
   "cell_type": "code",
   "execution_count": 7,
   "id": "2eb5855d",
   "metadata": {},
   "outputs": [],
   "source": [
    "df4.rename(columns = {\n",
    "        'School Name' : \"SCHOOL\",\n",
    "        'State Name [Public School] Latest available year': 'STATE',\n",
    "       'State Abbr [Public School] Latest available year': 'ABBR',\n",
    "       'School ID - NCES Assigned [Public School] Latest available year': 'ID',\n",
    "       'County Name [Public School] 1995-96': 'COUNTY',\n",
    "        'Locale [Public School] 1995-96': 'LOCALE',\n",
    "       'Total Students All Grades (Excludes AE) [Public School] 1995-96' : 'TOTAL STUDENTS',\n",
    "       'Free Lunch Eligible [Public School] 1995-96': 'FREE LUNCH ELIGIBLE',\n",
    "       'American Indian/Alaska Native Students [Public School] 1995-96' : 'AMERICAN INDIAN',\n",
    "       'Asian or Asian/Pacific Islander Students [Public School] 1995-96' : 'ASIAN',\n",
    "       'Hispanic Students [Public School] 1995-96' : 'HISPANIC',\n",
    "       'Black or African American Students [Public School] 1995-96': 'BLACK',\n",
    "       'White Students [Public School] 1995-96': 'WHITE',\n",
    "       'Full-Time Equivalent (FTE) Teachers [Public School] 1995-96': 'FTE TEACHERS'   \n",
    "}, inplace = True)"
   ]
  },
  {
   "cell_type": "code",
   "execution_count": 8,
   "id": "041dcc8d",
   "metadata": {
    "scrolled": true
   },
   "outputs": [],
   "source": [
    "df5.rename(columns = {\n",
    "        'School Name' : \"SCHOOL\",\n",
    "        'State Name [Public School] Latest available year': 'STATE',\n",
    "       'State Abbr [Public School] Latest available year': 'ABBR',\n",
    "       'School ID - NCES Assigned [Public School] Latest available year': 'ID',\n",
    "       'County Name [Public School] 1996-97': 'COUNTY',\n",
    "        'Locale [Public School] 1996-97': 'LOCALE',\n",
    "       'Total Students All Grades (Excludes AE) [Public School] 1996-97' : 'TOTAL STUDENTS',\n",
    "       'Free Lunch Eligible [Public School] 1996-97': 'FREE LUNCH ELIGIBLE',\n",
    "       'American Indian/Alaska Native Students [Public School] 1996-97' : 'AMERICAN INDIAN',\n",
    "       'Asian or Asian/Pacific Islander Students [Public School] 1996-97' : 'ASIAN',\n",
    "       'Hispanic Students [Public School] 1996-97' : 'HISPANIC',\n",
    "       'Black or African American Students [Public School] 1996-97': 'BLACK',\n",
    "       'White Students [Public School] 1996-97': 'WHITE',\n",
    "       'Full-Time Equivalent (FTE) Teachers [Public School] 1996-97': 'FTE TEACHERS'   \n",
    "}, inplace = True)"
   ]
  },
  {
   "cell_type": "code",
   "execution_count": 9,
   "id": "f603dcd8",
   "metadata": {},
   "outputs": [],
   "source": [
    "df = pd.concat([df1, df2, df3, df4, df5], ignore_index = True)"
   ]
  },
  {
   "cell_type": "code",
   "execution_count": 10,
   "id": "bfc57450",
   "metadata": {},
   "outputs": [
    {
     "data": {
      "text/plain": [
       "(429877, 14)"
      ]
     },
     "execution_count": 10,
     "metadata": {},
     "output_type": "execute_result"
    }
   ],
   "source": [
    "df.shape"
   ]
  },
  {
   "cell_type": "code",
   "execution_count": 11,
   "id": "6c27b0cc",
   "metadata": {},
   "outputs": [
    {
     "data": {
      "text/plain": [
       "Index(['SCHOOL', 'STATE', 'ABBR', 'ID', 'COUNTY', 'LOCALE', 'TOTAL STUDENTS',\n",
       "       'FREE LUNCH ELIGIBLE', 'AMERICAN INDIAN', 'ASIAN', 'HISPANIC', 'BLACK',\n",
       "       'WHITE', 'FTE TEACHERS'],\n",
       "      dtype='object')"
      ]
     },
     "execution_count": 11,
     "metadata": {},
     "output_type": "execute_result"
    }
   ],
   "source": [
    "df.columns"
   ]
  },
  {
   "cell_type": "code",
   "execution_count": 12,
   "id": "da36ec53",
   "metadata": {
    "scrolled": true
   },
   "outputs": [
    {
     "data": {
      "text/html": [
       "<div>\n",
       "<style scoped>\n",
       "    .dataframe tbody tr th:only-of-type {\n",
       "        vertical-align: middle;\n",
       "    }\n",
       "\n",
       "    .dataframe tbody tr th {\n",
       "        vertical-align: top;\n",
       "    }\n",
       "\n",
       "    .dataframe thead th {\n",
       "        text-align: right;\n",
       "    }\n",
       "</style>\n",
       "<table border=\"1\" class=\"dataframe\">\n",
       "  <thead>\n",
       "    <tr style=\"text-align: right;\">\n",
       "      <th></th>\n",
       "      <th>SCHOOL</th>\n",
       "      <th>STATE</th>\n",
       "      <th>ABBR</th>\n",
       "      <th>ID</th>\n",
       "      <th>COUNTY</th>\n",
       "      <th>LOCALE</th>\n",
       "      <th>TOTAL STUDENTS</th>\n",
       "      <th>FREE LUNCH ELIGIBLE</th>\n",
       "      <th>AMERICAN INDIAN</th>\n",
       "      <th>ASIAN</th>\n",
       "      <th>HISPANIC</th>\n",
       "      <th>BLACK</th>\n",
       "      <th>WHITE</th>\n",
       "      <th>FTE TEACHERS</th>\n",
       "    </tr>\n",
       "  </thead>\n",
       "  <tbody>\n",
       "    <tr>\n",
       "      <th>0</th>\n",
       "      <td>1 SCHOOL                                      ...</td>\n",
       "      <td>New York</td>\n",
       "      <td>NY</td>\n",
       "      <td>3.620000e+11</td>\n",
       "      <td>NASSAU</td>\n",
       "      <td>4-Urban fringe of midsize city</td>\n",
       "      <td>307</td>\n",
       "      <td>–</td>\n",
       "      <td>0</td>\n",
       "      <td>5</td>\n",
       "      <td>31</td>\n",
       "      <td>51</td>\n",
       "      <td>220</td>\n",
       "      <td>24.4</td>\n",
       "    </tr>\n",
       "    <tr>\n",
       "      <th>1</th>\n",
       "      <td>1ST WARD EL</td>\n",
       "      <td>Wisconsin</td>\n",
       "      <td>WI</td>\n",
       "      <td>5.500000e+11</td>\n",
       "      <td>CHIPPEWA</td>\n",
       "      <td>4-Urban fringe of midsize city</td>\n",
       "      <td>193</td>\n",
       "      <td>35</td>\n",
       "      <td>1</td>\n",
       "      <td>0</td>\n",
       "      <td>0</td>\n",
       "      <td>0</td>\n",
       "      <td>192</td>\n",
       "      <td>8.5</td>\n",
       "    </tr>\n",
       "    <tr>\n",
       "      <th>2</th>\n",
       "      <td>4-J ELEMENTARY SCHOOL</td>\n",
       "      <td>Wyoming</td>\n",
       "      <td>WY</td>\n",
       "      <td>5.600000e+11</td>\n",
       "      <td>CAMPBELL</td>\n",
       "      <td>6-Small town</td>\n",
       "      <td>48</td>\n",
       "      <td>4</td>\n",
       "      <td>0</td>\n",
       "      <td>0</td>\n",
       "      <td>0</td>\n",
       "      <td>0</td>\n",
       "      <td>48</td>\n",
       "      <td>4</td>\n",
       "    </tr>\n",
       "    <tr>\n",
       "      <th>3</th>\n",
       "      <td>5TH AND 6TH GRADE CTR.</td>\n",
       "      <td>Missouri</td>\n",
       "      <td>MO</td>\n",
       "      <td>2.930000e+11</td>\n",
       "      <td>SCOTT</td>\n",
       "      <td>6-Small town</td>\n",
       "      <td>731</td>\n",
       "      <td>271</td>\n",
       "      <td>0</td>\n",
       "      <td>1</td>\n",
       "      <td>4</td>\n",
       "      <td>176</td>\n",
       "      <td>550</td>\n",
       "      <td>38.5</td>\n",
       "    </tr>\n",
       "    <tr>\n",
       "      <th>4</th>\n",
       "      <td>6 SCHOOL</td>\n",
       "      <td>New York</td>\n",
       "      <td>NY</td>\n",
       "      <td>3.620000e+11</td>\n",
       "      <td>NASSAU</td>\n",
       "      <td>4-Urban fringe of midsize city</td>\n",
       "      <td>364</td>\n",
       "      <td>–</td>\n",
       "      <td>0</td>\n",
       "      <td>10</td>\n",
       "      <td>34</td>\n",
       "      <td>43</td>\n",
       "      <td>277</td>\n",
       "      <td>28.9</td>\n",
       "    </tr>\n",
       "  </tbody>\n",
       "</table>\n",
       "</div>"
      ],
      "text/plain": [
       "                                              SCHOOL      STATE ABBR  \\\n",
       "0  1 SCHOOL                                      ...   New York  NY    \n",
       "1                                        1ST WARD EL  Wisconsin  WI    \n",
       "2                              4-J ELEMENTARY SCHOOL    Wyoming  WY    \n",
       "3                             5TH AND 6TH GRADE CTR.   Missouri  MO    \n",
       "4                                           6 SCHOOL   New York  NY    \n",
       "\n",
       "             ID    COUNTY                          LOCALE TOTAL STUDENTS  \\\n",
       "0  3.620000e+11    NASSAU  4-Urban fringe of midsize city            307   \n",
       "1  5.500000e+11  CHIPPEWA  4-Urban fringe of midsize city            193   \n",
       "2  5.600000e+11  CAMPBELL                    6-Small town             48   \n",
       "3  2.930000e+11     SCOTT                    6-Small town            731   \n",
       "4  3.620000e+11    NASSAU  4-Urban fringe of midsize city            364   \n",
       "\n",
       "  FREE LUNCH ELIGIBLE AMERICAN INDIAN ASIAN HISPANIC BLACK WHITE FTE TEACHERS  \n",
       "0                   –               0     5       31    51   220         24.4  \n",
       "1                  35               1     0        0     0   192          8.5  \n",
       "2                   4               0     0        0     0    48            4  \n",
       "3                 271               0     1        4   176   550         38.5  \n",
       "4                   –               0    10       34    43   277         28.9  "
      ]
     },
     "execution_count": 12,
     "metadata": {},
     "output_type": "execute_result"
    }
   ],
   "source": [
    "df.head()"
   ]
  },
  {
   "cell_type": "code",
   "execution_count": 13,
   "id": "c58c9dd9",
   "metadata": {},
   "outputs": [
    {
     "data": {
      "text/plain": [
       "(429877, 14)"
      ]
     },
     "execution_count": 13,
     "metadata": {},
     "output_type": "execute_result"
    }
   ],
   "source": [
    "df.shape"
   ]
  },
  {
   "cell_type": "code",
   "execution_count": 14,
   "id": "a94ce902",
   "metadata": {},
   "outputs": [],
   "source": [
    "## Delete all rows where free lunch eligible number is not known or where free lunch eligible is larger than total students"
   ]
  },
  {
   "cell_type": "code",
   "execution_count": 15,
   "id": "49e92b53",
   "metadata": {},
   "outputs": [],
   "source": [
    "df['FREE LUNCH ELIGIBLE'] = df['FREE LUNCH ELIGIBLE'].apply( lambda x : x if (str(x)).isdigit() else None)"
   ]
  },
  {
   "cell_type": "code",
   "execution_count": 16,
   "id": "d45d93fb",
   "metadata": {},
   "outputs": [
    {
     "data": {
      "text/plain": [
       "117719"
      ]
     },
     "execution_count": 16,
     "metadata": {},
     "output_type": "execute_result"
    }
   ],
   "source": [
    "df['FREE LUNCH ELIGIBLE'].isna().sum()"
   ]
  },
  {
   "cell_type": "code",
   "execution_count": 17,
   "id": "dfce48a4",
   "metadata": {},
   "outputs": [
    {
     "data": {
      "text/plain": [
       "Int64Index([     0,      4,      6,     10,     14,     15,     16,     18,\n",
       "                21,     27,\n",
       "            ...\n",
       "            429862, 429863, 429864, 429870, 429871, 429872, 429873, 429874,\n",
       "            429875, 429876],\n",
       "           dtype='int64', length=117719)"
      ]
     },
     "execution_count": 17,
     "metadata": {},
     "output_type": "execute_result"
    }
   ],
   "source": [
    "df[df['FREE LUNCH ELIGIBLE'].isna() == True].index"
   ]
  },
  {
   "cell_type": "code",
   "execution_count": 19,
   "id": "2868ae42",
   "metadata": {},
   "outputs": [],
   "source": [
    "df.drop(df[df['FREE LUNCH ELIGIBLE'].isna() == True].index, inplace = True)"
   ]
  },
  {
   "cell_type": "code",
   "execution_count": 20,
   "id": "54899049",
   "metadata": {},
   "outputs": [
    {
     "data": {
      "text/plain": [
       "(312158, 14)"
      ]
     },
     "execution_count": 20,
     "metadata": {},
     "output_type": "execute_result"
    }
   ],
   "source": [
    "df.shape"
   ]
  },
  {
   "cell_type": "markdown",
   "id": "228a29c7",
   "metadata": {},
   "source": [
    "Delete all rows where total students is not a digit"
   ]
  },
  {
   "cell_type": "code",
   "execution_count": 28,
   "id": "119c4807",
   "metadata": {},
   "outputs": [],
   "source": [
    "df['TOTAL STUDENTS'] = df['TOTAL STUDENTS'].apply( lambda x : x if str(x).isdigit() else None)"
   ]
  },
  {
   "cell_type": "code",
   "execution_count": 29,
   "id": "020015de",
   "metadata": {
    "scrolled": true
   },
   "outputs": [
    {
     "data": {
      "text/plain": [
       "1859"
      ]
     },
     "execution_count": 29,
     "metadata": {},
     "output_type": "execute_result"
    }
   ],
   "source": [
    "df['TOTAL STUDENTS'].isna().sum()"
   ]
  },
  {
   "cell_type": "code",
   "execution_count": 30,
   "id": "e7739530",
   "metadata": {},
   "outputs": [],
   "source": [
    "df.drop(df[df['TOTAL STUDENTS'].isna() == True].index, inplace = True)"
   ]
  },
  {
   "cell_type": "code",
   "execution_count": 31,
   "id": "416a4285",
   "metadata": {},
   "outputs": [
    {
     "data": {
      "text/plain": [
       "(310299, 14)"
      ]
     },
     "execution_count": 31,
     "metadata": {},
     "output_type": "execute_result"
    }
   ],
   "source": [
    "df.shape"
   ]
  },
  {
   "cell_type": "code",
   "execution_count": 32,
   "id": "de278326",
   "metadata": {},
   "outputs": [],
   "source": [
    "##df.to_csv('feature-selection-91-96.csv')"
   ]
  }
 ],
 "metadata": {
  "kernelspec": {
   "display_name": "Python 3 (ipykernel)",
   "language": "python",
   "name": "python3"
  },
  "language_info": {
   "codemirror_mode": {
    "name": "ipython",
    "version": 3
   },
   "file_extension": ".py",
   "mimetype": "text/x-python",
   "name": "python",
   "nbconvert_exporter": "python",
   "pygments_lexer": "ipython3",
   "version": "3.8.11"
  }
 },
 "nbformat": 4,
 "nbformat_minor": 5
}
