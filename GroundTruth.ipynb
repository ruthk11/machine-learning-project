{
 "cells": [
  {
   "cell_type": "code",
   "execution_count": 1,
   "id": "d656e9c8",
   "metadata": {},
   "outputs": [],
   "source": [
    "import pandas as pd\n",
    "import numpy as np\n",
    "from matplotlib import pyplot as plt\n",
    "import seaborn as sns\n"
   ]
  },
  {
   "cell_type": "code",
   "execution_count": 2,
   "id": "0a32c75f",
   "metadata": {},
   "outputs": [
    {
     "name": "stderr",
     "output_type": "stream",
     "text": [
      "/Users/bigyanbhandari/opt/anaconda3/lib/python3.8/site-packages/IPython/core/interactiveshell.py:3441: DtypeWarning: Columns (8,9,10,11,12) have mixed types.Specify dtype option on import or set low_memory=False.\n",
      "  exec(code_obj, self.user_global_ns, self.user_ns)\n"
     ]
    }
   ],
   "source": [
    "df = pd.read_csv('GroundTruth.csv')"
   ]
  },
  {
   "cell_type": "code",
   "execution_count": 3,
   "id": "3c275c94",
   "metadata": {
    "scrolled": true
   },
   "outputs": [
    {
     "data": {
      "text/html": [
       "<div>\n",
       "<style scoped>\n",
       "    .dataframe tbody tr th:only-of-type {\n",
       "        vertical-align: middle;\n",
       "    }\n",
       "\n",
       "    .dataframe tbody tr th {\n",
       "        vertical-align: top;\n",
       "    }\n",
       "\n",
       "    .dataframe thead th {\n",
       "        text-align: right;\n",
       "    }\n",
       "</style>\n",
       "<table border=\"1\" class=\"dataframe\">\n",
       "  <thead>\n",
       "    <tr style=\"text-align: right;\">\n",
       "      <th></th>\n",
       "      <th>SchoolName</th>\n",
       "      <th>StateName</th>\n",
       "      <th>StateAbbr</th>\n",
       "      <th>SchoolID-NCESAssigned</th>\n",
       "      <th>CountyName</th>\n",
       "      <th>Locale</th>\n",
       "      <th>TotalStudents</th>\n",
       "      <th>FreeLunchEligible</th>\n",
       "      <th>AmericanIndian/AlaskaNative</th>\n",
       "      <th>AsianorAsian/PacificIslander</th>\n",
       "      <th>Hispanic</th>\n",
       "      <th>BlackorAfricanAmerican</th>\n",
       "      <th>White</th>\n",
       "      <th>Full-TimeEquivalent(FTE)Teachers</th>\n",
       "    </tr>\n",
       "  </thead>\n",
       "  <tbody>\n",
       "    <tr>\n",
       "      <th>0</th>\n",
       "      <td>1 SCHOOL                                      ...</td>\n",
       "      <td>New York</td>\n",
       "      <td>NY</td>\n",
       "      <td>3.616830e+11</td>\n",
       "      <td>NASSAU</td>\n",
       "      <td>4-Urban fringe of midsize city</td>\n",
       "      <td>334</td>\n",
       "      <td>–</td>\n",
       "      <td>†</td>\n",
       "      <td>†</td>\n",
       "      <td>†</td>\n",
       "      <td>†</td>\n",
       "      <td>†</td>\n",
       "      <td>30.9</td>\n",
       "    </tr>\n",
       "    <tr>\n",
       "      <th>1</th>\n",
       "      <td>14TH AVE ELEM SCH</td>\n",
       "      <td>Alabama</td>\n",
       "      <td>AL</td>\n",
       "      <td>1.017200e+10</td>\n",
       "      <td>WINSTON</td>\n",
       "      <td>6-Small town</td>\n",
       "      <td>570</td>\n",
       "      <td>0</td>\n",
       "      <td>0</td>\n",
       "      <td>0</td>\n",
       "      <td>0</td>\n",
       "      <td>0</td>\n",
       "      <td>0</td>\n",
       "      <td>29</td>\n",
       "    </tr>\n",
       "    <tr>\n",
       "      <th>2</th>\n",
       "      <td>1ST WARD EL</td>\n",
       "      <td>Wisconsin</td>\n",
       "      <td>WI</td>\n",
       "      <td>5.502550e+11</td>\n",
       "      <td>CHIPPEWA</td>\n",
       "      <td>4-Urban fringe of midsize city</td>\n",
       "      <td>196</td>\n",
       "      <td>33</td>\n",
       "      <td>1</td>\n",
       "      <td>5</td>\n",
       "      <td>1</td>\n",
       "      <td>†</td>\n",
       "      <td>189</td>\n",
       "      <td>11</td>\n",
       "    </tr>\n",
       "    <tr>\n",
       "      <th>3</th>\n",
       "      <td>21ST ST ELEM SCH</td>\n",
       "      <td>Alabama</td>\n",
       "      <td>AL</td>\n",
       "      <td>1.017200e+10</td>\n",
       "      <td>WINSTON</td>\n",
       "      <td>6-Small town</td>\n",
       "      <td>396</td>\n",
       "      <td>0</td>\n",
       "      <td>0</td>\n",
       "      <td>0</td>\n",
       "      <td>0</td>\n",
       "      <td>0</td>\n",
       "      <td>0</td>\n",
       "      <td>16</td>\n",
       "    </tr>\n",
       "    <tr>\n",
       "      <th>4</th>\n",
       "      <td>4-J ELEMENTARY SCHOOL</td>\n",
       "      <td>Wyoming</td>\n",
       "      <td>WY</td>\n",
       "      <td>5.601470e+11</td>\n",
       "      <td>CAMPBELL</td>\n",
       "      <td>6-Small town</td>\n",
       "      <td>44</td>\n",
       "      <td>†</td>\n",
       "      <td>†</td>\n",
       "      <td>†</td>\n",
       "      <td>†</td>\n",
       "      <td>†</td>\n",
       "      <td>†</td>\n",
       "      <td>†</td>\n",
       "    </tr>\n",
       "  </tbody>\n",
       "</table>\n",
       "</div>"
      ],
      "text/plain": [
       "                                          SchoolName  StateName StateAbbr  \\\n",
       "0  1 SCHOOL                                      ...   New York       NY    \n",
       "1                                  14TH AVE ELEM SCH    Alabama       AL    \n",
       "2                                        1ST WARD EL  Wisconsin       WI    \n",
       "3                                   21ST ST ELEM SCH    Alabama       AL    \n",
       "4                              4-J ELEMENTARY SCHOOL    Wyoming       WY    \n",
       "\n",
       "   SchoolID-NCESAssigned CountyName                          Locale  \\\n",
       "0           3.616830e+11     NASSAU  4-Urban fringe of midsize city   \n",
       "1           1.017200e+10    WINSTON                    6-Small town   \n",
       "2           5.502550e+11   CHIPPEWA  4-Urban fringe of midsize city   \n",
       "3           1.017200e+10    WINSTON                    6-Small town   \n",
       "4           5.601470e+11   CAMPBELL                    6-Small town   \n",
       "\n",
       "  TotalStudents FreeLunchEligible AmericanIndian/AlaskaNative  \\\n",
       "0           334                 –                           †   \n",
       "1           570                 0                           0   \n",
       "2           196                33                           1   \n",
       "3           396                 0                           0   \n",
       "4            44                 †                           †   \n",
       "\n",
       "  AsianorAsian/PacificIslander Hispanic BlackorAfricanAmerican White  \\\n",
       "0                            †        †                      †     †   \n",
       "1                            0        0                      0     0   \n",
       "2                            5        1                      †   189   \n",
       "3                            0        0                      0     0   \n",
       "4                            †        †                      †     †   \n",
       "\n",
       "  Full-TimeEquivalent(FTE)Teachers  \n",
       "0                             30.9  \n",
       "1                               29  \n",
       "2                               11  \n",
       "3                               16  \n",
       "4                                †  "
      ]
     },
     "execution_count": 3,
     "metadata": {},
     "output_type": "execute_result"
    }
   ],
   "source": [
    "df.head()"
   ]
  },
  {
   "cell_type": "code",
   "execution_count": 4,
   "id": "ba37df8e",
   "metadata": {},
   "outputs": [],
   "source": [
    "texas_count = df['StateName'] == 'Texas'"
   ]
  },
  {
   "cell_type": "code",
   "execution_count": 5,
   "id": "b35b2f47",
   "metadata": {},
   "outputs": [
    {
     "data": {
      "text/plain": [
       "23625"
      ]
     },
     "execution_count": 5,
     "metadata": {},
     "output_type": "execute_result"
    }
   ],
   "source": [
    "texas_count.sum()"
   ]
  },
  {
   "cell_type": "markdown",
   "id": "17d3268c",
   "metadata": {},
   "source": [
    "There are 23625 schools from Texas in our dataframe. We will be using the values from these schools to extablish a baseline labeling for identifying schools as High poverty stricken, povery stricken and no poverty stricken to establish our classification criteria for poverty status of public schools.\n",
    "\n",
    "In order to be able to do so, we will first see the distribution of the percentage of public school students reported to be eligible for free lunch by each school."
   ]
  },
  {
   "cell_type": "code",
   "execution_count": 6,
   "id": "76bc3e8e",
   "metadata": {},
   "outputs": [],
   "source": [
    "df['FreeLunchEligible'] = df['FreeLunchEligible'].apply( lambda x : int(x) if (str(x)).isdigit() else None)"
   ]
  },
  {
   "cell_type": "code",
   "execution_count": 7,
   "id": "e24ce7e9",
   "metadata": {},
   "outputs": [
    {
     "data": {
      "text/plain": [
       "(335511, 14)"
      ]
     },
     "execution_count": 7,
     "metadata": {},
     "output_type": "execute_result"
    }
   ],
   "source": [
    "df.shape"
   ]
  },
  {
   "cell_type": "code",
   "execution_count": 8,
   "id": "9686327d",
   "metadata": {},
   "outputs": [
    {
     "data": {
      "text/plain": [
       "220973"
      ]
     },
     "execution_count": 8,
     "metadata": {},
     "output_type": "execute_result"
    }
   ],
   "source": [
    "df['FreeLunchEligible'].isna().sum()"
   ]
  },
  {
   "cell_type": "code",
   "execution_count": 9,
   "id": "b041bc48",
   "metadata": {},
   "outputs": [],
   "source": [
    "df = df[df['FreeLunchEligible'].notna()]"
   ]
  },
  {
   "cell_type": "code",
   "execution_count": 10,
   "id": "3e4ce52b",
   "metadata": {},
   "outputs": [
    {
     "data": {
      "text/plain": [
       "(114538, 14)"
      ]
     },
     "execution_count": 10,
     "metadata": {},
     "output_type": "execute_result"
    }
   ],
   "source": [
    "df.shape"
   ]
  },
  {
   "cell_type": "code",
   "execution_count": 11,
   "id": "6303b4fd",
   "metadata": {},
   "outputs": [],
   "source": [
    "df['TotalStudents'] = df['TotalStudents'].apply( lambda x : int(x) if (str(x)).isdigit() else None)"
   ]
  },
  {
   "cell_type": "code",
   "execution_count": 12,
   "id": "1fffc223",
   "metadata": {},
   "outputs": [
    {
     "data": {
      "text/plain": [
       "52"
      ]
     },
     "execution_count": 12,
     "metadata": {},
     "output_type": "execute_result"
    }
   ],
   "source": [
    "df['TotalStudents'].isna().sum()"
   ]
  },
  {
   "cell_type": "code",
   "execution_count": 13,
   "id": "c477adb7",
   "metadata": {},
   "outputs": [],
   "source": [
    "df = df[df['TotalStudents'].notna()]"
   ]
  },
  {
   "cell_type": "code",
   "execution_count": 14,
   "id": "a62cd429",
   "metadata": {},
   "outputs": [
    {
     "data": {
      "text/plain": [
       "(114486, 14)"
      ]
     },
     "execution_count": 14,
     "metadata": {},
     "output_type": "execute_result"
    }
   ],
   "source": [
    "df.shape"
   ]
  },
  {
   "cell_type": "code",
   "execution_count": 15,
   "id": "6c62158c",
   "metadata": {},
   "outputs": [],
   "source": [
    "df = df.drop(df[df['TotalStudents'] == 0].index)"
   ]
  },
  {
   "cell_type": "code",
   "execution_count": 16,
   "id": "cce8a22d",
   "metadata": {},
   "outputs": [
    {
     "data": {
      "text/plain": [
       "(110876, 14)"
      ]
     },
     "execution_count": 16,
     "metadata": {},
     "output_type": "execute_result"
    }
   ],
   "source": [
    "df.shape"
   ]
  },
  {
   "cell_type": "code",
   "execution_count": 17,
   "id": "52bd0638",
   "metadata": {},
   "outputs": [],
   "source": [
    "df['proportion_free_lunch'] = df['FreeLunchEligible']/df['TotalStudents']"
   ]
  },
  {
   "cell_type": "code",
   "execution_count": 18,
   "id": "15e9725e",
   "metadata": {},
   "outputs": [
    {
     "data": {
      "text/plain": [
       "(0.0, 4000.0)"
      ]
     },
     "execution_count": 18,
     "metadata": {},
     "output_type": "execute_result"
    },
    {
     "data": {
      "image/png": "[encoded data removed]",
      "text/plain": [
       "<Figure size 432x288 with 1 Axes>"
      ]
     },
     "metadata": {
      "needs_background": "light"
     },
     "output_type": "display_data"
    }
   ],
   "source": [
    "sns.histplot( data = df, x = 'proportion_free_lunch', color = 'orange',  common_norm = True)\n",
    "plt.xlim(0.01,1)\n",
    "plt.ylim(0,4000)"
   ]
  },
  {
   "cell_type": "code",
   "execution_count": 19,
   "id": "41b58521",
   "metadata": {
    "scrolled": true
   },
   "outputs": [
    {
     "data": {
      "image/png": "[encoded data removed]",
      "text/plain": [
       "<Figure size 432x288 with 1 Axes>"
      ]
     },
     "metadata": {
      "needs_background": "light"
     },
     "output_type": "display_data"
    }
   ],
   "source": [
    "ax = sns.scatterplot(y = df['FreeLunchEligible'], x = df['TotalStudents'], hue = df['Locale'])"
   ]
  },
  {
   "cell_type": "markdown",
   "id": "4b9fc1f9",
   "metadata": {},
   "source": [
    "We notice that a large number of schools that reported the number of Free Lunch eligibile students have less than 20% students eligible for free lunch. The distribution is skewed towards left. There is no observable correlation between the total number of students and number of free lunch eligible students when we do not consider the locale of the school."
   ]
  },
  {
   "cell_type": "markdown",
   "id": "5f404fc9",
   "metadata": {},
   "source": [
    "For the purposes of this feasibility study, we will focus on the State of Texas and establish Ground Truth Analysis to be able to categorize schools as strict poverty striken, high povery striken and no povery striken."
   ]
  },
  {
   "cell_type": "code",
   "execution_count": 20,
   "id": "501aa4f2",
   "metadata": {},
   "outputs": [],
   "source": [
    "ind_texas = df['StateName']=='Texas'"
   ]
  },
  {
   "cell_type": "code",
   "execution_count": 21,
   "id": "d692c3f4",
   "metadata": {},
   "outputs": [
    {
     "data": {
      "text/plain": [
       "0"
      ]
     },
     "execution_count": 21,
     "metadata": {},
     "output_type": "execute_result"
    }
   ],
   "source": [
    "ind_texas.sum()"
   ]
  },
  {
   "cell_type": "markdown",
   "id": "8adf670d",
   "metadata": {},
   "source": [
    "Unfortunately, none of the Texas Schools reported freelunch eligibile student numbers for the timeperiod under consideration. As such, we will just go ahead and pick the whole dataframe as a basis for coming up with the criteria for classification of schools."
   ]
  },
  {
   "cell_type": "code",
   "execution_count": 22,
   "id": "1778f630",
   "metadata": {},
   "outputs": [
    {
     "data": {
      "text/plain": [
       "count    110876.000000\n",
       "mean          0.236138\n",
       "std           0.231792\n",
       "min           0.000000\n",
       "25%           0.065574\n",
       "50%           0.174419\n",
       "75%           0.340764\n",
       "max           9.925926\n",
       "Name: proportion_free_lunch, dtype: float64"
      ]
     },
     "execution_count": 22,
     "metadata": {},
     "output_type": "execute_result"
    }
   ],
   "source": [
    "df['proportion_free_lunch'].describe()"
   ]
  },
  {
   "cell_type": "code",
   "execution_count": 23,
   "id": "5d4bd486",
   "metadata": {},
   "outputs": [],
   "source": [
    "free_lunch_prop_more_than_one = df[df['proportion_free_lunch'] > 1].index  # to drop invalid data"
   ]
  },
  {
   "cell_type": "code",
   "execution_count": 24,
   "id": "7bb9a10d",
   "metadata": {},
   "outputs": [],
   "source": [
    "df= df.drop(free_lunch_prop_more_than_one)"
   ]
  },
  {
   "cell_type": "code",
   "execution_count": 25,
   "id": "fff48c3e",
   "metadata": {},
   "outputs": [
    {
     "data": {
      "text/plain": [
       "count    110601.000000\n",
       "mean          0.232972\n",
       "std           0.218517\n",
       "min           0.000000\n",
       "25%           0.065336\n",
       "50%           0.173913\n",
       "75%           0.339450\n",
       "max           1.000000\n",
       "Name: proportion_free_lunch, dtype: float64"
      ]
     },
     "execution_count": 25,
     "metadata": {},
     "output_type": "execute_result"
    }
   ],
   "source": [
    "df['proportion_free_lunch'].describe()"
   ]
  },
  {
   "cell_type": "markdown",
   "id": "d890dd97",
   "metadata": {},
   "source": [
    "Census Bureau's poverty rates for the US for years 1987 through 1990 are: 13.5%, 13.1%, 13.1%, 13.5%. Ideally, if free lunch eligibility was tied to poerty status of a family a student, we would expect to see this correlation between proportion of free-lunch eligible students and poverty rate."
   ]
  },
  {
   "cell_type": "code",
   "execution_count": 26,
   "id": "19fa7c64",
   "metadata": {},
   "outputs": [],
   "source": [
    "df['no_free_lunch_eligible'] = df['proportion_free_lunch'].apply( lambda x : 1 if x ==0 else 0)"
   ]
  },
  {
   "cell_type": "code",
   "execution_count": 27,
   "id": "e0e67be5",
   "metadata": {},
   "outputs": [
    {
     "data": {
      "text/plain": [
       "0.13073162812511274"
      ]
     },
     "execution_count": 27,
     "metadata": {},
     "output_type": "execute_result"
    }
   ],
   "source": [
    "df['no_free_lunch_eligible'].sum() / 110876"
   ]
  },
  {
   "cell_type": "markdown",
   "id": "400b24b8",
   "metadata": {},
   "source": [
    "13% of the schools had no student eligible for free-lunch program. We are assuming if a school reported 0, it means they found no-one eligible for the program and not that the data is missing. \n",
    "\n"
   ]
  },
  {
   "cell_type": "code",
   "execution_count": 28,
   "id": "79edae0a",
   "metadata": {},
   "outputs": [
    {
     "data": {
      "text/plain": [
       "0.4105757783469822"
      ]
     },
     "execution_count": 28,
     "metadata": {},
     "output_type": "execute_result"
    }
   ],
   "source": [
    "df['less_than_poverty_rate'] = df['proportion_free_lunch'].apply( lambda x : 1 if x < 0.135 else 0)\n",
    "df['less_than_poverty_rate'].sum() / 110876"
   ]
  },
  {
   "cell_type": "markdown",
   "id": "96d7545c",
   "metadata": {},
   "source": [
    "Looks like 41% of school have population body that are doing better than US poverty rate if we believe general US poverty rate and free lunch eligibility are correlated. This number seems statistically significant and could be an indicative of a need to either redefine free lunch eligibility or an indicator that schools serve in mostly affluent neighborhoods."
   ]
  },
  {
   "cell_type": "code",
   "execution_count": 29,
   "id": "1c45fc0a",
   "metadata": {},
   "outputs": [
    {
     "data": {
      "text/plain": [
       "0.22609381547728882"
      ]
     },
     "execution_count": 29,
     "metadata": {},
     "output_type": "execute_result"
    }
   ],
   "source": [
    "df['FreeLunchEligible'].sum() / df['TotalStudents'].sum()"
   ]
  },
  {
   "cell_type": "markdown",
   "id": "32725c80",
   "metadata": {},
   "source": [
    "Almost 23 % of student body was eligible for free-lunch, which is higher than poverty rates, but 41% of schools reported that the percent of free lunch eligible students in their school was less than national poverty rate. This signifies that schools that reported schools that had more poor students tend to be larger than schools that have less poor students."
   ]
  },
  {
   "cell_type": "code",
   "execution_count": 30,
   "id": "02714baa",
   "metadata": {},
   "outputs": [
    {
     "data": {
      "text/plain": [
       "(0.0, 1.0)"
      ]
     },
     "execution_count": 30,
     "metadata": {},
     "output_type": "execute_result"
    },
    {
     "data": {
      "image/png": "[encoded data removed]",
      "text/plain": [
       "<Figure size 432x288 with 1 Axes>"
      ]
     },
     "metadata": {
      "needs_background": "light"
     },
     "output_type": "display_data"
    }
   ],
   "source": [
    "ax = sns.barplot(data = df, y = 'proportion_free_lunch', x = 'TotalStudents')\n",
    "plt.ylim(0,1)"
   ]
  },
  {
   "cell_type": "code",
   "execution_count": 31,
   "id": "19498c91",
   "metadata": {},
   "outputs": [
    {
     "data": {
      "text/html": [
       "<div>\n",
       "<style scoped>\n",
       "    .dataframe tbody tr th:only-of-type {\n",
       "        vertical-align: middle;\n",
       "    }\n",
       "\n",
       "    .dataframe tbody tr th {\n",
       "        vertical-align: top;\n",
       "    }\n",
       "\n",
       "    .dataframe thead th {\n",
       "        text-align: right;\n",
       "    }\n",
       "</style>\n",
       "<table border=\"1\" class=\"dataframe\">\n",
       "  <thead>\n",
       "    <tr style=\"text-align: right;\">\n",
       "      <th></th>\n",
       "      <th>count</th>\n",
       "      <th>mean</th>\n",
       "      <th>std</th>\n",
       "      <th>min</th>\n",
       "      <th>25%</th>\n",
       "      <th>50%</th>\n",
       "      <th>75%</th>\n",
       "      <th>max</th>\n",
       "    </tr>\n",
       "    <tr>\n",
       "      <th>Locale</th>\n",
       "      <th></th>\n",
       "      <th></th>\n",
       "      <th></th>\n",
       "      <th></th>\n",
       "      <th></th>\n",
       "      <th></th>\n",
       "      <th></th>\n",
       "      <th></th>\n",
       "    </tr>\n",
       "  </thead>\n",
       "  <tbody>\n",
       "    <tr>\n",
       "      <th>1-Large city</th>\n",
       "      <td>5863.0</td>\n",
       "      <td>639.921030</td>\n",
       "      <td>436.204624</td>\n",
       "      <td>1.0</td>\n",
       "      <td>380.0</td>\n",
       "      <td>545.0</td>\n",
       "      <td>763.5</td>\n",
       "      <td>4161.0</td>\n",
       "    </tr>\n",
       "    <tr>\n",
       "      <th>2-Midsize city</th>\n",
       "      <td>17701.0</td>\n",
       "      <td>592.843794</td>\n",
       "      <td>387.607422</td>\n",
       "      <td>1.0</td>\n",
       "      <td>352.0</td>\n",
       "      <td>504.0</td>\n",
       "      <td>718.0</td>\n",
       "      <td>3615.0</td>\n",
       "    </tr>\n",
       "    <tr>\n",
       "      <th>3-Urban fringe of large city</th>\n",
       "      <td>11418.0</td>\n",
       "      <td>619.060694</td>\n",
       "      <td>403.074932</td>\n",
       "      <td>2.0</td>\n",
       "      <td>365.0</td>\n",
       "      <td>525.0</td>\n",
       "      <td>746.0</td>\n",
       "      <td>3619.0</td>\n",
       "    </tr>\n",
       "    <tr>\n",
       "      <th>4-Urban fringe of midsize city</th>\n",
       "      <td>11843.0</td>\n",
       "      <td>639.243266</td>\n",
       "      <td>417.115683</td>\n",
       "      <td>1.0</td>\n",
       "      <td>365.0</td>\n",
       "      <td>553.0</td>\n",
       "      <td>808.0</td>\n",
       "      <td>4065.0</td>\n",
       "    </tr>\n",
       "    <tr>\n",
       "      <th>5-Large town</th>\n",
       "      <td>2767.0</td>\n",
       "      <td>514.728226</td>\n",
       "      <td>351.774806</td>\n",
       "      <td>8.0</td>\n",
       "      <td>305.5</td>\n",
       "      <td>430.0</td>\n",
       "      <td>611.0</td>\n",
       "      <td>2360.0</td>\n",
       "    </tr>\n",
       "    <tr>\n",
       "      <th>6-Small town</th>\n",
       "      <td>26093.0</td>\n",
       "      <td>470.894569</td>\n",
       "      <td>295.382218</td>\n",
       "      <td>1.0</td>\n",
       "      <td>277.0</td>\n",
       "      <td>424.0</td>\n",
       "      <td>615.0</td>\n",
       "      <td>2508.0</td>\n",
       "    </tr>\n",
       "    <tr>\n",
       "      <th>7-Rural - outside CBSA/MSA</th>\n",
       "      <td>34916.0</td>\n",
       "      <td>297.703603</td>\n",
       "      <td>254.013764</td>\n",
       "      <td>1.0</td>\n",
       "      <td>120.0</td>\n",
       "      <td>234.0</td>\n",
       "      <td>410.0</td>\n",
       "      <td>2703.0</td>\n",
       "    </tr>\n",
       "  </tbody>\n",
       "</table>\n",
       "</div>"
      ],
      "text/plain": [
       "                                  count        mean         std  min    25%  \\\n",
       "Locale                                                                        \n",
       "1-Large city                     5863.0  639.921030  436.204624  1.0  380.0   \n",
       "2-Midsize city                  17701.0  592.843794  387.607422  1.0  352.0   \n",
       "3-Urban fringe of large city    11418.0  619.060694  403.074932  2.0  365.0   \n",
       "4-Urban fringe of midsize city  11843.0  639.243266  417.115683  1.0  365.0   \n",
       "5-Large town                     2767.0  514.728226  351.774806  8.0  305.5   \n",
       "6-Small town                    26093.0  470.894569  295.382218  1.0  277.0   \n",
       "7-Rural - outside CBSA/MSA      34916.0  297.703603  254.013764  1.0  120.0   \n",
       "\n",
       "                                  50%    75%     max  \n",
       "Locale                                                \n",
       "1-Large city                    545.0  763.5  4161.0  \n",
       "2-Midsize city                  504.0  718.0  3615.0  \n",
       "3-Urban fringe of large city    525.0  746.0  3619.0  \n",
       "4-Urban fringe of midsize city  553.0  808.0  4065.0  \n",
       "5-Large town                    430.0  611.0  2360.0  \n",
       "6-Small town                    424.0  615.0  2508.0  \n",
       "7-Rural - outside CBSA/MSA      234.0  410.0  2703.0  "
      ]
     },
     "execution_count": 31,
     "metadata": {},
     "output_type": "execute_result"
    }
   ],
   "source": [
    "df['TotalStudents'].groupby(df['Locale']).describe()"
   ]
  },
  {
   "cell_type": "code",
   "execution_count": 32,
   "id": "4f2f1282",
   "metadata": {},
   "outputs": [
    {
     "data": {
      "text/html": [
       "<div>\n",
       "<style scoped>\n",
       "    .dataframe tbody tr th:only-of-type {\n",
       "        vertical-align: middle;\n",
       "    }\n",
       "\n",
       "    .dataframe tbody tr th {\n",
       "        vertical-align: top;\n",
       "    }\n",
       "\n",
       "    .dataframe thead th {\n",
       "        text-align: right;\n",
       "    }\n",
       "</style>\n",
       "<table border=\"1\" class=\"dataframe\">\n",
       "  <thead>\n",
       "    <tr style=\"text-align: right;\">\n",
       "      <th></th>\n",
       "      <th>count</th>\n",
       "      <th>mean</th>\n",
       "      <th>std</th>\n",
       "      <th>min</th>\n",
       "      <th>25%</th>\n",
       "      <th>50%</th>\n",
       "      <th>75%</th>\n",
       "      <th>max</th>\n",
       "    </tr>\n",
       "    <tr>\n",
       "      <th>Locale</th>\n",
       "      <th></th>\n",
       "      <th></th>\n",
       "      <th></th>\n",
       "      <th></th>\n",
       "      <th></th>\n",
       "      <th></th>\n",
       "      <th></th>\n",
       "      <th></th>\n",
       "    </tr>\n",
       "  </thead>\n",
       "  <tbody>\n",
       "    <tr>\n",
       "      <th>1-Large city</th>\n",
       "      <td>5863.0</td>\n",
       "      <td>0.432099</td>\n",
       "      <td>0.293044</td>\n",
       "      <td>0.0</td>\n",
       "      <td>0.179616</td>\n",
       "      <td>0.442231</td>\n",
       "      <td>0.660285</td>\n",
       "      <td>1.00000</td>\n",
       "    </tr>\n",
       "    <tr>\n",
       "      <th>2-Midsize city</th>\n",
       "      <td>17701.0</td>\n",
       "      <td>0.270377</td>\n",
       "      <td>0.231348</td>\n",
       "      <td>0.0</td>\n",
       "      <td>0.089431</td>\n",
       "      <td>0.215686</td>\n",
       "      <td>0.394584</td>\n",
       "      <td>1.00000</td>\n",
       "    </tr>\n",
       "    <tr>\n",
       "      <th>3-Urban fringe of large city</th>\n",
       "      <td>11418.0</td>\n",
       "      <td>0.153525</td>\n",
       "      <td>0.186963</td>\n",
       "      <td>0.0</td>\n",
       "      <td>0.022267</td>\n",
       "      <td>0.080303</td>\n",
       "      <td>0.209622</td>\n",
       "      <td>0.96587</td>\n",
       "    </tr>\n",
       "    <tr>\n",
       "      <th>4-Urban fringe of midsize city</th>\n",
       "      <td>11843.0</td>\n",
       "      <td>0.217760</td>\n",
       "      <td>0.204719</td>\n",
       "      <td>0.0</td>\n",
       "      <td>0.055655</td>\n",
       "      <td>0.166172</td>\n",
       "      <td>0.318318</td>\n",
       "      <td>1.00000</td>\n",
       "    </tr>\n",
       "    <tr>\n",
       "      <th>5-Large town</th>\n",
       "      <td>2767.0</td>\n",
       "      <td>0.212159</td>\n",
       "      <td>0.190199</td>\n",
       "      <td>0.0</td>\n",
       "      <td>0.077803</td>\n",
       "      <td>0.170686</td>\n",
       "      <td>0.296754</td>\n",
       "      <td>1.00000</td>\n",
       "    </tr>\n",
       "    <tr>\n",
       "      <th>6-Small town</th>\n",
       "      <td>26093.0</td>\n",
       "      <td>0.216950</td>\n",
       "      <td>0.200866</td>\n",
       "      <td>0.0</td>\n",
       "      <td>0.070423</td>\n",
       "      <td>0.162791</td>\n",
       "      <td>0.308364</td>\n",
       "      <td>1.00000</td>\n",
       "    </tr>\n",
       "    <tr>\n",
       "      <th>7-Rural - outside CBSA/MSA</th>\n",
       "      <td>34916.0</td>\n",
       "      <td>0.225335</td>\n",
       "      <td>0.203098</td>\n",
       "      <td>0.0</td>\n",
       "      <td>0.078125</td>\n",
       "      <td>0.179191</td>\n",
       "      <td>0.315132</td>\n",
       "      <td>1.00000</td>\n",
       "    </tr>\n",
       "  </tbody>\n",
       "</table>\n",
       "</div>"
      ],
      "text/plain": [
       "                                  count      mean       std  min       25%  \\\n",
       "Locale                                                                       \n",
       "1-Large city                     5863.0  0.432099  0.293044  0.0  0.179616   \n",
       "2-Midsize city                  17701.0  0.270377  0.231348  0.0  0.089431   \n",
       "3-Urban fringe of large city    11418.0  0.153525  0.186963  0.0  0.022267   \n",
       "4-Urban fringe of midsize city  11843.0  0.217760  0.204719  0.0  0.055655   \n",
       "5-Large town                     2767.0  0.212159  0.190199  0.0  0.077803   \n",
       "6-Small town                    26093.0  0.216950  0.200866  0.0  0.070423   \n",
       "7-Rural - outside CBSA/MSA      34916.0  0.225335  0.203098  0.0  0.078125   \n",
       "\n",
       "                                     50%       75%      max  \n",
       "Locale                                                       \n",
       "1-Large city                    0.442231  0.660285  1.00000  \n",
       "2-Midsize city                  0.215686  0.394584  1.00000  \n",
       "3-Urban fringe of large city    0.080303  0.209622  0.96587  \n",
       "4-Urban fringe of midsize city  0.166172  0.318318  1.00000  \n",
       "5-Large town                    0.170686  0.296754  1.00000  \n",
       "6-Small town                    0.162791  0.308364  1.00000  \n",
       "7-Rural - outside CBSA/MSA      0.179191  0.315132  1.00000  "
      ]
     },
     "execution_count": 32,
     "metadata": {},
     "output_type": "execute_result"
    }
   ],
   "source": [
    "df['proportion_free_lunch'].groupby(df['Locale']).describe()"
   ]
  },
  {
   "cell_type": "markdown",
   "id": "8b8cc3d7",
   "metadata": {},
   "source": [
    "Large city area schools have the highest mean value for the percentage of students eligible for free lunch. Those schools also tend to be larger on average, with average student body count 640 being the highest - along with schools at the urban fringe of midsize city.\n",
    "\n"
   ]
  },
  {
   "cell_type": "code",
   "execution_count": 33,
   "id": "94269be3",
   "metadata": {},
   "outputs": [
    {
     "data": {
      "text/plain": [
       "<AxesSubplot:title={'center':'proportion_free_lunch'}, xlabel='Locale'>"
      ]
     },
     "execution_count": 33,
     "metadata": {},
     "output_type": "execute_result"
    },
    {
     "data": {
      "image/png": "[encoded data removed]",
      "text/plain": [
       "<Figure size 432x288 with 1 Axes>"
      ]
     },
     "metadata": {
      "needs_background": "light"
     },
     "output_type": "display_data"
    }
   ],
   "source": [
    "df.boxplot(by=\"Locale\", column=\"proportion_free_lunch\", rot = 45, showfliers = False, grid = False)"
   ]
  },
  {
   "cell_type": "markdown",
   "id": "0a48e8d8",
   "metadata": {},
   "source": [
    "The observation made from the data table can be observed more clearly in the boxplot. Large city schools have the highest proportion of free lunch eligible students."
   ]
  },
  {
   "cell_type": "markdown",
   "id": "b8772a02",
   "metadata": {},
   "source": [
    "## Racial Makeup of schools"
   ]
  },
  {
   "cell_type": "code",
   "execution_count": 34,
   "id": "7c6941a4",
   "metadata": {},
   "outputs": [],
   "source": [
    "df['AmericanIndian/AlaskaNative'] = df['AmericanIndian/AlaskaNative'].apply( lambda x : int(x) if str(x).isdigit() else 0)\n",
    "df['AsianorAsian/PacificIslander'] = df['AsianorAsian/PacificIslander'].apply( lambda x : int(x) if str(x).isdigit() else 0)\n",
    "df['Hispanic'] = df['Hispanic'].apply( lambda x : int(x) if str(x).isdigit() else 0)\n",
    "df['BlackorAfricanAmerican'] = df['BlackorAfricanAmerican'].apply( lambda x : int(x) if str(x).isdigit() else 0)\n",
    "df['White'] = df['White'].apply( lambda x : int(x) if str(x).isdigit() else 0)"
   ]
  },
  {
   "cell_type": "code",
   "execution_count": 35,
   "id": "cc12afd9",
   "metadata": {
    "scrolled": true
   },
   "outputs": [
    {
     "data": {
      "text/html": [
       "<div>\n",
       "<style scoped>\n",
       "    .dataframe tbody tr th:only-of-type {\n",
       "        vertical-align: middle;\n",
       "    }\n",
       "\n",
       "    .dataframe tbody tr th {\n",
       "        vertical-align: top;\n",
       "    }\n",
       "\n",
       "    .dataframe thead th {\n",
       "        text-align: right;\n",
       "    }\n",
       "</style>\n",
       "<table border=\"1\" class=\"dataframe\">\n",
       "  <thead>\n",
       "    <tr style=\"text-align: right;\">\n",
       "      <th></th>\n",
       "      <th>Locale</th>\n",
       "      <th>1-Large city</th>\n",
       "      <th>2-Midsize city</th>\n",
       "      <th>3-Urban fringe of large city</th>\n",
       "      <th>4-Urban fringe of midsize city</th>\n",
       "      <th>5-Large town</th>\n",
       "      <th>6-Small town</th>\n",
       "      <th>7-Rural - outside CBSA/MSA</th>\n",
       "    </tr>\n",
       "  </thead>\n",
       "  <tbody>\n",
       "    <tr>\n",
       "      <th rowspan=\"8\" valign=\"top\">AmericanIndian/AlaskaNative</th>\n",
       "      <th>count</th>\n",
       "      <td>5863.000000</td>\n",
       "      <td>17701.000000</td>\n",
       "      <td>11418.000000</td>\n",
       "      <td>11843.000000</td>\n",
       "      <td>2767.000000</td>\n",
       "      <td>26093.000000</td>\n",
       "      <td>34916.000000</td>\n",
       "    </tr>\n",
       "    <tr>\n",
       "      <th>mean</th>\n",
       "      <td>2.902439</td>\n",
       "      <td>2.638156</td>\n",
       "      <td>1.594938</td>\n",
       "      <td>1.599932</td>\n",
       "      <td>1.129021</td>\n",
       "      <td>3.851454</td>\n",
       "      <td>3.037289</td>\n",
       "    </tr>\n",
       "    <tr>\n",
       "      <th>std</th>\n",
       "      <td>11.549060</td>\n",
       "      <td>8.941718</td>\n",
       "      <td>4.760844</td>\n",
       "      <td>4.937581</td>\n",
       "      <td>3.917023</td>\n",
       "      <td>28.036699</td>\n",
       "      <td>19.051140</td>\n",
       "    </tr>\n",
       "    <tr>\n",
       "      <th>min</th>\n",
       "      <td>0.000000</td>\n",
       "      <td>0.000000</td>\n",
       "      <td>0.000000</td>\n",
       "      <td>0.000000</td>\n",
       "      <td>0.000000</td>\n",
       "      <td>0.000000</td>\n",
       "      <td>0.000000</td>\n",
       "    </tr>\n",
       "    <tr>\n",
       "      <th>25%</th>\n",
       "      <td>0.000000</td>\n",
       "      <td>0.000000</td>\n",
       "      <td>0.000000</td>\n",
       "      <td>0.000000</td>\n",
       "      <td>0.000000</td>\n",
       "      <td>0.000000</td>\n",
       "      <td>0.000000</td>\n",
       "    </tr>\n",
       "    <tr>\n",
       "      <th>50%</th>\n",
       "      <td>0.000000</td>\n",
       "      <td>0.000000</td>\n",
       "      <td>0.000000</td>\n",
       "      <td>0.000000</td>\n",
       "      <td>0.000000</td>\n",
       "      <td>0.000000</td>\n",
       "      <td>0.000000</td>\n",
       "    </tr>\n",
       "    <tr>\n",
       "      <th>75%</th>\n",
       "      <td>1.000000</td>\n",
       "      <td>2.000000</td>\n",
       "      <td>1.000000</td>\n",
       "      <td>1.000000</td>\n",
       "      <td>0.000000</td>\n",
       "      <td>1.000000</td>\n",
       "      <td>0.000000</td>\n",
       "    </tr>\n",
       "    <tr>\n",
       "      <th>max</th>\n",
       "      <td>322.000000</td>\n",
       "      <td>229.000000</td>\n",
       "      <td>160.000000</td>\n",
       "      <td>106.000000</td>\n",
       "      <td>54.000000</td>\n",
       "      <td>1314.000000</td>\n",
       "      <td>481.000000</td>\n",
       "    </tr>\n",
       "    <tr>\n",
       "      <th rowspan=\"8\" valign=\"top\">AsianorAsian/PacificIslander</th>\n",
       "      <th>count</th>\n",
       "      <td>5863.000000</td>\n",
       "      <td>17701.000000</td>\n",
       "      <td>11418.000000</td>\n",
       "      <td>11843.000000</td>\n",
       "      <td>2767.000000</td>\n",
       "      <td>26093.000000</td>\n",
       "      <td>34916.000000</td>\n",
       "    </tr>\n",
       "    <tr>\n",
       "      <th>mean</th>\n",
       "      <td>12.074194</td>\n",
       "      <td>14.571493</td>\n",
       "      <td>12.613855</td>\n",
       "      <td>21.302373</td>\n",
       "      <td>4.472353</td>\n",
       "      <td>2.839650</td>\n",
       "      <td>2.534282</td>\n",
       "    </tr>\n",
       "    <tr>\n",
       "      <th>std</th>\n",
       "      <td>34.958226</td>\n",
       "      <td>76.477415</td>\n",
       "      <td>27.803066</td>\n",
       "      <td>104.623952</td>\n",
       "      <td>8.994488</td>\n",
       "      <td>20.420235</td>\n",
       "      <td>30.772444</td>\n",
       "    </tr>\n",
       "    <tr>\n",
       "      <th>min</th>\n",
       "      <td>0.000000</td>\n",
       "      <td>0.000000</td>\n",
       "      <td>0.000000</td>\n",
       "      <td>0.000000</td>\n",
       "      <td>0.000000</td>\n",
       "      <td>0.000000</td>\n",
       "      <td>0.000000</td>\n",
       "    </tr>\n",
       "    <tr>\n",
       "      <th>25%</th>\n",
       "      <td>0.000000</td>\n",
       "      <td>0.000000</td>\n",
       "      <td>0.000000</td>\n",
       "      <td>0.000000</td>\n",
       "      <td>0.000000</td>\n",
       "      <td>0.000000</td>\n",
       "      <td>0.000000</td>\n",
       "    </tr>\n",
       "    <tr>\n",
       "      <th>50%</th>\n",
       "      <td>0.000000</td>\n",
       "      <td>1.000000</td>\n",
       "      <td>3.000000</td>\n",
       "      <td>2.000000</td>\n",
       "      <td>0.000000</td>\n",
       "      <td>0.000000</td>\n",
       "      <td>0.000000</td>\n",
       "    </tr>\n",
       "    <tr>\n",
       "      <th>75%</th>\n",
       "      <td>7.000000</td>\n",
       "      <td>8.000000</td>\n",
       "      <td>14.000000</td>\n",
       "      <td>9.000000</td>\n",
       "      <td>5.000000</td>\n",
       "      <td>2.000000</td>\n",
       "      <td>1.000000</td>\n",
       "    </tr>\n",
       "    <tr>\n",
       "      <th>max</th>\n",
       "      <td>569.000000</td>\n",
       "      <td>2347.000000</td>\n",
       "      <td>506.000000</td>\n",
       "      <td>1922.000000</td>\n",
       "      <td>95.000000</td>\n",
       "      <td>1219.000000</td>\n",
       "      <td>1374.000000</td>\n",
       "    </tr>\n",
       "    <tr>\n",
       "      <th rowspan=\"8\" valign=\"top\">Hispanic</th>\n",
       "      <th>count</th>\n",
       "      <td>5863.000000</td>\n",
       "      <td>17701.000000</td>\n",
       "      <td>11418.000000</td>\n",
       "      <td>11843.000000</td>\n",
       "      <td>2767.000000</td>\n",
       "      <td>26093.000000</td>\n",
       "      <td>34916.000000</td>\n",
       "    </tr>\n",
       "    <tr>\n",
       "      <th>mean</th>\n",
       "      <td>69.530957</td>\n",
       "      <td>16.149031</td>\n",
       "      <td>23.985812</td>\n",
       "      <td>17.666554</td>\n",
       "      <td>8.082038</td>\n",
       "      <td>6.291457</td>\n",
       "      <td>3.152423</td>\n",
       "    </tr>\n",
       "    <tr>\n",
       "      <th>std</th>\n",
       "      <td>222.670639</td>\n",
       "      <td>46.437229</td>\n",
       "      <td>107.056029</td>\n",
       "      <td>55.429127</td>\n",
       "      <td>20.789900</td>\n",
       "      <td>24.961803</td>\n",
       "      <td>14.024437</td>\n",
       "    </tr>\n",
       "    <tr>\n",
       "      <th>min</th>\n",
       "      <td>0.000000</td>\n",
       "      <td>0.000000</td>\n",
       "      <td>0.000000</td>\n",
       "      <td>0.000000</td>\n",
       "      <td>0.000000</td>\n",
       "      <td>0.000000</td>\n",
       "      <td>0.000000</td>\n",
       "    </tr>\n",
       "    <tr>\n",
       "      <th>25%</th>\n",
       "      <td>0.000000</td>\n",
       "      <td>0.000000</td>\n",
       "      <td>0.000000</td>\n",
       "      <td>0.000000</td>\n",
       "      <td>0.000000</td>\n",
       "      <td>0.000000</td>\n",
       "      <td>0.000000</td>\n",
       "    </tr>\n",
       "    <tr>\n",
       "      <th>50%</th>\n",
       "      <td>1.000000</td>\n",
       "      <td>1.000000</td>\n",
       "      <td>2.000000</td>\n",
       "      <td>2.000000</td>\n",
       "      <td>0.000000</td>\n",
       "      <td>0.000000</td>\n",
       "      <td>0.000000</td>\n",
       "    </tr>\n",
       "    <tr>\n",
       "      <th>75%</th>\n",
       "      <td>19.000000</td>\n",
       "      <td>11.000000</td>\n",
       "      <td>10.000000</td>\n",
       "      <td>13.000000</td>\n",
       "      <td>7.000000</td>\n",
       "      <td>3.000000</td>\n",
       "      <td>1.000000</td>\n",
       "    </tr>\n",
       "    <tr>\n",
       "      <th>max</th>\n",
       "      <td>3039.000000</td>\n",
       "      <td>1217.000000</td>\n",
       "      <td>2673.000000</td>\n",
       "      <td>1541.000000</td>\n",
       "      <td>238.000000</td>\n",
       "      <td>648.000000</td>\n",
       "      <td>406.000000</td>\n",
       "    </tr>\n",
       "    <tr>\n",
       "      <th rowspan=\"8\" valign=\"top\">BlackorAfricanAmerican</th>\n",
       "      <th>count</th>\n",
       "      <td>5863.000000</td>\n",
       "      <td>17701.000000</td>\n",
       "      <td>11418.000000</td>\n",
       "      <td>11843.000000</td>\n",
       "      <td>2767.000000</td>\n",
       "      <td>26093.000000</td>\n",
       "      <td>34916.000000</td>\n",
       "    </tr>\n",
       "    <tr>\n",
       "      <th>mean</th>\n",
       "      <td>204.714822</td>\n",
       "      <td>80.095814</td>\n",
       "      <td>52.615870</td>\n",
       "      <td>63.502069</td>\n",
       "      <td>39.678713</td>\n",
       "      <td>28.268999</td>\n",
       "      <td>15.200338</td>\n",
       "    </tr>\n",
       "    <tr>\n",
       "      <th>std</th>\n",
       "      <td>302.860937</td>\n",
       "      <td>152.024444</td>\n",
       "      <td>143.208932</td>\n",
       "      <td>131.050823</td>\n",
       "      <td>110.442617</td>\n",
       "      <td>87.894246</td>\n",
       "      <td>57.598040</td>\n",
       "    </tr>\n",
       "    <tr>\n",
       "      <th>min</th>\n",
       "      <td>0.000000</td>\n",
       "      <td>0.000000</td>\n",
       "      <td>0.000000</td>\n",
       "      <td>0.000000</td>\n",
       "      <td>0.000000</td>\n",
       "      <td>0.000000</td>\n",
       "      <td>0.000000</td>\n",
       "    </tr>\n",
       "    <tr>\n",
       "      <th>25%</th>\n",
       "      <td>0.000000</td>\n",
       "      <td>0.000000</td>\n",
       "      <td>0.000000</td>\n",
       "      <td>0.000000</td>\n",
       "      <td>0.000000</td>\n",
       "      <td>0.000000</td>\n",
       "      <td>0.000000</td>\n",
       "    </tr>\n",
       "    <tr>\n",
       "      <th>50%</th>\n",
       "      <td>84.000000</td>\n",
       "      <td>7.000000</td>\n",
       "      <td>2.000000</td>\n",
       "      <td>4.000000</td>\n",
       "      <td>1.000000</td>\n",
       "      <td>0.000000</td>\n",
       "      <td>0.000000</td>\n",
       "    </tr>\n",
       "    <tr>\n",
       "      <th>75%</th>\n",
       "      <td>306.000000</td>\n",
       "      <td>101.000000</td>\n",
       "      <td>26.750000</td>\n",
       "      <td>69.000000</td>\n",
       "      <td>13.000000</td>\n",
       "      <td>3.000000</td>\n",
       "      <td>1.000000</td>\n",
       "    </tr>\n",
       "    <tr>\n",
       "      <th>max</th>\n",
       "      <td>3078.000000</td>\n",
       "      <td>2038.000000</td>\n",
       "      <td>2587.000000</td>\n",
       "      <td>2010.000000</td>\n",
       "      <td>1064.000000</td>\n",
       "      <td>1363.000000</td>\n",
       "      <td>1210.000000</td>\n",
       "    </tr>\n",
       "    <tr>\n",
       "      <th rowspan=\"8\" valign=\"top\">White</th>\n",
       "      <th>count</th>\n",
       "      <td>5863.000000</td>\n",
       "      <td>17701.000000</td>\n",
       "      <td>11418.000000</td>\n",
       "      <td>11843.000000</td>\n",
       "      <td>2767.000000</td>\n",
       "      <td>26093.000000</td>\n",
       "      <td>34916.000000</td>\n",
       "    </tr>\n",
       "    <tr>\n",
       "      <th>mean</th>\n",
       "      <td>135.882824</td>\n",
       "      <td>268.664482</td>\n",
       "      <td>282.732265</td>\n",
       "      <td>332.474204</td>\n",
       "      <td>251.626671</td>\n",
       "      <td>242.564098</td>\n",
       "      <td>166.817820</td>\n",
       "    </tr>\n",
       "    <tr>\n",
       "      <th>std</th>\n",
       "      <td>226.871563</td>\n",
       "      <td>329.618103</td>\n",
       "      <td>347.890121</td>\n",
       "      <td>377.336801</td>\n",
       "      <td>310.400370</td>\n",
       "      <td>276.858485</td>\n",
       "      <td>211.545674</td>\n",
       "    </tr>\n",
       "    <tr>\n",
       "      <th>min</th>\n",
       "      <td>0.000000</td>\n",
       "      <td>0.000000</td>\n",
       "      <td>0.000000</td>\n",
       "      <td>0.000000</td>\n",
       "      <td>0.000000</td>\n",
       "      <td>0.000000</td>\n",
       "      <td>0.000000</td>\n",
       "    </tr>\n",
       "    <tr>\n",
       "      <th>25%</th>\n",
       "      <td>0.000000</td>\n",
       "      <td>0.000000</td>\n",
       "      <td>0.000000</td>\n",
       "      <td>0.000000</td>\n",
       "      <td>0.000000</td>\n",
       "      <td>0.000000</td>\n",
       "      <td>0.000000</td>\n",
       "    </tr>\n",
       "    <tr>\n",
       "      <th>50%</th>\n",
       "      <td>12.000000</td>\n",
       "      <td>193.000000</td>\n",
       "      <td>202.000000</td>\n",
       "      <td>266.000000</td>\n",
       "      <td>193.000000</td>\n",
       "      <td>182.000000</td>\n",
       "      <td>100.000000</td>\n",
       "    </tr>\n",
       "    <tr>\n",
       "      <th>75%</th>\n",
       "      <td>204.000000</td>\n",
       "      <td>417.000000</td>\n",
       "      <td>453.000000</td>\n",
       "      <td>512.000000</td>\n",
       "      <td>381.000000</td>\n",
       "      <td>402.000000</td>\n",
       "      <td>259.000000</td>\n",
       "    </tr>\n",
       "    <tr>\n",
       "      <th>max</th>\n",
       "      <td>2475.000000</td>\n",
       "      <td>2566.000000</td>\n",
       "      <td>2929.000000</td>\n",
       "      <td>3228.000000</td>\n",
       "      <td>2129.000000</td>\n",
       "      <td>2360.000000</td>\n",
       "      <td>2494.000000</td>\n",
       "    </tr>\n",
       "  </tbody>\n",
       "</table>\n",
       "</div>"
      ],
      "text/plain": [
       "Locale                              1-Large city  2-Midsize city  \\\n",
       "AmericanIndian/AlaskaNative  count   5863.000000    17701.000000   \n",
       "                             mean       2.902439        2.638156   \n",
       "                             std       11.549060        8.941718   \n",
       "                             min        0.000000        0.000000   \n",
       "                             25%        0.000000        0.000000   \n",
       "                             50%        0.000000        0.000000   \n",
       "                             75%        1.000000        2.000000   \n",
       "                             max      322.000000      229.000000   \n",
       "AsianorAsian/PacificIslander count   5863.000000    17701.000000   \n",
       "                             mean      12.074194       14.571493   \n",
       "                             std       34.958226       76.477415   \n",
       "                             min        0.000000        0.000000   \n",
       "                             25%        0.000000        0.000000   \n",
       "                             50%        0.000000        1.000000   \n",
       "                             75%        7.000000        8.000000   \n",
       "                             max      569.000000     2347.000000   \n",
       "Hispanic                     count   5863.000000    17701.000000   \n",
       "                             mean      69.530957       16.149031   \n",
       "                             std      222.670639       46.437229   \n",
       "                             min        0.000000        0.000000   \n",
       "                             25%        0.000000        0.000000   \n",
       "                             50%        1.000000        1.000000   \n",
       "                             75%       19.000000       11.000000   \n",
       "                             max     3039.000000     1217.000000   \n",
       "BlackorAfricanAmerican       count   5863.000000    17701.000000   \n",
       "                             mean     204.714822       80.095814   \n",
       "                             std      302.860937      152.024444   \n",
       "                             min        0.000000        0.000000   \n",
       "                             25%        0.000000        0.000000   \n",
       "                             50%       84.000000        7.000000   \n",
       "                             75%      306.000000      101.000000   \n",
       "                             max     3078.000000     2038.000000   \n",
       "White                        count   5863.000000    17701.000000   \n",
       "                             mean     135.882824      268.664482   \n",
       "                             std      226.871563      329.618103   \n",
       "                             min        0.000000        0.000000   \n",
       "                             25%        0.000000        0.000000   \n",
       "                             50%       12.000000      193.000000   \n",
       "                             75%      204.000000      417.000000   \n",
       "                             max     2475.000000     2566.000000   \n",
       "\n",
       "Locale                              3-Urban fringe of large city  \\\n",
       "AmericanIndian/AlaskaNative  count                  11418.000000   \n",
       "                             mean                       1.594938   \n",
       "                             std                        4.760844   \n",
       "                             min                        0.000000   \n",
       "                             25%                        0.000000   \n",
       "                             50%                        0.000000   \n",
       "                             75%                        1.000000   \n",
       "                             max                      160.000000   \n",
       "AsianorAsian/PacificIslander count                  11418.000000   \n",
       "                             mean                      12.613855   \n",
       "                             std                       27.803066   \n",
       "                             min                        0.000000   \n",
       "                             25%                        0.000000   \n",
       "                             50%                        3.000000   \n",
       "                             75%                       14.000000   \n",
       "                             max                      506.000000   \n",
       "Hispanic                     count                  11418.000000   \n",
       "                             mean                      23.985812   \n",
       "                             std                      107.056029   \n",
       "                             min                        0.000000   \n",
       "                             25%                        0.000000   \n",
       "                             50%                        2.000000   \n",
       "                             75%                       10.000000   \n",
       "                             max                     2673.000000   \n",
       "BlackorAfricanAmerican       count                  11418.000000   \n",
       "                             mean                      52.615870   \n",
       "                             std                      143.208932   \n",
       "                             min                        0.000000   \n",
       "                             25%                        0.000000   \n",
       "                             50%                        2.000000   \n",
       "                             75%                       26.750000   \n",
       "                             max                     2587.000000   \n",
       "White                        count                  11418.000000   \n",
       "                             mean                     282.732265   \n",
       "                             std                      347.890121   \n",
       "                             min                        0.000000   \n",
       "                             25%                        0.000000   \n",
       "                             50%                      202.000000   \n",
       "                             75%                      453.000000   \n",
       "                             max                     2929.000000   \n",
       "\n",
       "Locale                              4-Urban fringe of midsize city  \\\n",
       "AmericanIndian/AlaskaNative  count                    11843.000000   \n",
       "                             mean                         1.599932   \n",
       "                             std                          4.937581   \n",
       "                             min                          0.000000   \n",
       "                             25%                          0.000000   \n",
       "                             50%                          0.000000   \n",
       "                             75%                          1.000000   \n",
       "                             max                        106.000000   \n",
       "AsianorAsian/PacificIslander count                    11843.000000   \n",
       "                             mean                        21.302373   \n",
       "                             std                        104.623952   \n",
       "                             min                          0.000000   \n",
       "                             25%                          0.000000   \n",
       "                             50%                          2.000000   \n",
       "                             75%                          9.000000   \n",
       "                             max                       1922.000000   \n",
       "Hispanic                     count                    11843.000000   \n",
       "                             mean                        17.666554   \n",
       "                             std                         55.429127   \n",
       "                             min                          0.000000   \n",
       "                             25%                          0.000000   \n",
       "                             50%                          2.000000   \n",
       "                             75%                         13.000000   \n",
       "                             max                       1541.000000   \n",
       "BlackorAfricanAmerican       count                    11843.000000   \n",
       "                             mean                        63.502069   \n",
       "                             std                        131.050823   \n",
       "                             min                          0.000000   \n",
       "                             25%                          0.000000   \n",
       "                             50%                          4.000000   \n",
       "                             75%                         69.000000   \n",
       "                             max                       2010.000000   \n",
       "White                        count                    11843.000000   \n",
       "                             mean                       332.474204   \n",
       "                             std                        377.336801   \n",
       "                             min                          0.000000   \n",
       "                             25%                          0.000000   \n",
       "                             50%                        266.000000   \n",
       "                             75%                        512.000000   \n",
       "                             max                       3228.000000   \n",
       "\n",
       "Locale                              5-Large town  6-Small town  \\\n",
       "AmericanIndian/AlaskaNative  count   2767.000000  26093.000000   \n",
       "                             mean       1.129021      3.851454   \n",
       "                             std        3.917023     28.036699   \n",
       "                             min        0.000000      0.000000   \n",
       "                             25%        0.000000      0.000000   \n",
       "                             50%        0.000000      0.000000   \n",
       "                             75%        0.000000      1.000000   \n",
       "                             max       54.000000   1314.000000   \n",
       "AsianorAsian/PacificIslander count   2767.000000  26093.000000   \n",
       "                             mean       4.472353      2.839650   \n",
       "                             std        8.994488     20.420235   \n",
       "                             min        0.000000      0.000000   \n",
       "                             25%        0.000000      0.000000   \n",
       "                             50%        0.000000      0.000000   \n",
       "                             75%        5.000000      2.000000   \n",
       "                             max       95.000000   1219.000000   \n",
       "Hispanic                     count   2767.000000  26093.000000   \n",
       "                             mean       8.082038      6.291457   \n",
       "                             std       20.789900     24.961803   \n",
       "                             min        0.000000      0.000000   \n",
       "                             25%        0.000000      0.000000   \n",
       "                             50%        0.000000      0.000000   \n",
       "                             75%        7.000000      3.000000   \n",
       "                             max      238.000000    648.000000   \n",
       "BlackorAfricanAmerican       count   2767.000000  26093.000000   \n",
       "                             mean      39.678713     28.268999   \n",
       "                             std      110.442617     87.894246   \n",
       "                             min        0.000000      0.000000   \n",
       "                             25%        0.000000      0.000000   \n",
       "                             50%        1.000000      0.000000   \n",
       "                             75%       13.000000      3.000000   \n",
       "                             max     1064.000000   1363.000000   \n",
       "White                        count   2767.000000  26093.000000   \n",
       "                             mean     251.626671    242.564098   \n",
       "                             std      310.400370    276.858485   \n",
       "                             min        0.000000      0.000000   \n",
       "                             25%        0.000000      0.000000   \n",
       "                             50%      193.000000    182.000000   \n",
       "                             75%      381.000000    402.000000   \n",
       "                             max     2129.000000   2360.000000   \n",
       "\n",
       "Locale                              7-Rural - outside CBSA/MSA  \n",
       "AmericanIndian/AlaskaNative  count                34916.000000  \n",
       "                             mean                     3.037289  \n",
       "                             std                     19.051140  \n",
       "                             min                      0.000000  \n",
       "                             25%                      0.000000  \n",
       "                             50%                      0.000000  \n",
       "                             75%                      0.000000  \n",
       "                             max                    481.000000  \n",
       "AsianorAsian/PacificIslander count                34916.000000  \n",
       "                             mean                     2.534282  \n",
       "                             std                     30.772444  \n",
       "                             min                      0.000000  \n",
       "                             25%                      0.000000  \n",
       "                             50%                      0.000000  \n",
       "                             75%                      1.000000  \n",
       "                             max                   1374.000000  \n",
       "Hispanic                     count                34916.000000  \n",
       "                             mean                     3.152423  \n",
       "                             std                     14.024437  \n",
       "                             min                      0.000000  \n",
       "                             25%                      0.000000  \n",
       "                             50%                      0.000000  \n",
       "                             75%                      1.000000  \n",
       "                             max                    406.000000  \n",
       "BlackorAfricanAmerican       count                34916.000000  \n",
       "                             mean                    15.200338  \n",
       "                             std                     57.598040  \n",
       "                             min                      0.000000  \n",
       "                             25%                      0.000000  \n",
       "                             50%                      0.000000  \n",
       "                             75%                      1.000000  \n",
       "                             max                   1210.000000  \n",
       "White                        count                34916.000000  \n",
       "                             mean                   166.817820  \n",
       "                             std                    211.545674  \n",
       "                             min                      0.000000  \n",
       "                             25%                      0.000000  \n",
       "                             50%                    100.000000  \n",
       "                             75%                    259.000000  \n",
       "                             max                   2494.000000  "
      ]
     },
     "metadata": {},
     "output_type": "display_data"
    }
   ],
   "source": [
    "display(df[['AmericanIndian/AlaskaNative', 'AsianorAsian/PacificIslander', 'Hispanic', 'BlackorAfricanAmerican','White']].groupby(df['Locale']).describe().transpose())\n"
   ]
  },
  {
   "cell_type": "markdown",
   "id": "00530dc7",
   "metadata": {},
   "source": [
    "Black students are concentrated towards Large City and White Students are concentrated towards Urban fringes. Corresponding high rate of free lunch eligible students in Large city and low rate of free lunch eligible students in Urban fringes might be an indicator that we could use to predict whether a school is likely to be poverty striken or not."
   ]
  },
  {
   "cell_type": "markdown",
   "id": "475a14f9",
   "metadata": {},
   "source": [
    "## Coming up with a system to classify schools as 0- 'No poverty', 1-'High Poverty' and 2-'Strict Poverty'"
   ]
  },
  {
   "cell_type": "markdown",
   "id": "3534059b",
   "metadata": {},
   "source": [
    "One general heuristic to classify a school into one of these three classes is to see the proportion of its students eligible for free lunch. In the later years, there is also a data for reduced lunch, so we might be able to come up use that data as well for classification purposes. "
   ]
  },
  {
   "cell_type": "markdown",
   "id": "57f26ddc",
   "metadata": {},
   "source": [
    "For the purposes of exploration, let us draw that margin at the mean value of the proportion of students eligible for free lunch. We have earlier calculated that mean to be 0.23 or 23%. On average, we expect a school to have 23% of its student population eligible for free lunch.\n",
    "\n",
    "Let us set the bar on high poverty at 75th percentile and above and strict poverty at 90th percentile and above. We are trying to focus on the extreme end of our distribution here, and beause of that the data collection and validation must have been done with high level of accuracy and with least errors."
   ]
  },
  {
   "cell_type": "code",
   "execution_count": 36,
   "id": "0ecf0f88",
   "metadata": {},
   "outputs": [],
   "source": [
    "top_quartile = 0.339\n",
    "top_decile = np.percentile(df['proportion_free_lunch'], 95)"
   ]
  },
  {
   "cell_type": "code",
   "execution_count": 37,
   "id": "ae473821",
   "metadata": {
    "scrolled": true
   },
   "outputs": [
    {
     "name": "stdout",
     "output_type": "stream",
     "text": [
      "0.7\n"
     ]
    }
   ],
   "source": [
    "print(top_decile)"
   ]
  },
  {
   "cell_type": "code",
   "execution_count": 38,
   "id": "84a92cc7",
   "metadata": {},
   "outputs": [],
   "source": [
    "def return_class(x: int):\n",
    "    if x < top_quartile:\n",
    "        return 0\n",
    "    elif x < top_decile:\n",
    "        return 1\n",
    "    else:\n",
    "        return 2"
   ]
  },
  {
   "cell_type": "code",
   "execution_count": 39,
   "id": "64b7df28",
   "metadata": {},
   "outputs": [],
   "source": [
    "df['classify_school'] = df['proportion_free_lunch'].apply(lambda x : return_class(x))"
   ]
  },
  {
   "cell_type": "code",
   "execution_count": 40,
   "id": "3b6133c1",
   "metadata": {},
   "outputs": [
    {
     "data": {
      "text/plain": [
       "(0.0, 100.0)"
      ]
     },
     "execution_count": 40,
     "metadata": {},
     "output_type": "execute_result"
    },
    {
     "data": {
      "image/png": "[encoded data removed]",
      "text/plain": [
       "<Figure size 544.25x360 with 1 Axes>"
      ]
     },
     "metadata": {
      "needs_background": "light"
     },
     "output_type": "display_data"
    }
   ],
   "source": [
    "x, y = 'classify_school', 'Locale'\n",
    "df1 = df.groupby(y)[x].value_counts(normalize=True)\n",
    "df1 = df1.mul(100)\n",
    "df1 = df1.rename('percent').reset_index()\n",
    "\n",
    "g = sns.catplot(x=x,y='percent',hue=y,kind='bar',data=df1)\n",
    "g.ax.set_ylim(0,100)"
   ]
  },
  {
   "cell_type": "markdown",
   "id": "667fb49d",
   "metadata": {},
   "source": [
    "Under our classification, we can see that a large proportion of schools in Large city are classified as strictly poverty stricken."
   ]
  },
  {
   "cell_type": "markdown",
   "id": "f4831528",
   "metadata": {},
   "source": [
    "For now, we will proceed with this classification method. We can always come back and revise this and finetune our analysis."
   ]
  }
 ],
 "metadata": {
  "kernelspec": {
   "display_name": "Python 3",
   "language": "python",
   "name": "python3"
  },
  "language_info": {
   "codemirror_mode": {
    "name": "ipython",
    "version": 3
   },
   "file_extension": ".py",
   "mimetype": "text/x-python",
   "name": "python",
   "nbconvert_exporter": "python",
   "pygments_lexer": "ipython3",
   "version": "3.8.8"
  }
 },
 "nbformat": 4,
 "nbformat_minor": 5
}
