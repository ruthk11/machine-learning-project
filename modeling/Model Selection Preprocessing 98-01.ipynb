{
 "cells": [
  {
   "cell_type": "code",
   "execution_count": 1,
   "id": "aaea3a13",
   "metadata": {},
   "outputs": [],
   "source": [
    "import pandas as pd\n",
    "import numpy as np"
   ]
  },
  {
   "cell_type": "code",
   "execution_count": 2,
   "id": "f06f3d65",
   "metadata": {},
   "outputs": [],
   "source": [
    "df1 = pd.read_csv('1998-99.csv')"
   ]
  },
  {
   "cell_type": "code",
   "execution_count": 3,
   "id": "42c44998",
   "metadata": {},
   "outputs": [
    {
     "data": {
      "text/plain": [
       "Index(['School Name', 'State Name [Public School] Latest available year',\n",
       "       'State Abbr [Public School] Latest available year',\n",
       "       'School ID - NCES Assigned [Public School] Latest available year',\n",
       "       'County Name [Public School] 1998-99',\n",
       "       'Charter School [Public School] 1998-99',\n",
       "       'Magnet School [Public School] 1998-99',\n",
       "       'Locale [Public School] 1998-99',\n",
       "       'School-wide Title I [Public School] 1998-99',\n",
       "       'Title I Eligible School [Public School] 1998-99',\n",
       "       'Total Students All Grades (Excludes AE) [Public School] 1998-99',\n",
       "       'Free Lunch Eligible [Public School] 1998-99',\n",
       "       'Reduced-price Lunch Eligible Students [Public School] 1998-99',\n",
       "       'Free and Reduced Lunch Students [Public School] 1998-99',\n",
       "       'Male Students [Public School] 1998-99',\n",
       "       'Female Students [Public School] 1998-99',\n",
       "       'American Indian/Alaska Native Students [Public School] 1998-99',\n",
       "       'Asian or Asian/Pacific Islander Students [Public School] 1998-99',\n",
       "       'Hispanic Students [Public School] 1998-99',\n",
       "       'Black or African American Students [Public School] 1998-99',\n",
       "       'White Students [Public School] 1998-99',\n",
       "       'Total Race/Ethnicity [Public School] 1998-99',\n",
       "       'Full-Time Equivalent (FTE) Teachers [Public School] 1998-99',\n",
       "       'Pupil/Teacher Ratio [Public School] 1998-99'],\n",
       "      dtype='object')"
      ]
     },
     "execution_count": 3,
     "metadata": {},
     "output_type": "execute_result"
    }
   ],
   "source": [
    "df1.columns"
   ]
  },
  {
   "cell_type": "code",
   "execution_count": 4,
   "id": "f93dafc6",
   "metadata": {},
   "outputs": [
    {
     "data": {
      "text/plain": [
       "(90881, 24)"
      ]
     },
     "execution_count": 4,
     "metadata": {},
     "output_type": "execute_result"
    }
   ],
   "source": [
    "df1.shape"
   ]
  },
  {
   "cell_type": "code",
   "execution_count": 5,
   "id": "3e2ce279",
   "metadata": {},
   "outputs": [],
   "source": [
    "df2 = pd.read_csv('1999-00.csv')"
   ]
  },
  {
   "cell_type": "code",
   "execution_count": 6,
   "id": "958b6507",
   "metadata": {
    "scrolled": true
   },
   "outputs": [
    {
     "data": {
      "text/plain": [
       "Index(['School Name', 'State Name [Public School] Latest available year',\n",
       "       'State Abbr [Public School] Latest available year',\n",
       "       'School ID - NCES Assigned [Public School] Latest available year',\n",
       "       'County Name [Public School] 1999-00',\n",
       "       'Charter School [Public School] 1999-00',\n",
       "       'Magnet School [Public School] 1999-00',\n",
       "       'Locale [Public School] 1999-00',\n",
       "       'School-wide Title I [Public School] 1999-00',\n",
       "       'Title I Eligible School [Public School] 1999-00',\n",
       "       'Total Students All Grades (Excludes AE) [Public School] 1999-00',\n",
       "       'Free Lunch Eligible [Public School] 1999-00',\n",
       "       'Reduced-price Lunch Eligible Students [Public School] 1999-00',\n",
       "       'Free and Reduced Lunch Students [Public School] 1999-00',\n",
       "       'Male Students [Public School] 1999-00',\n",
       "       'Female Students [Public School] 1999-00',\n",
       "       'American Indian/Alaska Native Students [Public School] 1999-00',\n",
       "       'Asian or Asian/Pacific Islander Students [Public School] 1999-00',\n",
       "       'Hispanic Students [Public School] 1999-00',\n",
       "       'Black or African American Students [Public School] 1999-00',\n",
       "       'White Students [Public School] 1999-00',\n",
       "       'Total Race/Ethnicity [Public School] 1999-00',\n",
       "       'Full-Time Equivalent (FTE) Teachers [Public School] 1999-00',\n",
       "       'Pupil/Teacher Ratio [Public School] 1999-00'],\n",
       "      dtype='object')"
      ]
     },
     "execution_count": 6,
     "metadata": {},
     "output_type": "execute_result"
    }
   ],
   "source": [
    "df2.columns"
   ]
  },
  {
   "cell_type": "code",
   "execution_count": 7,
   "id": "d2f1bd2d",
   "metadata": {
    "scrolled": false
   },
   "outputs": [
    {
     "data": {
      "text/plain": [
       "(92019, 24)"
      ]
     },
     "execution_count": 7,
     "metadata": {},
     "output_type": "execute_result"
    }
   ],
   "source": [
    "df2.shape"
   ]
  },
  {
   "cell_type": "code",
   "execution_count": 8,
   "id": "15144be1",
   "metadata": {},
   "outputs": [],
   "source": [
    "df3 = pd.read_csv('2000-01.csv')"
   ]
  },
  {
   "cell_type": "code",
   "execution_count": 9,
   "id": "e74f8c3b",
   "metadata": {},
   "outputs": [
    {
     "data": {
      "text/plain": [
       "(93280, 24)"
      ]
     },
     "execution_count": 9,
     "metadata": {},
     "output_type": "execute_result"
    }
   ],
   "source": [
    "df3.shape"
   ]
  },
  {
   "cell_type": "code",
   "execution_count": 10,
   "id": "5a0d813f",
   "metadata": {},
   "outputs": [],
   "source": [
    "df1 = df1.rename(columns = {\n",
    "    'School Name' : 'SCHOOL', \n",
    "    'State Name [Public School] Latest available year' : 'STATE',\n",
    "       'State Abbr [Public School] Latest available year' : 'ABBR',\n",
    "       'School ID - NCES Assigned [Public School] Latest available year' : 'ID',\n",
    "       'County Name [Public School] 1998-99' : 'COUNTY',\n",
    "       'Charter School [Public School] 1998-99' : 'CHARTER',\n",
    "       'Magnet School [Public School] 1998-99' : 'MAGNET',\n",
    "       'Locale [Public School] 1998-99' : 'LOCALE',\n",
    "       'School-wide Title I [Public School] 1998-99' : 'TITLE I',\n",
    "       'Title I Eligible School [Public School] 1998-99' : 'TITLE I ELIGIBLE',\n",
    "       'Total Students All Grades (Excludes AE) [Public School] 1998-99' : 'TOTAL STUDENTS',\n",
    "       'Free Lunch Eligible [Public School] 1998-99' : 'FREE LUNCH ELIGIBLE' ,\n",
    "       'Reduced-price Lunch Eligible Students [Public School] 1998-99' : 'REDUCED PRICE LUNCH ELIGIBLE',\n",
    "       'Free and Reduced Lunch Students [Public School] 1998-99' : 'FREE AND REDUCED LUNCH ELIGIBLE',\n",
    "       'Male Students [Public School] 1998-99' : 'MALE STUDENTS',\n",
    "       'Female Students [Public School] 1998-99' : 'FEMALE STUDENTS',\n",
    "       'American Indian/Alaska Native Students [Public School] 1998-99' : 'AMERICAN INDIAN',\n",
    "       'Asian or Asian/Pacific Islander Students [Public School] 1998-99' : 'ASIAN',\n",
    "       'Hispanic Students [Public School] 1998-99' : 'HISPANIC',\n",
    "       'Black or African American Students [Public School] 1998-99' : 'BLACK',\n",
    "       'White Students [Public School] 1998-99' : 'WHITE',\n",
    "       'Total Race/Ethnicity [Public School] 1998-99' : 'TOTAL RACE/ETHINICITY',\n",
    "       'Full-Time Equivalent (FTE) Teachers [Public School] 1998-99' : 'FTE TEACHERS',\n",
    "       'Pupil/Teacher Ratio [Public School] 1998-99' : 'PUPIL-TEACHER RATIO'\n",
    "})"
   ]
  },
  {
   "cell_type": "code",
   "execution_count": 11,
   "id": "9f2305c3",
   "metadata": {},
   "outputs": [],
   "source": [
    "df2 = df1.rename(columns = {\n",
    "    'School Name' : 'SCHOOL', \n",
    "    'State Name [Public School] Latest available year' : 'STATE',\n",
    "       'State Abbr [Public School] Latest available year' : 'ABBR',\n",
    "       'School ID - NCES Assigned [Public School] Latest available year' : 'ID',\n",
    "       'County Name [Public School] 1999-00' : 'COUNTY',\n",
    "       'Charter School [Public School] 1999-00' : 'CHARTER',\n",
    "       'Magnet School [Public School] 1999-00' : 'MAGNET',\n",
    "       'Locale [Public School] 1999-00' : 'LOCALE',\n",
    "       'School-wide Title I [Public School] 1999-00' : 'TITLE I',\n",
    "       'Title I Eligible School [Public School] 1999-00' : 'TITLE I ELIGIBLE',\n",
    "       'Total Students All Grades (Excludes AE) [Public School] 1999-00' : 'TOTAL STUDENTS',\n",
    "       'Free Lunch Eligible [Public School] 1999-00' : 'FREE LUNCH ELIGIBLE' ,\n",
    "       'Reduced-price Lunch Eligible Students [Public School] 1999-00' : 'REDUCED PRICE LUNCH ELIGIBLE',\n",
    "       'Free and Reduced Lunch Students [Public School] 1999-00' : 'FREE AND REDUCED LUNCH ELIGIBLE',\n",
    "       'Male Students [Public School] 1999-00' : 'MALE STUDENTS',\n",
    "       'Female Students [Public School] 1999-00' : 'FEMALE STUDENTS',\n",
    "       'American Indian/Alaska Native Students [Public School] 1999-00' : 'AMERICAN INDIAN',\n",
    "       'Asian or Asian/Pacific Islander Students [Public School] 1999-00' : 'ASIAN',\n",
    "       'Hispanic Students [Public School] 1999-00' : 'HISPANIC',\n",
    "       'Black or African American Students [Public School] 1999-00' : 'BLACK',\n",
    "       'White Students [Public School] 1999-00' : 'WHITE',\n",
    "       'Total Race/Ethnicity [Public School] 1999-00' : 'TOTAL RACE/ETHINICITY',\n",
    "       'Full-Time Equivalent (FTE) Teachers [Public School] 1999-00' : 'FTE TEACHERS',\n",
    "       'Pupil/Teacher Ratio [Public School] 1999-00' : 'PUPIL-TEACHER RATIO'\n",
    "})"
   ]
  },
  {
   "cell_type": "code",
   "execution_count": 12,
   "id": "4448cc53",
   "metadata": {},
   "outputs": [
    {
     "data": {
      "text/plain": [
       "Index(['SCHOOL', 'STATE', 'ABBR', 'ID', 'COUNTY', 'CHARTER', 'MAGNET',\n",
       "       'LOCALE', 'TITLE I', 'TITLE I ELIGIBLE', 'TOTAL STUDENTS',\n",
       "       'FREE LUNCH ELIGIBLE', 'REDUCED PRICE LUNCH ELIGIBLE',\n",
       "       'FREE AND REDUCED LUNCH ELIGIBLE', 'MALE STUDENTS', 'FEMALE STUDENTS',\n",
       "       'AMERICAN INDIAN', 'ASIAN', 'HISPANIC', 'BLACK', 'WHITE',\n",
       "       'TOTAL RACE/ETHINICITY', 'FTE TEACHERS', 'PUPIL-TEACHER RATIO'],\n",
       "      dtype='object')"
      ]
     },
     "execution_count": 12,
     "metadata": {},
     "output_type": "execute_result"
    }
   ],
   "source": [
    "df2.columns"
   ]
  },
  {
   "cell_type": "code",
   "execution_count": 13,
   "id": "688a32bd",
   "metadata": {},
   "outputs": [],
   "source": [
    "df3 = pd.read_csv('2000-01.csv')"
   ]
  },
  {
   "cell_type": "code",
   "execution_count": 14,
   "id": "d825d8e8",
   "metadata": {
    "scrolled": true
   },
   "outputs": [
    {
     "data": {
      "text/plain": [
       "Index(['School Name', 'State Name [Public School] Latest available year',\n",
       "       'School ID - NCES Assigned [Public School] Latest available year',\n",
       "       'State Abbr [Public School] Latest available year',\n",
       "       'County Name [Public School] 2000-01',\n",
       "       'Charter School [Public School] 2000-01',\n",
       "       'Magnet School [Public School] 2000-01',\n",
       "       'Locale [Public School] 2000-01',\n",
       "       'School-wide Title I [Public School] 2000-01',\n",
       "       'Title I Eligible School [Public School] 2000-01',\n",
       "       'Total Students All Grades (Excludes AE) [Public School] 2000-01',\n",
       "       'Free Lunch Eligible [Public School] 2000-01',\n",
       "       'Reduced-price Lunch Eligible Students [Public School] 2000-01',\n",
       "       'Free and Reduced Lunch Students [Public School] 2000-01',\n",
       "       'Male Students [Public School] 2000-01',\n",
       "       'Female Students [Public School] 2000-01',\n",
       "       'American Indian/Alaska Native Students [Public School] 2000-01',\n",
       "       'Asian or Asian/Pacific Islander Students [Public School] 2000-01',\n",
       "       'Hispanic Students [Public School] 2000-01',\n",
       "       'Black or African American Students [Public School] 2000-01',\n",
       "       'White Students [Public School] 2000-01',\n",
       "       'Total Race/Ethnicity [Public School] 2000-01',\n",
       "       'Full-Time Equivalent (FTE) Teachers [Public School] 2000-01',\n",
       "       'Pupil/Teacher Ratio [Public School] 2000-01'],\n",
       "      dtype='object')"
      ]
     },
     "execution_count": 14,
     "metadata": {},
     "output_type": "execute_result"
    }
   ],
   "source": [
    "df3.columns"
   ]
  },
  {
   "cell_type": "code",
   "execution_count": 15,
   "id": "9b80e12d",
   "metadata": {},
   "outputs": [],
   "source": [
    "df3 = df3.rename(columns = {\n",
    "    'School Name' : 'SCHOOL', \n",
    "    'State Name [Public School] Latest available year' : 'STATE',\n",
    "       'State Abbr [Public School] Latest available year' : 'ABBR',\n",
    "       'School ID - NCES Assigned [Public School] Latest available year' : 'ID',\n",
    "       'County Name [Public School] 2000-01' : 'COUNTY',\n",
    "       'Charter School [Public School] 2000-01' : 'CHARTER',\n",
    "       'Magnet School [Public School] 2000-01' : 'MAGNET',\n",
    "       'Locale [Public School] 2000-01' : 'LOCALE',\n",
    "       'School-wide Title I [Public School] 2000-01' : 'TITLE I',\n",
    "       'Title I Eligible School [Public School] 2000-01' : 'TITLE I ELIGIBLE',\n",
    "       'Total Students All Grades (Excludes AE) [Public School] 2000-01' : 'TOTAL STUDENTS',\n",
    "       'Free Lunch Eligible [Public School] 2000-01' : 'FREE LUNCH ELIGIBLE' ,\n",
    "       'Reduced-price Lunch Eligible Students [Public School] 2000-01' : 'REDUCED PRICE LUNCH ELIGIBLE',\n",
    "       'Free and Reduced Lunch Students [Public School] 2000-01' : 'FREE AND REDUCED LUNCH ELIGIBLE',\n",
    "       'Male Students [Public School] 2000-01' : 'MALE STUDENTS',\n",
    "       'Female Students [Public School] 2000-01' : 'FEMALE STUDENTS',\n",
    "       'American Indian/Alaska Native Students [Public School] 2000-01' : 'AMERICAN INDIAN',\n",
    "       'Asian or Asian/Pacific Islander Students [Public School] 2000-01' : 'ASIAN',\n",
    "       'Hispanic Students [Public School] 2000-01' : 'HISPANIC',\n",
    "       'Black or African American Students [Public School] 2000-01' : 'BLACK',\n",
    "       'White Students [Public School] 2000-01' : 'WHITE',\n",
    "       'Total Race/Ethnicity [Public School] 2000-01' : 'TOTAL RACE/ETHINICITY',\n",
    "       'Full-Time Equivalent (FTE) Teachers [Public School] 2000-01' : 'FTE TEACHERS',\n",
    "       'Pupil/Teacher Ratio [Public School] 2000-01' : 'PUPIL-TEACHER RATIO'\n",
    "})"
   ]
  },
  {
   "cell_type": "code",
   "execution_count": 16,
   "id": "52bc85f8",
   "metadata": {},
   "outputs": [
    {
     "data": {
      "text/plain": [
       "Index(['SCHOOL', 'STATE', 'ID', 'ABBR', 'COUNTY', 'CHARTER', 'MAGNET',\n",
       "       'LOCALE', 'TITLE I', 'TITLE I ELIGIBLE', 'TOTAL STUDENTS',\n",
       "       'FREE LUNCH ELIGIBLE', 'REDUCED PRICE LUNCH ELIGIBLE',\n",
       "       'FREE AND REDUCED LUNCH ELIGIBLE', 'MALE STUDENTS', 'FEMALE STUDENTS',\n",
       "       'AMERICAN INDIAN', 'ASIAN', 'HISPANIC', 'BLACK', 'WHITE',\n",
       "       'TOTAL RACE/ETHINICITY', 'FTE TEACHERS', 'PUPIL-TEACHER RATIO'],\n",
       "      dtype='object')"
      ]
     },
     "execution_count": 16,
     "metadata": {},
     "output_type": "execute_result"
    }
   ],
   "source": [
    "df3.columns"
   ]
  },
  {
   "cell_type": "code",
   "execution_count": 17,
   "id": "54b354a4",
   "metadata": {},
   "outputs": [],
   "source": [
    "df = pd.concat([df1, df2, df3], ignore_index = True)"
   ]
  },
  {
   "cell_type": "code",
   "execution_count": 18,
   "id": "fff0ca4f",
   "metadata": {},
   "outputs": [
    {
     "data": {
      "text/plain": [
       "(275042, 24)"
      ]
     },
     "execution_count": 18,
     "metadata": {},
     "output_type": "execute_result"
    }
   ],
   "source": [
    "df.shape"
   ]
  },
  {
   "cell_type": "code",
   "execution_count": 19,
   "id": "fd97bffe",
   "metadata": {},
   "outputs": [],
   "source": [
    "##df.to_csv('model-selection-98-01.csv')"
   ]
  }
 ],
 "metadata": {
  "kernelspec": {
   "display_name": "Python 3 (ipykernel)",
   "language": "python",
   "name": "python3"
  },
  "language_info": {
   "codemirror_mode": {
    "name": "ipython",
    "version": 3
   },
   "file_extension": ".py",
   "mimetype": "text/x-python",
   "name": "python",
   "nbconvert_exporter": "python",
   "pygments_lexer": "ipython3",
   "version": "3.8.11"
  }
 },
 "nbformat": 4,
 "nbformat_minor": 5
}
