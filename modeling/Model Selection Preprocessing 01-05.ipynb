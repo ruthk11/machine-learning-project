{
 "cells": [
  {
   "cell_type": "code",
   "execution_count": 1,
   "id": "2b1d232d",
   "metadata": {},
   "outputs": [],
   "source": [
    "import pandas as pd\n",
    "import numpy as np"
   ]
  },
  {
   "cell_type": "code",
   "execution_count": 2,
   "id": "f0126ae7",
   "metadata": {},
   "outputs": [],
   "source": [
    "df1 = pd.read_csv('2001-02.csv')"
   ]
  },
  {
   "cell_type": "code",
   "execution_count": 3,
   "id": "e76cdd4b",
   "metadata": {},
   "outputs": [
    {
     "data": {
      "text/plain": [
       "(94119, 24)"
      ]
     },
     "execution_count": 3,
     "metadata": {},
     "output_type": "execute_result"
    }
   ],
   "source": [
    "df1.shape"
   ]
  },
  {
   "cell_type": "code",
   "execution_count": 4,
   "id": "c9d29899",
   "metadata": {},
   "outputs": [],
   "source": [
    "df2 = pd.read_csv('2002-03.csv')"
   ]
  },
  {
   "cell_type": "code",
   "execution_count": 5,
   "id": "2c7f60de",
   "metadata": {},
   "outputs": [
    {
     "data": {
      "text/plain": [
       "(95622, 24)"
      ]
     },
     "execution_count": 5,
     "metadata": {},
     "output_type": "execute_result"
    }
   ],
   "source": [
    "df2.shape"
   ]
  },
  {
   "cell_type": "code",
   "execution_count": 6,
   "id": "83739fbe",
   "metadata": {},
   "outputs": [],
   "source": [
    "df3 = pd.read_csv('2003-04.csv')"
   ]
  },
  {
   "cell_type": "code",
   "execution_count": 7,
   "id": "42e11efd",
   "metadata": {},
   "outputs": [
    {
     "data": {
      "text/plain": [
       "(95733, 24)"
      ]
     },
     "execution_count": 7,
     "metadata": {},
     "output_type": "execute_result"
    }
   ],
   "source": [
    "df3.shape"
   ]
  },
  {
   "cell_type": "code",
   "execution_count": 8,
   "id": "8d5c97e5",
   "metadata": {},
   "outputs": [
    {
     "data": {
      "text/plain": [
       "Index(['School Name', 'State Name [Public School] Latest available year',\n",
       "       'School ID - NCES Assigned [Public School] Latest available year',\n",
       "       'State Abbr [Public School] Latest available year',\n",
       "       'County Name [Public School] 2001-02',\n",
       "       'Charter School [Public School] 2001-02',\n",
       "       'Magnet School [Public School] 2001-02',\n",
       "       'Locale [Public School] 2001-02',\n",
       "       'School-wide Title I [Public School] 2001-02',\n",
       "       'Title I Eligible School [Public School] 2001-02',\n",
       "       'Total Students All Grades (Excludes AE) [Public School] 2001-02',\n",
       "       'Free Lunch Eligible [Public School] 2001-02',\n",
       "       'Reduced-price Lunch Eligible Students [Public School] 2001-02',\n",
       "       'Free and Reduced Lunch Students [Public School] 2001-02',\n",
       "       'Male Students [Public School] 2001-02',\n",
       "       'Female Students [Public School] 2001-02',\n",
       "       'American Indian/Alaska Native Students [Public School] 2001-02',\n",
       "       'Asian or Asian/Pacific Islander Students [Public School] 2001-02',\n",
       "       'Hispanic Students [Public School] 2001-02',\n",
       "       'Black or African American Students [Public School] 2001-02',\n",
       "       'White Students [Public School] 2001-02',\n",
       "       'Total Race/Ethnicity [Public School] 2001-02',\n",
       "       'Full-Time Equivalent (FTE) Teachers [Public School] 2001-02',\n",
       "       'Pupil/Teacher Ratio [Public School] 2001-02'],\n",
       "      dtype='object')"
      ]
     },
     "execution_count": 8,
     "metadata": {},
     "output_type": "execute_result"
    }
   ],
   "source": [
    "df1.columns"
   ]
  },
  {
   "cell_type": "code",
   "execution_count": 9,
   "id": "1b79d7cd",
   "metadata": {},
   "outputs": [],
   "source": [
    "df1 = df1.rename( columns = {\n",
    "        'School Name' : 'SCHOOL', \n",
    "        'State Name [Public School] Latest available year' : 'STATE',\n",
    "       'State Abbr [Public School] Latest available year' : 'ABBR',\n",
    "       'School ID - NCES Assigned [Public School] Latest available year' : 'ID',\n",
    "       'County Name [Public School] 2001-02' : 'COUNTY',\n",
    "       'Charter School [Public School] 2001-02' : 'CHARTER',\n",
    "       'Magnet School [Public School] 2001-02' : 'MAGNET',\n",
    "       'Locale [Public School] 2001-02' : 'LOCALE',\n",
    "       'School-wide Title I [Public School] 2001-02' : 'TITLE I',\n",
    "       'Title I Eligible School [Public School] 2001-02' : 'TITLE I ELIGIBLE',\n",
    "       'Total Students All Grades (Excludes AE) [Public School] 2001-02' : 'TOTAL STUDENTS',\n",
    "       'Free Lunch Eligible [Public School] 2001-02' : 'FREE LUNCH ELIGIBLE' ,\n",
    "       'Reduced-price Lunch Eligible Students [Public School] 2001-02' : 'REDUCED PRICE LUNCH ELIGIBLE',\n",
    "       'Free and Reduced Lunch Students [Public School] 2001-02' : 'FREE AND REDUCED LUNCH ELIGIBLE',\n",
    "       'Male Students [Public School] 2001-02' : 'MALE STUDENTS',\n",
    "       'Female Students [Public School] 2001-02' : 'FEMALE STUDENTS',\n",
    "       'American Indian/Alaska Native Students [Public School] 2001-02' : 'AMERICAN INDIAN',\n",
    "       'Asian or Asian/Pacific Islander Students [Public School] 2001-02' : 'ASIAN',\n",
    "       'Hispanic Students [Public School] 2001-02' : 'HISPANIC',\n",
    "       'Black or African American Students [Public School] 2001-02' : 'BLACK',\n",
    "       'White Students [Public School] 2001-02' : 'WHITE',\n",
    "       'Total Race/Ethnicity [Public School] 2001-02' : 'TOTAL RACE/ETHINICITY',\n",
    "       'Full-Time Equivalent (FTE) Teachers [Public School] 2001-02' : 'FTE TEACHERS',\n",
    "       'Pupil/Teacher Ratio [Public School] 2001-02' : 'PUPIL-TEACHER RATIO'\n",
    "})"
   ]
  },
  {
   "cell_type": "code",
   "execution_count": 10,
   "id": "33b4628d",
   "metadata": {},
   "outputs": [
    {
     "data": {
      "text/plain": [
       "Index(['SCHOOL', 'STATE', 'ID', 'ABBR', 'COUNTY', 'CHARTER', 'MAGNET',\n",
       "       'LOCALE', 'TITLE I', 'TITLE I ELIGIBLE', 'TOTAL STUDENTS',\n",
       "       'FREE LUNCH ELIGIBLE', 'REDUCED PRICE LUNCH ELIGIBLE',\n",
       "       'FREE AND REDUCED LUNCH ELIGIBLE', 'MALE STUDENTS', 'FEMALE STUDENTS',\n",
       "       'AMERICAN INDIAN', 'ASIAN', 'HISPANIC', 'BLACK', 'WHITE',\n",
       "       'TOTAL RACE/ETHINICITY', 'FTE TEACHERS', 'PUPIL-TEACHER RATIO'],\n",
       "      dtype='object')"
      ]
     },
     "execution_count": 10,
     "metadata": {},
     "output_type": "execute_result"
    }
   ],
   "source": [
    "df1.columns"
   ]
  },
  {
   "cell_type": "code",
   "execution_count": 11,
   "id": "e83e2f08",
   "metadata": {},
   "outputs": [],
   "source": [
    "df2 = df2.rename( columns = {\n",
    "        'School Name' : 'SCHOOL', \n",
    "        'State Name [Public School] Latest available year' : 'STATE',\n",
    "       'State Abbr [Public School] Latest available year' : 'ABBR',\n",
    "       'School ID - NCES Assigned [Public School] Latest available year' : 'ID',\n",
    "       'County Name [Public School] 2002-03' : 'COUNTY',\n",
    "       'Charter School [Public School] 2002-03' : 'CHARTER',\n",
    "       'Magnet School [Public School] 2002-03' : 'MAGNET',\n",
    "       'Locale [Public School] 2002-03' : 'LOCALE',\n",
    "       'School-wide Title I [Public School] 2002-03' : 'TITLE I',\n",
    "       'Title I Eligible School [Public School] 2002-03' : 'TITLE I ELIGIBLE',\n",
    "       'Total Students All Grades (Excludes AE) [Public School] 2002-03' : 'TOTAL STUDENTS',\n",
    "       'Free Lunch Eligible [Public School] 2002-03' : 'FREE LUNCH ELIGIBLE' ,\n",
    "       'Reduced-price Lunch Eligible Students [Public School] 2002-03' : 'REDUCED PRICE LUNCH ELIGIBLE',\n",
    "       'Free and Reduced Lunch Students [Public School] 2002-03' : 'FREE AND REDUCED LUNCH ELIGIBLE',\n",
    "       'Male Students [Public School] 2002-03' : 'MALE STUDENTS',\n",
    "       'Female Students [Public School] 2002-03' : 'FEMALE STUDENTS',\n",
    "       'American Indian/Alaska Native Students [Public School] 2002-03' : 'AMERICAN INDIAN',\n",
    "       'Asian or Asian/Pacific Islander Students [Public School] 2002-03' : 'ASIAN',\n",
    "       'Hispanic Students [Public School] 2002-03' : 'HISPANIC',\n",
    "       'Black or African American Students [Public School] 2002-03' : 'BLACK',\n",
    "       'White Students [Public School] 2002-03' : 'WHITE',\n",
    "       'Total Race/Ethnicity [Public School] 2002-03' : 'TOTAL RACE/ETHINICITY',\n",
    "       'Full-Time Equivalent (FTE) Teachers [Public School] 2002-03' : 'FTE TEACHERS',\n",
    "       'Pupil/Teacher Ratio [Public School] 2002-03' : 'PUPIL-TEACHER RATIO'\n",
    "})"
   ]
  },
  {
   "cell_type": "code",
   "execution_count": 12,
   "id": "02c3f2b2",
   "metadata": {},
   "outputs": [
    {
     "data": {
      "text/plain": [
       "Index(['SCHOOL', 'STATE', 'ID', 'ABBR', 'COUNTY', 'CHARTER', 'MAGNET',\n",
       "       'LOCALE', 'TITLE I', 'TITLE I ELIGIBLE', 'TOTAL STUDENTS',\n",
       "       'FREE LUNCH ELIGIBLE', 'REDUCED PRICE LUNCH ELIGIBLE',\n",
       "       'FREE AND REDUCED LUNCH ELIGIBLE', 'MALE STUDENTS', 'FEMALE STUDENTS',\n",
       "       'AMERICAN INDIAN', 'ASIAN', 'HISPANIC', 'BLACK', 'WHITE',\n",
       "       'TOTAL RACE/ETHINICITY', 'FTE TEACHERS', 'PUPIL-TEACHER RATIO'],\n",
       "      dtype='object')"
      ]
     },
     "execution_count": 12,
     "metadata": {},
     "output_type": "execute_result"
    }
   ],
   "source": [
    "df2.columns"
   ]
  },
  {
   "cell_type": "code",
   "execution_count": 13,
   "id": "f3ba143f",
   "metadata": {},
   "outputs": [],
   "source": [
    "df3 = df3.rename( columns = {\n",
    "        'School Name' : 'SCHOOL', \n",
    "        'State Name [Public School] Latest available year' : 'STATE',\n",
    "       'State Abbr [Public School] Latest available year' : 'ABBR',\n",
    "       'School ID - NCES Assigned [Public School] Latest available year' : 'ID',\n",
    "       'County Name [Public School] 2003-04' : 'COUNTY',\n",
    "       'Charter School [Public School] 2003-04' : 'CHARTER',\n",
    "       'Magnet School [Public School] 2003-04' : 'MAGNET',\n",
    "       'Locale [Public School] 2003-04' : 'LOCALE',\n",
    "       'School-wide Title I [Public School] 2003-04' : 'TITLE I',\n",
    "       'Title I Eligible School [Public School] 2003-04' : 'TITLE I ELIGIBLE',\n",
    "       'Total Students All Grades (Excludes AE) [Public School] 2003-04' : 'TOTAL STUDENTS',\n",
    "       'Free Lunch Eligible [Public School] 2003-04' : 'FREE LUNCH ELIGIBLE' ,\n",
    "       'Reduced-price Lunch Eligible Students [Public School] 2003-04' : 'REDUCED PRICE LUNCH ELIGIBLE',\n",
    "       'Free and Reduced Lunch Students [Public School] 2003-04' : 'FREE AND REDUCED LUNCH ELIGIBLE',\n",
    "       'Male Students [Public School] 2003-04' : 'MALE STUDENTS',\n",
    "       'Female Students [Public School] 2003-04' : 'FEMALE STUDENTS',\n",
    "       'American Indian/Alaska Native Students [Public School] 2003-04' : 'AMERICAN INDIAN',\n",
    "       'Asian or Asian/Pacific Islander Students [Public School] 2003-04' : 'ASIAN',\n",
    "       'Hispanic Students [Public School] 2003-04' : 'HISPANIC',\n",
    "       'Black or African American Students [Public School] 2003-04' : 'BLACK',\n",
    "       'White Students [Public School] 2003-04' : 'WHITE',\n",
    "       'Total Race/Ethnicity [Public School] 2003-04' : 'TOTAL RACE/ETHINICITY',\n",
    "       'Full-Time Equivalent (FTE) Teachers [Public School] 2003-04' : 'FTE TEACHERS',\n",
    "       'Pupil/Teacher Ratio [Public School] 2003-04' : 'PUPIL-TEACHER RATIO'\n",
    "})"
   ]
  },
  {
   "cell_type": "code",
   "execution_count": 14,
   "id": "9a1261b9",
   "metadata": {},
   "outputs": [],
   "source": [
    "df = pd.concat([df1, df2, df3], ignore_index = True)"
   ]
  },
  {
   "cell_type": "code",
   "execution_count": 15,
   "id": "cbea2e9b",
   "metadata": {},
   "outputs": [
    {
     "data": {
      "text/plain": [
       "(285474, 24)"
      ]
     },
     "execution_count": 15,
     "metadata": {},
     "output_type": "execute_result"
    }
   ],
   "source": [
    "df.shape"
   ]
  },
  {
   "cell_type": "code",
   "execution_count": 16,
   "id": "f5e2f9df",
   "metadata": {},
   "outputs": [
    {
     "data": {
      "text/plain": [
       "Index(['SCHOOL', 'STATE', 'ID', 'ABBR', 'COUNTY', 'CHARTER', 'MAGNET',\n",
       "       'LOCALE', 'TITLE I', 'TITLE I ELIGIBLE', 'TOTAL STUDENTS',\n",
       "       'FREE LUNCH ELIGIBLE', 'REDUCED PRICE LUNCH ELIGIBLE',\n",
       "       'FREE AND REDUCED LUNCH ELIGIBLE', 'MALE STUDENTS', 'FEMALE STUDENTS',\n",
       "       'AMERICAN INDIAN', 'ASIAN', 'HISPANIC', 'BLACK', 'WHITE',\n",
       "       'TOTAL RACE/ETHINICITY', 'FTE TEACHERS', 'PUPIL-TEACHER RATIO'],\n",
       "      dtype='object')"
      ]
     },
     "execution_count": 16,
     "metadata": {},
     "output_type": "execute_result"
    }
   ],
   "source": [
    "df.columns"
   ]
  },
  {
   "cell_type": "code",
   "execution_count": 17,
   "id": "d4e6fa6e",
   "metadata": {},
   "outputs": [],
   "source": [
    "##df.to_csv('model-selection-01-05.csv')"
   ]
  }
 ],
 "metadata": {
  "kernelspec": {
   "display_name": "Python 3 (ipykernel)",
   "language": "python",
   "name": "python3"
  },
  "language_info": {
   "codemirror_mode": {
    "name": "ipython",
    "version": 3
   },
   "file_extension": ".py",
   "mimetype": "text/x-python",
   "name": "python",
   "nbconvert_exporter": "python",
   "pygments_lexer": "ipython3",
   "version": "3.8.11"
  }
 },
 "nbformat": 4,
 "nbformat_minor": 5
}
