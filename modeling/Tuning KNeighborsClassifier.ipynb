{
 "cells": [
  {
   "cell_type": "markdown",
   "id": "d0481b5b",
   "metadata": {},
   "source": [
    "# Tuning k-NN "
   ]
  },
  {
   "cell_type": "code",
   "execution_count": 4,
   "id": "aa0c2fe9",
   "metadata": {},
   "outputs": [],
   "source": [
    "import pandas as pd\n",
    "import numpy as np\n",
    "\n",
    "from sklearn.neighbors import KNeighborsClassifier\n",
    "\n",
    "from sklearn.model_selection import GridSearchCV\n",
    "from sklearn.model_selection import train_test_split\n",
    "\n",
    "from sklearn.metrics import accuracy_score\n",
    "from sklearn.metrics import confusion_matrix"
   ]
  },
  {
   "cell_type": "code",
   "execution_count": 7,
   "id": "2c9348b5",
   "metadata": {},
   "outputs": [
    {
     "name": "stderr",
     "output_type": "stream",
     "text": [
      "/Users/bigyanbhandari/opt/anaconda3/lib/python3.8/site-packages/numpy/lib/arraysetops.py:583: FutureWarning: elementwise comparison failed; returning scalar instead, but in the future will perform elementwise comparison\n",
      "  mask |= (ar1 == a)\n"
     ]
    }
   ],
   "source": [
    "X = pd.read_csv('final_model_for_tuning.csv', index_col = 0)"
   ]
  },
  {
   "cell_type": "code",
   "execution_count": 8,
   "id": "628cfcbc",
   "metadata": {},
   "outputs": [
    {
     "data": {
      "text/html": [
       "<div>\n",
       "<style scoped>\n",
       "    .dataframe tbody tr th:only-of-type {\n",
       "        vertical-align: middle;\n",
       "    }\n",
       "\n",
       "    .dataframe tbody tr th {\n",
       "        vertical-align: top;\n",
       "    }\n",
       "\n",
       "    .dataframe thead th {\n",
       "        text-align: right;\n",
       "    }\n",
       "</style>\n",
       "<table border=\"1\" class=\"dataframe\">\n",
       "  <thead>\n",
       "    <tr style=\"text-align: right;\">\n",
       "      <th></th>\n",
       "      <th>ABBR</th>\n",
       "      <th>LOCALE</th>\n",
       "      <th>TOTAL STUDENTS</th>\n",
       "      <th>ASIAN</th>\n",
       "      <th>HISPANIC</th>\n",
       "      <th>BLACK</th>\n",
       "      <th>WHITE</th>\n",
       "    </tr>\n",
       "  </thead>\n",
       "  <tbody>\n",
       "    <tr>\n",
       "      <th>0</th>\n",
       "      <td>1</td>\n",
       "      <td>101</td>\n",
       "      <td>-0.992013</td>\n",
       "      <td>-0.307686</td>\n",
       "      <td>-0.372211</td>\n",
       "      <td>-0.424484</td>\n",
       "      <td>-0.817053</td>\n",
       "    </tr>\n",
       "    <tr>\n",
       "      <th>1</th>\n",
       "      <td>1</td>\n",
       "      <td>102</td>\n",
       "      <td>-1.156632</td>\n",
       "      <td>-0.321053</td>\n",
       "      <td>-0.476906</td>\n",
       "      <td>-0.525924</td>\n",
       "      <td>-0.920000</td>\n",
       "    </tr>\n",
       "    <tr>\n",
       "      <th>2</th>\n",
       "      <td>2</td>\n",
       "      <td>102</td>\n",
       "      <td>-1.073195</td>\n",
       "      <td>-0.321053</td>\n",
       "      <td>-0.468181</td>\n",
       "      <td>-0.525924</td>\n",
       "      <td>-0.803769</td>\n",
       "    </tr>\n",
       "    <tr>\n",
       "      <th>3</th>\n",
       "      <td>3</td>\n",
       "      <td>102</td>\n",
       "      <td>0.275329</td>\n",
       "      <td>-0.294320</td>\n",
       "      <td>-0.468181</td>\n",
       "      <td>0.476543</td>\n",
       "      <td>0.604290</td>\n",
       "    </tr>\n",
       "    <tr>\n",
       "      <th>4</th>\n",
       "      <td>4</td>\n",
       "      <td>101</td>\n",
       "      <td>0.597802</td>\n",
       "      <td>-0.267587</td>\n",
       "      <td>0.029117</td>\n",
       "      <td>0.643621</td>\n",
       "      <td>0.604290</td>\n",
       "    </tr>\n",
       "  </tbody>\n",
       "</table>\n",
       "</div>"
      ],
      "text/plain": [
       "   ABBR  LOCALE  TOTAL STUDENTS     ASIAN  HISPANIC     BLACK     WHITE\n",
       "0     1     101       -0.992013 -0.307686 -0.372211 -0.424484 -0.817053\n",
       "1     1     102       -1.156632 -0.321053 -0.476906 -0.525924 -0.920000\n",
       "2     2     102       -1.073195 -0.321053 -0.468181 -0.525924 -0.803769\n",
       "3     3     102        0.275329 -0.294320 -0.468181  0.476543  0.604290\n",
       "4     4     101        0.597802 -0.267587  0.029117  0.643621  0.604290"
      ]
     },
     "execution_count": 8,
     "metadata": {},
     "output_type": "execute_result"
    }
   ],
   "source": [
    "X.head()"
   ]
  },
  {
   "cell_type": "code",
   "execution_count": 9,
   "id": "1175e339",
   "metadata": {},
   "outputs": [],
   "source": [
    "Y_HI = pd.read_csv('high-poverty-label.csv')"
   ]
  },
  {
   "cell_type": "code",
   "execution_count": 10,
   "id": "88a5799f",
   "metadata": {},
   "outputs": [],
   "source": [
    "Y_HI = Y_HI['HI-LABEL']"
   ]
  },
  {
   "cell_type": "code",
   "execution_count": 11,
   "id": "aa6fe22c",
   "metadata": {},
   "outputs": [],
   "source": [
    "Y_STRICT = pd.read_csv('strict-poverty-label.csv')"
   ]
  },
  {
   "cell_type": "code",
   "execution_count": 12,
   "id": "a8c654ff",
   "metadata": {},
   "outputs": [],
   "source": [
    "Y_STRICT = Y_STRICT['STRICT-LABEL']"
   ]
  },
  {
   "cell_type": "code",
   "execution_count": 13,
   "id": "f39c92da",
   "metadata": {},
   "outputs": [],
   "source": [
    "grid_params = { 'n_neighbors' : [10, 20, 30, 40, 50],\n",
    "    'weights' : ['uniform', 'distance'],\n",
    "    'metric' : ['minkowski', 'euclidean', 'manhattan']\n",
    "}"
   ]
  },
  {
   "cell_type": "markdown",
   "id": "0776f263",
   "metadata": {},
   "source": [
    "# Try model tuning"
   ]
  },
  {
   "cell_type": "code",
   "execution_count": 14,
   "id": "196156c7",
   "metadata": {},
   "outputs": [],
   "source": [
    "model = KNeighborsClassifier( n_neighbors = 25, metric = 'euclidean', weights = 'distance')"
   ]
  },
  {
   "cell_type": "code",
   "execution_count": 15,
   "id": "1e0f7951",
   "metadata": {},
   "outputs": [],
   "source": [
    "X_train, X_test, y_train, y_test = train_test_split( X, Y_HI, stratify = Y_HI, random_state = 10)"
   ]
  },
  {
   "cell_type": "code",
   "execution_count": 16,
   "id": "585894fe",
   "metadata": {},
   "outputs": [
    {
     "data": {
      "text/plain": [
       "KNeighborsClassifier(metric='euclidean', n_neighbors=25, weights='distance')"
      ]
     },
     "execution_count": 16,
     "metadata": {},
     "output_type": "execute_result"
    }
   ],
   "source": [
    "model.fit( X_train, y_train)"
   ]
  },
  {
   "cell_type": "code",
   "execution_count": 17,
   "id": "c7b9bbc8",
   "metadata": {},
   "outputs": [],
   "source": [
    "hi_predict = model.predict( X_test)"
   ]
  },
  {
   "cell_type": "code",
   "execution_count": 18,
   "id": "7e7bf134",
   "metadata": {},
   "outputs": [
    {
     "name": "stdout",
     "output_type": "stream",
     "text": [
      "0.8595176542813533\n"
     ]
    }
   ],
   "source": [
    "print( accuracy_score( hi_predict, y_test))"
   ]
  },
  {
   "cell_type": "code",
   "execution_count": 19,
   "id": "9afc2825",
   "metadata": {},
   "outputs": [
    {
     "name": "stdout",
     "output_type": "stream",
     "text": [
      "[[ 92055  21031]\n",
      " [ 28854 213158]]\n"
     ]
    }
   ],
   "source": [
    "print( confusion_matrix(hi_predict, y_test))"
   ]
  },
  {
   "cell_type": "markdown",
   "id": "f25687e5",
   "metadata": {},
   "source": [
    "# Model on Y_Strict"
   ]
  },
  {
   "cell_type": "code",
   "execution_count": 20,
   "id": "61cfccb5",
   "metadata": {},
   "outputs": [],
   "source": [
    "X_s_train, X_s_test, y_s_train, y_s_test = train_test_split( X, Y_STRICT, stratify = Y_STRICT, random_state = 10)"
   ]
  },
  {
   "cell_type": "code",
   "execution_count": 21,
   "id": "8673114b",
   "metadata": {},
   "outputs": [],
   "source": [
    "model_2 = KNeighborsClassifier( n_neighbors = 25, metric = 'euclidean', weights = 'distance')"
   ]
  },
  {
   "cell_type": "code",
   "execution_count": 22,
   "id": "3b6fda6b",
   "metadata": {},
   "outputs": [
    {
     "data": {
      "text/plain": [
       "KNeighborsClassifier(metric='euclidean', n_neighbors=25, weights='distance')"
      ]
     },
     "execution_count": 22,
     "metadata": {},
     "output_type": "execute_result"
    }
   ],
   "source": [
    "model_2.fit(X_s_train, y_s_train)"
   ]
  },
  {
   "cell_type": "code",
   "execution_count": 23,
   "id": "554e9fee",
   "metadata": {},
   "outputs": [],
   "source": [
    "strict_predict = model_2.predict( X_s_test)"
   ]
  },
  {
   "cell_type": "code",
   "execution_count": 24,
   "id": "ad1bbe8a",
   "metadata": {},
   "outputs": [
    {
     "name": "stdout",
     "output_type": "stream",
     "text": [
      "0.8550428332460335\n"
     ]
    }
   ],
   "source": [
    "print( accuracy_score( strict_predict, y_s_test))"
   ]
  },
  {
   "cell_type": "code",
   "execution_count": 25,
   "id": "8866b44c",
   "metadata": {},
   "outputs": [
    {
     "name": "stdout",
     "output_type": "stream",
     "text": [
      "[[147614  26586]\n",
      " [ 24888 156010]]\n"
     ]
    }
   ],
   "source": [
    "print( confusion_matrix( strict_predict, y_s_test))"
   ]
  }
 ],
 "metadata": {
  "kernelspec": {
   "display_name": "Python 3 (ipykernel)",
   "language": "python",
   "name": "python3"
  },
  "language_info": {
   "codemirror_mode": {
    "name": "ipython",
    "version": 3
   },
   "file_extension": ".py",
   "mimetype": "text/x-python",
   "name": "python",
   "nbconvert_exporter": "python",
   "pygments_lexer": "ipython3",
   "version": "3.8.11"
  }
 },
 "nbformat": 4,
 "nbformat_minor": 5
}
