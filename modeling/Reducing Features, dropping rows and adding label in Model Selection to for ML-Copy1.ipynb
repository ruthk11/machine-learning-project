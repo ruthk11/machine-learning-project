{
 "cells": [
  {
   "cell_type": "code",
   "execution_count": 1,
   "id": "422832de",
   "metadata": {},
   "outputs": [],
   "source": [
    "import pandas as pd\n",
    "import numpy as np"
   ]
  },
  {
   "cell_type": "code",
   "execution_count": 2,
   "id": "a50b7e13",
   "metadata": {},
   "outputs": [
    {
     "name": "stderr",
     "output_type": "stream",
     "text": [
      "/Users/bigyanbhandari/opt/anaconda3/lib/python3.8/site-packages/IPython/core/interactiveshell.py:3441: DtypeWarning: Columns (14) have mixed types.Specify dtype option on import or set low_memory=False.\n",
      "  exec(code_obj, self.user_global_ns, self.user_ns)\n",
      "/Users/bigyanbhandari/opt/anaconda3/lib/python3.8/site-packages/numpy/lib/arraysetops.py:583: FutureWarning: elementwise comparison failed; returning scalar instead, but in the future will perform elementwise comparison\n",
      "  mask |= (ar1 == a)\n"
     ]
    }
   ],
   "source": [
    "df = pd.read_csv('model-selection-joined.csv', index_col = 0)"
   ]
  },
  {
   "cell_type": "code",
   "execution_count": 3,
   "id": "233f0241",
   "metadata": {},
   "outputs": [
    {
     "data": {
      "text/html": [
       "<div>\n",
       "<style scoped>\n",
       "    .dataframe tbody tr th:only-of-type {\n",
       "        vertical-align: middle;\n",
       "    }\n",
       "\n",
       "    .dataframe tbody tr th {\n",
       "        vertical-align: top;\n",
       "    }\n",
       "\n",
       "    .dataframe thead th {\n",
       "        text-align: right;\n",
       "    }\n",
       "</style>\n",
       "<table border=\"1\" class=\"dataframe\">\n",
       "  <thead>\n",
       "    <tr style=\"text-align: right;\">\n",
       "      <th></th>\n",
       "      <th>SCHOOL</th>\n",
       "      <th>STATE</th>\n",
       "      <th>ABBR</th>\n",
       "      <th>ID</th>\n",
       "      <th>COUNTY</th>\n",
       "      <th>CHARTER</th>\n",
       "      <th>MAGNET</th>\n",
       "      <th>LOCALE</th>\n",
       "      <th>TITLE I</th>\n",
       "      <th>TITLE I ELIGIBLE</th>\n",
       "      <th>...</th>\n",
       "      <th>MALE STUDENTS</th>\n",
       "      <th>FEMALE STUDENTS</th>\n",
       "      <th>AMERICAN INDIAN</th>\n",
       "      <th>ASIAN</th>\n",
       "      <th>HISPANIC</th>\n",
       "      <th>BLACK</th>\n",
       "      <th>WHITE</th>\n",
       "      <th>TOTAL RACE/ETHINICITY</th>\n",
       "      <th>FTE TEACHERS</th>\n",
       "      <th>PUPIL-TEACHER RATIO</th>\n",
       "    </tr>\n",
       "  </thead>\n",
       "  <tbody>\n",
       "    <tr>\n",
       "      <th>0</th>\n",
       "      <td>101 ELEMENTARY                                ...</td>\n",
       "      <td>California</td>\n",
       "      <td>CA</td>\n",
       "      <td>6.410401e+10</td>\n",
       "      <td>SAN BERNARDINO</td>\n",
       "      <td>1-Yes</td>\n",
       "      <td>2-No</td>\n",
       "      <td>3-Urban fringe of large city</td>\n",
       "      <td>†</td>\n",
       "      <td>2-No</td>\n",
       "      <td>...</td>\n",
       "      <td>38</td>\n",
       "      <td>49</td>\n",
       "      <td>0</td>\n",
       "      <td>1</td>\n",
       "      <td>24</td>\n",
       "      <td>17</td>\n",
       "      <td>45</td>\n",
       "      <td>87</td>\n",
       "      <td>0</td>\n",
       "      <td>0</td>\n",
       "    </tr>\n",
       "    <tr>\n",
       "      <th>1</th>\n",
       "      <td>3R MIDDLE/COMMUNITY</td>\n",
       "      <td>California</td>\n",
       "      <td>CA</td>\n",
       "      <td>6.910231e+10</td>\n",
       "      <td>NEVADA</td>\n",
       "      <td>2-No</td>\n",
       "      <td>2-No</td>\n",
       "      <td>6-Small town</td>\n",
       "      <td>†</td>\n",
       "      <td>2-No</td>\n",
       "      <td>...</td>\n",
       "      <td>13</td>\n",
       "      <td>1</td>\n",
       "      <td>0</td>\n",
       "      <td>0</td>\n",
       "      <td>0</td>\n",
       "      <td>0</td>\n",
       "      <td>14</td>\n",
       "      <td>14</td>\n",
       "      <td>1</td>\n",
       "      <td>14</td>\n",
       "    </tr>\n",
       "    <tr>\n",
       "      <th>2</th>\n",
       "      <td>4-J ELEMENTARY SCHOOL</td>\n",
       "      <td>Wyoming</td>\n",
       "      <td>WY</td>\n",
       "      <td>5.601470e+11</td>\n",
       "      <td>CAMPBELL</td>\n",
       "      <td>2-No</td>\n",
       "      <td>2-No</td>\n",
       "      <td>6-Small town</td>\n",
       "      <td>2-No</td>\n",
       "      <td>1-Yes</td>\n",
       "      <td>...</td>\n",
       "      <td>29</td>\n",
       "      <td>22</td>\n",
       "      <td>0</td>\n",
       "      <td>0</td>\n",
       "      <td>2</td>\n",
       "      <td>0</td>\n",
       "      <td>49</td>\n",
       "      <td>51</td>\n",
       "      <td>0</td>\n",
       "      <td>0</td>\n",
       "    </tr>\n",
       "    <tr>\n",
       "      <th>3</th>\n",
       "      <td>5TH AND 6TH GRADE CTR.</td>\n",
       "      <td>Missouri</td>\n",
       "      <td>MO</td>\n",
       "      <td>2.928260e+11</td>\n",
       "      <td>SCOTT</td>\n",
       "      <td>2-No</td>\n",
       "      <td>2-No</td>\n",
       "      <td>6-Small town</td>\n",
       "      <td>†</td>\n",
       "      <td>2-No</td>\n",
       "      <td>...</td>\n",
       "      <td>345</td>\n",
       "      <td>304</td>\n",
       "      <td>4</td>\n",
       "      <td>2</td>\n",
       "      <td>2</td>\n",
       "      <td>168</td>\n",
       "      <td>473</td>\n",
       "      <td>649</td>\n",
       "      <td>0</td>\n",
       "      <td>0</td>\n",
       "    </tr>\n",
       "    <tr>\n",
       "      <th>4</th>\n",
       "      <td>6TH GRADE CENTER</td>\n",
       "      <td>Texas</td>\n",
       "      <td>TX</td>\n",
       "      <td>4.821720e+11</td>\n",
       "      <td>HUNT</td>\n",
       "      <td>2-No</td>\n",
       "      <td>–</td>\n",
       "      <td>3-Urban fringe of large city</td>\n",
       "      <td>1-Yes</td>\n",
       "      <td>1-Yes</td>\n",
       "      <td>...</td>\n",
       "      <td>388</td>\n",
       "      <td>404</td>\n",
       "      <td>3</td>\n",
       "      <td>4</td>\n",
       "      <td>116</td>\n",
       "      <td>196</td>\n",
       "      <td>473</td>\n",
       "      <td>792</td>\n",
       "      <td>49</td>\n",
       "      <td>0</td>\n",
       "    </tr>\n",
       "  </tbody>\n",
       "</table>\n",
       "<p>5 rows × 24 columns</p>\n",
       "</div>"
      ],
      "text/plain": [
       "                                              SCHOOL       STATE ABBR  \\\n",
       "0  101 ELEMENTARY                                ...  California  CA    \n",
       "1                                3R MIDDLE/COMMUNITY  California  CA    \n",
       "2                              4-J ELEMENTARY SCHOOL     Wyoming  WY    \n",
       "3                             5TH AND 6TH GRADE CTR.    Missouri  MO    \n",
       "4                                   6TH GRADE CENTER       Texas  TX    \n",
       "\n",
       "             ID          COUNTY CHARTER MAGNET                        LOCALE  \\\n",
       "0  6.410401e+10  SAN BERNARDINO   1-Yes   2-No  3-Urban fringe of large city   \n",
       "1  6.910231e+10          NEVADA    2-No   2-No                  6-Small town   \n",
       "2  5.601470e+11        CAMPBELL    2-No   2-No                  6-Small town   \n",
       "3  2.928260e+11           SCOTT    2-No   2-No                  6-Small town   \n",
       "4  4.821720e+11            HUNT    2-No      –  3-Urban fringe of large city   \n",
       "\n",
       "  TITLE I TITLE I ELIGIBLE  ...  MALE STUDENTS  FEMALE STUDENTS  \\\n",
       "0       †             2-No  ...             38               49   \n",
       "1       †             2-No  ...             13                1   \n",
       "2    2-No            1-Yes  ...             29               22   \n",
       "3       †             2-No  ...            345              304   \n",
       "4   1-Yes            1-Yes  ...            388              404   \n",
       "\n",
       "   AMERICAN INDIAN ASIAN  HISPANIC  BLACK  WHITE  TOTAL RACE/ETHINICITY  \\\n",
       "0                0     1        24     17     45                     87   \n",
       "1                0     0         0      0     14                     14   \n",
       "2                0     0         2      0     49                     51   \n",
       "3                4     2         2    168    473                    649   \n",
       "4                3     4       116    196    473                    792   \n",
       "\n",
       "   FTE TEACHERS  PUPIL-TEACHER RATIO  \n",
       "0             0                    0  \n",
       "1             1                   14  \n",
       "2             0                    0  \n",
       "3             0                    0  \n",
       "4            49                    0  \n",
       "\n",
       "[5 rows x 24 columns]"
      ]
     },
     "execution_count": 3,
     "metadata": {},
     "output_type": "execute_result"
    }
   ],
   "source": [
    "df.head()"
   ]
  },
  {
   "cell_type": "code",
   "execution_count": 4,
   "id": "d9c2d3b6",
   "metadata": {},
   "outputs": [
    {
     "data": {
      "text/plain": [
       "Index(['SCHOOL', 'STATE', 'ABBR', 'ID', 'COUNTY', 'CHARTER', 'MAGNET',\n",
       "       'LOCALE', 'TITLE I', 'TITLE I ELIGIBLE', 'TOTAL STUDENTS',\n",
       "       'FREE LUNCH ELIGIBLE', 'REDUCED PRICE LUNCH ELIGIBLE',\n",
       "       'FREE AND REDUCED LUNCH ELIGIBLE', 'MALE STUDENTS', 'FEMALE STUDENTS',\n",
       "       'AMERICAN INDIAN', 'ASIAN', 'HISPANIC', 'BLACK', 'WHITE',\n",
       "       'TOTAL RACE/ETHINICITY', 'FTE TEACHERS', 'PUPIL-TEACHER RATIO'],\n",
       "      dtype='object')"
      ]
     },
     "execution_count": 4,
     "metadata": {},
     "output_type": "execute_result"
    }
   ],
   "source": [
    "df.columns"
   ]
  },
  {
   "cell_type": "code",
   "execution_count": 5,
   "id": "e5ec63e7",
   "metadata": {},
   "outputs": [
    {
     "data": {
      "text/plain": [
       "(1428355, 24)"
      ]
     },
     "execution_count": 5,
     "metadata": {},
     "output_type": "execute_result"
    }
   ],
   "source": [
    "df.shape"
   ]
  },
  {
   "cell_type": "code",
   "execution_count": 6,
   "id": "dff04073",
   "metadata": {},
   "outputs": [],
   "source": [
    "df.drop(columns = ['SCHOOL', 'STATE', 'ID', 'COUNTY', 'CHARTER', 'MAGNET', 'TITLE I',\n",
    "                   'REDUCED PRICE LUNCH ELIGIBLE', 'FREE AND REDUCED LUNCH ELIGIBLE',\n",
    "                  'MALE STUDENTS', 'FEMALE STUDENTS', 'TOTAL RACE/ETHINICITY', 'FTE TEACHERS', 'PUPIL-TEACHER RATIO'], inplace = True)"
   ]
  },
  {
   "cell_type": "code",
   "execution_count": 7,
   "id": "3f2a9131",
   "metadata": {},
   "outputs": [],
   "source": [
    "df.reset_index( drop = True, inplace = True)"
   ]
  },
  {
   "cell_type": "markdown",
   "id": "1ecf362e",
   "metadata": {},
   "source": [
    "Function to Drop invalid free lunch eligible students."
   ]
  },
  {
   "cell_type": "code",
   "execution_count": 21,
   "id": "a68acfc5",
   "metadata": {},
   "outputs": [],
   "source": [
    "invalid_total_students = df['TOTAL STUDENTS'].apply( lambda x : x if ( (str(x)).isdigit() and x != 0) else None)"
   ]
  },
  {
   "cell_type": "code",
   "execution_count": 22,
   "id": "785a1a83",
   "metadata": {},
   "outputs": [],
   "source": [
    "invalid_total_students = invalid_total_students[invalid_total_students.isna() == True].index"
   ]
  },
  {
   "cell_type": "code",
   "execution_count": 23,
   "id": "58dfe503",
   "metadata": {},
   "outputs": [],
   "source": [
    "df.drop(invalid_total_students, inplace = True)"
   ]
  },
  {
   "cell_type": "code",
   "execution_count": 24,
   "id": "ada89f20",
   "metadata": {},
   "outputs": [],
   "source": [
    "df.reset_index(inplace = True, drop = True)"
   ]
  },
  {
   "cell_type": "code",
   "execution_count": 25,
   "id": "53dd03de",
   "metadata": {},
   "outputs": [],
   "source": [
    "invalid_idx = df['FREE LUNCH ELIGIBLE'].apply( lambda x : None if (not str(x).isdigit() and df['FREE LUNCH ELIGIBLE'] > df['TOTAL STUDENTS']) else x)"
   ]
  },
  {
   "cell_type": "code",
   "execution_count": 26,
   "id": "75fee54a",
   "metadata": {},
   "outputs": [],
   "source": [
    "invalid_idx = invalid_idx[invalid_idx.isna() == True].index"
   ]
  },
  {
   "cell_type": "code",
   "execution_count": 27,
   "id": "acc58277",
   "metadata": {},
   "outputs": [],
   "source": [
    "df.drop(invalid_idx, inplace = True)"
   ]
  },
  {
   "cell_type": "code",
   "execution_count": 28,
   "id": "cf2cb120",
   "metadata": {},
   "outputs": [
    {
     "data": {
      "text/plain": [
       "(1420449, 10)"
      ]
     },
     "execution_count": 28,
     "metadata": {},
     "output_type": "execute_result"
    }
   ],
   "source": [
    "df.shape"
   ]
  },
  {
   "cell_type": "markdown",
   "id": "7c8daf33",
   "metadata": {},
   "source": [
    "# Adding Label"
   ]
  },
  {
   "cell_type": "code",
   "execution_count": 31,
   "id": "0f7e7612",
   "metadata": {},
   "outputs": [],
   "source": [
    "poverty = df['FREE LUNCH ELIGIBLE']/df['TOTAL STUDENTS']"
   ]
  },
  {
   "cell_type": "code",
   "execution_count": 32,
   "id": "1cfc398a",
   "metadata": {},
   "outputs": [],
   "source": [
    "hi_poverty = poverty.apply( lambda x : 1 if x > 0.233 else 0)"
   ]
  },
  {
   "cell_type": "code",
   "execution_count": 33,
   "id": "d5edd8b7",
   "metadata": {},
   "outputs": [],
   "source": [
    "strict_poverty = poverty.apply( lambda x : 1 if x > 0.339 else 0)"
   ]
  },
  {
   "cell_type": "code",
   "execution_count": 41,
   "id": "f62243b8",
   "metadata": {},
   "outputs": [
    {
     "data": {
      "text/plain": [
       "0    483661\n",
       "1    936788\n",
       "dtype: int64"
      ]
     },
     "execution_count": 41,
     "metadata": {},
     "output_type": "execute_result"
    }
   ],
   "source": [
    "hi_poverty.groupby(hi_poverty).count()"
   ]
  },
  {
   "cell_type": "code",
   "execution_count": 42,
   "id": "5b8f91b9",
   "metadata": {},
   "outputs": [
    {
     "data": {
      "text/plain": [
       "0    690037\n",
       "1    730412\n",
       "dtype: int64"
      ]
     },
     "execution_count": 42,
     "metadata": {},
     "output_type": "execute_result"
    }
   ],
   "source": [
    "strict_poverty.groupby(strict_poverty).count()"
   ]
  },
  {
   "cell_type": "code",
   "execution_count": 43,
   "id": "ce27f5a9",
   "metadata": {},
   "outputs": [],
   "source": [
    "df['HI-LABEL'] = hi_poverty\n",
    "df['STRICT-LABEL'] = strict_poverty"
   ]
  },
  {
   "cell_type": "code",
   "execution_count": 44,
   "id": "5319bfb9",
   "metadata": {},
   "outputs": [
    {
     "data": {
      "text/html": [
       "<div>\n",
       "<style scoped>\n",
       "    .dataframe tbody tr th:only-of-type {\n",
       "        vertical-align: middle;\n",
       "    }\n",
       "\n",
       "    .dataframe tbody tr th {\n",
       "        vertical-align: top;\n",
       "    }\n",
       "\n",
       "    .dataframe thead th {\n",
       "        text-align: right;\n",
       "    }\n",
       "</style>\n",
       "<table border=\"1\" class=\"dataframe\">\n",
       "  <thead>\n",
       "    <tr style=\"text-align: right;\">\n",
       "      <th></th>\n",
       "      <th>ABBR</th>\n",
       "      <th>LOCALE</th>\n",
       "      <th>TITLE I ELIGIBLE</th>\n",
       "      <th>TOTAL STUDENTS</th>\n",
       "      <th>FREE LUNCH ELIGIBLE</th>\n",
       "      <th>AMERICAN INDIAN</th>\n",
       "      <th>ASIAN</th>\n",
       "      <th>HISPANIC</th>\n",
       "      <th>BLACK</th>\n",
       "      <th>WHITE</th>\n",
       "      <th>HI-LABEL</th>\n",
       "      <th>STRICT-LABEL</th>\n",
       "    </tr>\n",
       "  </thead>\n",
       "  <tbody>\n",
       "    <tr>\n",
       "      <th>0</th>\n",
       "      <td>CA</td>\n",
       "      <td>3-Urban fringe of large city</td>\n",
       "      <td>2-No</td>\n",
       "      <td>87</td>\n",
       "      <td>0</td>\n",
       "      <td>0</td>\n",
       "      <td>1</td>\n",
       "      <td>24</td>\n",
       "      <td>17</td>\n",
       "      <td>45</td>\n",
       "      <td>0</td>\n",
       "      <td>0</td>\n",
       "    </tr>\n",
       "    <tr>\n",
       "      <th>1</th>\n",
       "      <td>CA</td>\n",
       "      <td>6-Small town</td>\n",
       "      <td>2-No</td>\n",
       "      <td>14</td>\n",
       "      <td>0</td>\n",
       "      <td>0</td>\n",
       "      <td>0</td>\n",
       "      <td>0</td>\n",
       "      <td>0</td>\n",
       "      <td>14</td>\n",
       "      <td>0</td>\n",
       "      <td>0</td>\n",
       "    </tr>\n",
       "    <tr>\n",
       "      <th>2</th>\n",
       "      <td>WY</td>\n",
       "      <td>6-Small town</td>\n",
       "      <td>1-Yes</td>\n",
       "      <td>51</td>\n",
       "      <td>12</td>\n",
       "      <td>0</td>\n",
       "      <td>0</td>\n",
       "      <td>2</td>\n",
       "      <td>0</td>\n",
       "      <td>49</td>\n",
       "      <td>1</td>\n",
       "      <td>0</td>\n",
       "    </tr>\n",
       "    <tr>\n",
       "      <th>3</th>\n",
       "      <td>MO</td>\n",
       "      <td>6-Small town</td>\n",
       "      <td>2-No</td>\n",
       "      <td>649</td>\n",
       "      <td>272</td>\n",
       "      <td>4</td>\n",
       "      <td>2</td>\n",
       "      <td>2</td>\n",
       "      <td>168</td>\n",
       "      <td>473</td>\n",
       "      <td>1</td>\n",
       "      <td>1</td>\n",
       "    </tr>\n",
       "    <tr>\n",
       "      <th>4</th>\n",
       "      <td>TX</td>\n",
       "      <td>3-Urban fringe of large city</td>\n",
       "      <td>1-Yes</td>\n",
       "      <td>792</td>\n",
       "      <td>333</td>\n",
       "      <td>3</td>\n",
       "      <td>4</td>\n",
       "      <td>116</td>\n",
       "      <td>196</td>\n",
       "      <td>473</td>\n",
       "      <td>1</td>\n",
       "      <td>1</td>\n",
       "    </tr>\n",
       "  </tbody>\n",
       "</table>\n",
       "</div>"
      ],
      "text/plain": [
       "  ABBR                        LOCALE TITLE I ELIGIBLE  TOTAL STUDENTS  \\\n",
       "0  CA   3-Urban fringe of large city             2-No              87   \n",
       "1  CA                   6-Small town             2-No              14   \n",
       "2  WY                   6-Small town            1-Yes              51   \n",
       "3  MO                   6-Small town             2-No             649   \n",
       "4  TX   3-Urban fringe of large city            1-Yes             792   \n",
       "\n",
       "   FREE LUNCH ELIGIBLE  AMERICAN INDIAN  ASIAN  HISPANIC  BLACK  WHITE  \\\n",
       "0                    0                0      1        24     17     45   \n",
       "1                    0                0      0         0      0     14   \n",
       "2                   12                0      0         2      0     49   \n",
       "3                  272                4      2         2    168    473   \n",
       "4                  333                3      4       116    196    473   \n",
       "\n",
       "   HI-LABEL  STRICT-LABEL  \n",
       "0         0             0  \n",
       "1         0             0  \n",
       "2         1             0  \n",
       "3         1             1  \n",
       "4         1             1  "
      ]
     },
     "execution_count": 44,
     "metadata": {},
     "output_type": "execute_result"
    }
   ],
   "source": [
    "df.head()"
   ]
  },
  {
   "cell_type": "code",
   "execution_count": 45,
   "id": "06e2c2a5",
   "metadata": {},
   "outputs": [],
   "source": [
    "#df.to_csv('data_for_training.csv')"
   ]
  }
 ],
 "metadata": {
  "kernelspec": {
   "display_name": "Python 3 (ipykernel)",
   "language": "python",
   "name": "python3"
  },
  "language_info": {
   "codemirror_mode": {
    "name": "ipython",
    "version": 3
   },
   "file_extension": ".py",
   "mimetype": "text/x-python",
   "name": "python",
   "nbconvert_exporter": "python",
   "pygments_lexer": "ipython3",
   "version": "3.8.11"
  }
 },
 "nbformat": 4,
 "nbformat_minor": 5
}
