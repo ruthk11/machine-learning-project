{
 "cells": [
  {
   "cell_type": "code",
   "execution_count": 1,
   "id": "17c6a200",
   "metadata": {},
   "outputs": [],
   "source": [
    "import pandas as pd\n",
    "import numpy as np\n",
    "import matplotlib.pyplot as plt\n",
    "import seaborn as sns\n",
    "%matplotlib inline"
   ]
  },
  {
   "cell_type": "code",
   "execution_count": 2,
   "id": "08913787",
   "metadata": {},
   "outputs": [
    {
     "name": "stderr",
     "output_type": "stream",
     "text": [
      "/Users/bigyanbhandari/opt/anaconda3/lib/python3.8/site-packages/IPython/core/interactiveshell.py:3441: DtypeWarning: Columns (22) have mixed types.Specify dtype option on import or set low_memory=False.\n",
      "  exec(code_obj, self.user_global_ns, self.user_ns)\n"
     ]
    }
   ],
   "source": [
    "df = pd.read_csv('model-selection-11-15.csv', index_col = 0)"
   ]
  },
  {
   "cell_type": "code",
   "execution_count": 3,
   "id": "d0fee93a",
   "metadata": {},
   "outputs": [
    {
     "name": "stdout",
     "output_type": "stream",
     "text": [
      "<class 'pandas.core.frame.DataFrame'>\n",
      "Int64Index: 402029 entries, 0 to 402028\n",
      "Data columns (total 24 columns):\n",
      " #   Column                           Non-Null Count   Dtype  \n",
      "---  ------                           --------------   -----  \n",
      " 0   SCHOOL                           402017 non-null  object \n",
      " 1   STATE                            402001 non-null  object \n",
      " 2   ID                               402001 non-null  float64\n",
      " 3   ABBR                             402001 non-null  object \n",
      " 4   COUNTY                           402001 non-null  object \n",
      " 5   CHARTER                          402001 non-null  object \n",
      " 6   MAGNET                           402001 non-null  object \n",
      " 7   LOCALE                           402001 non-null  object \n",
      " 8   TITLE I                          402001 non-null  object \n",
      " 9   TITLE I ELIGIBLE                 402001 non-null  object \n",
      " 10  TOTAL STUDENTS                   402001 non-null  object \n",
      " 11  FREE LUNCH ELIGIBLE              402001 non-null  object \n",
      " 12  REDUCED PRICE LUNCH ELIGIBLE     402001 non-null  object \n",
      " 13  FREE AND REDUCED LUNCH ELIGIBLE  402001 non-null  object \n",
      " 14  MALE STUDENTS                    402001 non-null  object \n",
      " 15  FEMALE STUDENTS                  402001 non-null  object \n",
      " 16  AMERICAN INDIAN                  402001 non-null  object \n",
      " 17  ASIAN                            402001 non-null  object \n",
      " 18  HISPANIC                         402001 non-null  object \n",
      " 19  BLACK                            402001 non-null  object \n",
      " 20  WHITE                            402001 non-null  object \n",
      " 21  TOTAL RACE/ETHINICITY            402001 non-null  object \n",
      " 22  FTE TEACHERS                     402001 non-null  object \n",
      " 23  PUPIL-TEACHER RATIO              402001 non-null  object \n",
      "dtypes: float64(1), object(23)\n",
      "memory usage: 76.7+ MB\n"
     ]
    }
   ],
   "source": [
    "df.info()"
   ]
  },
  {
   "cell_type": "code",
   "execution_count": 4,
   "id": "6f5479cd",
   "metadata": {},
   "outputs": [
    {
     "data": {
      "text/plain": [
       "28"
      ]
     },
     "execution_count": 4,
     "metadata": {},
     "output_type": "execute_result"
    }
   ],
   "source": [
    "df['FREE LUNCH ELIGIBLE'].isna().sum()"
   ]
  },
  {
   "cell_type": "code",
   "execution_count": 5,
   "id": "4a504f31",
   "metadata": {},
   "outputs": [],
   "source": [
    "df['FREE LUNCH ELIGIBLE NUMERIC'] = df['FREE LUNCH ELIGIBLE'].apply( lambda x : int(x) if str(x).isdigit() else None)"
   ]
  },
  {
   "cell_type": "code",
   "execution_count": 6,
   "id": "6c5b16a3",
   "metadata": {},
   "outputs": [],
   "source": [
    "df.drop(df[df['FREE LUNCH ELIGIBLE NUMERIC'].isna() == True].index, inplace = True)"
   ]
  },
  {
   "cell_type": "code",
   "execution_count": 7,
   "id": "97f962eb",
   "metadata": {},
   "outputs": [
    {
     "data": {
      "text/plain": [
       "(370921, 25)"
      ]
     },
     "execution_count": 7,
     "metadata": {},
     "output_type": "execute_result"
    }
   ],
   "source": [
    "df.shape"
   ]
  },
  {
   "cell_type": "code",
   "execution_count": 8,
   "id": "8ad76d77",
   "metadata": {},
   "outputs": [],
   "source": [
    "df['REDUCED PRICE LUNCH ELIGIBLE NUMERIC'] = df['REDUCED PRICE LUNCH ELIGIBLE'].apply( lambda x : int(x) if str(x).isdigit() else None)"
   ]
  },
  {
   "cell_type": "code",
   "execution_count": 9,
   "id": "f2c8edd4",
   "metadata": {},
   "outputs": [
    {
     "data": {
      "text/plain": [
       "843"
      ]
     },
     "execution_count": 9,
     "metadata": {},
     "output_type": "execute_result"
    }
   ],
   "source": [
    "df['REDUCED PRICE LUNCH ELIGIBLE NUMERIC'].isna().sum()"
   ]
  },
  {
   "cell_type": "code",
   "execution_count": 10,
   "id": "ae59a42d",
   "metadata": {},
   "outputs": [],
   "source": [
    "df.drop(df[df['REDUCED PRICE LUNCH ELIGIBLE NUMERIC'].isna() == True].index, inplace = True)"
   ]
  },
  {
   "cell_type": "code",
   "execution_count": 11,
   "id": "ba335e01",
   "metadata": {},
   "outputs": [
    {
     "data": {
      "text/plain": [
       "0"
      ]
     },
     "execution_count": 11,
     "metadata": {},
     "output_type": "execute_result"
    }
   ],
   "source": [
    "df['FREE AND REDUCED LUNCH ELIGIBLE'].isna().sum()"
   ]
  },
  {
   "cell_type": "code",
   "execution_count": 12,
   "id": "52d8db1a",
   "metadata": {},
   "outputs": [
    {
     "data": {
      "text/plain": [
       "(370078, 26)"
      ]
     },
     "execution_count": 12,
     "metadata": {},
     "output_type": "execute_result"
    }
   ],
   "source": [
    "df.shape"
   ]
  },
  {
   "cell_type": "code",
   "execution_count": 13,
   "id": "f18acca0",
   "metadata": {},
   "outputs": [],
   "source": [
    "def replace_nan_zero(x):\n",
    "    if str(x).isdigit():\n",
    "        return x\n",
    "    else:\n",
    "        return 0"
   ]
  },
  {
   "cell_type": "code",
   "execution_count": 14,
   "id": "6cc50c8e",
   "metadata": {},
   "outputs": [],
   "source": [
    "df['AMERICAN INDIAN'] = df['AMERICAN INDIAN'].apply( lambda x : replace_nan_zero(x)).apply(pd.to_numeric)\n",
    "df['ASIAN'] = df['ASIAN'].apply( lambda x : replace_nan_zero(x)).apply(pd.to_numeric)\n",
    "df['HISPANIC'] = df['HISPANIC'].apply( lambda x : replace_nan_zero(x)).apply(pd.to_numeric)\n",
    "df['BLACK'] = df['BLACK'].apply( lambda x : replace_nan_zero(x)).apply(pd.to_numeric)\n",
    "df['WHITE'] = df['WHITE'].apply( lambda x : replace_nan_zero(x)).apply(pd.to_numeric)\n",
    "df['TOTAL RACE/ETHINICITY'] = df['TOTAL RACE/ETHINICITY'].apply( lambda x : replace_nan_zero(x)).apply(pd.to_numeric)\n",
    "df['FTE TEACHERS'] = df['FTE TEACHERS'].apply(lambda x : replace_nan_zero(x)).apply(pd.to_numeric)\n",
    "df['MALE STUDENTS'] = df['MALE STUDENTS'].apply(lambda x : replace_nan_zero(x)).apply(pd.to_numeric)\n",
    "df['FEMALE STUDENTS'] = df['FEMALE STUDENTS'].apply(lambda x : replace_nan_zero(x)).apply(pd.to_numeric)\n",
    "df['PUPIL-TEACHER RATIO'] = df['PUPIL-TEACHER RATIO'].apply(lambda x : replace_nan_zero(x)).apply(pd.to_numeric)\n",
    "df['TOTAL STUDENTS'] = df['TOTAL STUDENTS'].apply(lambda x : replace_nan_zero(x)).apply(pd.to_numeric)"
   ]
  },
  {
   "cell_type": "code",
   "execution_count": 15,
   "id": "cce0df17",
   "metadata": {
    "scrolled": true
   },
   "outputs": [
    {
     "name": "stdout",
     "output_type": "stream",
     "text": [
      "<class 'pandas.core.frame.DataFrame'>\n",
      "Int64Index: 370078 entries, 0 to 402021\n",
      "Data columns (total 26 columns):\n",
      " #   Column                                Non-Null Count   Dtype  \n",
      "---  ------                                --------------   -----  \n",
      " 0   SCHOOL                                370078 non-null  object \n",
      " 1   STATE                                 370078 non-null  object \n",
      " 2   ID                                    370078 non-null  float64\n",
      " 3   ABBR                                  370078 non-null  object \n",
      " 4   COUNTY                                370078 non-null  object \n",
      " 5   CHARTER                               370078 non-null  object \n",
      " 6   MAGNET                                370078 non-null  object \n",
      " 7   LOCALE                                370078 non-null  object \n",
      " 8   TITLE I                               370078 non-null  object \n",
      " 9   TITLE I ELIGIBLE                      370078 non-null  object \n",
      " 10  TOTAL STUDENTS                        370078 non-null  int64  \n",
      " 11  FREE LUNCH ELIGIBLE                   370078 non-null  object \n",
      " 12  REDUCED PRICE LUNCH ELIGIBLE          370078 non-null  object \n",
      " 13  FREE AND REDUCED LUNCH ELIGIBLE       370078 non-null  object \n",
      " 14  MALE STUDENTS                         370078 non-null  int64  \n",
      " 15  FEMALE STUDENTS                       370078 non-null  int64  \n",
      " 16  AMERICAN INDIAN                       370078 non-null  int64  \n",
      " 17  ASIAN                                 370078 non-null  int64  \n",
      " 18  HISPANIC                              370078 non-null  int64  \n",
      " 19  BLACK                                 370078 non-null  int64  \n",
      " 20  WHITE                                 370078 non-null  int64  \n",
      " 21  TOTAL RACE/ETHINICITY                 370078 non-null  int64  \n",
      " 22  FTE TEACHERS                          370078 non-null  int64  \n",
      " 23  PUPIL-TEACHER RATIO                   370078 non-null  int64  \n",
      " 24  FREE LUNCH ELIGIBLE NUMERIC           370078 non-null  float64\n",
      " 25  REDUCED PRICE LUNCH ELIGIBLE NUMERIC  370078 non-null  float64\n",
      "dtypes: float64(3), int64(11), object(12)\n",
      "memory usage: 76.2+ MB\n"
     ]
    }
   ],
   "source": [
    "df.info()"
   ]
  },
  {
   "cell_type": "code",
   "execution_count": 16,
   "id": "84fccb31",
   "metadata": {},
   "outputs": [],
   "source": [
    "df.drop(columns = ['FREE LUNCH ELIGIBLE NUMERIC', 'REDUCED PRICE LUNCH ELIGIBLE NUMERIC'], inplace = True)"
   ]
  },
  {
   "cell_type": "code",
   "execution_count": 17,
   "id": "45e1d0bf",
   "metadata": {},
   "outputs": [
    {
     "name": "stdout",
     "output_type": "stream",
     "text": [
      "<class 'pandas.core.frame.DataFrame'>\n",
      "Int64Index: 370078 entries, 0 to 402021\n",
      "Data columns (total 24 columns):\n",
      " #   Column                           Non-Null Count   Dtype  \n",
      "---  ------                           --------------   -----  \n",
      " 0   SCHOOL                           370078 non-null  object \n",
      " 1   STATE                            370078 non-null  object \n",
      " 2   ID                               370078 non-null  float64\n",
      " 3   ABBR                             370078 non-null  object \n",
      " 4   COUNTY                           370078 non-null  object \n",
      " 5   CHARTER                          370078 non-null  object \n",
      " 6   MAGNET                           370078 non-null  object \n",
      " 7   LOCALE                           370078 non-null  object \n",
      " 8   TITLE I                          370078 non-null  object \n",
      " 9   TITLE I ELIGIBLE                 370078 non-null  object \n",
      " 10  TOTAL STUDENTS                   370078 non-null  int64  \n",
      " 11  FREE LUNCH ELIGIBLE              370078 non-null  object \n",
      " 12  REDUCED PRICE LUNCH ELIGIBLE     370078 non-null  object \n",
      " 13  FREE AND REDUCED LUNCH ELIGIBLE  370078 non-null  object \n",
      " 14  MALE STUDENTS                    370078 non-null  int64  \n",
      " 15  FEMALE STUDENTS                  370078 non-null  int64  \n",
      " 16  AMERICAN INDIAN                  370078 non-null  int64  \n",
      " 17  ASIAN                            370078 non-null  int64  \n",
      " 18  HISPANIC                         370078 non-null  int64  \n",
      " 19  BLACK                            370078 non-null  int64  \n",
      " 20  WHITE                            370078 non-null  int64  \n",
      " 21  TOTAL RACE/ETHINICITY            370078 non-null  int64  \n",
      " 22  FTE TEACHERS                     370078 non-null  int64  \n",
      " 23  PUPIL-TEACHER RATIO              370078 non-null  int64  \n",
      "dtypes: float64(1), int64(11), object(12)\n",
      "memory usage: 70.6+ MB\n"
     ]
    }
   ],
   "source": [
    "df.info()"
   ]
  },
  {
   "cell_type": "code",
   "execution_count": 19,
   "id": "c99cd115",
   "metadata": {},
   "outputs": [],
   "source": [
    "#df.to_csv('model-selection-clean-11-15.csv')"
   ]
  }
 ],
 "metadata": {
  "kernelspec": {
   "display_name": "Python 3 (ipykernel)",
   "language": "python",
   "name": "python3"
  },
  "language_info": {
   "codemirror_mode": {
    "name": "ipython",
    "version": 3
   },
   "file_extension": ".py",
   "mimetype": "text/x-python",
   "name": "python",
   "nbconvert_exporter": "python",
   "pygments_lexer": "ipython3",
   "version": "3.8.11"
  }
 },
 "nbformat": 4,
 "nbformat_minor": 5
}
