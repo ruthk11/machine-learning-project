{
 "cells": [
  {
   "cell_type": "markdown",
   "id": "8b4eafd0",
   "metadata": {},
   "source": [
    "# We will be using randomforest, logistic regression, KNN and SGD."
   ]
  },
  {
   "cell_type": "code",
   "execution_count": null,
   "id": "89f2a26c",
   "metadata": {},
   "outputs": [],
   "source": [
    "import pandas as pd\n",
    "import numpy as np\n",
    "\n",
    "from sklearn.linear_model import LogisticRegression\n",
    "from sklearn.linear_model import SGDClassifier\n",
    "from sklearn.model_selection import train_test_split\n",
    "from sklearn.preprocessing import StandardScaler\n",
    "from sklearn.neighbors import KNeighborsClassifier\n",
    "from sklearn.ensemble import RandomForestClassifier\n",
    "\n",
    "\n",
    "from sklearn.metrics import accuracy_score\n",
    "from sklearn.metrics import confusion_matrix"
   ]
  },
  {
   "cell_type": "code",
   "execution_count": null,
   "id": "d85a6f03",
   "metadata": {
    "scrolled": true
   },
   "outputs": [],
   "source": [
    "df = pd.read_csv('data_for_training.csv', index_col = 0)"
   ]
  },
  {
   "cell_type": "code",
   "execution_count": null,
   "id": "9c326a41",
   "metadata": {},
   "outputs": [],
   "source": [
    "df.drop(df[df['LOCALE'].isin(['–','†' ]) == True].index, inplace = True)"
   ]
  },
  {
   "cell_type": "code",
   "execution_count": null,
   "id": "3b60a621",
   "metadata": {},
   "outputs": [],
   "source": [
    "df.reset_index( inplace = True, drop = True)"
   ]
  },
  {
   "cell_type": "markdown",
   "id": "30ab2ef3",
   "metadata": {},
   "source": [
    "Separate independent features from the labels to train data."
   ]
  },
  {
   "cell_type": "code",
   "execution_count": null,
   "id": "7357ef47",
   "metadata": {},
   "outputs": [],
   "source": [
    "Y_HI = df['HI-LABEL']\n",
    "Y_STRICT = df['STRICT-LABEL']"
   ]
  },
  {
   "cell_type": "code",
   "execution_count": null,
   "id": "c43302a6",
   "metadata": {},
   "outputs": [],
   "source": [
    "df.drop(columns =['HI-LABEL', 'STRICT-LABEL', 'FREE LUNCH ELIGIBLE'], inplace = True)"
   ]
  },
  {
   "cell_type": "code",
   "execution_count": null,
   "id": "c0602fbf",
   "metadata": {},
   "outputs": [],
   "source": [
    "title_i = df.drop(columns = 'TITLE I ELIGIBLE', inplace = True)"
   ]
  },
  {
   "cell_type": "code",
   "execution_count": null,
   "id": "b03b3594",
   "metadata": {
    "scrolled": true
   },
   "outputs": [],
   "source": [
    "df.head()"
   ]
  },
  {
   "cell_type": "code",
   "execution_count": null,
   "id": "060f8ea3",
   "metadata": {},
   "outputs": [],
   "source": [
    "df.drop(columns = ['AMERICAN INDIAN'], inplace = True)"
   ]
  },
  {
   "cell_type": "code",
   "execution_count": null,
   "id": "bbed9329",
   "metadata": {},
   "outputs": [],
   "source": [
    "state_code = {\n",
    "    'CA ':1,'WY ':2,'MO ':3,'TX ':4,'OK ':5,'MS ':6, 'KY ':7,'ID ':8,'OR ':9,'WI ':10, 'ME ':11,'MA ':12,'NC ':13,\n",
    "    'VA ':14, 'OH ':15,'IN ':16, 'AL ':17, 'IA ':18, 'FL ':19, 'LA ':20, 'CT ':21, 'SC ':22, 'GA ':23, 'MD ':24,\n",
    "    'NE ':25, 'SD ':26, 'MT ':27, 'RI ':28, 'UT ':29, 'WV ':30, 'AR ':31, 'NV ':32, 'HI ':33, 'DE ':34, 'NY ':35,\n",
    "    'DE ':37, 'NY ':38, 'MN ':39, 'NM ':40, 'NJ ':41,'PA ':42, 'ND ':43, 'NH ': 44, 'MI ':45, 'KS ':46, 'CO ':47,\n",
    "    'VT ':48, 'DC ':49, 'WA ':50, 'IL ':51, 'AK ': 52, 'AZ ':53,'TN ':54\n",
    "}"
   ]
  },
  {
   "cell_type": "code",
   "execution_count": null,
   "id": "a590177d",
   "metadata": {},
   "outputs": [],
   "source": [
    "locale_code = {\n",
    "    '3-Urban fringe of large city': 101, '6-Small town': 102, '5-Large town': 103, '2-Midsize city':104, \n",
    "    '8-Rural - inside CBSA/MSA':105,'7-Rural - outside CBSA/MSA':106, '4-Urban fringe of midsize city':107,\n",
    "    '1-Large city':108, '41-Rural: Fringe':109, '22-Suburb: Mid-size':110, '21-Suburb: Large':111, \n",
    "    '42-Rural: Distant':112, '11-City: Large':113, '13-City: Small':114, '43-Rural: Remote':115,\n",
    "    '33-Town: Remote':116, '12-City: Mid-size':117, '32-Town: Distant':118, '31-Town: Fringe':119,\n",
    "    '23-Suburb: Small':120\n",
    "}"
   ]
  },
  {
   "cell_type": "code",
   "execution_count": null,
   "id": "ec3af4b1",
   "metadata": {},
   "outputs": [],
   "source": [
    "df['ABBR'] = df['ABBR'].apply(lambda x : state_code[x] if x in state_code else 0)\n",
    "df['ABBR'] = df['ABBR'].astype('category')\n",
    "df['ABBR'] = df['ABBR'].astype('str')"
   ]
  },
  {
   "cell_type": "code",
   "execution_count": null,
   "id": "9fdc261b",
   "metadata": {},
   "outputs": [],
   "source": [
    "df['LOCALE'] = df['LOCALE'].apply(lambda x : locale_code[x] if x in locale_code else 121)\n",
    "df['LOCALE'] = df['LOCALE'].astype('category')\n",
    "df['LOCALE'] = df['LOCALE'].astype('str')"
   ]
  },
  {
   "cell_type": "code",
   "execution_count": null,
   "id": "0292cd20",
   "metadata": {},
   "outputs": [],
   "source": [
    "num_cat = ['TOTAL STUDENTS', 'ASIAN', 'HISPANIC', 'BLACK', 'WHITE']\n",
    "scl = StandardScaler()\n",
    "\n",
    "for col in num_cat:\n",
    "    df[col] = scl.fit_transform(df[[col]].values)\n"
   ]
  },
  {
   "cell_type": "code",
   "execution_count": null,
   "id": "a23efe63",
   "metadata": {
    "scrolled": false
   },
   "outputs": [],
   "source": [
    "df.head()"
   ]
  },
  {
   "cell_type": "code",
   "execution_count": null,
   "id": "e1e92d95",
   "metadata": {},
   "outputs": [],
   "source": [
    "df.to_csv('final_model_for_tuning.csv')"
   ]
  },
  {
   "cell_type": "code",
   "execution_count": null,
   "id": "a00585bc",
   "metadata": {},
   "outputs": [],
   "source": [
    "Y_HI.to_csv('high-poverty-label.csv')"
   ]
  },
  {
   "cell_type": "code",
   "execution_count": null,
   "id": "31a3f344",
   "metadata": {},
   "outputs": [],
   "source": [
    "Y_STRICT.to_csv('strict-poverty-label.csv')"
   ]
  },
  {
   "cell_type": "code",
   "execution_count": null,
   "id": "972ae894",
   "metadata": {},
   "outputs": [],
   "source": [
    "X_train, X_test, y_train, y_test = train_test_split( df, Y_HI, stratify = Y_HI, random_state = 10)"
   ]
  },
  {
   "cell_type": "markdown",
   "id": "da22caa3",
   "metadata": {},
   "source": [
    "# Train HI-LABEL using LogisticRegression"
   ]
  },
  {
   "cell_type": "code",
   "execution_count": null,
   "id": "03bb6546",
   "metadata": {},
   "outputs": [],
   "source": [
    "log_reg = LogisticRegression(solver='lbfgs', max_iter=1000)"
   ]
  },
  {
   "cell_type": "code",
   "execution_count": null,
   "id": "6628515c",
   "metadata": {},
   "outputs": [],
   "source": [
    "log_reg.fit(X_train, y_train)"
   ]
  },
  {
   "cell_type": "code",
   "execution_count": null,
   "id": "8e97cb03",
   "metadata": {},
   "outputs": [],
   "source": [
    "y_reg = log_reg.predict(X_test)"
   ]
  },
  {
   "cell_type": "code",
   "execution_count": null,
   "id": "91cadb89",
   "metadata": {},
   "outputs": [],
   "source": [
    "accuracy_score( y_reg, y_test)"
   ]
  },
  {
   "cell_type": "code",
   "execution_count": null,
   "id": "1c4168a9",
   "metadata": {
    "scrolled": true
   },
   "outputs": [],
   "source": [
    "accuracy_score( log_reg.predict(X_train), y_train)"
   ]
  },
  {
   "cell_type": "code",
   "execution_count": null,
   "id": "b0e20037",
   "metadata": {},
   "outputs": [],
   "source": [
    "confusion_matrix( y_reg, y_test)"
   ]
  },
  {
   "cell_type": "markdown",
   "id": "674c6e05",
   "metadata": {},
   "source": [
    "# Train STRICT-LABEL using LogisticRegression"
   ]
  },
  {
   "cell_type": "code",
   "execution_count": null,
   "id": "02fe2ce1",
   "metadata": {},
   "outputs": [],
   "source": [
    "X_S_train, X_S_test, y_s_train, y_s_test = train_test_split( df, Y_STRICT, stratify = Y_STRICT, random_state = 10)"
   ]
  },
  {
   "cell_type": "code",
   "execution_count": null,
   "id": "7d269f20",
   "metadata": {},
   "outputs": [],
   "source": [
    "lr = LogisticRegression(solver='lbfgs',max_iter=1000)"
   ]
  },
  {
   "cell_type": "code",
   "execution_count": null,
   "id": "2b941dc1",
   "metadata": {},
   "outputs": [],
   "source": [
    "lr.fit( X_S_train, y_s_train)"
   ]
  },
  {
   "cell_type": "code",
   "execution_count": null,
   "id": "69fab4c5",
   "metadata": {},
   "outputs": [],
   "source": [
    "y_s_pred = lr.predict(X_S_test)"
   ]
  },
  {
   "cell_type": "code",
   "execution_count": null,
   "id": "4c3f7520",
   "metadata": {},
   "outputs": [],
   "source": [
    "accuracy_score( y_s_pred, y_s_test)"
   ]
  },
  {
   "cell_type": "code",
   "execution_count": null,
   "id": "ea4e4ee1",
   "metadata": {},
   "outputs": [],
   "source": [
    "accuracy_score( lr.predict(X_S_train), y_s_train)"
   ]
  },
  {
   "cell_type": "code",
   "execution_count": null,
   "id": "c7678ed0",
   "metadata": {},
   "outputs": [],
   "source": [
    "confusion_matrix( y_s_pred, y_s_test)"
   ]
  },
  {
   "cell_type": "markdown",
   "id": "4603b910",
   "metadata": {},
   "source": [
    "# Train HI-LABEL using KNNeighbors"
   ]
  },
  {
   "cell_type": "code",
   "execution_count": null,
   "id": "d10b7883",
   "metadata": {},
   "outputs": [],
   "source": [
    "k_clf = KNeighborsClassifier(n_neighbors = 50)"
   ]
  },
  {
   "cell_type": "code",
   "execution_count": null,
   "id": "abbe92fb",
   "metadata": {},
   "outputs": [],
   "source": [
    "k_clf.fit(X_train, y_train)"
   ]
  },
  {
   "cell_type": "code",
   "execution_count": null,
   "id": "823aed55",
   "metadata": {},
   "outputs": [],
   "source": [
    "y_clf_pred = k_clf.predict( X_test)"
   ]
  },
  {
   "cell_type": "code",
   "execution_count": null,
   "id": "d3f594c0",
   "metadata": {},
   "outputs": [],
   "source": [
    "accuracy_score( y_clf_pred, y_test)"
   ]
  },
  {
   "cell_type": "code",
   "execution_count": null,
   "id": "7c9600b3",
   "metadata": {
    "scrolled": true
   },
   "outputs": [],
   "source": [
    "accuracy_score( k_clf.predict(X_train), y_train)"
   ]
  },
  {
   "cell_type": "code",
   "execution_count": null,
   "id": "d0afa51a",
   "metadata": {},
   "outputs": [],
   "source": [
    "confusion_matrix( y_clf_pred, y_test)"
   ]
  },
  {
   "cell_type": "markdown",
   "id": "a9c9efc6",
   "metadata": {},
   "source": [
    "# Train STRICT-LABEL using KNNeighbors"
   ]
  },
  {
   "cell_type": "code",
   "execution_count": null,
   "id": "febcdffe",
   "metadata": {},
   "outputs": [],
   "source": [
    "k_clf_s = KNeighborsClassifier( n_neighbors = 25)"
   ]
  },
  {
   "cell_type": "code",
   "execution_count": null,
   "id": "deceb33d",
   "metadata": {},
   "outputs": [],
   "source": [
    "k_clf_s.fit( X_S_train, y_s_train)"
   ]
  },
  {
   "cell_type": "code",
   "execution_count": null,
   "id": "073e527e",
   "metadata": {},
   "outputs": [],
   "source": [
    "y_s_clf_pred = k_clf_s.predict( X_S_test)"
   ]
  },
  {
   "cell_type": "code",
   "execution_count": null,
   "id": "b1680e5b",
   "metadata": {},
   "outputs": [],
   "source": [
    "accuracy_score(y_s_clf_pred,  y_s_test)"
   ]
  },
  {
   "cell_type": "code",
   "execution_count": null,
   "id": "8825b95f",
   "metadata": {
    "scrolled": true
   },
   "outputs": [],
   "source": [
    "accuracy_score( k_clf_s.predict(X_S_train), y_s_train)"
   ]
  },
  {
   "cell_type": "code",
   "execution_count": null,
   "id": "26ad0474",
   "metadata": {},
   "outputs": [],
   "source": [
    "confusion_matrix( y_s_clf_pred, y_s_test)"
   ]
  },
  {
   "cell_type": "markdown",
   "id": "e6a8309d",
   "metadata": {},
   "source": [
    "# Train HI_LABEL using Logistic Regression with SGD Training"
   ]
  },
  {
   "cell_type": "code",
   "execution_count": null,
   "id": "28f37f7d",
   "metadata": {},
   "outputs": [],
   "source": [
    "sgd_model = SGDClassifier( loss = 'log', penalty = 'l2', max_iter = 1000)"
   ]
  },
  {
   "cell_type": "code",
   "execution_count": null,
   "id": "4fa0c1fc",
   "metadata": {},
   "outputs": [],
   "source": [
    "sgd_model.fit( X_train, y_train)"
   ]
  },
  {
   "cell_type": "code",
   "execution_count": null,
   "id": "b480d779",
   "metadata": {},
   "outputs": [],
   "source": [
    "y_sgd_pred = sgd_model.predict(X_test)"
   ]
  },
  {
   "cell_type": "code",
   "execution_count": null,
   "id": "30b16fa1",
   "metadata": {},
   "outputs": [],
   "source": [
    "accuracy_score( y_sgd_pred, y_test)"
   ]
  },
  {
   "cell_type": "code",
   "execution_count": null,
   "id": "7eb8a1c8",
   "metadata": {},
   "outputs": [],
   "source": [
    "accuracy_score( sgd_model.predict(X_train), y_train)"
   ]
  },
  {
   "cell_type": "code",
   "execution_count": null,
   "id": "a2b04386",
   "metadata": {},
   "outputs": [],
   "source": [
    "confusion_matrix( y_sgd_pred, y_test)"
   ]
  },
  {
   "cell_type": "markdown",
   "id": "22a3340d",
   "metadata": {},
   "source": [
    "# Train STRICT-LABEL using LogReg with SGD Training"
   ]
  },
  {
   "cell_type": "code",
   "execution_count": null,
   "id": "59626fc9",
   "metadata": {},
   "outputs": [],
   "source": [
    "sgd_model = SGDClassifier( loss = 'log', penalty = 'l2', max_iter = 1000)"
   ]
  },
  {
   "cell_type": "code",
   "execution_count": null,
   "id": "53aa638c",
   "metadata": {},
   "outputs": [],
   "source": [
    "sgd_model.fit( X_S_train, y_s_train)"
   ]
  },
  {
   "cell_type": "code",
   "execution_count": null,
   "id": "5924091b",
   "metadata": {},
   "outputs": [],
   "source": [
    "y_sgd_pred = sgd_model.predict(X_S_test)"
   ]
  },
  {
   "cell_type": "code",
   "execution_count": null,
   "id": "ba8cdada",
   "metadata": {},
   "outputs": [],
   "source": [
    "accuracy_score( y_sgd_pred, y_s_test)"
   ]
  },
  {
   "cell_type": "code",
   "execution_count": null,
   "id": "8aa515dd",
   "metadata": {},
   "outputs": [],
   "source": [
    "accuracy_score( sgd_model.predict(X_S_train), y_s_train)"
   ]
  },
  {
   "cell_type": "code",
   "execution_count": null,
   "id": "98bafd10",
   "metadata": {},
   "outputs": [],
   "source": [
    "confusion_matrix( y_sgd_pred, y_s_test)"
   ]
  },
  {
   "cell_type": "markdown",
   "id": "f49c84c1",
   "metadata": {},
   "source": [
    "# Random Forest Classifier for HI-LABEL"
   ]
  },
  {
   "cell_type": "code",
   "execution_count": null,
   "id": "951d4eb7",
   "metadata": {},
   "outputs": [],
   "source": [
    "rf_model = RandomForestClassifier( n_estimators = 1000, min_samples_leaf = 50, random_state = 1 )"
   ]
  },
  {
   "cell_type": "code",
   "execution_count": null,
   "id": "cb0f68d5",
   "metadata": {},
   "outputs": [],
   "source": [
    "rf_model.fit(X_train, y_train)"
   ]
  },
  {
   "cell_type": "code",
   "execution_count": null,
   "id": "3c749060",
   "metadata": {},
   "outputs": [],
   "source": [
    "y_forest_pred = rf_model.predict(X_test)"
   ]
  },
  {
   "cell_type": "code",
   "execution_count": null,
   "id": "51e2d66a",
   "metadata": {},
   "outputs": [],
   "source": [
    "accuracy_score ( y_forest_pred, y_test)"
   ]
  },
  {
   "cell_type": "code",
   "execution_count": null,
   "id": "5553c2dc",
   "metadata": {},
   "outputs": [],
   "source": [
    "accuracy_score( rf_model.predict(X_train), y_train)"
   ]
  },
  {
   "cell_type": "code",
   "execution_count": null,
   "id": "18594061",
   "metadata": {},
   "outputs": [],
   "source": [
    "confusion_matrix( y_forest_pred, y_test)"
   ]
  },
  {
   "cell_type": "markdown",
   "id": "6a9355bd",
   "metadata": {},
   "source": [
    "# Random Forest Classifier for STRICT-LABEL"
   ]
  },
  {
   "cell_type": "code",
   "execution_count": null,
   "id": "7dfb730d",
   "metadata": {},
   "outputs": [],
   "source": [
    "rfs_model = RandomForestClassifier( n_estimators = 1000, min_samples_leaf = 50, random_state = 1 )"
   ]
  },
  {
   "cell_type": "code",
   "execution_count": null,
   "id": "8c17fcce",
   "metadata": {},
   "outputs": [],
   "source": [
    "rfs_model.fit(X_S_train, y_s_train)"
   ]
  },
  {
   "cell_type": "code",
   "execution_count": null,
   "id": "7116822f",
   "metadata": {},
   "outputs": [],
   "source": [
    "ys_forest_pred = rfs_model.predict(X_S_test)"
   ]
  },
  {
   "cell_type": "code",
   "execution_count": null,
   "id": "73ab2526",
   "metadata": {},
   "outputs": [],
   "source": [
    "accuracy_score ( ys_forest_pred, y_s_test)"
   ]
  },
  {
   "cell_type": "code",
   "execution_count": null,
   "id": "de2fe0f5",
   "metadata": {},
   "outputs": [],
   "source": [
    "accuracy_score( rfs_model.predict(X_S_train), y_s_train)"
   ]
  },
  {
   "cell_type": "code",
   "execution_count": null,
   "id": "73134f55",
   "metadata": {},
   "outputs": [],
   "source": [
    "confusion_matrix( ys_forest_pred, y_s_test)"
   ]
  },
  {
   "cell_type": "markdown",
   "id": "3695a908",
   "metadata": {},
   "source": [
    "## We will be focusing on RandomForestClassifier and KNNeighbors to finetune our model."
   ]
  }
 ],
 "metadata": {
  "kernelspec": {
   "display_name": "Python 3 (ipykernel)",
   "language": "python",
   "name": "python3"
  },
  "language_info": {
   "codemirror_mode": {
    "name": "ipython",
    "version": 3
   },
   "file_extension": ".py",
   "mimetype": "text/x-python",
   "name": "python",
   "nbconvert_exporter": "python",
   "pygments_lexer": "ipython3",
   "version": "3.8.11"
  }
 },
 "nbformat": 4,
 "nbformat_minor": 5
}
