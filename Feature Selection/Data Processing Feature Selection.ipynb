{
 "cells": [
  {
   "cell_type": "code",
   "execution_count": 1,
   "id": "5c19bc2d",
   "metadata": {},
   "outputs": [],
   "source": [
    "import pandas as pd\n",
    "import numpy as np\n",
    "import matplotlib.pyplot as plt\n",
    "import seaborn as sns\n",
    "%matplotlib inline"
   ]
  },
  {
   "cell_type": "code",
   "execution_count": 4,
   "id": "89f6cd95",
   "metadata": {},
   "outputs": [],
   "source": [
    "df = pd.read_csv('feature-selection-91-96.csv', index_col = 0)"
   ]
  },
  {
   "cell_type": "code",
   "execution_count": 5,
   "id": "e8df29e0",
   "metadata": {},
   "outputs": [
    {
     "name": "stdout",
     "output_type": "stream",
     "text": [
      "<class 'pandas.core.frame.DataFrame'>\n",
      "Int64Index: 310299 entries, 1 to 429869\n",
      "Data columns (total 14 columns):\n",
      " #   Column               Non-Null Count   Dtype  \n",
      "---  ------               --------------   -----  \n",
      " 0   SCHOOL               310299 non-null  object \n",
      " 1   STATE                310299 non-null  object \n",
      " 2   ABBR                 310299 non-null  object \n",
      " 3   ID                   310299 non-null  float64\n",
      " 4   COUNTY               310299 non-null  object \n",
      " 5   LOCALE               310299 non-null  object \n",
      " 6   TOTAL STUDENTS       310299 non-null  int64  \n",
      " 7   FREE LUNCH ELIGIBLE  310299 non-null  int64  \n",
      " 8   AMERICAN INDIAN      310299 non-null  object \n",
      " 9   ASIAN                310299 non-null  object \n",
      " 10  HISPANIC             310299 non-null  object \n",
      " 11  BLACK                310299 non-null  object \n",
      " 12  WHITE                310299 non-null  object \n",
      " 13  FTE TEACHERS         310299 non-null  object \n",
      "dtypes: float64(1), int64(2), object(11)\n",
      "memory usage: 35.5+ MB\n"
     ]
    }
   ],
   "source": [
    "df.info()"
   ]
  },
  {
   "cell_type": "code",
   "execution_count": 6,
   "id": "f5236cfe",
   "metadata": {},
   "outputs": [
    {
     "data": {
      "text/plain": [
       "Index(['SCHOOL', 'STATE', 'ABBR', 'ID', 'COUNTY', 'LOCALE', 'TOTAL STUDENTS',\n",
       "       'FREE LUNCH ELIGIBLE', 'AMERICAN INDIAN', 'ASIAN', 'HISPANIC', 'BLACK',\n",
       "       'WHITE', 'FTE TEACHERS'],\n",
       "      dtype='object')"
      ]
     },
     "execution_count": 6,
     "metadata": {},
     "output_type": "execute_result"
    }
   ],
   "source": [
    "df.columns"
   ]
  },
  {
   "cell_type": "code",
   "execution_count": 7,
   "id": "ba02f2f0",
   "metadata": {},
   "outputs": [],
   "source": [
    "df['FREE LUNCH ELIGIBLE NUMERIC'] = df['FREE LUNCH ELIGIBLE'].apply( lambda x : int(x) if str(x).isdigit() else None)"
   ]
  },
  {
   "cell_type": "code",
   "execution_count": 8,
   "id": "5793a99a",
   "metadata": {},
   "outputs": [
    {
     "data": {
      "text/plain": [
       "(310299, 15)"
      ]
     },
     "execution_count": 8,
     "metadata": {},
     "output_type": "execute_result"
    }
   ],
   "source": [
    "df.shape"
   ]
  },
  {
   "cell_type": "code",
   "execution_count": 10,
   "id": "24e99065",
   "metadata": {},
   "outputs": [],
   "source": [
    "df.drop(df[df['FREE LUNCH ELIGIBLE NUMERIC'].isnull() == True].index, inplace = True)"
   ]
  },
  {
   "cell_type": "code",
   "execution_count": 11,
   "id": "fc7e3840",
   "metadata": {},
   "outputs": [
    {
     "data": {
      "text/plain": [
       "(310299, 15)"
      ]
     },
     "execution_count": 11,
     "metadata": {},
     "output_type": "execute_result"
    }
   ],
   "source": [
    "df.shape"
   ]
  },
  {
   "cell_type": "code",
   "execution_count": 12,
   "id": "6c6bc42e",
   "metadata": {},
   "outputs": [],
   "source": [
    "def replace_nan_zero(x):\n",
    "    if str(x).isdigit():\n",
    "        return x\n",
    "    else:\n",
    "        return 0"
   ]
  },
  {
   "cell_type": "code",
   "execution_count": 15,
   "id": "64621594",
   "metadata": {},
   "outputs": [],
   "source": [
    "df['AMERICAN INDIAN'] = df['AMERICAN INDIAN'].apply( lambda x : replace_nan_zero(x)).apply(pd.to_numeric)\n",
    "df['ASIAN'] = df['ASIAN'].apply( lambda x : replace_nan_zero(x)).apply(pd.to_numeric)\n",
    "df['HISPANIC'] = df['HISPANIC'].apply( lambda x : replace_nan_zero(x)).apply(pd.to_numeric)\n",
    "df['BLACK'] = df['BLACK'].apply( lambda x : replace_nan_zero(x)).apply(pd.to_numeric)\n",
    "df['WHITE'] = df['WHITE'].apply( lambda x : replace_nan_zero(x)).apply(pd.to_numeric)\n",
    "##df['TOTAL RACE/ETHINICITY'] = df['TOTAL RACE/ETHINICITY'].apply( lambda x : replace_nan_zero(x)).apply(pd.to_numeric)\n",
    "df['FTE TEACHERS'] = df['FTE TEACHERS'].apply(lambda x : replace_nan_zero(x)).apply(pd.to_numeric)\n",
    "#df['MALE STUDENTS'] = df['MALE STUDENTS'].apply(lambda x : replace_nan_zero(x)).apply(pd.to_numeric)\n",
    "#df['FEMALE STUDENTS'] = df['FEMALE STUDENTS'].apply(lambda x : replace_nan_zero(x)).apply(pd.to_numeric)\n",
    "df['TOTAL STUDENTS'] = df['TOTAL STUDENTS'].apply(lambda x : replace_nan_zero(x)).apply(pd.to_numeric)\n",
    "#df['TOTAL STUDENTS'] = df['TOTAL STUDENTS'].apply(lambda x : replace_nan_zero(x)).apply(pd.to_numeric)\n"
   ]
  },
  {
   "cell_type": "code",
   "execution_count": 16,
   "id": "1cfa9521",
   "metadata": {},
   "outputs": [
    {
     "name": "stdout",
     "output_type": "stream",
     "text": [
      "<class 'pandas.core.frame.DataFrame'>\n",
      "Int64Index: 310299 entries, 1 to 429869\n",
      "Data columns (total 15 columns):\n",
      " #   Column                       Non-Null Count   Dtype  \n",
      "---  ------                       --------------   -----  \n",
      " 0   SCHOOL                       310299 non-null  object \n",
      " 1   STATE                        310299 non-null  object \n",
      " 2   ABBR                         310299 non-null  object \n",
      " 3   ID                           310299 non-null  float64\n",
      " 4   COUNTY                       310299 non-null  object \n",
      " 5   LOCALE                       310299 non-null  object \n",
      " 6   TOTAL STUDENTS               310299 non-null  int64  \n",
      " 7   FREE LUNCH ELIGIBLE          310299 non-null  int64  \n",
      " 8   AMERICAN INDIAN              310299 non-null  int64  \n",
      " 9   ASIAN                        310299 non-null  int64  \n",
      " 10  HISPANIC                     310299 non-null  int64  \n",
      " 11  BLACK                        310299 non-null  int64  \n",
      " 12  WHITE                        310299 non-null  int64  \n",
      " 13  FTE TEACHERS                 310299 non-null  int64  \n",
      " 14  FREE LUNCH ELIGIBLE NUMERIC  310299 non-null  int64  \n",
      "dtypes: float64(1), int64(9), object(5)\n",
      "memory usage: 45.9+ MB\n"
     ]
    }
   ],
   "source": [
    "df.info()"
   ]
  },
  {
   "cell_type": "code",
   "execution_count": 17,
   "id": "bd560403",
   "metadata": {},
   "outputs": [],
   "source": [
    "df.drop(columns = ['FREE LUNCH ELIGIBLE NUMERIC'], inplace = True)"
   ]
  },
  {
   "cell_type": "code",
   "execution_count": 18,
   "id": "12857967",
   "metadata": {},
   "outputs": [
    {
     "data": {
      "text/plain": [
       "(310299, 14)"
      ]
     },
     "execution_count": 18,
     "metadata": {},
     "output_type": "execute_result"
    }
   ],
   "source": [
    "df.shape"
   ]
  },
  {
   "cell_type": "code",
   "execution_count": 19,
   "id": "d39c16c1",
   "metadata": {},
   "outputs": [],
   "source": [
    "#df.to_csv('feature-selection-clean.csv')"
   ]
  }
 ],
 "metadata": {
  "kernelspec": {
   "display_name": "Python 3 (ipykernel)",
   "language": "python",
   "name": "python3"
  },
  "language_info": {
   "codemirror_mode": {
    "name": "ipython",
    "version": 3
   },
   "file_extension": ".py",
   "mimetype": "text/x-python",
   "name": "python",
   "nbconvert_exporter": "python",
   "pygments_lexer": "ipython3",
   "version": "3.8.11"
  }
 },
 "nbformat": 4,
 "nbformat_minor": 5
}
