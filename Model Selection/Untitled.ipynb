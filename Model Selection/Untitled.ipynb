{
 "cells": [
  {
   "cell_type": "code",
   "execution_count": 2,
   "id": "a37fc201",
   "metadata": {},
   "outputs": [],
   "source": [
    "import pandas as pd\n",
    "import numpy as np\n",
    "\n",
    "from sklearn.linear_model import LogisticRegression\n",
    "from sklearn.linear_model import SGDClassifier\n",
    "from sklearn.model_selection import train_test_split\n",
    "from sklearn.preprocessing import StandardScaler\n",
    "from sklearn.neighbors import KNeighborsClassifier\n",
    "from sklearn.ensemble import RandomForestClassifier\n",
    "\n",
    "\n",
    "from sklearn.metrics import accuracy_score\n",
    "from sklearn.metrics import confusion_matrix"
   ]
  },
  {
   "cell_type": "code",
   "execution_count": 5,
   "id": "a32e786a",
   "metadata": {},
   "outputs": [],
   "source": [
    "X = pd.read_csv('data_for_model_selection.csv', index_col = 0)"
   ]
  },
  {
   "cell_type": "code",
   "execution_count": 6,
   "id": "110ff89a",
   "metadata": {},
   "outputs": [
    {
     "data": {
      "text/html": [
       "<div>\n",
       "<style scoped>\n",
       "    .dataframe tbody tr th:only-of-type {\n",
       "        vertical-align: middle;\n",
       "    }\n",
       "\n",
       "    .dataframe tbody tr th {\n",
       "        vertical-align: top;\n",
       "    }\n",
       "\n",
       "    .dataframe thead th {\n",
       "        text-align: right;\n",
       "    }\n",
       "</style>\n",
       "<table border=\"1\" class=\"dataframe\">\n",
       "  <thead>\n",
       "    <tr style=\"text-align: right;\">\n",
       "      <th></th>\n",
       "      <th>ABBR</th>\n",
       "      <th>LOCALE</th>\n",
       "      <th>TOTAL STUDENTS</th>\n",
       "      <th>ASIAN</th>\n",
       "      <th>HISPANIC</th>\n",
       "      <th>BLACK</th>\n",
       "      <th>WHITE</th>\n",
       "    </tr>\n",
       "  </thead>\n",
       "  <tbody>\n",
       "    <tr>\n",
       "      <th>0</th>\n",
       "      <td>46</td>\n",
       "      <td>4</td>\n",
       "      <td>-0.820101</td>\n",
       "      <td>-0.280551</td>\n",
       "      <td>-0.521809</td>\n",
       "      <td>-0.520741</td>\n",
       "      <td>-0.490510</td>\n",
       "    </tr>\n",
       "    <tr>\n",
       "      <th>1</th>\n",
       "      <td>22</td>\n",
       "      <td>3</td>\n",
       "      <td>-1.122707</td>\n",
       "      <td>-0.327979</td>\n",
       "      <td>-0.561820</td>\n",
       "      <td>-0.527422</td>\n",
       "      <td>-0.854489</td>\n",
       "    </tr>\n",
       "    <tr>\n",
       "      <th>2</th>\n",
       "      <td>22</td>\n",
       "      <td>3</td>\n",
       "      <td>-0.910662</td>\n",
       "      <td>-0.280551</td>\n",
       "      <td>-0.473797</td>\n",
       "      <td>-0.473977</td>\n",
       "      <td>-0.636101</td>\n",
       "    </tr>\n",
       "    <tr>\n",
       "      <th>3</th>\n",
       "      <td>21</td>\n",
       "      <td>2</td>\n",
       "      <td>0.114222</td>\n",
       "      <td>0.466429</td>\n",
       "      <td>-0.493802</td>\n",
       "      <td>-0.206750</td>\n",
       "      <td>0.543192</td>\n",
       "    </tr>\n",
       "    <tr>\n",
       "      <th>4</th>\n",
       "      <td>28</td>\n",
       "      <td>9</td>\n",
       "      <td>-0.820101</td>\n",
       "      <td>-0.339835</td>\n",
       "      <td>-0.553817</td>\n",
       "      <td>-0.507380</td>\n",
       "      <td>-0.370396</td>\n",
       "    </tr>\n",
       "  </tbody>\n",
       "</table>\n",
       "</div>"
      ],
      "text/plain": [
       "   ABBR  LOCALE  TOTAL STUDENTS     ASIAN  HISPANIC     BLACK     WHITE\n",
       "0    46       4       -0.820101 -0.280551 -0.521809 -0.520741 -0.490510\n",
       "1    22       3       -1.122707 -0.327979 -0.561820 -0.527422 -0.854489\n",
       "2    22       3       -0.910662 -0.280551 -0.473797 -0.473977 -0.636101\n",
       "3    21       2        0.114222  0.466429 -0.493802 -0.206750  0.543192\n",
       "4    28       9       -0.820101 -0.339835 -0.553817 -0.507380 -0.370396"
      ]
     },
     "execution_count": 6,
     "metadata": {},
     "output_type": "execute_result"
    }
   ],
   "source": [
    "X.head()"
   ]
  },
  {
   "cell_type": "code",
   "execution_count": null,
   "id": "a2f3061e",
   "metadata": {},
   "outputs": [],
   "source": []
  }
 ],
 "metadata": {
  "kernelspec": {
   "display_name": "Python 3 (ipykernel)",
   "language": "python",
   "name": "python3"
  },
  "language_info": {
   "codemirror_mode": {
    "name": "ipython",
    "version": 3
   },
   "file_extension": ".py",
   "mimetype": "text/x-python",
   "name": "python",
   "nbconvert_exporter": "python",
   "pygments_lexer": "ipython3",
   "version": "3.8.11"
  }
 },
 "nbformat": 4,
 "nbformat_minor": 5
}
