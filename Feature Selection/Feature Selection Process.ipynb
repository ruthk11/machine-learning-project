{
 "cells": [
  {
   "cell_type": "code",
   "execution_count": 1,
   "id": "142faaf6",
   "metadata": {},
   "outputs": [],
   "source": [
    "import pandas as pd\n",
    "import numpy as np\n",
    "import seaborn as sns\n",
    "import matplotlib.pyplot as plt"
   ]
  },
  {
   "cell_type": "code",
   "execution_count": 2,
   "id": "c99cc69f",
   "metadata": {},
   "outputs": [],
   "source": [
    "df = pd.read_csv('feature-selection-clean.csv', index_col = 0)\n",
    "df.reset_index( inplace = True, drop = True)"
   ]
  },
  {
   "cell_type": "code",
   "execution_count": 3,
   "id": "18f45173",
   "metadata": {
    "scrolled": true
   },
   "outputs": [
    {
     "data": {
      "text/html": [
       "<div>\n",
       "<style scoped>\n",
       "    .dataframe tbody tr th:only-of-type {\n",
       "        vertical-align: middle;\n",
       "    }\n",
       "\n",
       "    .dataframe tbody tr th {\n",
       "        vertical-align: top;\n",
       "    }\n",
       "\n",
       "    .dataframe thead th {\n",
       "        text-align: right;\n",
       "    }\n",
       "</style>\n",
       "<table border=\"1\" class=\"dataframe\">\n",
       "  <thead>\n",
       "    <tr style=\"text-align: right;\">\n",
       "      <th></th>\n",
       "      <th>SCHOOL</th>\n",
       "      <th>STATE</th>\n",
       "      <th>ABBR</th>\n",
       "      <th>ID</th>\n",
       "      <th>COUNTY</th>\n",
       "      <th>LOCALE</th>\n",
       "      <th>TOTAL STUDENTS</th>\n",
       "      <th>FREE LUNCH ELIGIBLE</th>\n",
       "      <th>AMERICAN INDIAN</th>\n",
       "      <th>ASIAN</th>\n",
       "      <th>HISPANIC</th>\n",
       "      <th>BLACK</th>\n",
       "      <th>WHITE</th>\n",
       "      <th>FTE TEACHERS</th>\n",
       "    </tr>\n",
       "  </thead>\n",
       "  <tbody>\n",
       "    <tr>\n",
       "      <th>0</th>\n",
       "      <td>1ST WARD EL</td>\n",
       "      <td>Wisconsin</td>\n",
       "      <td>WI</td>\n",
       "      <td>5.500000e+11</td>\n",
       "      <td>CHIPPEWA</td>\n",
       "      <td>4-Urban fringe of midsize city</td>\n",
       "      <td>193</td>\n",
       "      <td>35</td>\n",
       "      <td>1</td>\n",
       "      <td>0</td>\n",
       "      <td>0</td>\n",
       "      <td>0</td>\n",
       "      <td>192</td>\n",
       "      <td>0</td>\n",
       "    </tr>\n",
       "    <tr>\n",
       "      <th>1</th>\n",
       "      <td>4-J ELEMENTARY SCHOOL</td>\n",
       "      <td>Wyoming</td>\n",
       "      <td>WY</td>\n",
       "      <td>5.600000e+11</td>\n",
       "      <td>CAMPBELL</td>\n",
       "      <td>6-Small town</td>\n",
       "      <td>48</td>\n",
       "      <td>4</td>\n",
       "      <td>0</td>\n",
       "      <td>0</td>\n",
       "      <td>0</td>\n",
       "      <td>0</td>\n",
       "      <td>48</td>\n",
       "      <td>4</td>\n",
       "    </tr>\n",
       "    <tr>\n",
       "      <th>2</th>\n",
       "      <td>5TH AND 6TH GRADE CTR.</td>\n",
       "      <td>Missouri</td>\n",
       "      <td>MO</td>\n",
       "      <td>2.930000e+11</td>\n",
       "      <td>SCOTT</td>\n",
       "      <td>6-Small town</td>\n",
       "      <td>731</td>\n",
       "      <td>271</td>\n",
       "      <td>0</td>\n",
       "      <td>1</td>\n",
       "      <td>4</td>\n",
       "      <td>176</td>\n",
       "      <td>550</td>\n",
       "      <td>0</td>\n",
       "    </tr>\n",
       "    <tr>\n",
       "      <th>3</th>\n",
       "      <td>6TH GRADE CENTER</td>\n",
       "      <td>Texas</td>\n",
       "      <td>TX</td>\n",
       "      <td>4.820000e+11</td>\n",
       "      <td>HUNT</td>\n",
       "      <td>6-Small town</td>\n",
       "      <td>813</td>\n",
       "      <td>250</td>\n",
       "      <td>2</td>\n",
       "      <td>5</td>\n",
       "      <td>54</td>\n",
       "      <td>205</td>\n",
       "      <td>547</td>\n",
       "      <td>0</td>\n",
       "    </tr>\n",
       "    <tr>\n",
       "      <th>4</th>\n",
       "      <td>7TH AND 8TH GRADE CENTER</td>\n",
       "      <td>Missouri</td>\n",
       "      <td>MO</td>\n",
       "      <td>2.920000e+11</td>\n",
       "      <td>SAINT LOUIS</td>\n",
       "      <td>3-Urban fringe of large city</td>\n",
       "      <td>860</td>\n",
       "      <td>527</td>\n",
       "      <td>1</td>\n",
       "      <td>3</td>\n",
       "      <td>1</td>\n",
       "      <td>830</td>\n",
       "      <td>25</td>\n",
       "      <td>0</td>\n",
       "    </tr>\n",
       "  </tbody>\n",
       "</table>\n",
       "</div>"
      ],
      "text/plain": [
       "                     SCHOOL      STATE ABBR            ID       COUNTY  \\\n",
       "0               1ST WARD EL  Wisconsin  WI   5.500000e+11     CHIPPEWA   \n",
       "1     4-J ELEMENTARY SCHOOL    Wyoming  WY   5.600000e+11     CAMPBELL   \n",
       "2    5TH AND 6TH GRADE CTR.   Missouri  MO   2.930000e+11        SCOTT   \n",
       "3          6TH GRADE CENTER      Texas  TX   4.820000e+11         HUNT   \n",
       "4  7TH AND 8TH GRADE CENTER   Missouri  MO   2.920000e+11  SAINT LOUIS   \n",
       "\n",
       "                           LOCALE  TOTAL STUDENTS  FREE LUNCH ELIGIBLE  \\\n",
       "0  4-Urban fringe of midsize city             193                   35   \n",
       "1                    6-Small town              48                    4   \n",
       "2                    6-Small town             731                  271   \n",
       "3                    6-Small town             813                  250   \n",
       "4    3-Urban fringe of large city             860                  527   \n",
       "\n",
       "   AMERICAN INDIAN  ASIAN  HISPANIC  BLACK  WHITE  FTE TEACHERS  \n",
       "0                1      0         0      0    192             0  \n",
       "1                0      0         0      0     48             4  \n",
       "2                0      1         4    176    550             0  \n",
       "3                2      5        54    205    547             0  \n",
       "4                1      3         1    830     25             0  "
      ]
     },
     "execution_count": 3,
     "metadata": {},
     "output_type": "execute_result"
    }
   ],
   "source": [
    "df.head()"
   ]
  },
  {
   "cell_type": "markdown",
   "id": "a1954693",
   "metadata": {},
   "source": [
    "# Let us first create labels for our data"
   ]
  },
  {
   "cell_type": "markdown",
   "id": "5b16dc1c",
   "metadata": {},
   "source": [
    "On our ground truth analysis, we had come up with a criteria to classify schools having more than 33.9% students eligible for free lunch as strictly poor, above 23.3% as poor and below 23.3% as not poor.\n",
    "\n",
    "Based on that classification, we are going to create a label for our data and store it separate from our dataframe."
   ]
  },
  {
   "cell_type": "code",
   "execution_count": 4,
   "id": "867996df",
   "metadata": {},
   "outputs": [],
   "source": [
    "proportion = df['FREE LUNCH ELIGIBLE']/ df['TOTAL STUDENTS']"
   ]
  },
  {
   "cell_type": "code",
   "execution_count": 5,
   "id": "a3b23158",
   "metadata": {},
   "outputs": [],
   "source": [
    "null_proportion = proportion[proportion.isna()== True].index"
   ]
  },
  {
   "cell_type": "code",
   "execution_count": 6,
   "id": "53d53646",
   "metadata": {},
   "outputs": [],
   "source": [
    "df.drop( null_proportion, inplace = True )"
   ]
  },
  {
   "cell_type": "code",
   "execution_count": 7,
   "id": "dbca3b27",
   "metadata": {},
   "outputs": [],
   "source": [
    "proportion = df['FREE LUNCH ELIGIBLE']/ df['TOTAL STUDENTS']"
   ]
  },
  {
   "cell_type": "code",
   "execution_count": 8,
   "id": "3485e551",
   "metadata": {},
   "outputs": [
    {
     "data": {
      "text/plain": [
       "0"
      ]
     },
     "execution_count": 8,
     "metadata": {},
     "output_type": "execute_result"
    }
   ],
   "source": [
    "len(proportion[proportion.isna()== True].index)"
   ]
  },
  {
   "cell_type": "code",
   "execution_count": 9,
   "id": "9c6c2b2d",
   "metadata": {},
   "outputs": [],
   "source": [
    "df['HI-LABEL'] = proportion.apply( lambda x : 1 if (x > 0.233) else 0)"
   ]
  },
  {
   "cell_type": "code",
   "execution_count": 10,
   "id": "2c2701eb",
   "metadata": {},
   "outputs": [],
   "source": [
    "df['STRICT-LABEL'] = proportion.apply( lambda x : 1 if (x > 0.339) else 0)"
   ]
  },
  {
   "cell_type": "code",
   "execution_count": 11,
   "id": "e250d058",
   "metadata": {},
   "outputs": [
    {
     "data": {
      "text/plain": [
       "HI-LABEL\n",
       "0    142139\n",
       "1    168112\n",
       "Name: HI-LABEL, dtype: int64"
      ]
     },
     "execution_count": 11,
     "metadata": {},
     "output_type": "execute_result"
    }
   ],
   "source": [
    "df['HI-LABEL'].groupby(df['HI-LABEL']).size()"
   ]
  },
  {
   "cell_type": "code",
   "execution_count": 12,
   "id": "b5dff018",
   "metadata": {},
   "outputs": [
    {
     "data": {
      "text/plain": [
       "STRICT-LABEL\n",
       "0    189201\n",
       "1    121050\n",
       "Name: STRICT-LABEL, dtype: int64"
      ]
     },
     "execution_count": 12,
     "metadata": {},
     "output_type": "execute_result"
    }
   ],
   "source": [
    "df['STRICT-LABEL'].groupby(df['STRICT-LABEL']).size()"
   ]
  },
  {
   "cell_type": "markdown",
   "id": "14bc334e",
   "metadata": {},
   "source": [
    "We see that 142139 schools in our dataframe as labelled as non-poor, 47062 schools as poor and 121050 as strictly poor schools. High poverty includes strictly poor schools as a subset. Let us try to predict these labels using features from our dataset, and dropping free lunch column from our dataset."
   ]
  },
  {
   "cell_type": "markdown",
   "id": "25f09cd4",
   "metadata": {},
   "source": [
    "# Feature Selection Process"
   ]
  },
  {
   "cell_type": "code",
   "execution_count": 13,
   "id": "3bcf6dbd",
   "metadata": {},
   "outputs": [],
   "source": [
    "\n",
    "from sklearn.linear_model import LogisticRegression\n",
    "\n",
    "from sklearn.neighbors import KNeighborsClassifier\n",
    "from sklearn.ensemble import RandomForestClassifier\n",
    "from sklearn.ensemble import ExtraTreesClassifier\n",
    "\n",
    "from sklearn.metrics import roc_auc_score\n",
    "from sklearn.model_selection import train_test_split\n",
    "from sklearn.pipeline import Pipeline\n",
    "from sklearn.preprocessing import OrdinalEncoder, StandardScaler, OneHotEncoder\n",
    "from sklearn_pandas import DataFrameMapper\n"
   ]
  },
  {
   "cell_type": "code",
   "execution_count": 14,
   "id": "cdcb6ab2",
   "metadata": {},
   "outputs": [],
   "source": [
    "df.drop(columns = ['FREE LUNCH ELIGIBLE', 'SCHOOL', 'STATE', 'COUNTY','ID'], inplace = True)"
   ]
  },
  {
   "cell_type": "code",
   "execution_count": 15,
   "id": "7d268ab8",
   "metadata": {
    "scrolled": false
   },
   "outputs": [
    {
     "data": {
      "text/html": [
       "<div>\n",
       "<style scoped>\n",
       "    .dataframe tbody tr th:only-of-type {\n",
       "        vertical-align: middle;\n",
       "    }\n",
       "\n",
       "    .dataframe tbody tr th {\n",
       "        vertical-align: top;\n",
       "    }\n",
       "\n",
       "    .dataframe thead th {\n",
       "        text-align: right;\n",
       "    }\n",
       "</style>\n",
       "<table border=\"1\" class=\"dataframe\">\n",
       "  <thead>\n",
       "    <tr style=\"text-align: right;\">\n",
       "      <th></th>\n",
       "      <th>ABBR</th>\n",
       "      <th>LOCALE</th>\n",
       "      <th>TOTAL STUDENTS</th>\n",
       "      <th>AMERICAN INDIAN</th>\n",
       "      <th>ASIAN</th>\n",
       "      <th>HISPANIC</th>\n",
       "      <th>BLACK</th>\n",
       "      <th>WHITE</th>\n",
       "      <th>FTE TEACHERS</th>\n",
       "      <th>HI-LABEL</th>\n",
       "      <th>STRICT-LABEL</th>\n",
       "    </tr>\n",
       "  </thead>\n",
       "  <tbody>\n",
       "    <tr>\n",
       "      <th>0</th>\n",
       "      <td>WI</td>\n",
       "      <td>4-Urban fringe of midsize city</td>\n",
       "      <td>193</td>\n",
       "      <td>1</td>\n",
       "      <td>0</td>\n",
       "      <td>0</td>\n",
       "      <td>0</td>\n",
       "      <td>192</td>\n",
       "      <td>0</td>\n",
       "      <td>0</td>\n",
       "      <td>0</td>\n",
       "    </tr>\n",
       "    <tr>\n",
       "      <th>1</th>\n",
       "      <td>WY</td>\n",
       "      <td>6-Small town</td>\n",
       "      <td>48</td>\n",
       "      <td>0</td>\n",
       "      <td>0</td>\n",
       "      <td>0</td>\n",
       "      <td>0</td>\n",
       "      <td>48</td>\n",
       "      <td>4</td>\n",
       "      <td>0</td>\n",
       "      <td>0</td>\n",
       "    </tr>\n",
       "    <tr>\n",
       "      <th>2</th>\n",
       "      <td>MO</td>\n",
       "      <td>6-Small town</td>\n",
       "      <td>731</td>\n",
       "      <td>0</td>\n",
       "      <td>1</td>\n",
       "      <td>4</td>\n",
       "      <td>176</td>\n",
       "      <td>550</td>\n",
       "      <td>0</td>\n",
       "      <td>1</td>\n",
       "      <td>1</td>\n",
       "    </tr>\n",
       "    <tr>\n",
       "      <th>3</th>\n",
       "      <td>TX</td>\n",
       "      <td>6-Small town</td>\n",
       "      <td>813</td>\n",
       "      <td>2</td>\n",
       "      <td>5</td>\n",
       "      <td>54</td>\n",
       "      <td>205</td>\n",
       "      <td>547</td>\n",
       "      <td>0</td>\n",
       "      <td>1</td>\n",
       "      <td>0</td>\n",
       "    </tr>\n",
       "    <tr>\n",
       "      <th>4</th>\n",
       "      <td>MO</td>\n",
       "      <td>3-Urban fringe of large city</td>\n",
       "      <td>860</td>\n",
       "      <td>1</td>\n",
       "      <td>3</td>\n",
       "      <td>1</td>\n",
       "      <td>830</td>\n",
       "      <td>25</td>\n",
       "      <td>0</td>\n",
       "      <td>1</td>\n",
       "      <td>1</td>\n",
       "    </tr>\n",
       "  </tbody>\n",
       "</table>\n",
       "</div>"
      ],
      "text/plain": [
       "  ABBR                          LOCALE  TOTAL STUDENTS  AMERICAN INDIAN  \\\n",
       "0  WI   4-Urban fringe of midsize city             193                1   \n",
       "1  WY                     6-Small town              48                0   \n",
       "2  MO                     6-Small town             731                0   \n",
       "3  TX                     6-Small town             813                2   \n",
       "4  MO     3-Urban fringe of large city             860                1   \n",
       "\n",
       "   ASIAN  HISPANIC  BLACK  WHITE  FTE TEACHERS  HI-LABEL  STRICT-LABEL  \n",
       "0      0         0      0    192             0         0             0  \n",
       "1      0         0      0     48             4         0             0  \n",
       "2      1         4    176    550             0         1             1  \n",
       "3      5        54    205    547             0         1             0  \n",
       "4      3         1    830     25             0         1             1  "
      ]
     },
     "metadata": {},
     "output_type": "display_data"
    }
   ],
   "source": [
    "display(df.head())"
   ]
  },
  {
   "cell_type": "code",
   "execution_count": 16,
   "id": "0a232a61",
   "metadata": {},
   "outputs": [],
   "source": [
    "df.drop(df[df['TOTAL STUDENTS'] == 0].index, inplace = True)"
   ]
  },
  {
   "cell_type": "code",
   "execution_count": 17,
   "id": "8cbd1a7e",
   "metadata": {},
   "outputs": [],
   "source": [
    "high_y = df['HI-LABEL']\n",
    "strict_y = df['STRICT-LABEL']\n",
    "X = df.drop(columns = ['HI-LABEL', 'STRICT-LABEL'])"
   ]
  },
  {
   "cell_type": "code",
   "execution_count": 18,
   "id": "b5798bc8",
   "metadata": {},
   "outputs": [
    {
     "data": {
      "text/plain": [
       "(310212, 9)"
      ]
     },
     "execution_count": 18,
     "metadata": {},
     "output_type": "execute_result"
    }
   ],
   "source": [
    "X.shape"
   ]
  },
  {
   "cell_type": "code",
   "execution_count": 19,
   "id": "a8eecdb2",
   "metadata": {},
   "outputs": [
    {
     "data": {
      "text/plain": [
       "(310212,)"
      ]
     },
     "execution_count": 19,
     "metadata": {},
     "output_type": "execute_result"
    }
   ],
   "source": [
    "high_y.shape"
   ]
  },
  {
   "cell_type": "code",
   "execution_count": 20,
   "id": "38daeee1",
   "metadata": {},
   "outputs": [
    {
     "data": {
      "text/plain": [
       "(310212,)"
      ]
     },
     "execution_count": 20,
     "metadata": {},
     "output_type": "execute_result"
    }
   ],
   "source": [
    "strict_y.shape"
   ]
  },
  {
   "cell_type": "code",
   "execution_count": 21,
   "id": "caaba8cf",
   "metadata": {},
   "outputs": [],
   "source": [
    "categorical_features = ['ABBR', 'LOCALE']\n",
    "numerical_features = ['AMERICAN INDIAN', 'ASIAN', 'HISPANIC', 'BLACK', 'WHITE']"
   ]
  },
  {
   "cell_type": "code",
   "execution_count": 25,
   "id": "43ff95e3",
   "metadata": {},
   "outputs": [],
   "source": [
    "X[categorical_features] = df[categorical_features].astype('category')\n",
    "\n",
    "\n",
    "for category in categorical_features:\n",
    "    X[category] = X[category].cat.codes\n",
    "    X[category] = X[category].astype('str')\n",
    "\n",
    "for numeric in numerical_features:\n",
    "    X[numeric] = (X[numeric]/X['TOTAL STUDENTS']) *100\n",
    "    "
   ]
  },
  {
   "cell_type": "markdown",
   "id": "91b0eaf4",
   "metadata": {},
   "source": [
    "# FEATURE SELECTION FOR high_y LABEL"
   ]
  },
  {
   "cell_type": "code",
   "execution_count": 27,
   "id": "7335e350",
   "metadata": {},
   "outputs": [],
   "source": [
    "X_train, X_test, y_train, y_test = train_test_split(X, high_y, stratify = high_y, random_state = 5)"
   ]
  },
  {
   "cell_type": "code",
   "execution_count": 28,
   "id": "0a5ca9a3",
   "metadata": {},
   "outputs": [
    {
     "data": {
      "text/plain": [
       "(232659, 9)"
      ]
     },
     "execution_count": 28,
     "metadata": {},
     "output_type": "execute_result"
    }
   ],
   "source": [
    "X_train.shape"
   ]
  },
  {
   "cell_type": "code",
   "execution_count": 29,
   "id": "1045e79c",
   "metadata": {
    "scrolled": true
   },
   "outputs": [
    {
     "data": {
      "text/plain": [
       "(232659,)"
      ]
     },
     "execution_count": 29,
     "metadata": {},
     "output_type": "execute_result"
    }
   ],
   "source": [
    "y_train.shape"
   ]
  },
  {
   "cell_type": "code",
   "execution_count": 30,
   "id": "411b6ebc",
   "metadata": {},
   "outputs": [
    {
     "data": {
      "image/png": "[encoded data removed]",
      "text/plain": [
       "<Figure size 432x288 with 1 Axes>"
      ]
     },
     "metadata": {
      "needs_background": "light"
     },
     "output_type": "display_data"
    }
   ],
   "source": [
    "model = RandomForestClassifier( n_estimators = 500, min_samples_leaf = 50, random_state = 1 )\n",
    "\n",
    "  \n",
    "model.fit(X_train, y_train)\n",
    "\n",
    "importances = model.feature_importances_\n",
    "\n",
    "important_df = pd.DataFrame({\"Features\" : X_train.columns, \"Importances\" : importances})\n",
    "\n",
    "important_df = important_df.sort_values('Importances')\n",
    "\n",
    "ax = sns.barplot(data = important_df, x = 'Features', y = 'Importances')\n",
    "ax.set_xticklabels( ax.get_xticklabels(), rotation = 90)\n",
    "plt.show()"
   ]
  },
  {
   "cell_type": "code",
   "execution_count": 47,
   "id": "714aff6f",
   "metadata": {},
   "outputs": [],
   "source": [
    "y_hi_pred = model.predict(X_test)"
   ]
  },
  {
   "cell_type": "code",
   "execution_count": 32,
   "id": "bfa1f974",
   "metadata": {},
   "outputs": [],
   "source": [
    "from sklearn.metrics import accuracy_score, confusion_matrix, classification_report"
   ]
  },
  {
   "cell_type": "code",
   "execution_count": 33,
   "id": "91bbd1bb",
   "metadata": {},
   "outputs": [],
   "source": [
    "accuracy = accuracy_score(y_test, y_hi_pred)"
   ]
  },
  {
   "cell_type": "code",
   "execution_count": 34,
   "id": "516fd5b6",
   "metadata": {},
   "outputs": [
    {
     "name": "stdout",
     "output_type": "stream",
     "text": [
      "0.7987827679135558\n"
     ]
    }
   ],
   "source": [
    "print(accuracy)"
   ]
  },
  {
   "cell_type": "code",
   "execution_count": 35,
   "id": "c290bee3",
   "metadata": {},
   "outputs": [
    {
     "name": "stdout",
     "output_type": "stream",
     "text": [
      "[[28239  7296]\n",
      " [ 8309 33709]]\n"
     ]
    }
   ],
   "source": [
    "print(confusion_matrix( y_test, y_hi_pred))"
   ]
  },
  {
   "cell_type": "code",
   "execution_count": 36,
   "id": "fdf06d25",
   "metadata": {},
   "outputs": [],
   "source": [
    "y_train_pred = model.predict( X_train)"
   ]
  },
  {
   "cell_type": "code",
   "execution_count": 37,
   "id": "c0ffb101",
   "metadata": {
    "scrolled": true
   },
   "outputs": [
    {
     "name": "stdout",
     "output_type": "stream",
     "text": [
      "0.8136758088017227\n"
     ]
    }
   ],
   "source": [
    "print( accuracy_score(y_train_pred, y_train))"
   ]
  },
  {
   "cell_type": "code",
   "execution_count": 48,
   "id": "26077ba1",
   "metadata": {
    "scrolled": true
   },
   "outputs": [
    {
     "name": "stdout",
     "output_type": "stream",
     "text": [
      "[[42515  4785]\n",
      " [ 8601 21652]]\n"
     ]
    }
   ],
   "source": [
    "print( confusion_matrix(y_test, y_hi_pred))"
   ]
  },
  {
   "cell_type": "markdown",
   "id": "712d71b5",
   "metadata": {},
   "source": [
    "# FEATURE SELECTION FOR strict_y LABEL"
   ]
  },
  {
   "cell_type": "code",
   "execution_count": 39,
   "id": "98970e58",
   "metadata": {},
   "outputs": [],
   "source": [
    "X_train, X_test, y_train, y_test = train_test_split(X, strict_y, stratify = strict_y, random_state = 5)\n",
    "\n",
    "X_train[categorical_features] = df[categorical_features].astype('category')\n",
    "X_test[categorical_features] = df[categorical_features].astype('category')\n",
    "\n",
    "for category in categorical_features:\n",
    "    X_train[category] = X_train[category].cat.codes\n",
    "    X_test[category] = X_test[category].cat.codes\n",
    "    X_train[category] = X_train[category].astype('str')\n",
    "    X_test[category] = X_test[category].astype('str')\n",
    "\n",
    "for numeric in numerical_features:\n",
    "    X_train[numeric] = (X_train[numeric]/X_train['TOTAL STUDENTS']) *100\n",
    "    X_test[numeric] = (X_test[numeric]/X_test['TOTAL STUDENTS']) * 100"
   ]
  },
  {
   "cell_type": "code",
   "execution_count": 40,
   "id": "9e7d31cd",
   "metadata": {},
   "outputs": [
    {
     "data": {
      "image/png": "[encoded data removed]",
      "text/plain": [
       "<Figure size 432x288 with 1 Axes>"
      ]
     },
     "metadata": {
      "needs_background": "light"
     },
     "output_type": "display_data"
    }
   ],
   "source": [
    "model = RandomForestClassifier( n_estimators = 500, min_samples_leaf = 50, random_state = 1 )\n",
    "\n",
    "  \n",
    "model.fit(X_train, y_train)\n",
    "\n",
    "importances = model.feature_importances_\n",
    "\n",
    "important_df = pd.DataFrame({\"Features\" : X_train.columns, \"Importances\" : importances})\n",
    "\n",
    "important_df = important_df.sort_values('Importances')\n",
    "\n",
    "ax = sns.barplot(data = important_df, x = 'Features', y = 'Importances')\n",
    "ax.set_xticklabels( ax.get_xticklabels(), rotation = 90)\n",
    "plt.show()"
   ]
  },
  {
   "cell_type": "code",
   "execution_count": 41,
   "id": "9f220a3e",
   "metadata": {},
   "outputs": [
    {
     "name": "stdout",
     "output_type": "stream",
     "text": [
      "0.7987827679135558\n"
     ]
    }
   ],
   "source": [
    "y_pred = model.predict(X_test)\n",
    "test_accuracy = accuracy_score(y_test, y_pred)\n",
    "print(accuracy)"
   ]
  },
  {
   "cell_type": "code",
   "execution_count": 42,
   "id": "a6c5fc7d",
   "metadata": {
    "scrolled": true
   },
   "outputs": [
    {
     "name": "stdout",
     "output_type": "stream",
     "text": [
      "0.8381193076562695\n"
     ]
    }
   ],
   "source": [
    "y_train_pred = model.predict( X_train)\n",
    "train_accuracy = accuracy_score( y_train, y_train_pred)\n",
    "print(train_accuracy)"
   ]
  },
  {
   "cell_type": "code",
   "execution_count": 43,
   "id": "a248607c",
   "metadata": {},
   "outputs": [
    {
     "data": {
      "text/plain": [
       "array([[42515,  4785],\n",
       "       [ 8601, 21652]])"
      ]
     },
     "execution_count": 43,
     "metadata": {},
     "output_type": "execute_result"
    }
   ],
   "source": [
    "confusion_matrix(y_test, y_pred)"
   ]
  },
  {
   "cell_type": "markdown",
   "id": "3c876cfa",
   "metadata": {},
   "source": [
    "# Feature Selection using mutual gain info"
   ]
  },
  {
   "cell_type": "code",
   "execution_count": 50,
   "id": "3af04e1d",
   "metadata": {},
   "outputs": [],
   "source": [
    "from sklearn.feature_selection import mutual_info_classif"
   ]
  },
  {
   "cell_type": "code",
   "execution_count": 59,
   "id": "f852bf46",
   "metadata": {
    "scrolled": true
   },
   "outputs": [
    {
     "data": {
      "image/png": "[encoded data removed]",
      "text/plain": [
       "<Figure size 432x288 with 1 Axes>"
      ]
     },
     "metadata": {
      "needs_background": "light"
     },
     "output_type": "display_data"
    }
   ],
   "source": [
    "importances = mutual_info_classif(X, high_y)\n",
    "\n",
    "\n",
    "feat_importances = pd.Series(importances, X.columns[0: len(X.columns)])\n",
    "feat_importances.plot(kind = 'barh', color = 'red')\n",
    "plt.show()"
   ]
  },
  {
   "cell_type": "markdown",
   "id": "d6ccdb22",
   "metadata": {},
   "source": [
    "# Feature Selection using Correlation"
   ]
  },
  {
   "cell_type": "code",
   "execution_count": 91,
   "id": "a0906b79",
   "metadata": {},
   "outputs": [
    {
     "data": {
      "image/png": "[encoded data removed]",
      "text/plain": [
       "<Figure size 864x864 with 2 Axes>"
      ]
     },
     "metadata": {
      "needs_background": "light"
     },
     "output_type": "display_data"
    }
   ],
   "source": [
    "corr = df.corr()\n",
    "plt.figure( figsize = (12,12))\n",
    "sns.heatmap(corr, annot = True)\n",
    "plt.show()"
   ]
  },
  {
   "cell_type": "markdown",
   "id": "b55312fd",
   "metadata": {},
   "source": [
    "# Recursive Feature Elimination"
   ]
  },
  {
   "cell_type": "code",
   "execution_count": 63,
   "id": "48cbe0e9",
   "metadata": {},
   "outputs": [],
   "source": [
    "from mlxtend.feature_selection import ExhaustiveFeatureSelector"
   ]
  },
  {
   "cell_type": "code",
   "execution_count": 64,
   "id": "85721a66",
   "metadata": {},
   "outputs": [
    {
     "name": "stderr",
     "output_type": "stream",
     "text": [
      "Features: 9/9"
     ]
    }
   ],
   "source": [
    "efs = ExhaustiveFeatureSelector(RandomForestClassifier(), scoring = 'roc_auc', cv = 2)\n",
    "\n",
    "X_train, X_test, y_train, y_test = train_test_split(X, high_y, stratify = high_y, random_state = 5)\n",
    "\n",
    "efs = efs.fit(X_train, y_train)"
   ]
  },
  {
   "cell_type": "code",
   "execution_count": 70,
   "id": "5232c89d",
   "metadata": {},
   "outputs": [
    {
     "name": "stdout",
     "output_type": "stream",
     "text": [
      "0.7093307135139135\n"
     ]
    }
   ],
   "source": [
    "print(efs.best_score_)"
   ]
  },
  {
   "cell_type": "markdown",
   "id": "ac1e33e2",
   "metadata": {},
   "source": [
    "# LASSO Regularization"
   ]
  },
  {
   "cell_type": "code",
   "execution_count": 72,
   "id": "fabe772d",
   "metadata": {},
   "outputs": [],
   "source": [
    "from sklearn.feature_selection import SelectFromModel"
   ]
  },
  {
   "cell_type": "code",
   "execution_count": 82,
   "id": "aeb4f0e8",
   "metadata": {},
   "outputs": [],
   "source": [
    "lr = LogisticRegression(C = 1, penalty = 'l1', solver = 'liblinear', random_state = 5).fit(X_train, y_train.values)"
   ]
  },
  {
   "cell_type": "code",
   "execution_count": 83,
   "id": "2f3c7e35",
   "metadata": {},
   "outputs": [],
   "source": [
    "select_model = SelectFromModel(lr, prefit = True)\n",
    "\n",
    "#X_train_new = select_model.transform( X_train)"
   ]
  },
  {
   "cell_type": "code",
   "execution_count": 89,
   "id": "e29a3d8d",
   "metadata": {
    "scrolled": true
   },
   "outputs": [
    {
     "name": "stdout",
     "output_type": "stream",
     "text": [
      "Index(['ABBR', 'LOCALE', 'TOTAL STUDENTS', 'ASIAN', 'HISPANIC', 'BLACK',\n",
      "       'WHITE', 'FTE TEACHERS'],\n",
      "      dtype='object')\n"
     ]
    }
   ],
   "source": [
    "feat_idx = select_model.get_support()\n",
    "print( X_train.columns[feat_idx])"
   ]
  },
  {
   "cell_type": "markdown",
   "id": "e80b730b",
   "metadata": {},
   "source": [
    "# Conclusion"
   ]
  },
  {
   "cell_type": "markdown",
   "id": "3df3c4c4",
   "metadata": {},
   "source": [
    "We will be using all columns except the 'FTE Teachers' and 'American Indian' columns that consistently performed poorly in all feature selection methods. With this we are ready to move to the Model Selection."
   ]
  }
 ],
 "metadata": {
  "kernelspec": {
   "display_name": "Python 3 (ipykernel)",
   "language": "python",
   "name": "python3"
  },
  "language_info": {
   "codemirror_mode": {
    "name": "ipython",
    "version": 3
   },
   "file_extension": ".py",
   "mimetype": "text/x-python",
   "name": "python",
   "nbconvert_exporter": "python",
   "pygments_lexer": "ipython3",
   "version": "3.8.11"
  }
 },
 "nbformat": 4,
 "nbformat_minor": 5
}
