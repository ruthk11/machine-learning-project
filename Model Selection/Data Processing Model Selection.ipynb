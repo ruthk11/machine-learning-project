{
 "cells": [
  {
   "cell_type": "code",
   "execution_count": 1,
   "id": "5c19bc2d",
   "metadata": {},
   "outputs": [],
   "source": [
    "import pandas as pd\n",
    "import numpy as np\n",
    "import matplotlib.pyplot as plt\n",
    "import seaborn as sns\n",
    "%matplotlib inline"
   ]
  },
  {
   "cell_type": "code",
   "execution_count": 2,
   "id": "89f6cd95",
   "metadata": {},
   "outputs": [
    {
     "name": "stderr",
     "output_type": "stream",
     "text": [
      "/Users/bigyanbhandari/opt/anaconda3/lib/python3.8/site-packages/IPython/core/interactiveshell.py:3441: DtypeWarning: Columns (22) have mixed types.Specify dtype option on import or set low_memory=False.\n",
      "  exec(code_obj, self.user_global_ns, self.user_ns)\n"
     ]
    }
   ],
   "source": [
    "df = pd.read_csv('model-selection-15-19.csv', index_col = 0)"
   ]
  },
  {
   "cell_type": "code",
   "execution_count": 3,
   "id": "e8df29e0",
   "metadata": {},
   "outputs": [
    {
     "name": "stdout",
     "output_type": "stream",
     "text": [
      "<class 'pandas.core.frame.DataFrame'>\n",
      "Int64Index: 399402 entries, 0 to 399401\n",
      "Data columns (total 24 columns):\n",
      " #   Column                           Non-Null Count   Dtype  \n",
      "---  ------                           --------------   -----  \n",
      " 0   SCHOOL                           399390 non-null  object \n",
      " 1   STATE                            399374 non-null  object \n",
      " 2   ID                               399374 non-null  float64\n",
      " 3   ABBR                             399374 non-null  object \n",
      " 4   COUNTY                           399374 non-null  object \n",
      " 5   CHARTER                          399374 non-null  object \n",
      " 6   MAGNET                           399374 non-null  object \n",
      " 7   LOCALE                           399374 non-null  object \n",
      " 8   TITLE I                          399374 non-null  object \n",
      " 9   TITLE I ELIGIBLE                 399374 non-null  object \n",
      " 10  TOTAL STUDENTS                   399374 non-null  object \n",
      " 11  FREE LUNCH ELIGIBLE              399374 non-null  object \n",
      " 12  REDUCED PRICE LUNCH ELIGIBLE     399374 non-null  object \n",
      " 13  FREE AND REDUCED LUNCH ELIGIBLE  399374 non-null  object \n",
      " 14  MALE STUDENTS                    399374 non-null  object \n",
      " 15  FEMALE STUDENTS                  399374 non-null  object \n",
      " 16  AMERICAN INDIAN                  399374 non-null  object \n",
      " 17  ASIAN                            399374 non-null  object \n",
      " 18  HISPANIC                         399374 non-null  object \n",
      " 19  BLACK                            399374 non-null  object \n",
      " 20  WHITE                            399374 non-null  object \n",
      " 21  TOTAL RACE/ETHINICITY            399374 non-null  object \n",
      " 22  FTE TEACHERS                     399374 non-null  object \n",
      " 23  PUPIL-TEACHER RATIO              399374 non-null  object \n",
      "dtypes: float64(1), object(23)\n",
      "memory usage: 76.2+ MB\n"
     ]
    }
   ],
   "source": [
    "df.info()"
   ]
  },
  {
   "cell_type": "code",
   "execution_count": 4,
   "id": "0e6e7697",
   "metadata": {},
   "outputs": [],
   "source": [
    "invalid_title_i = df[~df['TITLE I ELIGIBLE'].isin(['1-Yes', '2-No']) == True].index\n"
   ]
  },
  {
   "cell_type": "code",
   "execution_count": 5,
   "id": "9cd5b2db",
   "metadata": {},
   "outputs": [
    {
     "data": {
      "text/plain": [
       "(381210, 24)"
      ]
     },
     "execution_count": 5,
     "metadata": {},
     "output_type": "execute_result"
    }
   ],
   "source": [
    "df.drop(invalid_title_i, inplace = True)\n",
    "df.reset_index = True\n",
    "df.shape"
   ]
  },
  {
   "cell_type": "code",
   "execution_count": 6,
   "id": "e181e1f8",
   "metadata": {},
   "outputs": [
    {
     "data": {
      "text/plain": [
       "0"
      ]
     },
     "execution_count": 6,
     "metadata": {},
     "output_type": "execute_result"
    }
   ],
   "source": [
    "df['FREE LUNCH ELIGIBLE'].isna().sum()"
   ]
  },
  {
   "cell_type": "code",
   "execution_count": 7,
   "id": "ba02f2f0",
   "metadata": {},
   "outputs": [],
   "source": [
    "df['FREE LUNCH ELIGIBLE NUMERIC'] = df['FREE LUNCH ELIGIBLE'].apply( lambda x : int(x) if str(x).isdigit() else None)"
   ]
  },
  {
   "cell_type": "code",
   "execution_count": 8,
   "id": "24e99065",
   "metadata": {},
   "outputs": [],
   "source": [
    "df.drop(df[df['FREE LUNCH ELIGIBLE NUMERIC'].isna() == True].index, inplace = True)"
   ]
  },
  {
   "cell_type": "code",
   "execution_count": 9,
   "id": "fc7e3840",
   "metadata": {},
   "outputs": [
    {
     "data": {
      "text/plain": [
       "(343946, 25)"
      ]
     },
     "execution_count": 9,
     "metadata": {},
     "output_type": "execute_result"
    }
   ],
   "source": [
    "df.shape"
   ]
  },
  {
   "cell_type": "code",
   "execution_count": 10,
   "id": "e309d647",
   "metadata": {},
   "outputs": [],
   "source": [
    "df['REDUCED PRICE LUNCH ELIGIBLE NUMERIC'] = df['REDUCED PRICE LUNCH ELIGIBLE'].apply( lambda x : int(x) if str(x).isdigit() else None)"
   ]
  },
  {
   "cell_type": "code",
   "execution_count": 11,
   "id": "23dee69e",
   "metadata": {},
   "outputs": [
    {
     "data": {
      "text/plain": [
       "5692"
      ]
     },
     "execution_count": 11,
     "metadata": {},
     "output_type": "execute_result"
    }
   ],
   "source": [
    "df['REDUCED PRICE LUNCH ELIGIBLE NUMERIC'].isna().sum()"
   ]
  },
  {
   "cell_type": "code",
   "execution_count": 12,
   "id": "42170664",
   "metadata": {},
   "outputs": [],
   "source": [
    "df.drop(df[df['REDUCED PRICE LUNCH ELIGIBLE NUMERIC'].isna() == True].index, inplace = True)"
   ]
  },
  {
   "cell_type": "code",
   "execution_count": 13,
   "id": "7aeb25f1",
   "metadata": {},
   "outputs": [
    {
     "data": {
      "text/plain": [
       "0"
      ]
     },
     "execution_count": 13,
     "metadata": {},
     "output_type": "execute_result"
    }
   ],
   "source": [
    "df['FREE AND REDUCED LUNCH ELIGIBLE'].isna().sum()"
   ]
  },
  {
   "cell_type": "code",
   "execution_count": 14,
   "id": "ed2daaee",
   "metadata": {},
   "outputs": [
    {
     "data": {
      "text/plain": [
       "(338254, 26)"
      ]
     },
     "execution_count": 14,
     "metadata": {},
     "output_type": "execute_result"
    }
   ],
   "source": [
    "df.shape"
   ]
  },
  {
   "cell_type": "code",
   "execution_count": 15,
   "id": "6c6bc42e",
   "metadata": {},
   "outputs": [],
   "source": [
    "def replace_nan_zero(x):\n",
    "    if str(x).isdigit():\n",
    "        return x\n",
    "    else:\n",
    "        return 0"
   ]
  },
  {
   "cell_type": "code",
   "execution_count": 16,
   "id": "64621594",
   "metadata": {},
   "outputs": [],
   "source": [
    "df['AMERICAN INDIAN'] = df['AMERICAN INDIAN'].apply( lambda x : replace_nan_zero(x)).apply(pd.to_numeric)\n",
    "df['ASIAN'] = df['ASIAN'].apply( lambda x : replace_nan_zero(x)).apply(pd.to_numeric)\n",
    "df['HISPANIC'] = df['HISPANIC'].apply( lambda x : replace_nan_zero(x)).apply(pd.to_numeric)\n",
    "df['BLACK'] = df['BLACK'].apply( lambda x : replace_nan_zero(x)).apply(pd.to_numeric)\n",
    "df['WHITE'] = df['WHITE'].apply( lambda x : replace_nan_zero(x)).apply(pd.to_numeric)\n",
    "df['TOTAL RACE/ETHINICITY'] = df['TOTAL RACE/ETHINICITY'].apply( lambda x : replace_nan_zero(x)).apply(pd.to_numeric)\n",
    "df['FTE TEACHERS'] = df['FTE TEACHERS'].apply(lambda x : replace_nan_zero(x)).apply(pd.to_numeric)\n",
    "df['MALE STUDENTS'] = df['MALE STUDENTS'].apply(lambda x : replace_nan_zero(x)).apply(pd.to_numeric)\n",
    "df['FEMALE STUDENTS'] = df['FEMALE STUDENTS'].apply(lambda x : replace_nan_zero(x)).apply(pd.to_numeric)\n",
    "df['PUPIL-TEACHER RATIO'] = df['PUPIL-TEACHER RATIO'].apply(lambda x : replace_nan_zero(x)).apply(pd.to_numeric)\n",
    "df['TOTAL STUDENTS'] = df['TOTAL STUDENTS'].apply(lambda x : replace_nan_zero(x)).apply(pd.to_numeric)\n",
    "df['FREE LUNCH ELIGIBLE'] = df['FREE LUNCH ELIGIBLE'].apply(lambda x : replace_nan_zero(x)).apply(pd.to_numeric)\n",
    "df['TOTAL STUDENTS'] = df['TOTAL STUDENTS'].apply(lambda x : replace_nan_zero(x)).apply(pd.to_numeric)\n",
    "df['REDUCED PRICE LUNCH ELIGIBLE'] = df['REDUCED PRICE LUNCH ELIGIBLE'].apply(lambda x : replace_nan_zero(x)).apply(pd.to_numeric)\n",
    "df['FREE AND REDUCED LUNCH ELIGIBLE'] = df['FREE AND REDUCED LUNCH ELIGIBLE'].apply(lambda x : replace_nan_zero(x)).apply(pd.to_numeric)"
   ]
  },
  {
   "cell_type": "code",
   "execution_count": 17,
   "id": "1cfa9521",
   "metadata": {},
   "outputs": [
    {
     "name": "stdout",
     "output_type": "stream",
     "text": [
      "<class 'pandas.core.frame.DataFrame'>\n",
      "Int64Index: 338254 entries, 1 to 399394\n",
      "Data columns (total 26 columns):\n",
      " #   Column                                Non-Null Count   Dtype  \n",
      "---  ------                                --------------   -----  \n",
      " 0   SCHOOL                                338254 non-null  object \n",
      " 1   STATE                                 338254 non-null  object \n",
      " 2   ID                                    338254 non-null  float64\n",
      " 3   ABBR                                  338254 non-null  object \n",
      " 4   COUNTY                                338254 non-null  object \n",
      " 5   CHARTER                               338254 non-null  object \n",
      " 6   MAGNET                                338254 non-null  object \n",
      " 7   LOCALE                                338254 non-null  object \n",
      " 8   TITLE I                               338254 non-null  object \n",
      " 9   TITLE I ELIGIBLE                      338254 non-null  object \n",
      " 10  TOTAL STUDENTS                        338254 non-null  int64  \n",
      " 11  FREE LUNCH ELIGIBLE                   338254 non-null  int64  \n",
      " 12  REDUCED PRICE LUNCH ELIGIBLE          338254 non-null  int64  \n",
      " 13  FREE AND REDUCED LUNCH ELIGIBLE       338254 non-null  int64  \n",
      " 14  MALE STUDENTS                         338254 non-null  int64  \n",
      " 15  FEMALE STUDENTS                       338254 non-null  int64  \n",
      " 16  AMERICAN INDIAN                       338254 non-null  int64  \n",
      " 17  ASIAN                                 338254 non-null  int64  \n",
      " 18  HISPANIC                              338254 non-null  int64  \n",
      " 19  BLACK                                 338254 non-null  int64  \n",
      " 20  WHITE                                 338254 non-null  int64  \n",
      " 21  TOTAL RACE/ETHINICITY                 338254 non-null  int64  \n",
      " 22  FTE TEACHERS                          338254 non-null  int64  \n",
      " 23  PUPIL-TEACHER RATIO                   338254 non-null  int64  \n",
      " 24  FREE LUNCH ELIGIBLE NUMERIC           338254 non-null  float64\n",
      " 25  REDUCED PRICE LUNCH ELIGIBLE NUMERIC  338254 non-null  float64\n",
      "dtypes: float64(3), int64(14), object(9)\n",
      "memory usage: 69.7+ MB\n"
     ]
    }
   ],
   "source": [
    "df.info()"
   ]
  },
  {
   "cell_type": "code",
   "execution_count": 19,
   "id": "d39c16c1",
   "metadata": {},
   "outputs": [],
   "source": [
    "###df.to_csv('model-selection-clean.csv')"
   ]
  }
 ],
 "metadata": {
  "kernelspec": {
   "display_name": "Python 3 (ipykernel)",
   "language": "python",
   "name": "python3"
  },
  "language_info": {
   "codemirror_mode": {
    "name": "ipython",
    "version": 3
   },
   "file_extension": ".py",
   "mimetype": "text/x-python",
   "name": "python",
   "nbconvert_exporter": "python",
   "pygments_lexer": "ipython3",
   "version": "3.8.11"
  }
 },
 "nbformat": 4,
 "nbformat_minor": 5
}
