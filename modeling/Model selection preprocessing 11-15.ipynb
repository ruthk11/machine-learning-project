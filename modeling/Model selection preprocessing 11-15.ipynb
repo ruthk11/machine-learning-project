{
 "cells": [
  {
   "cell_type": "code",
   "execution_count": 1,
   "id": "2b1d232d",
   "metadata": {},
   "outputs": [],
   "source": [
    "import pandas as pd\n",
    "import numpy as np"
   ]
  },
  {
   "cell_type": "code",
   "execution_count": 2,
   "id": "f0126ae7",
   "metadata": {},
   "outputs": [],
   "source": [
    "df1 = pd.read_csv('2011-12.csv')"
   ]
  },
  {
   "cell_type": "code",
   "execution_count": 3,
   "id": "e76cdd4b",
   "metadata": {},
   "outputs": [
    {
     "data": {
      "text/plain": [
       "(99330, 28)"
      ]
     },
     "execution_count": 3,
     "metadata": {},
     "output_type": "execute_result"
    }
   ],
   "source": [
    "df1.shape"
   ]
  },
  {
   "cell_type": "code",
   "execution_count": 4,
   "id": "c9d29899",
   "metadata": {},
   "outputs": [],
   "source": [
    "df2 = pd.read_csv('2012-13.csv')"
   ]
  },
  {
   "cell_type": "code",
   "execution_count": 5,
   "id": "2c7f60de",
   "metadata": {},
   "outputs": [
    {
     "data": {
      "text/plain": [
       "(100926, 28)"
      ]
     },
     "execution_count": 5,
     "metadata": {},
     "output_type": "execute_result"
    }
   ],
   "source": [
    "df2.shape"
   ]
  },
  {
   "cell_type": "code",
   "execution_count": 6,
   "id": "83739fbe",
   "metadata": {},
   "outputs": [],
   "source": [
    "df3 = pd.read_csv('2013-14.csv')"
   ]
  },
  {
   "cell_type": "code",
   "execution_count": 7,
   "id": "42e11efd",
   "metadata": {},
   "outputs": [
    {
     "data": {
      "text/plain": [
       "(100865, 29)"
      ]
     },
     "execution_count": 7,
     "metadata": {},
     "output_type": "execute_result"
    }
   ],
   "source": [
    "df3.shape"
   ]
  },
  {
   "cell_type": "code",
   "execution_count": 8,
   "id": "c445790f",
   "metadata": {},
   "outputs": [],
   "source": [
    "df4 = pd.read_csv('2014-15.csv')"
   ]
  },
  {
   "cell_type": "code",
   "execution_count": 9,
   "id": "7a486e6b",
   "metadata": {},
   "outputs": [
    {
     "data": {
      "text/plain": [
       "(100908, 29)"
      ]
     },
     "execution_count": 9,
     "metadata": {},
     "output_type": "execute_result"
    }
   ],
   "source": [
    "df4.shape"
   ]
  },
  {
   "cell_type": "code",
   "execution_count": 10,
   "id": "8d5c97e5",
   "metadata": {},
   "outputs": [
    {
     "data": {
      "text/plain": [
       "Index(['School Name', 'State Name [Public School] Latest available year',\n",
       "       'School ID - NCES Assigned [Public School] Latest available year',\n",
       "       'State Abbr [Public School] Latest available year',\n",
       "       'County Name [Public School] 2011-12',\n",
       "       'Charter School [Public School] 2011-12',\n",
       "       'Magnet School [Public School] 2011-12',\n",
       "       'Shared Time School [Public School] 2011-12',\n",
       "       'Urban-centric Locale [Public School] 2011-12',\n",
       "       'School-wide Title I [Public School] 2011-12',\n",
       "       'Title I Eligible School [Public School] 2011-12',\n",
       "       'Title I School Status [Public School] 2011-12',\n",
       "       'Total Students All Grades (Excludes AE) [Public School] 2011-12',\n",
       "       'Free Lunch Eligible [Public School] 2011-12',\n",
       "       'Reduced-price Lunch Eligible Students [Public School] 2011-12',\n",
       "       'Free and Reduced Lunch Students [Public School] 2011-12',\n",
       "       'Male Students [Public School] 2011-12',\n",
       "       'Female Students [Public School] 2011-12',\n",
       "       'American Indian/Alaska Native Students [Public School] 2011-12',\n",
       "       'Asian or Asian/Pacific Islander Students [Public School] 2011-12',\n",
       "       'Hispanic Students [Public School] 2011-12',\n",
       "       'Black or African American Students [Public School] 2011-12',\n",
       "       'White Students [Public School] 2011-12',\n",
       "       'Nat. Hawaiian or Other Pacific Isl. Students [Public School] 2011-12',\n",
       "       'Two or More Races Students [Public School] 2011-12',\n",
       "       'Total Race/Ethnicity [Public School] 2011-12',\n",
       "       'Full-Time Equivalent (FTE) Teachers [Public School] 2011-12',\n",
       "       'Pupil/Teacher Ratio [Public School] 2011-12'],\n",
       "      dtype='object')"
      ]
     },
     "execution_count": 10,
     "metadata": {},
     "output_type": "execute_result"
    }
   ],
   "source": [
    "df1.columns"
   ]
  },
  {
   "cell_type": "code",
   "execution_count": 11,
   "id": "288d7ff7",
   "metadata": {},
   "outputs": [
    {
     "data": {
      "text/plain": [
       "Index(['School Name', 'State Name [Public School] Latest available year',\n",
       "       'School ID - NCES Assigned [Public School] Latest available year',\n",
       "       'State Abbr [Public School] Latest available year',\n",
       "       'County Name [Public School] 2012-13',\n",
       "       'Charter School [Public School] 2012-13',\n",
       "       'Magnet School [Public School] 2012-13',\n",
       "       'Shared Time School [Public School] 2012-13',\n",
       "       'Urban-centric Locale [Public School] 2012-13',\n",
       "       'School-wide Title I [Public School] 2012-13',\n",
       "       'Title I Eligible School [Public School] 2012-13',\n",
       "       'Title I School Status [Public School] 2012-13',\n",
       "       'Total Students All Grades (Excludes AE) [Public School] 2012-13',\n",
       "       'Free Lunch Eligible [Public School] 2012-13',\n",
       "       'Reduced-price Lunch Eligible Students [Public School] 2012-13',\n",
       "       'Free and Reduced Lunch Students [Public School] 2012-13',\n",
       "       'Male Students [Public School] 2012-13',\n",
       "       'Female Students [Public School] 2012-13',\n",
       "       'American Indian/Alaska Native Students [Public School] 2012-13',\n",
       "       'Asian or Asian/Pacific Islander Students [Public School] 2012-13',\n",
       "       'Hispanic Students [Public School] 2012-13',\n",
       "       'Black or African American Students [Public School] 2012-13',\n",
       "       'White Students [Public School] 2012-13',\n",
       "       'Nat. Hawaiian or Other Pacific Isl. Students [Public School] 2012-13',\n",
       "       'Two or More Races Students [Public School] 2012-13',\n",
       "       'Total Race/Ethnicity [Public School] 2012-13',\n",
       "       'Full-Time Equivalent (FTE) Teachers [Public School] 2012-13',\n",
       "       'Pupil/Teacher Ratio [Public School] 2012-13'],\n",
       "      dtype='object')"
      ]
     },
     "execution_count": 11,
     "metadata": {},
     "output_type": "execute_result"
    }
   ],
   "source": [
    "df2.columns"
   ]
  },
  {
   "cell_type": "code",
   "execution_count": 12,
   "id": "a287e2b4",
   "metadata": {},
   "outputs": [
    {
     "data": {
      "text/plain": [
       "Index(['School Name', 'State Name [Public School] Latest available year',\n",
       "       'School ID - NCES Assigned [Public School] Latest available year',\n",
       "       'State Abbr [Public School] Latest available year',\n",
       "       'County Name [Public School] 2013-14',\n",
       "       'Charter School [Public School] 2013-14',\n",
       "       'Magnet School [Public School] 2013-14',\n",
       "       'Shared Time School [Public School] 2013-14',\n",
       "       'Urban-centric Locale [Public School] 2013-14',\n",
       "       'School-wide Title I [Public School] 2013-14',\n",
       "       'Title I Eligible School [Public School] 2013-14',\n",
       "       'Title I School Status [Public School] 2013-14',\n",
       "       'National School Lunch Program [Public School] 2013-14',\n",
       "       'Total Students All Grades (Excludes AE) [Public School] 2013-14',\n",
       "       'Free Lunch Eligible [Public School] 2013-14',\n",
       "       'Reduced-price Lunch Eligible Students [Public School] 2013-14',\n",
       "       'Free and Reduced Lunch Students [Public School] 2013-14',\n",
       "       'Male Students [Public School] 2013-14',\n",
       "       'Female Students [Public School] 2013-14',\n",
       "       'American Indian/Alaska Native Students [Public School] 2013-14',\n",
       "       'Asian or Asian/Pacific Islander Students [Public School] 2013-14',\n",
       "       'Hispanic Students [Public School] 2013-14',\n",
       "       'Black or African American Students [Public School] 2013-14',\n",
       "       'White Students [Public School] 2013-14',\n",
       "       'Nat. Hawaiian or Other Pacific Isl. Students [Public School] 2013-14',\n",
       "       'Two or More Races Students [Public School] 2013-14',\n",
       "       'Total Race/Ethnicity [Public School] 2013-14',\n",
       "       'Full-Time Equivalent (FTE) Teachers [Public School] 2013-14',\n",
       "       'Pupil/Teacher Ratio [Public School] 2013-14'],\n",
       "      dtype='object')"
      ]
     },
     "execution_count": 12,
     "metadata": {},
     "output_type": "execute_result"
    }
   ],
   "source": [
    "df3.columns"
   ]
  },
  {
   "cell_type": "code",
   "execution_count": 13,
   "id": "612b7643",
   "metadata": {},
   "outputs": [
    {
     "data": {
      "text/plain": [
       "Index(['School Name', 'State Name [Public School] Latest available year',\n",
       "       'School ID - NCES Assigned [Public School] Latest available year',\n",
       "       'State Abbr [Public School] Latest available year',\n",
       "       'County Name [Public School] 2014-15',\n",
       "       'Charter School [Public School] 2014-15',\n",
       "       'Magnet School [Public School] 2014-15',\n",
       "       'Shared Time School [Public School] 2014-15',\n",
       "       'Urban-centric Locale [Public School] 2014-15',\n",
       "       'School-wide Title I [Public School] 2014-15',\n",
       "       'Title I Eligible School [Public School] 2014-15',\n",
       "       'Title I School Status [Public School] 2014-15',\n",
       "       'National School Lunch Program [Public School] 2014-15',\n",
       "       'Total Students All Grades (Excludes AE) [Public School] 2014-15',\n",
       "       'Free Lunch Eligible [Public School] 2014-15',\n",
       "       'Reduced-price Lunch Eligible Students [Public School] 2014-15',\n",
       "       'Free and Reduced Lunch Students [Public School] 2014-15',\n",
       "       'Male Students [Public School] 2014-15',\n",
       "       'Female Students [Public School] 2014-15',\n",
       "       'American Indian/Alaska Native Students [Public School] 2014-15',\n",
       "       'Asian or Asian/Pacific Islander Students [Public School] 2014-15',\n",
       "       'Hispanic Students [Public School] 2014-15',\n",
       "       'Black or African American Students [Public School] 2014-15',\n",
       "       'White Students [Public School] 2014-15',\n",
       "       'Nat. Hawaiian or Other Pacific Isl. Students [Public School] 2014-15',\n",
       "       'Two or More Races Students [Public School] 2014-15',\n",
       "       'Total Race/Ethnicity [Public School] 2014-15',\n",
       "       'Full-Time Equivalent (FTE) Teachers [Public School] 2014-15',\n",
       "       'Pupil/Teacher Ratio [Public School] 2014-15'],\n",
       "      dtype='object')"
      ]
     },
     "execution_count": 13,
     "metadata": {},
     "output_type": "execute_result"
    }
   ],
   "source": [
    "df4.columns"
   ]
  },
  {
   "cell_type": "code",
   "execution_count": null,
   "id": "79eea3c5",
   "metadata": {},
   "outputs": [],
   "source": []
  },
  {
   "cell_type": "code",
   "execution_count": null,
   "id": "4f13c9ad",
   "metadata": {},
   "outputs": [],
   "source": []
  },
  {
   "cell_type": "code",
   "execution_count": 14,
   "id": "1b79d7cd",
   "metadata": {},
   "outputs": [],
   "source": [
    "df1 = df1.rename( columns = {\n",
    "        'School Name' : 'SCHOOL', \n",
    "        'State Name [Public School] Latest available year' : 'STATE',\n",
    "       'State Abbr [Public School] Latest available year' : 'ABBR',\n",
    "       'School ID - NCES Assigned [Public School] Latest available year' : 'ID',\n",
    "       'County Name [Public School] 2011-12' : 'COUNTY',\n",
    "       'Charter School [Public School] 2011-12' : 'CHARTER',\n",
    "       'Magnet School [Public School] 2011-12' : 'MAGNET',\n",
    "       'Urban-centric Locale [Public School] 2011-12' : 'LOCALE',\n",
    "       'School-wide Title I [Public School] 2011-12' : 'TITLE I',\n",
    "       'Title I Eligible School [Public School] 2011-12' : 'TITLE I ELIGIBLE',\n",
    "       'Total Students All Grades (Excludes AE) [Public School] 2011-12' : 'TOTAL STUDENTS',\n",
    "       'Free Lunch Eligible [Public School] 2011-12' : 'FREE LUNCH ELIGIBLE' ,\n",
    "       'Reduced-price Lunch Eligible Students [Public School] 2011-12' : 'REDUCED PRICE LUNCH ELIGIBLE',\n",
    "       'Free and Reduced Lunch Students [Public School] 2011-12' : 'FREE AND REDUCED LUNCH ELIGIBLE',\n",
    "       'Male Students [Public School] 2011-12' : 'MALE STUDENTS',\n",
    "       'Female Students [Public School] 2011-12' : 'FEMALE STUDENTS',\n",
    "       'American Indian/Alaska Native Students [Public School] 2011-12' : 'AMERICAN INDIAN',\n",
    "       'Asian or Asian/Pacific Islander Students [Public School] 2011-12' : 'ASIAN',\n",
    "       'Hispanic Students [Public School] 2011-12' : 'HISPANIC',\n",
    "       'Black or African American Students [Public School] 2011-12' : 'BLACK',\n",
    "       'White Students [Public School] 2011-12' : 'WHITE',\n",
    "       'Total Race/Ethnicity [Public School] 2011-12' : 'TOTAL RACE/ETHINICITY',\n",
    "       'Full-Time Equivalent (FTE) Teachers [Public School] 2011-12' : 'FTE TEACHERS',\n",
    "       'Pupil/Teacher Ratio [Public School] 2011-12' : 'PUPIL-TEACHER RATIO'\n",
    "})"
   ]
  },
  {
   "cell_type": "code",
   "execution_count": 15,
   "id": "e83e2f08",
   "metadata": {},
   "outputs": [],
   "source": [
    "df2 = df2.rename( columns = {\n",
    "       'School Name' : 'SCHOOL', \n",
    "        'State Name [Public School] Latest available year' : 'STATE',\n",
    "       'State Abbr [Public School] Latest available year' : 'ABBR',\n",
    "       'School ID - NCES Assigned [Public School] Latest available year' : 'ID',\n",
    "       'County Name [Public School] 2012-13' : 'COUNTY',\n",
    "       'Charter School [Public School] 2012-13' : 'CHARTER',\n",
    "       'Magnet School [Public School] 2012-13' : 'MAGNET',\n",
    "       'Urban-centric Locale [Public School] 2012-13' : 'LOCALE',\n",
    "       'School-wide Title I [Public School] 2012-13' : 'TITLE I',\n",
    "       'Title I Eligible School [Public School] 2012-13' : 'TITLE I ELIGIBLE',\n",
    "       'Total Students All Grades (Excludes AE) [Public School] 2012-13' : 'TOTAL STUDENTS',\n",
    "       'Free Lunch Eligible [Public School] 2012-13' : 'FREE LUNCH ELIGIBLE' ,\n",
    "       'Reduced-price Lunch Eligible Students [Public School] 2012-13' : 'REDUCED PRICE LUNCH ELIGIBLE',\n",
    "       'Free and Reduced Lunch Students [Public School] 2012-13' : 'FREE AND REDUCED LUNCH ELIGIBLE',\n",
    "       'Male Students [Public School] 2012-13' : 'MALE STUDENTS',\n",
    "       'Female Students [Public School] 2012-13' : 'FEMALE STUDENTS',\n",
    "       'American Indian/Alaska Native Students [Public School] 2012-13' : 'AMERICAN INDIAN',\n",
    "       'Asian or Asian/Pacific Islander Students [Public School] 2012-13' : 'ASIAN',\n",
    "       'Hispanic Students [Public School] 2012-13' : 'HISPANIC',\n",
    "       'Black or African American Students [Public School] 2012-13' : 'BLACK',\n",
    "       'White Students [Public School] 2012-13' : 'WHITE',\n",
    "       'Total Race/Ethnicity [Public School] 2012-13' : 'TOTAL RACE/ETHINICITY',\n",
    "       'Full-Time Equivalent (FTE) Teachers [Public School] 2012-13' : 'FTE TEACHERS',\n",
    "       'Pupil/Teacher Ratio [Public School] 2012-13' : 'PUPIL-TEACHER RATIO'\n",
    "})"
   ]
  },
  {
   "cell_type": "code",
   "execution_count": 16,
   "id": "02c3f2b2",
   "metadata": {
    "scrolled": true
   },
   "outputs": [
    {
     "data": {
      "text/plain": [
       "Index(['SCHOOL', 'STATE', 'ID', 'ABBR', 'COUNTY', 'CHARTER', 'MAGNET',\n",
       "       'Shared Time School [Public School] 2012-13', 'LOCALE', 'TITLE I',\n",
       "       'TITLE I ELIGIBLE', 'Title I School Status [Public School] 2012-13',\n",
       "       'TOTAL STUDENTS', 'FREE LUNCH ELIGIBLE', 'REDUCED PRICE LUNCH ELIGIBLE',\n",
       "       'FREE AND REDUCED LUNCH ELIGIBLE', 'MALE STUDENTS', 'FEMALE STUDENTS',\n",
       "       'AMERICAN INDIAN', 'ASIAN', 'HISPANIC', 'BLACK', 'WHITE',\n",
       "       'Nat. Hawaiian or Other Pacific Isl. Students [Public School] 2012-13',\n",
       "       'Two or More Races Students [Public School] 2012-13',\n",
       "       'TOTAL RACE/ETHINICITY', 'FTE TEACHERS', 'PUPIL-TEACHER RATIO'],\n",
       "      dtype='object')"
      ]
     },
     "execution_count": 16,
     "metadata": {},
     "output_type": "execute_result"
    }
   ],
   "source": [
    "df2.columns"
   ]
  },
  {
   "cell_type": "code",
   "execution_count": 17,
   "id": "f3ba143f",
   "metadata": {},
   "outputs": [],
   "source": [
    "df3 = df3.rename( columns = {\n",
    "        'School Name' : 'SCHOOL', \n",
    "        'State Name [Public School] Latest available year' : 'STATE',\n",
    "       'State Abbr [Public School] Latest available year' : 'ABBR',\n",
    "       'School ID - NCES Assigned [Public School] Latest available year' : 'ID',\n",
    "       'County Name [Public School] 2013-14' : 'COUNTY',\n",
    "       'Charter School [Public School] 2013-14' : 'CHARTER',\n",
    "       'Magnet School [Public School] 2013-14' : 'MAGNET',\n",
    "       'Urban-centric Locale [Public School] 2013-14' : 'LOCALE',\n",
    "       'School-wide Title I [Public School] 2013-14' : 'TITLE I',\n",
    "       'Title I Eligible School [Public School] 2013-14' : 'TITLE I ELIGIBLE',\n",
    "       'Total Students All Grades (Excludes AE) [Public School] 2013-14' : 'TOTAL STUDENTS',\n",
    "       'Free Lunch Eligible [Public School] 2013-14' : 'FREE LUNCH ELIGIBLE' ,\n",
    "       'Reduced-price Lunch Eligible Students [Public School] 2013-14' : 'REDUCED PRICE LUNCH ELIGIBLE',\n",
    "       'Free and Reduced Lunch Students [Public School] 2013-14' : 'FREE AND REDUCED LUNCH ELIGIBLE',\n",
    "       'Male Students [Public School] 2013-14' : 'MALE STUDENTS',\n",
    "       'Female Students [Public School] 2013-14' : 'FEMALE STUDENTS',\n",
    "       'American Indian/Alaska Native Students [Public School] 2013-14' : 'AMERICAN INDIAN',\n",
    "       'Asian or Asian/Pacific Islander Students [Public School] 2013-14' : 'ASIAN',\n",
    "       'Hispanic Students [Public School] 2013-14' : 'HISPANIC',\n",
    "       'Black or African American Students [Public School] 2013-14' : 'BLACK',\n",
    "       'White Students [Public School] 2013-14' : 'WHITE',\n",
    "       'Total Race/Ethnicity [Public School] 2013-14' : 'TOTAL RACE/ETHINICITY',\n",
    "       'Full-Time Equivalent (FTE) Teachers [Public School] 2013-14' : 'FTE TEACHERS',\n",
    "       'Pupil/Teacher Ratio [Public School] 2013-14' : 'PUPIL-TEACHER RATIO'\n",
    "})"
   ]
  },
  {
   "cell_type": "code",
   "execution_count": 18,
   "id": "86c7a69d",
   "metadata": {},
   "outputs": [
    {
     "data": {
      "text/plain": [
       "Index(['SCHOOL', 'STATE', 'ID', 'ABBR', 'COUNTY', 'CHARTER', 'MAGNET',\n",
       "       'Shared Time School [Public School] 2013-14', 'LOCALE', 'TITLE I',\n",
       "       'TITLE I ELIGIBLE', 'Title I School Status [Public School] 2013-14',\n",
       "       'National School Lunch Program [Public School] 2013-14',\n",
       "       'TOTAL STUDENTS', 'FREE LUNCH ELIGIBLE', 'REDUCED PRICE LUNCH ELIGIBLE',\n",
       "       'FREE AND REDUCED LUNCH ELIGIBLE', 'MALE STUDENTS', 'FEMALE STUDENTS',\n",
       "       'AMERICAN INDIAN', 'ASIAN', 'HISPANIC', 'BLACK', 'WHITE',\n",
       "       'Nat. Hawaiian or Other Pacific Isl. Students [Public School] 2013-14',\n",
       "       'Two or More Races Students [Public School] 2013-14',\n",
       "       'TOTAL RACE/ETHINICITY', 'FTE TEACHERS', 'PUPIL-TEACHER RATIO'],\n",
       "      dtype='object')"
      ]
     },
     "execution_count": 18,
     "metadata": {},
     "output_type": "execute_result"
    }
   ],
   "source": [
    "df3.columns"
   ]
  },
  {
   "cell_type": "code",
   "execution_count": 19,
   "id": "8e8df2c8",
   "metadata": {},
   "outputs": [
    {
     "data": {
      "text/plain": [
       "(100865, 29)"
      ]
     },
     "execution_count": 19,
     "metadata": {},
     "output_type": "execute_result"
    }
   ],
   "source": [
    "df3.shape"
   ]
  },
  {
   "cell_type": "code",
   "execution_count": 20,
   "id": "b1769616",
   "metadata": {},
   "outputs": [],
   "source": [
    "df4 = df4.rename( columns = {\n",
    "    'School Name' : 'SCHOOL', \n",
    "        'State Name [Public School] Latest available year' : 'STATE',\n",
    "       'State Abbr [Public School] Latest available year' : 'ABBR',\n",
    "       'School ID - NCES Assigned [Public School] Latest available year' : 'ID',\n",
    "       'County Name [Public School] 2014-15' : 'COUNTY',\n",
    "       'Charter School [Public School] 2014-15' : 'CHARTER',\n",
    "       'Magnet School [Public School] 2014-15' : 'MAGNET',\n",
    "       'Urban-centric Locale [Public School] 2014-15' : 'LOCALE',\n",
    "       'School-wide Title I [Public School] 2014-15' : 'TITLE I',\n",
    "       'Title I Eligible School [Public School] 2014-15' : 'TITLE I ELIGIBLE',\n",
    "       'Total Students All Grades (Excludes AE) [Public School] 2014-15' : 'TOTAL STUDENTS',\n",
    "       'Free Lunch Eligible [Public School] 2014-15' : 'FREE LUNCH ELIGIBLE' ,\n",
    "       'Reduced-price Lunch Eligible Students [Public School] 2014-15' : 'REDUCED PRICE LUNCH ELIGIBLE',\n",
    "       'Free and Reduced Lunch Students [Public School] 2014-15' : 'FREE AND REDUCED LUNCH ELIGIBLE',\n",
    "       'Male Students [Public School] 2014-15' : 'MALE STUDENTS',\n",
    "       'Female Students [Public School] 2014-15' : 'FEMALE STUDENTS',\n",
    "       'American Indian/Alaska Native Students [Public School] 2014-15' : 'AMERICAN INDIAN',\n",
    "       'Asian or Asian/Pacific Islander Students [Public School] 2014-15' : 'ASIAN',\n",
    "       'Hispanic Students [Public School] 2014-15' : 'HISPANIC',\n",
    "       'Black or African American Students [Public School] 2014-15' : 'BLACK',\n",
    "       'White Students [Public School] 2014-15' : 'WHITE',\n",
    "       'Total Race/Ethnicity [Public School] 2014-15' : 'TOTAL RACE/ETHINICITY',\n",
    "       'Full-Time Equivalent (FTE) Teachers [Public School] 2014-15' : 'FTE TEACHERS',\n",
    "       'Pupil/Teacher Ratio [Public School] 2014-15' : 'PUPIL-TEACHER RATIO'\n",
    "})"
   ]
  },
  {
   "cell_type": "code",
   "execution_count": 21,
   "id": "3ba58db4",
   "metadata": {},
   "outputs": [
    {
     "data": {
      "text/plain": [
       "Index(['SCHOOL', 'STATE', 'ID', 'ABBR', 'COUNTY', 'CHARTER', 'MAGNET',\n",
       "       'Shared Time School [Public School] 2011-12', 'LOCALE', 'TITLE I',\n",
       "       'TITLE I ELIGIBLE', 'Title I School Status [Public School] 2011-12',\n",
       "       'TOTAL STUDENTS', 'FREE LUNCH ELIGIBLE', 'REDUCED PRICE LUNCH ELIGIBLE',\n",
       "       'FREE AND REDUCED LUNCH ELIGIBLE', 'MALE STUDENTS', 'FEMALE STUDENTS',\n",
       "       'AMERICAN INDIAN', 'ASIAN', 'HISPANIC', 'BLACK', 'WHITE',\n",
       "       'Nat. Hawaiian or Other Pacific Isl. Students [Public School] 2011-12',\n",
       "       'Two or More Races Students [Public School] 2011-12',\n",
       "       'TOTAL RACE/ETHINICITY', 'FTE TEACHERS', 'PUPIL-TEACHER RATIO'],\n",
       "      dtype='object')"
      ]
     },
     "execution_count": 21,
     "metadata": {},
     "output_type": "execute_result"
    }
   ],
   "source": [
    "df1.columns"
   ]
  },
  {
   "cell_type": "code",
   "execution_count": 22,
   "id": "ca37f720",
   "metadata": {
    "scrolled": true
   },
   "outputs": [
    {
     "data": {
      "text/plain": [
       "Index(['SCHOOL', 'STATE', 'ID', 'ABBR', 'COUNTY', 'CHARTER', 'MAGNET',\n",
       "       'Shared Time School [Public School] 2012-13', 'LOCALE', 'TITLE I',\n",
       "       'TITLE I ELIGIBLE', 'Title I School Status [Public School] 2012-13',\n",
       "       'TOTAL STUDENTS', 'FREE LUNCH ELIGIBLE', 'REDUCED PRICE LUNCH ELIGIBLE',\n",
       "       'FREE AND REDUCED LUNCH ELIGIBLE', 'MALE STUDENTS', 'FEMALE STUDENTS',\n",
       "       'AMERICAN INDIAN', 'ASIAN', 'HISPANIC', 'BLACK', 'WHITE',\n",
       "       'Nat. Hawaiian or Other Pacific Isl. Students [Public School] 2012-13',\n",
       "       'Two or More Races Students [Public School] 2012-13',\n",
       "       'TOTAL RACE/ETHINICITY', 'FTE TEACHERS', 'PUPIL-TEACHER RATIO'],\n",
       "      dtype='object')"
      ]
     },
     "execution_count": 22,
     "metadata": {},
     "output_type": "execute_result"
    }
   ],
   "source": [
    "df2.columns"
   ]
  },
  {
   "cell_type": "code",
   "execution_count": null,
   "id": "81fcda4b",
   "metadata": {},
   "outputs": [],
   "source": []
  },
  {
   "cell_type": "code",
   "execution_count": 23,
   "id": "e45c1ce9",
   "metadata": {},
   "outputs": [],
   "source": [
    "df1.drop(columns = ['Shared Time School [Public School] 2011-12',\n",
    "    'Title I School Status [Public School] 2011-12',\n",
    "    'Nat. Hawaiian or Other Pacific Isl. Students [Public School] 2011-12', \n",
    "                    'Two or More Races Students [Public School] 2011-12'\n",
    "], inplace = True)\n",
    "\n",
    "df2.drop(columns = ['Shared Time School [Public School] 2012-13',\n",
    "    'Title I School Status [Public School] 2012-13',\n",
    "    'Nat. Hawaiian or Other Pacific Isl. Students [Public School] 2012-13',  \n",
    "                    'Two or More Races Students [Public School] 2012-13'\n",
    "], inplace = True)\n",
    "\n",
    "df3.drop(columns = ['Shared Time School [Public School] 2013-14',\n",
    "    'Title I School Status [Public School] 2013-14',\n",
    "    'Nat. Hawaiian or Other Pacific Isl. Students [Public School] 2013-14',  \n",
    "                    'Two or More Races Students [Public School] 2013-14',\n",
    "                    'National School Lunch Program [Public School] 2013-14'\n",
    "], inplace = True)\n",
    "\n",
    "df4.drop(columns = ['Shared Time School [Public School] 2014-15',\n",
    "    'Title I School Status [Public School] 2014-15',\n",
    "    'Nat. Hawaiian or Other Pacific Isl. Students [Public School] 2014-15',\n",
    "                    'Two or More Races Students [Public School] 2014-15',\n",
    "                    'National School Lunch Program [Public School] 2014-15'\n",
    "], inplace = True)"
   ]
  },
  {
   "cell_type": "code",
   "execution_count": 24,
   "id": "0c3b3078",
   "metadata": {},
   "outputs": [
    {
     "data": {
      "text/plain": [
       "Index(['SCHOOL', 'STATE', 'ID', 'ABBR', 'COUNTY', 'CHARTER', 'MAGNET',\n",
       "       'LOCALE', 'TITLE I', 'TITLE I ELIGIBLE', 'TOTAL STUDENTS',\n",
       "       'FREE LUNCH ELIGIBLE', 'REDUCED PRICE LUNCH ELIGIBLE',\n",
       "       'FREE AND REDUCED LUNCH ELIGIBLE', 'MALE STUDENTS', 'FEMALE STUDENTS',\n",
       "       'AMERICAN INDIAN', 'ASIAN', 'HISPANIC', 'BLACK', 'WHITE',\n",
       "       'TOTAL RACE/ETHINICITY', 'FTE TEACHERS', 'PUPIL-TEACHER RATIO'],\n",
       "      dtype='object')"
      ]
     },
     "execution_count": 24,
     "metadata": {},
     "output_type": "execute_result"
    }
   ],
   "source": [
    "df3.columns"
   ]
  },
  {
   "cell_type": "code",
   "execution_count": 25,
   "id": "dc5812e7",
   "metadata": {},
   "outputs": [
    {
     "data": {
      "text/plain": [
       "Index(['SCHOOL', 'STATE', 'ID', 'ABBR', 'COUNTY', 'CHARTER', 'MAGNET',\n",
       "       'LOCALE', 'TITLE I', 'TITLE I ELIGIBLE', 'TOTAL STUDENTS',\n",
       "       'FREE LUNCH ELIGIBLE', 'REDUCED PRICE LUNCH ELIGIBLE',\n",
       "       'FREE AND REDUCED LUNCH ELIGIBLE', 'MALE STUDENTS', 'FEMALE STUDENTS',\n",
       "       'AMERICAN INDIAN', 'ASIAN', 'HISPANIC', 'BLACK', 'WHITE',\n",
       "       'TOTAL RACE/ETHINICITY', 'FTE TEACHERS', 'PUPIL-TEACHER RATIO'],\n",
       "      dtype='object')"
      ]
     },
     "execution_count": 25,
     "metadata": {},
     "output_type": "execute_result"
    }
   ],
   "source": [
    "df4.columns"
   ]
  },
  {
   "cell_type": "code",
   "execution_count": 26,
   "id": "4ef04914",
   "metadata": {},
   "outputs": [
    {
     "data": {
      "text/html": [
       "<div>\n",
       "<style scoped>\n",
       "    .dataframe tbody tr th:only-of-type {\n",
       "        vertical-align: middle;\n",
       "    }\n",
       "\n",
       "    .dataframe tbody tr th {\n",
       "        vertical-align: top;\n",
       "    }\n",
       "\n",
       "    .dataframe thead th {\n",
       "        text-align: right;\n",
       "    }\n",
       "</style>\n",
       "<table border=\"1\" class=\"dataframe\">\n",
       "  <thead>\n",
       "    <tr style=\"text-align: right;\">\n",
       "      <th></th>\n",
       "      <th>SCHOOL</th>\n",
       "      <th>STATE</th>\n",
       "      <th>ID</th>\n",
       "      <th>ABBR</th>\n",
       "      <th>COUNTY</th>\n",
       "      <th>CHARTER</th>\n",
       "      <th>MAGNET</th>\n",
       "      <th>LOCALE</th>\n",
       "      <th>TITLE I</th>\n",
       "      <th>TITLE I ELIGIBLE</th>\n",
       "      <th>TOTAL STUDENTS</th>\n",
       "      <th>FREE LUNCH ELIGIBLE</th>\n",
       "      <th>REDUCED PRICE LUNCH ELIGIBLE</th>\n",
       "      <th>FREE AND REDUCED LUNCH ELIGIBLE</th>\n",
       "      <th>MALE STUDENTS</th>\n",
       "      <th>FEMALE STUDENTS</th>\n",
       "      <th>AMERICAN INDIAN</th>\n",
       "      <th>ASIAN</th>\n",
       "      <th>HISPANIC</th>\n",
       "      <th>BLACK</th>\n",
       "      <th>WHITE</th>\n",
       "      <th>TOTAL RACE/ETHINICITY</th>\n",
       "      <th>FTE TEACHERS</th>\n",
       "      <th>PUPIL-TEACHER RATIO</th>\n",
       "    </tr>\n",
       "  </thead>\n",
       "  <tbody>\n",
       "    <tr>\n",
       "      <th>0</th>\n",
       "      <td>1 LT CHARLES W. WHITCOMB SCHOOL</td>\n",
       "      <td>Massachusetts</td>\n",
       "      <td>2.507320e+11</td>\n",
       "      <td>MA</td>\n",
       "      <td>MIDDLESEX COUNTY</td>\n",
       "      <td>2-No</td>\n",
       "      <td>–</td>\n",
       "      <td>21-Suburb: Large</td>\n",
       "      <td>1-Yes</td>\n",
       "      <td>1-Yes</td>\n",
       "      <td>1325</td>\n",
       "      <td>627</td>\n",
       "      <td>90</td>\n",
       "      <td>717</td>\n",
       "      <td>681</td>\n",
       "      <td>644</td>\n",
       "      <td>1</td>\n",
       "      <td>31</td>\n",
       "      <td>522</td>\n",
       "      <td>29</td>\n",
       "      <td>703</td>\n",
       "      <td>1325.0</td>\n",
       "      <td>116.44</td>\n",
       "      <td>11.38</td>\n",
       "    </tr>\n",
       "    <tr>\n",
       "      <th>1</th>\n",
       "      <td>100 BLACK MEN OF THE BAY AREA COMMUNITY</td>\n",
       "      <td>California</td>\n",
       "      <td>6.280501e+10</td>\n",
       "      <td>CA</td>\n",
       "      <td>ALAMEDA COUNTY</td>\n",
       "      <td>1-Yes</td>\n",
       "      <td>†</td>\n",
       "      <td>11-City: Large</td>\n",
       "      <td>†</td>\n",
       "      <td>†</td>\n",
       "      <td>†</td>\n",
       "      <td>†</td>\n",
       "      <td>†</td>\n",
       "      <td>†</td>\n",
       "      <td>†</td>\n",
       "      <td>†</td>\n",
       "      <td>†</td>\n",
       "      <td>†</td>\n",
       "      <td>†</td>\n",
       "      <td>†</td>\n",
       "      <td>†</td>\n",
       "      <td>0.0</td>\n",
       "      <td>†</td>\n",
       "      <td>†</td>\n",
       "    </tr>\n",
       "    <tr>\n",
       "      <th>2</th>\n",
       "      <td>10TH STREET SCHOOL</td>\n",
       "      <td>Washington</td>\n",
       "      <td>5.304860e+11</td>\n",
       "      <td>WA</td>\n",
       "      <td>SNOHOMISH COUNTY</td>\n",
       "      <td>2-No</td>\n",
       "      <td>–</td>\n",
       "      <td>22-Suburb: Mid-size</td>\n",
       "      <td>†</td>\n",
       "      <td>2-No</td>\n",
       "      <td>167</td>\n",
       "      <td>20</td>\n",
       "      <td>7</td>\n",
       "      <td>27</td>\n",
       "      <td>82</td>\n",
       "      <td>85</td>\n",
       "      <td>4</td>\n",
       "      <td>3</td>\n",
       "      <td>15</td>\n",
       "      <td>0</td>\n",
       "      <td>129</td>\n",
       "      <td>167.0</td>\n",
       "      <td>7.3</td>\n",
       "      <td>22.88</td>\n",
       "    </tr>\n",
       "    <tr>\n",
       "      <th>3</th>\n",
       "      <td>112 ALC INDEPENDENT STUDY</td>\n",
       "      <td>Minnesota</td>\n",
       "      <td>2.708190e+11</td>\n",
       "      <td>MN</td>\n",
       "      <td>CARVER COUNTY</td>\n",
       "      <td>2-No</td>\n",
       "      <td>2-No</td>\n",
       "      <td>21-Suburb: Large</td>\n",
       "      <td>†</td>\n",
       "      <td>2-No</td>\n",
       "      <td>12</td>\n",
       "      <td>0</td>\n",
       "      <td>0</td>\n",
       "      <td>0</td>\n",
       "      <td>10</td>\n",
       "      <td>2</td>\n",
       "      <td>0</td>\n",
       "      <td>0</td>\n",
       "      <td>4</td>\n",
       "      <td>0</td>\n",
       "      <td>7</td>\n",
       "      <td>12.0</td>\n",
       "      <td>–</td>\n",
       "      <td>–</td>\n",
       "    </tr>\n",
       "    <tr>\n",
       "      <th>4</th>\n",
       "      <td>112 ALC MIDDLE SCHOOL</td>\n",
       "      <td>Minnesota</td>\n",
       "      <td>2.708190e+11</td>\n",
       "      <td>MN</td>\n",
       "      <td>CARVER COUNTY</td>\n",
       "      <td>2-No</td>\n",
       "      <td>2-No</td>\n",
       "      <td>21-Suburb: Large</td>\n",
       "      <td>†</td>\n",
       "      <td>2-No</td>\n",
       "      <td>159</td>\n",
       "      <td>76</td>\n",
       "      <td>15</td>\n",
       "      <td>91</td>\n",
       "      <td>79</td>\n",
       "      <td>80</td>\n",
       "      <td>2</td>\n",
       "      <td>5</td>\n",
       "      <td>46</td>\n",
       "      <td>12</td>\n",
       "      <td>86</td>\n",
       "      <td>159.0</td>\n",
       "      <td>0.86</td>\n",
       "      <td>184.88</td>\n",
       "    </tr>\n",
       "  </tbody>\n",
       "</table>\n",
       "</div>"
      ],
      "text/plain": [
       "                                    SCHOOL          STATE            ID ABBR  \\\n",
       "0          1 LT CHARLES W. WHITCOMB SCHOOL  Massachusetts  2.507320e+11  MA    \n",
       "1  100 BLACK MEN OF THE BAY AREA COMMUNITY     California  6.280501e+10  CA    \n",
       "2                       10TH STREET SCHOOL     Washington  5.304860e+11  WA    \n",
       "3                112 ALC INDEPENDENT STUDY      Minnesota  2.708190e+11  MN    \n",
       "4                    112 ALC MIDDLE SCHOOL      Minnesota  2.708190e+11  MN    \n",
       "\n",
       "             COUNTY CHARTER MAGNET               LOCALE TITLE I  \\\n",
       "0  MIDDLESEX COUNTY    2-No      –     21-Suburb: Large   1-Yes   \n",
       "1    ALAMEDA COUNTY   1-Yes      †       11-City: Large       †   \n",
       "2  SNOHOMISH COUNTY    2-No      –  22-Suburb: Mid-size       †   \n",
       "3     CARVER COUNTY    2-No   2-No     21-Suburb: Large       †   \n",
       "4     CARVER COUNTY    2-No   2-No     21-Suburb: Large       †   \n",
       "\n",
       "  TITLE I ELIGIBLE TOTAL STUDENTS FREE LUNCH ELIGIBLE  \\\n",
       "0            1-Yes           1325                 627   \n",
       "1                †              †                   †   \n",
       "2             2-No            167                  20   \n",
       "3             2-No             12                   0   \n",
       "4             2-No            159                  76   \n",
       "\n",
       "  REDUCED PRICE LUNCH ELIGIBLE FREE AND REDUCED LUNCH ELIGIBLE MALE STUDENTS  \\\n",
       "0                           90                             717           681   \n",
       "1                            †                               †             †   \n",
       "2                            7                              27            82   \n",
       "3                            0                               0            10   \n",
       "4                           15                              91            79   \n",
       "\n",
       "  FEMALE STUDENTS AMERICAN INDIAN ASIAN HISPANIC BLACK WHITE  \\\n",
       "0             644               1    31      522    29   703   \n",
       "1               †               †     †        †     †     †   \n",
       "2              85               4     3       15     0   129   \n",
       "3               2               0     0        4     0     7   \n",
       "4              80               2     5       46    12    86   \n",
       "\n",
       "   TOTAL RACE/ETHINICITY FTE TEACHERS PUPIL-TEACHER RATIO  \n",
       "0                 1325.0       116.44               11.38  \n",
       "1                    0.0            †                   †  \n",
       "2                  167.0          7.3               22.88  \n",
       "3                   12.0            –                   –  \n",
       "4                  159.0         0.86              184.88  "
      ]
     },
     "execution_count": 26,
     "metadata": {},
     "output_type": "execute_result"
    }
   ],
   "source": [
    "pd.options.display.max_columns = None\n",
    "df4.head()"
   ]
  },
  {
   "cell_type": "code",
   "execution_count": 27,
   "id": "3677314d",
   "metadata": {},
   "outputs": [
    {
     "data": {
      "text/plain": [
       "(100908, 24)"
      ]
     },
     "execution_count": 27,
     "metadata": {},
     "output_type": "execute_result"
    }
   ],
   "source": [
    "df4.shape"
   ]
  },
  {
   "cell_type": "code",
   "execution_count": 28,
   "id": "a67194b5",
   "metadata": {},
   "outputs": [],
   "source": [
    "#df = pd.concat([df1, df2, df3, df4], ignore_index = True)"
   ]
  },
  {
   "cell_type": "code",
   "execution_count": 29,
   "id": "c59f3954",
   "metadata": {},
   "outputs": [
    {
     "data": {
      "text/plain": [
       "(99330, 24)"
      ]
     },
     "execution_count": 29,
     "metadata": {},
     "output_type": "execute_result"
    }
   ],
   "source": [
    "df1.shape"
   ]
  },
  {
   "cell_type": "code",
   "execution_count": 30,
   "id": "1d0d9092",
   "metadata": {},
   "outputs": [
    {
     "data": {
      "text/plain": [
       "(100926, 24)"
      ]
     },
     "execution_count": 30,
     "metadata": {},
     "output_type": "execute_result"
    }
   ],
   "source": [
    "df2.shape"
   ]
  },
  {
   "cell_type": "code",
   "execution_count": 31,
   "id": "a293f771",
   "metadata": {},
   "outputs": [
    {
     "data": {
      "text/plain": [
       "(100865, 24)"
      ]
     },
     "execution_count": 31,
     "metadata": {},
     "output_type": "execute_result"
    }
   ],
   "source": [
    "df3.shape"
   ]
  },
  {
   "cell_type": "code",
   "execution_count": 32,
   "id": "4f079fe3",
   "metadata": {},
   "outputs": [],
   "source": [
    "df = pd.concat([df1, df2, df3, df4], ignore_index = True)"
   ]
  },
  {
   "cell_type": "code",
   "execution_count": 33,
   "id": "c709213c",
   "metadata": {},
   "outputs": [
    {
     "data": {
      "text/plain": [
       "(402029, 24)"
      ]
     },
     "execution_count": 33,
     "metadata": {},
     "output_type": "execute_result"
    }
   ],
   "source": [
    "df.shape"
   ]
  },
  {
   "cell_type": "code",
   "execution_count": 34,
   "id": "38f2b198",
   "metadata": {},
   "outputs": [],
   "source": [
    "df.to_csv('modeling-11-15.csv')"
   ]
  }
 ],
 "metadata": {
  "kernelspec": {
   "display_name": "Python 3 (ipykernel)",
   "language": "python",
   "name": "python3"
  },
  "language_info": {
   "codemirror_mode": {
    "name": "ipython",
    "version": 3
   },
   "file_extension": ".py",
   "mimetype": "text/x-python",
   "name": "python",
   "nbconvert_exporter": "python",
   "pygments_lexer": "ipython3",
   "version": "3.8.11"
  }
 },
 "nbformat": 4,
 "nbformat_minor": 5
}
