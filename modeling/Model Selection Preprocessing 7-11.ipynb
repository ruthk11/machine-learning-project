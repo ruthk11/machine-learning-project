{
 "cells": [
  {
   "cell_type": "code",
   "execution_count": 1,
   "id": "2b1d232d",
   "metadata": {},
   "outputs": [],
   "source": [
    "import pandas as pd\n",
    "import numpy as np"
   ]
  },
  {
   "cell_type": "code",
   "execution_count": 2,
   "id": "f0126ae7",
   "metadata": {},
   "outputs": [],
   "source": [
    "df1 = pd.read_csv('2007-08.csv')"
   ]
  },
  {
   "cell_type": "code",
   "execution_count": 3,
   "id": "e76cdd4b",
   "metadata": {},
   "outputs": [
    {
     "data": {
      "text/plain": [
       "(99542, 25)"
      ]
     },
     "execution_count": 3,
     "metadata": {},
     "output_type": "execute_result"
    }
   ],
   "source": [
    "df1.shape"
   ]
  },
  {
   "cell_type": "code",
   "execution_count": 4,
   "id": "c9d29899",
   "metadata": {},
   "outputs": [],
   "source": [
    "df2 = pd.read_csv('2008-09.csv')"
   ]
  },
  {
   "cell_type": "code",
   "execution_count": 5,
   "id": "2c7f60de",
   "metadata": {},
   "outputs": [
    {
     "data": {
      "text/plain": [
       "(99797, 27)"
      ]
     },
     "execution_count": 5,
     "metadata": {},
     "output_type": "execute_result"
    }
   ],
   "source": [
    "df2.shape"
   ]
  },
  {
   "cell_type": "code",
   "execution_count": 6,
   "id": "83739fbe",
   "metadata": {},
   "outputs": [],
   "source": [
    "df3 = pd.read_csv('2009-10.csv')"
   ]
  },
  {
   "cell_type": "code",
   "execution_count": 7,
   "id": "42e11efd",
   "metadata": {},
   "outputs": [
    {
     "data": {
      "text/plain": [
       "(99822, 27)"
      ]
     },
     "execution_count": 7,
     "metadata": {},
     "output_type": "execute_result"
    }
   ],
   "source": [
    "df3.shape"
   ]
  },
  {
   "cell_type": "code",
   "execution_count": 8,
   "id": "9a9783a9",
   "metadata": {},
   "outputs": [],
   "source": [
    "df4 = pd.read_csv('2010-11.csv')"
   ]
  },
  {
   "cell_type": "code",
   "execution_count": 9,
   "id": "180279fa",
   "metadata": {},
   "outputs": [
    {
     "data": {
      "text/plain": [
       "(99767, 28)"
      ]
     },
     "execution_count": 9,
     "metadata": {},
     "output_type": "execute_result"
    }
   ],
   "source": [
    "df4.shape"
   ]
  },
  {
   "cell_type": "code",
   "execution_count": 10,
   "id": "8d5c97e5",
   "metadata": {},
   "outputs": [
    {
     "data": {
      "text/plain": [
       "Index(['School Name', 'State Name [Public School] Latest available year',\n",
       "       'School ID - NCES Assigned [Public School] Latest available year',\n",
       "       'State Abbr [Public School] Latest available year',\n",
       "       'County Name [Public School] 2007-08',\n",
       "       'Charter School [Public School] 2007-08',\n",
       "       'Magnet School [Public School] 2007-08',\n",
       "       'Shared Time School [Public School] 2007-08',\n",
       "       'Urban-centric Locale [Public School] 2007-08',\n",
       "       'School-wide Title I [Public School] 2007-08',\n",
       "       'Title I Eligible School [Public School] 2007-08',\n",
       "       'Total Students All Grades (Excludes AE) [Public School] 2007-08',\n",
       "       'Free Lunch Eligible [Public School] 2007-08',\n",
       "       'Reduced-price Lunch Eligible Students [Public School] 2007-08',\n",
       "       'Free and Reduced Lunch Students [Public School] 2007-08',\n",
       "       'Male Students [Public School] 2007-08',\n",
       "       'Female Students [Public School] 2007-08',\n",
       "       'American Indian/Alaska Native Students [Public School] 2007-08',\n",
       "       'Asian or Asian/Pacific Islander Students [Public School] 2007-08',\n",
       "       'Hispanic Students [Public School] 2007-08',\n",
       "       'Black or African American Students [Public School] 2007-08',\n",
       "       'White Students [Public School] 2007-08',\n",
       "       'Total Race/Ethnicity [Public School] 2007-08',\n",
       "       'Full-Time Equivalent (FTE) Teachers [Public School] 2007-08',\n",
       "       'Pupil/Teacher Ratio [Public School] 2007-08'],\n",
       "      dtype='object')"
      ]
     },
     "execution_count": 10,
     "metadata": {},
     "output_type": "execute_result"
    }
   ],
   "source": [
    "df1.columns"
   ]
  },
  {
   "cell_type": "code",
   "execution_count": null,
   "id": "c8e374dd",
   "metadata": {},
   "outputs": [],
   "source": []
  },
  {
   "cell_type": "code",
   "execution_count": 11,
   "id": "1b79d7cd",
   "metadata": {},
   "outputs": [],
   "source": [
    "df1 = df1.rename( columns = {\n",
    "        'School Name' : 'SCHOOL', \n",
    "        'State Name [Public School] Latest available year' : 'STATE',\n",
    "       'State Abbr [Public School] Latest available year' : 'ABBR',\n",
    "       'School ID - NCES Assigned [Public School] Latest available year' : 'ID',\n",
    "       'County Name [Public School] 2007-08' : 'COUNTY',\n",
    "       'Charter School [Public School] 2007-08' : 'CHARTER',\n",
    "       'Magnet School [Public School] 2007-08' : 'MAGNET',\n",
    "       'Urban-centric Locale [Public School] 2007-08' : 'LOCALE',\n",
    "       'School-wide Title I [Public School] 2007-08' : 'TITLE I',\n",
    "       'Title I Eligible School [Public School] 2007-08' : 'TITLE I ELIGIBLE',\n",
    "       'Total Students All Grades (Excludes AE) [Public School] 2007-08' : 'TOTAL STUDENTS',\n",
    "       'Free Lunch Eligible [Public School] 2007-08' : 'FREE LUNCH ELIGIBLE' ,\n",
    "       'Reduced-price Lunch Eligible Students [Public School] 2007-08' : 'REDUCED PRICE LUNCH ELIGIBLE',\n",
    "       'Free and Reduced Lunch Students [Public School] 2007-08' : 'FREE AND REDUCED LUNCH ELIGIBLE',\n",
    "       'Male Students [Public School] 2007-08' : 'MALE STUDENTS',\n",
    "       'Female Students [Public School] 2007-08' : 'FEMALE STUDENTS',\n",
    "       'American Indian/Alaska Native Students [Public School] 2007-08' : 'AMERICAN INDIAN',\n",
    "       'Asian or Asian/Pacific Islander Students [Public School] 2007-08' : 'ASIAN',\n",
    "       'Hispanic Students [Public School] 2007-08' : 'HISPANIC',\n",
    "       'Black or African American Students [Public School] 2007-08' : 'BLACK',\n",
    "       'White Students [Public School] 2007-08' : 'WHITE',\n",
    "       'Total Race/Ethnicity [Public School] 2007-08' : 'TOTAL RACE/ETHINICITY',\n",
    "       'Full-Time Equivalent (FTE) Teachers [Public School] 2007-08' : 'FTE TEACHERS',\n",
    "       'Pupil/Teacher Ratio [Public School] 2007-08' : 'PUPIL-TEACHER RATIO'\n",
    "})"
   ]
  },
  {
   "cell_type": "code",
   "execution_count": 12,
   "id": "e83e2f08",
   "metadata": {},
   "outputs": [],
   "source": [
    "df2 = df2.rename( columns = {\n",
    "       'School Name' : 'SCHOOL', \n",
    "        'State Name [Public School] Latest available year' : 'STATE',\n",
    "       'State Abbr [Public School] Latest available year' : 'ABBR',\n",
    "       'School ID - NCES Assigned [Public School] Latest available year' : 'ID',\n",
    "       'County Name [Public School] 2008-09' : 'COUNTY',\n",
    "       'Charter School [Public School] 2008-09' : 'CHARTER',\n",
    "       'Magnet School [Public School] 2008-09' : 'MAGNET',\n",
    "       'Urban-centric Locale [Public School] 2008-09' : 'LOCALE',\n",
    "       'School-wide Title I [Public School] 2008-09' : 'TITLE I',\n",
    "       'Title I Eligible School [Public School] 2008-09' : 'TITLE I ELIGIBLE',\n",
    "       'Total Students All Grades (Excludes AE) [Public School] 2008-09' : 'TOTAL STUDENTS',\n",
    "       'Free Lunch Eligible [Public School] 2008-09' : 'FREE LUNCH ELIGIBLE' ,\n",
    "       'Reduced-price Lunch Eligible Students [Public School] 2008-09' : 'REDUCED PRICE LUNCH ELIGIBLE',\n",
    "       'Free and Reduced Lunch Students [Public School] 2008-09' : 'FREE AND REDUCED LUNCH ELIGIBLE',\n",
    "       'Male Students [Public School] 2008-09' : 'MALE STUDENTS',\n",
    "       'Female Students [Public School] 2008-09' : 'FEMALE STUDENTS',\n",
    "       'American Indian/Alaska Native Students [Public School] 2008-09' : 'AMERICAN INDIAN',\n",
    "       'Asian or Asian/Pacific Islander Students [Public School] 2008-09' : 'ASIAN',\n",
    "       'Hispanic Students [Public School] 2008-09' : 'HISPANIC',\n",
    "       'Black or African American Students [Public School] 2008-09' : 'BLACK',\n",
    "       'White Students [Public School] 2008-09' : 'WHITE',\n",
    "       'Total Race/Ethnicity [Public School] 2008-09' : 'TOTAL RACE/ETHINICITY',\n",
    "       'Full-Time Equivalent (FTE) Teachers [Public School] 2008-09' : 'FTE TEACHERS',\n",
    "       'Pupil/Teacher Ratio [Public School] 2008-09' : 'PUPIL-TEACHER RATIO'\n",
    "})"
   ]
  },
  {
   "cell_type": "code",
   "execution_count": 13,
   "id": "02c3f2b2",
   "metadata": {
    "scrolled": true
   },
   "outputs": [
    {
     "data": {
      "text/plain": [
       "Index(['SCHOOL', 'STATE', 'ID', 'ABBR', 'COUNTY', 'CHARTER', 'MAGNET',\n",
       "       'Shared Time School [Public School] 2008-09', 'LOCALE', 'TITLE I',\n",
       "       'TITLE I ELIGIBLE', 'TOTAL STUDENTS', 'FREE LUNCH ELIGIBLE',\n",
       "       'REDUCED PRICE LUNCH ELIGIBLE', 'FREE AND REDUCED LUNCH ELIGIBLE',\n",
       "       'MALE STUDENTS', 'FEMALE STUDENTS', 'AMERICAN INDIAN', 'ASIAN',\n",
       "       'HISPANIC', 'BLACK', 'WHITE',\n",
       "       'Nat. Hawaiian or Other Pacific Isl. Students [Public School] 2008-09',\n",
       "       'Two or More Races Students [Public School] 2008-09',\n",
       "       'TOTAL RACE/ETHINICITY', 'FTE TEACHERS', 'PUPIL-TEACHER RATIO'],\n",
       "      dtype='object')"
      ]
     },
     "execution_count": 13,
     "metadata": {},
     "output_type": "execute_result"
    }
   ],
   "source": [
    "df2.columns"
   ]
  },
  {
   "cell_type": "code",
   "execution_count": 14,
   "id": "f3ba143f",
   "metadata": {},
   "outputs": [],
   "source": [
    "df3 = df3.rename( columns = {\n",
    "        'School Name' : 'SCHOOL', \n",
    "        'State Name [Public School] Latest available year' : 'STATE',\n",
    "       'State Abbr [Public School] Latest available year' : 'ABBR',\n",
    "       'School ID - NCES Assigned [Public School] Latest available year' : 'ID',\n",
    "       'County Name [Public School] 2009-10' : 'COUNTY',\n",
    "       'Charter School [Public School] 2009-10' : 'CHARTER',\n",
    "       'Magnet School [Public School] 2009-10' : 'MAGNET',\n",
    "       'Urban-centric Locale [Public School] 2009-10' : 'LOCALE',\n",
    "       'School-wide Title I [Public School] 2009-10' : 'TITLE I',\n",
    "       'Title I Eligible School [Public School] 2009-10' : 'TITLE I ELIGIBLE',\n",
    "       'Total Students All Grades (Excludes AE) [Public School] 2009-10' : 'TOTAL STUDENTS',\n",
    "       'Free Lunch Eligible [Public School] 2009-10' : 'FREE LUNCH ELIGIBLE' ,\n",
    "       'Reduced-price Lunch Eligible Students [Public School] 2009-10' : 'REDUCED PRICE LUNCH ELIGIBLE',\n",
    "       'Free and Reduced Lunch Students [Public School] 2009-10' : 'FREE AND REDUCED LUNCH ELIGIBLE',\n",
    "       'Male Students [Public School] 2009-10' : 'MALE STUDENTS',\n",
    "       'Female Students [Public School] 2009-10' : 'FEMALE STUDENTS',\n",
    "       'American Indian/Alaska Native Students [Public School] 2009-10' : 'AMERICAN INDIAN',\n",
    "       'Asian or Asian/Pacific Islander Students [Public School] 2009-10' : 'ASIAN',\n",
    "       'Hispanic Students [Public School] 2009-10' : 'HISPANIC',\n",
    "       'Black or African American Students [Public School] 2009-10' : 'BLACK',\n",
    "       'White Students [Public School] 2009-10' : 'WHITE',\n",
    "       'Total Race/Ethnicity [Public School] 2009-10' : 'TOTAL RACE/ETHINICITY',\n",
    "       'Full-Time Equivalent (FTE) Teachers [Public School] 2009-10' : 'FTE TEACHERS',\n",
    "       'Pupil/Teacher Ratio [Public School] 2009-10' : 'PUPIL-TEACHER RATIO'\n",
    "})"
   ]
  },
  {
   "cell_type": "code",
   "execution_count": 15,
   "id": "30a5796d",
   "metadata": {},
   "outputs": [
    {
     "data": {
      "text/plain": [
       "Index(['SCHOOL', 'STATE', 'ID', 'ABBR', 'COUNTY', 'CHARTER', 'MAGNET',\n",
       "       'Shared Time School [Public School] 2009-10', 'LOCALE', 'TITLE I',\n",
       "       'TITLE I ELIGIBLE', 'TOTAL STUDENTS', 'FREE LUNCH ELIGIBLE',\n",
       "       'REDUCED PRICE LUNCH ELIGIBLE', 'FREE AND REDUCED LUNCH ELIGIBLE',\n",
       "       'MALE STUDENTS', 'FEMALE STUDENTS', 'AMERICAN INDIAN', 'ASIAN',\n",
       "       'HISPANIC', 'BLACK', 'WHITE',\n",
       "       'Nat. Hawaiian or Other Pacific Isl. Students [Public School] 2009-10',\n",
       "       'Two or More Races Students [Public School] 2009-10',\n",
       "       'TOTAL RACE/ETHINICITY', 'FTE TEACHERS', 'PUPIL-TEACHER RATIO'],\n",
       "      dtype='object')"
      ]
     },
     "execution_count": 15,
     "metadata": {},
     "output_type": "execute_result"
    }
   ],
   "source": [
    "df3.columns"
   ]
  },
  {
   "cell_type": "code",
   "execution_count": 16,
   "id": "8d9ae298",
   "metadata": {},
   "outputs": [
    {
     "data": {
      "text/plain": [
       "(99822, 27)"
      ]
     },
     "execution_count": 16,
     "metadata": {},
     "output_type": "execute_result"
    }
   ],
   "source": [
    "df3.shape"
   ]
  },
  {
   "cell_type": "code",
   "execution_count": 17,
   "id": "3408150a",
   "metadata": {},
   "outputs": [],
   "source": [
    "df4 = df4.rename( columns = {\n",
    "        'School Name' : 'SCHOOL', \n",
    "        'State Name [Public School] Latest available year' : 'STATE',\n",
    "       'State Abbr [Public School] Latest available year' : 'ABBR',\n",
    "       'School ID - NCES Assigned [Public School] Latest available year' : 'ID',\n",
    "       'County Name [Public School] 2010-11' : 'COUNTY',\n",
    "       'Charter School [Public School] 2010-11' : 'CHARTER',\n",
    "       'Magnet School [Public School] 2010-11' : 'MAGNET',\n",
    "       'Urban-centric Locale [Public School] 2010-11' : 'LOCALE',\n",
    "       'School-wide Title I [Public School] 2010-11' : 'TITLE I',\n",
    "       'Title I Eligible School [Public School] 2010-11' : 'TITLE I ELIGIBLE',\n",
    "       'Total Students All Grades (Excludes AE) [Public School] 2010-11' : 'TOTAL STUDENTS',\n",
    "       'Free Lunch Eligible [Public School] 2010-11' : 'FREE LUNCH ELIGIBLE' ,\n",
    "       'Reduced-price Lunch Eligible Students [Public School] 2010-11' : 'REDUCED PRICE LUNCH ELIGIBLE',\n",
    "       'Free and Reduced Lunch Students [Public School] 2010-11' : 'FREE AND REDUCED LUNCH ELIGIBLE',\n",
    "       'Male Students [Public School] 2010-11' : 'MALE STUDENTS',\n",
    "       'Female Students [Public School] 2010-11' : 'FEMALE STUDENTS',\n",
    "       'American Indian/Alaska Native Students [Public School] 2010-11' : 'AMERICAN INDIAN',\n",
    "       'Asian or Asian/Pacific Islander Students [Public School] 2010-11' : 'ASIAN',\n",
    "       'Hispanic Students [Public School] 2010-11' : 'HISPANIC',\n",
    "       'Black or African American Students [Public School] 2010-11' : 'BLACK',\n",
    "       'White Students [Public School] 2010-11' : 'WHITE',\n",
    "       'Total Race/Ethnicity [Public School] 2010-11' : 'TOTAL RACE/ETHINICITY',\n",
    "       'Full-Time Equivalent (FTE) Teachers [Public School] 2010-11' : 'FTE TEACHERS',\n",
    "       'Pupil/Teacher Ratio [Public School] 2010-11' : 'PUPIL-TEACHER RATIO'\n",
    "})"
   ]
  },
  {
   "cell_type": "code",
   "execution_count": 18,
   "id": "e931f793",
   "metadata": {},
   "outputs": [
    {
     "data": {
      "text/plain": [
       "Index(['SCHOOL', 'STATE', 'ID', 'ABBR', 'COUNTY', 'CHARTER', 'MAGNET',\n",
       "       'Shared Time School [Public School] 2007-08', 'LOCALE', 'TITLE I',\n",
       "       'TITLE I ELIGIBLE', 'TOTAL STUDENTS', 'FREE LUNCH ELIGIBLE',\n",
       "       'REDUCED PRICE LUNCH ELIGIBLE', 'FREE AND REDUCED LUNCH ELIGIBLE',\n",
       "       'MALE STUDENTS', 'FEMALE STUDENTS', 'AMERICAN INDIAN', 'ASIAN',\n",
       "       'HISPANIC', 'BLACK', 'WHITE', 'TOTAL RACE/ETHINICITY', 'FTE TEACHERS',\n",
       "       'PUPIL-TEACHER RATIO'],\n",
       "      dtype='object')"
      ]
     },
     "execution_count": 18,
     "metadata": {},
     "output_type": "execute_result"
    }
   ],
   "source": [
    "df1.columns"
   ]
  },
  {
   "cell_type": "code",
   "execution_count": 19,
   "id": "56baa387",
   "metadata": {
    "scrolled": true
   },
   "outputs": [
    {
     "data": {
      "text/plain": [
       "Index(['SCHOOL', 'STATE', 'ID', 'ABBR', 'COUNTY', 'CHARTER', 'MAGNET',\n",
       "       'Shared Time School [Public School] 2008-09', 'LOCALE', 'TITLE I',\n",
       "       'TITLE I ELIGIBLE', 'TOTAL STUDENTS', 'FREE LUNCH ELIGIBLE',\n",
       "       'REDUCED PRICE LUNCH ELIGIBLE', 'FREE AND REDUCED LUNCH ELIGIBLE',\n",
       "       'MALE STUDENTS', 'FEMALE STUDENTS', 'AMERICAN INDIAN', 'ASIAN',\n",
       "       'HISPANIC', 'BLACK', 'WHITE',\n",
       "       'Nat. Hawaiian or Other Pacific Isl. Students [Public School] 2008-09',\n",
       "       'Two or More Races Students [Public School] 2008-09',\n",
       "       'TOTAL RACE/ETHINICITY', 'FTE TEACHERS', 'PUPIL-TEACHER RATIO'],\n",
       "      dtype='object')"
      ]
     },
     "execution_count": 19,
     "metadata": {},
     "output_type": "execute_result"
    }
   ],
   "source": [
    "df2.columns"
   ]
  },
  {
   "cell_type": "code",
   "execution_count": 20,
   "id": "85446c54",
   "metadata": {},
   "outputs": [],
   "source": [
    "df1.drop(columns = ['Shared Time School [Public School] 2007-08'], inplace = True)\n",
    "df2.drop(columns = ['Nat. Hawaiian or Other Pacific Isl. Students [Public School] 2008-09',\n",
    "                  'Shared Time School [Public School] 2008-09',\n",
    "                   'Two or More Races Students [Public School] 2008-09'], inplace = True)\n",
    "df3.drop(columns = ['Nat. Hawaiian or Other Pacific Isl. Students [Public School] 2009-10',\n",
    "                  'Shared Time School [Public School] 2009-10',\n",
    "                   'Two or More Races Students [Public School] 2009-10'], inplace = True)\n",
    "df4.drop(columns = ['Nat. Hawaiian or Other Pacific Isl. Students [Public School] 2010-11',\n",
    "                  'Shared Time School [Public School] 2010-11',\n",
    "                   'Two or More Races Students [Public School] 2010-11',\n",
    "                   'Title I School Status [Public School] 2010-11'], inplace = True)"
   ]
  },
  {
   "cell_type": "code",
   "execution_count": 21,
   "id": "975f5300",
   "metadata": {},
   "outputs": [
    {
     "data": {
      "text/plain": [
       "Index(['SCHOOL', 'STATE', 'ID', 'ABBR', 'COUNTY', 'CHARTER', 'MAGNET',\n",
       "       'LOCALE', 'TITLE I', 'TITLE I ELIGIBLE', 'TOTAL STUDENTS',\n",
       "       'FREE LUNCH ELIGIBLE', 'REDUCED PRICE LUNCH ELIGIBLE',\n",
       "       'FREE AND REDUCED LUNCH ELIGIBLE', 'MALE STUDENTS', 'FEMALE STUDENTS',\n",
       "       'AMERICAN INDIAN', 'ASIAN', 'HISPANIC', 'BLACK', 'WHITE',\n",
       "       'TOTAL RACE/ETHINICITY', 'FTE TEACHERS', 'PUPIL-TEACHER RATIO'],\n",
       "      dtype='object')"
      ]
     },
     "execution_count": 21,
     "metadata": {},
     "output_type": "execute_result"
    }
   ],
   "source": [
    "df3.columns"
   ]
  },
  {
   "cell_type": "code",
   "execution_count": 22,
   "id": "acd59361",
   "metadata": {},
   "outputs": [
    {
     "data": {
      "text/plain": [
       "Index(['SCHOOL', 'STATE', 'ID', 'ABBR', 'COUNTY', 'CHARTER', 'MAGNET',\n",
       "       'LOCALE', 'TITLE I', 'TITLE I ELIGIBLE', 'TOTAL STUDENTS',\n",
       "       'FREE LUNCH ELIGIBLE', 'REDUCED PRICE LUNCH ELIGIBLE',\n",
       "       'FREE AND REDUCED LUNCH ELIGIBLE', 'MALE STUDENTS', 'FEMALE STUDENTS',\n",
       "       'AMERICAN INDIAN', 'ASIAN', 'HISPANIC', 'BLACK', 'WHITE',\n",
       "       'TOTAL RACE/ETHINICITY', 'FTE TEACHERS', 'PUPIL-TEACHER RATIO'],\n",
       "      dtype='object')"
      ]
     },
     "execution_count": 22,
     "metadata": {},
     "output_type": "execute_result"
    }
   ],
   "source": [
    "df4.columns"
   ]
  },
  {
   "cell_type": "code",
   "execution_count": 23,
   "id": "186504bf",
   "metadata": {},
   "outputs": [
    {
     "data": {
      "text/html": [
       "<div>\n",
       "<style scoped>\n",
       "    .dataframe tbody tr th:only-of-type {\n",
       "        vertical-align: middle;\n",
       "    }\n",
       "\n",
       "    .dataframe tbody tr th {\n",
       "        vertical-align: top;\n",
       "    }\n",
       "\n",
       "    .dataframe thead th {\n",
       "        text-align: right;\n",
       "    }\n",
       "</style>\n",
       "<table border=\"1\" class=\"dataframe\">\n",
       "  <thead>\n",
       "    <tr style=\"text-align: right;\">\n",
       "      <th></th>\n",
       "      <th>SCHOOL</th>\n",
       "      <th>STATE</th>\n",
       "      <th>ID</th>\n",
       "      <th>ABBR</th>\n",
       "      <th>COUNTY</th>\n",
       "      <th>CHARTER</th>\n",
       "      <th>MAGNET</th>\n",
       "      <th>LOCALE</th>\n",
       "      <th>TITLE I</th>\n",
       "      <th>TITLE I ELIGIBLE</th>\n",
       "      <th>TOTAL STUDENTS</th>\n",
       "      <th>FREE LUNCH ELIGIBLE</th>\n",
       "      <th>REDUCED PRICE LUNCH ELIGIBLE</th>\n",
       "      <th>FREE AND REDUCED LUNCH ELIGIBLE</th>\n",
       "      <th>MALE STUDENTS</th>\n",
       "      <th>FEMALE STUDENTS</th>\n",
       "      <th>AMERICAN INDIAN</th>\n",
       "      <th>ASIAN</th>\n",
       "      <th>HISPANIC</th>\n",
       "      <th>BLACK</th>\n",
       "      <th>WHITE</th>\n",
       "      <th>TOTAL RACE/ETHINICITY</th>\n",
       "      <th>FTE TEACHERS</th>\n",
       "      <th>PUPIL-TEACHER RATIO</th>\n",
       "    </tr>\n",
       "  </thead>\n",
       "  <tbody>\n",
       "    <tr>\n",
       "      <th>0</th>\n",
       "      <td>1 LT CHARLES W. WHITCOMB SCHOOL</td>\n",
       "      <td>Massachusetts</td>\n",
       "      <td>2.507320e+11</td>\n",
       "      <td>MA</td>\n",
       "      <td>MIDDLESEX COUNTY</td>\n",
       "      <td>2-No</td>\n",
       "      <td>–</td>\n",
       "      <td>21-Suburb: Large</td>\n",
       "      <td>2-No</td>\n",
       "      <td>1-Yes</td>\n",
       "      <td>1407</td>\n",
       "      <td>487</td>\n",
       "      <td>126</td>\n",
       "      <td>613</td>\n",
       "      <td>717</td>\n",
       "      <td>690</td>\n",
       "      <td>0</td>\n",
       "      <td>44</td>\n",
       "      <td>439</td>\n",
       "      <td>40</td>\n",
       "      <td>858</td>\n",
       "      <td>1407</td>\n",
       "      <td>108.26</td>\n",
       "      <td>13</td>\n",
       "    </tr>\n",
       "    <tr>\n",
       "      <th>1</th>\n",
       "      <td>100 LEGACY ACADEMY CHARTER SCHOOL</td>\n",
       "      <td>New Jersey</td>\n",
       "      <td>3.400740e+11</td>\n",
       "      <td>NJ</td>\n",
       "      <td>–</td>\n",
       "      <td>1-Yes</td>\n",
       "      <td>–</td>\n",
       "      <td>–</td>\n",
       "      <td>†</td>\n",
       "      <td>†</td>\n",
       "      <td>†</td>\n",
       "      <td>†</td>\n",
       "      <td>†</td>\n",
       "      <td>†</td>\n",
       "      <td>†</td>\n",
       "      <td>†</td>\n",
       "      <td>†</td>\n",
       "      <td>†</td>\n",
       "      <td>†</td>\n",
       "      <td>†</td>\n",
       "      <td>†</td>\n",
       "      <td>†</td>\n",
       "      <td>†</td>\n",
       "      <td>†</td>\n",
       "    </tr>\n",
       "    <tr>\n",
       "      <th>2</th>\n",
       "      <td>10TH STREET SCHOOL</td>\n",
       "      <td>Washington</td>\n",
       "      <td>5.304860e+11</td>\n",
       "      <td>WA</td>\n",
       "      <td>SNOHOMISH COUNTY</td>\n",
       "      <td>†</td>\n",
       "      <td>†</td>\n",
       "      <td>22-Suburb: Mid-size</td>\n",
       "      <td>†</td>\n",
       "      <td>2-No</td>\n",
       "      <td>168</td>\n",
       "      <td>18</td>\n",
       "      <td>10</td>\n",
       "      <td>28</td>\n",
       "      <td>82</td>\n",
       "      <td>86</td>\n",
       "      <td>1</td>\n",
       "      <td>3</td>\n",
       "      <td>17</td>\n",
       "      <td>1</td>\n",
       "      <td>127</td>\n",
       "      <td>168</td>\n",
       "      <td>7.2</td>\n",
       "      <td>23.33</td>\n",
       "    </tr>\n",
       "    <tr>\n",
       "      <th>3</th>\n",
       "      <td>112 ALC INDEPENDENT STUDY</td>\n",
       "      <td>Minnesota</td>\n",
       "      <td>2.708190e+11</td>\n",
       "      <td>MN</td>\n",
       "      <td>CARVER COUNTY</td>\n",
       "      <td>2-No</td>\n",
       "      <td>2-No</td>\n",
       "      <td>21-Suburb: Large</td>\n",
       "      <td>†</td>\n",
       "      <td>2-No</td>\n",
       "      <td>11</td>\n",
       "      <td>0</td>\n",
       "      <td>0</td>\n",
       "      <td>0</td>\n",
       "      <td>8</td>\n",
       "      <td>3</td>\n",
       "      <td>0</td>\n",
       "      <td>0</td>\n",
       "      <td>3</td>\n",
       "      <td>0</td>\n",
       "      <td>8</td>\n",
       "      <td>11</td>\n",
       "      <td>0.20</td>\n",
       "      <td>55</td>\n",
       "    </tr>\n",
       "    <tr>\n",
       "      <th>4</th>\n",
       "      <td>12TH STREET ELEMENTARY</td>\n",
       "      <td>Michigan</td>\n",
       "      <td>2.628950e+11</td>\n",
       "      <td>MI</td>\n",
       "      <td>KALAMAZOO COUNTY</td>\n",
       "      <td>2-No</td>\n",
       "      <td>1-Yes</td>\n",
       "      <td>13-City: Small</td>\n",
       "      <td>†</td>\n",
       "      <td>2-No</td>\n",
       "      <td>560</td>\n",
       "      <td>128</td>\n",
       "      <td>20</td>\n",
       "      <td>148</td>\n",
       "      <td>289</td>\n",
       "      <td>271</td>\n",
       "      <td>0</td>\n",
       "      <td>53</td>\n",
       "      <td>24</td>\n",
       "      <td>42</td>\n",
       "      <td>405</td>\n",
       "      <td>560</td>\n",
       "      <td>29.77</td>\n",
       "      <td>18.81</td>\n",
       "    </tr>\n",
       "  </tbody>\n",
       "</table>\n",
       "</div>"
      ],
      "text/plain": [
       "                              SCHOOL          STATE            ID ABBR  \\\n",
       "0    1 LT CHARLES W. WHITCOMB SCHOOL  Massachusetts  2.507320e+11  MA    \n",
       "1  100 LEGACY ACADEMY CHARTER SCHOOL     New Jersey  3.400740e+11  NJ    \n",
       "2                 10TH STREET SCHOOL     Washington  5.304860e+11  WA    \n",
       "3          112 ALC INDEPENDENT STUDY      Minnesota  2.708190e+11  MN    \n",
       "4             12TH STREET ELEMENTARY       Michigan  2.628950e+11  MI    \n",
       "\n",
       "             COUNTY CHARTER MAGNET               LOCALE TITLE I  \\\n",
       "0  MIDDLESEX COUNTY    2-No      –     21-Suburb: Large    2-No   \n",
       "1                 –   1-Yes      –                    –       †   \n",
       "2  SNOHOMISH COUNTY       †      †  22-Suburb: Mid-size       †   \n",
       "3     CARVER COUNTY    2-No   2-No     21-Suburb: Large       †   \n",
       "4  KALAMAZOO COUNTY    2-No  1-Yes       13-City: Small       †   \n",
       "\n",
       "  TITLE I ELIGIBLE TOTAL STUDENTS FREE LUNCH ELIGIBLE  \\\n",
       "0            1-Yes           1407                 487   \n",
       "1                †              †                   †   \n",
       "2             2-No            168                  18   \n",
       "3             2-No             11                   0   \n",
       "4             2-No            560                 128   \n",
       "\n",
       "  REDUCED PRICE LUNCH ELIGIBLE FREE AND REDUCED LUNCH ELIGIBLE MALE STUDENTS  \\\n",
       "0                          126                             613           717   \n",
       "1                            †                               †             †   \n",
       "2                           10                              28            82   \n",
       "3                            0                               0             8   \n",
       "4                           20                             148           289   \n",
       "\n",
       "  FEMALE STUDENTS AMERICAN INDIAN ASIAN HISPANIC BLACK WHITE  \\\n",
       "0             690               0    44      439    40   858   \n",
       "1               †               †     †        †     †     †   \n",
       "2              86               1     3       17     1   127   \n",
       "3               3               0     0        3     0     8   \n",
       "4             271               0    53       24    42   405   \n",
       "\n",
       "  TOTAL RACE/ETHINICITY FTE TEACHERS PUPIL-TEACHER RATIO  \n",
       "0                  1407       108.26                  13  \n",
       "1                     †            †                   †  \n",
       "2                   168          7.2               23.33  \n",
       "3                    11         0.20                  55  \n",
       "4                   560        29.77               18.81  "
      ]
     },
     "execution_count": 23,
     "metadata": {},
     "output_type": "execute_result"
    }
   ],
   "source": [
    "pd.options.display.max_columns = None\n",
    "df4.head()"
   ]
  },
  {
   "cell_type": "code",
   "execution_count": 24,
   "id": "1f80a18c",
   "metadata": {},
   "outputs": [],
   "source": [
    "df = pd.concat([df1, df2, df3, df4], ignore_index = True)"
   ]
  },
  {
   "cell_type": "code",
   "execution_count": 25,
   "id": "e70e8631",
   "metadata": {},
   "outputs": [
    {
     "data": {
      "text/plain": [
       "(398928, 24)"
      ]
     },
     "execution_count": 25,
     "metadata": {},
     "output_type": "execute_result"
    }
   ],
   "source": [
    "df.shape"
   ]
  },
  {
   "cell_type": "code",
   "execution_count": 26,
   "id": "ade840fc",
   "metadata": {},
   "outputs": [
    {
     "data": {
      "text/html": [
       "<div>\n",
       "<style scoped>\n",
       "    .dataframe tbody tr th:only-of-type {\n",
       "        vertical-align: middle;\n",
       "    }\n",
       "\n",
       "    .dataframe tbody tr th {\n",
       "        vertical-align: top;\n",
       "    }\n",
       "\n",
       "    .dataframe thead th {\n",
       "        text-align: right;\n",
       "    }\n",
       "</style>\n",
       "<table border=\"1\" class=\"dataframe\">\n",
       "  <thead>\n",
       "    <tr style=\"text-align: right;\">\n",
       "      <th></th>\n",
       "      <th>SCHOOL</th>\n",
       "      <th>STATE</th>\n",
       "      <th>ID</th>\n",
       "      <th>ABBR</th>\n",
       "      <th>COUNTY</th>\n",
       "      <th>CHARTER</th>\n",
       "      <th>MAGNET</th>\n",
       "      <th>LOCALE</th>\n",
       "      <th>TITLE I</th>\n",
       "      <th>TITLE I ELIGIBLE</th>\n",
       "      <th>TOTAL STUDENTS</th>\n",
       "      <th>FREE LUNCH ELIGIBLE</th>\n",
       "      <th>REDUCED PRICE LUNCH ELIGIBLE</th>\n",
       "      <th>FREE AND REDUCED LUNCH ELIGIBLE</th>\n",
       "      <th>MALE STUDENTS</th>\n",
       "      <th>FEMALE STUDENTS</th>\n",
       "      <th>AMERICAN INDIAN</th>\n",
       "      <th>ASIAN</th>\n",
       "      <th>HISPANIC</th>\n",
       "      <th>BLACK</th>\n",
       "      <th>WHITE</th>\n",
       "      <th>TOTAL RACE/ETHINICITY</th>\n",
       "      <th>FTE TEACHERS</th>\n",
       "      <th>PUPIL-TEACHER RATIO</th>\n",
       "    </tr>\n",
       "  </thead>\n",
       "  <tbody>\n",
       "    <tr>\n",
       "      <th>0</th>\n",
       "      <td>100 R ELEMENTARY SCHOOL</td>\n",
       "      <td>Nebraska</td>\n",
       "      <td>3.171100e+11</td>\n",
       "      <td>NE</td>\n",
       "      <td>Dawson</td>\n",
       "      <td>†</td>\n",
       "      <td>†</td>\n",
       "      <td>41-Rural: Fringe</td>\n",
       "      <td>†</td>\n",
       "      <td>2-No</td>\n",
       "      <td>7</td>\n",
       "      <td>0</td>\n",
       "      <td>0</td>\n",
       "      <td>0</td>\n",
       "      <td>7</td>\n",
       "      <td>0</td>\n",
       "      <td>0</td>\n",
       "      <td>0</td>\n",
       "      <td>0</td>\n",
       "      <td>0</td>\n",
       "      <td>7</td>\n",
       "      <td>7</td>\n",
       "      <td>2</td>\n",
       "      <td>3.5</td>\n",
       "    </tr>\n",
       "    <tr>\n",
       "      <th>1</th>\n",
       "      <td>10TH STREET SCHOOL</td>\n",
       "      <td>Washington</td>\n",
       "      <td>5.304860e+11</td>\n",
       "      <td>WA</td>\n",
       "      <td>Snohomish</td>\n",
       "      <td>†</td>\n",
       "      <td>†</td>\n",
       "      <td>22-Suburb: Mid-size</td>\n",
       "      <td>†</td>\n",
       "      <td>2-No</td>\n",
       "      <td>165</td>\n",
       "      <td>8</td>\n",
       "      <td>4</td>\n",
       "      <td>12</td>\n",
       "      <td>76</td>\n",
       "      <td>89</td>\n",
       "      <td>2</td>\n",
       "      <td>8</td>\n",
       "      <td>9</td>\n",
       "      <td>0</td>\n",
       "      <td>146</td>\n",
       "      <td>165</td>\n",
       "      <td>6</td>\n",
       "      <td>27.5</td>\n",
       "    </tr>\n",
       "    <tr>\n",
       "      <th>2</th>\n",
       "      <td>12TH STREET ELEMENTARY</td>\n",
       "      <td>Michigan</td>\n",
       "      <td>2.628950e+11</td>\n",
       "      <td>MI</td>\n",
       "      <td>Kalamazoo</td>\n",
       "      <td>2-No</td>\n",
       "      <td>–</td>\n",
       "      <td>22-Suburb: Mid-size</td>\n",
       "      <td>†</td>\n",
       "      <td>†</td>\n",
       "      <td>†</td>\n",
       "      <td>†</td>\n",
       "      <td>†</td>\n",
       "      <td>†</td>\n",
       "      <td>†</td>\n",
       "      <td>†</td>\n",
       "      <td>†</td>\n",
       "      <td>†</td>\n",
       "      <td>†</td>\n",
       "      <td>†</td>\n",
       "      <td>†</td>\n",
       "      <td>†</td>\n",
       "      <td>†</td>\n",
       "      <td>†</td>\n",
       "    </tr>\n",
       "    <tr>\n",
       "      <th>3</th>\n",
       "      <td>19-21 TRANSITION ACADEMY</td>\n",
       "      <td>Washington</td>\n",
       "      <td>5.304230e+11</td>\n",
       "      <td>WA</td>\n",
       "      <td>King</td>\n",
       "      <td>†</td>\n",
       "      <td>†</td>\n",
       "      <td>21-Suburb: Large</td>\n",
       "      <td>†</td>\n",
       "      <td>2-No</td>\n",
       "      <td>18</td>\n",
       "      <td>0</td>\n",
       "      <td>0</td>\n",
       "      <td>0</td>\n",
       "      <td>12</td>\n",
       "      <td>6</td>\n",
       "      <td>0</td>\n",
       "      <td>0</td>\n",
       "      <td>1</td>\n",
       "      <td>0</td>\n",
       "      <td>17</td>\n",
       "      <td>18</td>\n",
       "      <td>–</td>\n",
       "      <td>–</td>\n",
       "    </tr>\n",
       "    <tr>\n",
       "      <th>4</th>\n",
       "      <td>19-E-N-7</td>\n",
       "      <td>Florida</td>\n",
       "      <td>1.201440e+11</td>\n",
       "      <td>FL</td>\n",
       "      <td>Orange</td>\n",
       "      <td>2-No</td>\n",
       "      <td>–</td>\n",
       "      <td>12-City: Mid-size</td>\n",
       "      <td>†</td>\n",
       "      <td>†</td>\n",
       "      <td>†</td>\n",
       "      <td>†</td>\n",
       "      <td>†</td>\n",
       "      <td>†</td>\n",
       "      <td>†</td>\n",
       "      <td>†</td>\n",
       "      <td>†</td>\n",
       "      <td>†</td>\n",
       "      <td>†</td>\n",
       "      <td>†</td>\n",
       "      <td>†</td>\n",
       "      <td>†</td>\n",
       "      <td>†</td>\n",
       "      <td>†</td>\n",
       "    </tr>\n",
       "  </tbody>\n",
       "</table>\n",
       "</div>"
      ],
      "text/plain": [
       "                     SCHOOL       STATE            ID ABBR     COUNTY CHARTER  \\\n",
       "0   100 R ELEMENTARY SCHOOL    Nebraska  3.171100e+11  NE      Dawson       †   \n",
       "1        10TH STREET SCHOOL  Washington  5.304860e+11  WA   Snohomish       †   \n",
       "2    12TH STREET ELEMENTARY    Michigan  2.628950e+11  MI   Kalamazoo    2-No   \n",
       "3  19-21 TRANSITION ACADEMY  Washington  5.304230e+11  WA        King       †   \n",
       "4                  19-E-N-7     Florida  1.201440e+11  FL      Orange    2-No   \n",
       "\n",
       "  MAGNET               LOCALE TITLE I TITLE I ELIGIBLE TOTAL STUDENTS  \\\n",
       "0      †     41-Rural: Fringe       †             2-No              7   \n",
       "1      †  22-Suburb: Mid-size       †             2-No            165   \n",
       "2      –  22-Suburb: Mid-size       †                †              †   \n",
       "3      †     21-Suburb: Large       †             2-No             18   \n",
       "4      –    12-City: Mid-size       †                †              †   \n",
       "\n",
       "  FREE LUNCH ELIGIBLE REDUCED PRICE LUNCH ELIGIBLE  \\\n",
       "0                   0                            0   \n",
       "1                   8                            4   \n",
       "2                   †                            †   \n",
       "3                   0                            0   \n",
       "4                   †                            †   \n",
       "\n",
       "  FREE AND REDUCED LUNCH ELIGIBLE MALE STUDENTS FEMALE STUDENTS  \\\n",
       "0                               0             7               0   \n",
       "1                              12            76              89   \n",
       "2                               †             †               †   \n",
       "3                               0            12               6   \n",
       "4                               †             †               †   \n",
       "\n",
       "  AMERICAN INDIAN ASIAN HISPANIC BLACK WHITE TOTAL RACE/ETHINICITY  \\\n",
       "0               0     0        0     0     7                     7   \n",
       "1               2     8        9     0   146                   165   \n",
       "2               †     †        †     †     †                     †   \n",
       "3               0     0        1     0    17                    18   \n",
       "4               †     †        †     †     †                     †   \n",
       "\n",
       "  FTE TEACHERS PUPIL-TEACHER RATIO  \n",
       "0            2                 3.5  \n",
       "1            6                27.5  \n",
       "2            †                   †  \n",
       "3            –                   –  \n",
       "4            †                   †  "
      ]
     },
     "execution_count": 26,
     "metadata": {},
     "output_type": "execute_result"
    }
   ],
   "source": [
    "df.head()"
   ]
  },
  {
   "cell_type": "code",
   "execution_count": 27,
   "id": "aac200b1",
   "metadata": {},
   "outputs": [],
   "source": [
    "#df.to_csv('modeling-07-11.csv')"
   ]
  }
 ],
 "metadata": {
  "kernelspec": {
   "display_name": "Python 3 (ipykernel)",
   "language": "python",
   "name": "python3"
  },
  "language_info": {
   "codemirror_mode": {
    "name": "ipython",
    "version": 3
   },
   "file_extension": ".py",
   "mimetype": "text/x-python",
   "name": "python",
   "nbconvert_exporter": "python",
   "pygments_lexer": "ipython3",
   "version": "3.8.11"
  }
 },
 "nbformat": 4,
 "nbformat_minor": 5
}
