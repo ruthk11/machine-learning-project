{
 "cells": [
  {
   "cell_type": "code",
   "execution_count": 1,
   "id": "422832de",
   "metadata": {},
   "outputs": [],
   "source": [
    "import pandas as pd\n",
    "import numpy as np\n",
    "from sklearn.preprocessing import StandardScaler"
   ]
  },
  {
   "cell_type": "code",
   "execution_count": 2,
   "id": "a50b7e13",
   "metadata": {},
   "outputs": [],
   "source": [
    "df = pd.read_csv('model-selection-clean.csv', index_col = 0)"
   ]
  },
  {
   "cell_type": "code",
   "execution_count": 3,
   "id": "233f0241",
   "metadata": {},
   "outputs": [
    {
     "data": {
      "text/html": [
       "<div>\n",
       "<style scoped>\n",
       "    .dataframe tbody tr th:only-of-type {\n",
       "        vertical-align: middle;\n",
       "    }\n",
       "\n",
       "    .dataframe tbody tr th {\n",
       "        vertical-align: top;\n",
       "    }\n",
       "\n",
       "    .dataframe thead th {\n",
       "        text-align: right;\n",
       "    }\n",
       "</style>\n",
       "<table border=\"1\" class=\"dataframe\">\n",
       "  <thead>\n",
       "    <tr style=\"text-align: right;\">\n",
       "      <th></th>\n",
       "      <th>SCHOOL</th>\n",
       "      <th>STATE</th>\n",
       "      <th>ID</th>\n",
       "      <th>ABBR</th>\n",
       "      <th>COUNTY</th>\n",
       "      <th>CHARTER</th>\n",
       "      <th>MAGNET</th>\n",
       "      <th>LOCALE</th>\n",
       "      <th>TITLE I</th>\n",
       "      <th>TITLE I ELIGIBLE</th>\n",
       "      <th>...</th>\n",
       "      <th>AMERICAN INDIAN</th>\n",
       "      <th>ASIAN</th>\n",
       "      <th>HISPANIC</th>\n",
       "      <th>BLACK</th>\n",
       "      <th>WHITE</th>\n",
       "      <th>TOTAL RACE/ETHINICITY</th>\n",
       "      <th>FTE TEACHERS</th>\n",
       "      <th>PUPIL-TEACHER RATIO</th>\n",
       "      <th>FREE LUNCH ELIGIBLE NUMERIC</th>\n",
       "      <th>REDUCED PRICE LUNCH ELIGIBLE NUMERIC</th>\n",
       "    </tr>\n",
       "  </thead>\n",
       "  <tbody>\n",
       "    <tr>\n",
       "      <th>1</th>\n",
       "      <td>10TH STREET SCHOOL</td>\n",
       "      <td>Washington</td>\n",
       "      <td>5.304860e+11</td>\n",
       "      <td>WA</td>\n",
       "      <td>Snohomish County</td>\n",
       "      <td>2-No</td>\n",
       "      <td>–</td>\n",
       "      <td>22-Suburb: Mid-size</td>\n",
       "      <td>1-Yes</td>\n",
       "      <td>1-Yes</td>\n",
       "      <td>...</td>\n",
       "      <td>8</td>\n",
       "      <td>5</td>\n",
       "      <td>20</td>\n",
       "      <td>1</td>\n",
       "      <td>122</td>\n",
       "      <td>0</td>\n",
       "      <td>0</td>\n",
       "      <td>0</td>\n",
       "      <td>28.0</td>\n",
       "      <td>3.0</td>\n",
       "    </tr>\n",
       "    <tr>\n",
       "      <th>2</th>\n",
       "      <td>112 ALC INDEPENDENT STUDY</td>\n",
       "      <td>Minnesota</td>\n",
       "      <td>2.708190e+11</td>\n",
       "      <td>MN</td>\n",
       "      <td>Carver County</td>\n",
       "      <td>2-No</td>\n",
       "      <td>2-No</td>\n",
       "      <td>21-Suburb: Large</td>\n",
       "      <td>†</td>\n",
       "      <td>2-No</td>\n",
       "      <td>...</td>\n",
       "      <td>0</td>\n",
       "      <td>1</td>\n",
       "      <td>10</td>\n",
       "      <td>0</td>\n",
       "      <td>22</td>\n",
       "      <td>0</td>\n",
       "      <td>0</td>\n",
       "      <td>0</td>\n",
       "      <td>8.0</td>\n",
       "      <td>3.0</td>\n",
       "    </tr>\n",
       "    <tr>\n",
       "      <th>3</th>\n",
       "      <td>112 ALC MIDDLE SCHOOL</td>\n",
       "      <td>Minnesota</td>\n",
       "      <td>2.708190e+11</td>\n",
       "      <td>MN</td>\n",
       "      <td>Carver County</td>\n",
       "      <td>2-No</td>\n",
       "      <td>2-No</td>\n",
       "      <td>21-Suburb: Large</td>\n",
       "      <td>†</td>\n",
       "      <td>2-No</td>\n",
       "      <td>...</td>\n",
       "      <td>0</td>\n",
       "      <td>5</td>\n",
       "      <td>32</td>\n",
       "      <td>8</td>\n",
       "      <td>82</td>\n",
       "      <td>0</td>\n",
       "      <td>0</td>\n",
       "      <td>0</td>\n",
       "      <td>54.0</td>\n",
       "      <td>7.0</td>\n",
       "    </tr>\n",
       "    <tr>\n",
       "      <th>4</th>\n",
       "      <td>12TH STREET ELEMENTARY</td>\n",
       "      <td>Michigan</td>\n",
       "      <td>2.628950e+11</td>\n",
       "      <td>MI</td>\n",
       "      <td>Kalamazoo County</td>\n",
       "      <td>2-No</td>\n",
       "      <td>2-No</td>\n",
       "      <td>13-City: Small</td>\n",
       "      <td>†</td>\n",
       "      <td>2-No</td>\n",
       "      <td>...</td>\n",
       "      <td>0</td>\n",
       "      <td>68</td>\n",
       "      <td>27</td>\n",
       "      <td>48</td>\n",
       "      <td>406</td>\n",
       "      <td>0</td>\n",
       "      <td>0</td>\n",
       "      <td>0</td>\n",
       "      <td>99.0</td>\n",
       "      <td>21.0</td>\n",
       "    </tr>\n",
       "    <tr>\n",
       "      <th>6</th>\n",
       "      <td>1R ELEMENTARY</td>\n",
       "      <td>Nebraska</td>\n",
       "      <td>3.174580e+11</td>\n",
       "      <td>NE</td>\n",
       "      <td>Hall County</td>\n",
       "      <td>†</td>\n",
       "      <td>†</td>\n",
       "      <td>41-Rural: Fringe</td>\n",
       "      <td>†</td>\n",
       "      <td>2-No</td>\n",
       "      <td>...</td>\n",
       "      <td>1</td>\n",
       "      <td>0</td>\n",
       "      <td>12</td>\n",
       "      <td>3</td>\n",
       "      <td>155</td>\n",
       "      <td>0</td>\n",
       "      <td>13</td>\n",
       "      <td>0</td>\n",
       "      <td>15.0</td>\n",
       "      <td>30.0</td>\n",
       "    </tr>\n",
       "  </tbody>\n",
       "</table>\n",
       "<p>5 rows × 26 columns</p>\n",
       "</div>"
      ],
      "text/plain": [
       "                      SCHOOL       STATE            ID ABBR            COUNTY  \\\n",
       "1         10TH STREET SCHOOL  Washington  5.304860e+11  WA   Snohomish County   \n",
       "2  112 ALC INDEPENDENT STUDY   Minnesota  2.708190e+11  MN      Carver County   \n",
       "3      112 ALC MIDDLE SCHOOL   Minnesota  2.708190e+11  MN      Carver County   \n",
       "4     12TH STREET ELEMENTARY    Michigan  2.628950e+11  MI   Kalamazoo County   \n",
       "6              1R ELEMENTARY    Nebraska  3.174580e+11  NE        Hall County   \n",
       "\n",
       "  CHARTER MAGNET               LOCALE TITLE I TITLE I ELIGIBLE  ...  \\\n",
       "1    2-No      –  22-Suburb: Mid-size   1-Yes            1-Yes  ...   \n",
       "2    2-No   2-No     21-Suburb: Large       †             2-No  ...   \n",
       "3    2-No   2-No     21-Suburb: Large       †             2-No  ...   \n",
       "4    2-No   2-No       13-City: Small       †             2-No  ...   \n",
       "6       †      †     41-Rural: Fringe       †             2-No  ...   \n",
       "\n",
       "   AMERICAN INDIAN  ASIAN  HISPANIC  BLACK  WHITE  TOTAL RACE/ETHINICITY  \\\n",
       "1                8      5        20      1    122                      0   \n",
       "2                0      1        10      0     22                      0   \n",
       "3                0      5        32      8     82                      0   \n",
       "4                0     68        27     48    406                      0   \n",
       "6                1      0        12      3    155                      0   \n",
       "\n",
       "   FTE TEACHERS  PUPIL-TEACHER RATIO  FREE LUNCH ELIGIBLE NUMERIC  \\\n",
       "1             0                    0                         28.0   \n",
       "2             0                    0                          8.0   \n",
       "3             0                    0                         54.0   \n",
       "4             0                    0                         99.0   \n",
       "6            13                    0                         15.0   \n",
       "\n",
       "   REDUCED PRICE LUNCH ELIGIBLE NUMERIC  \n",
       "1                                   3.0  \n",
       "2                                   3.0  \n",
       "3                                   7.0  \n",
       "4                                  21.0  \n",
       "6                                  30.0  \n",
       "\n",
       "[5 rows x 26 columns]"
      ]
     },
     "execution_count": 3,
     "metadata": {},
     "output_type": "execute_result"
    }
   ],
   "source": [
    "df.head()"
   ]
  },
  {
   "cell_type": "code",
   "execution_count": 4,
   "id": "d9c2d3b6",
   "metadata": {},
   "outputs": [
    {
     "data": {
      "text/plain": [
       "Index(['SCHOOL', 'STATE', 'ID', 'ABBR', 'COUNTY', 'CHARTER', 'MAGNET',\n",
       "       'LOCALE', 'TITLE I', 'TITLE I ELIGIBLE', 'TOTAL STUDENTS',\n",
       "       'FREE LUNCH ELIGIBLE', 'REDUCED PRICE LUNCH ELIGIBLE',\n",
       "       'FREE AND REDUCED LUNCH ELIGIBLE', 'MALE STUDENTS', 'FEMALE STUDENTS',\n",
       "       'AMERICAN INDIAN', 'ASIAN', 'HISPANIC', 'BLACK', 'WHITE',\n",
       "       'TOTAL RACE/ETHINICITY', 'FTE TEACHERS', 'PUPIL-TEACHER RATIO',\n",
       "       'FREE LUNCH ELIGIBLE NUMERIC', 'REDUCED PRICE LUNCH ELIGIBLE NUMERIC'],\n",
       "      dtype='object')"
      ]
     },
     "execution_count": 4,
     "metadata": {},
     "output_type": "execute_result"
    }
   ],
   "source": [
    "df.columns"
   ]
  },
  {
   "cell_type": "code",
   "execution_count": 5,
   "id": "e5ec63e7",
   "metadata": {},
   "outputs": [
    {
     "data": {
      "text/plain": [
       "(338254, 26)"
      ]
     },
     "execution_count": 5,
     "metadata": {},
     "output_type": "execute_result"
    }
   ],
   "source": [
    "df.shape"
   ]
  },
  {
   "cell_type": "code",
   "execution_count": 6,
   "id": "dff04073",
   "metadata": {},
   "outputs": [],
   "source": [
    "df.drop(columns = ['SCHOOL', 'STATE', 'ID', 'COUNTY', 'CHARTER', 'MAGNET', 'TITLE I',\n",
    "                   'REDUCED PRICE LUNCH ELIGIBLE', 'FREE AND REDUCED LUNCH ELIGIBLE',\n",
    "                  'MALE STUDENTS', 'FEMALE STUDENTS', 'TOTAL RACE/ETHINICITY', 'FTE TEACHERS', 'PUPIL-TEACHER RATIO'], inplace = True)"
   ]
  },
  {
   "cell_type": "code",
   "execution_count": 7,
   "id": "3f2a9131",
   "metadata": {},
   "outputs": [],
   "source": [
    "df.reset_index( drop = True, inplace = True)"
   ]
  },
  {
   "cell_type": "markdown",
   "id": "1ecf362e",
   "metadata": {},
   "source": [
    "Function to Drop invalid free lunch eligible students."
   ]
  },
  {
   "cell_type": "code",
   "execution_count": 8,
   "id": "a68acfc5",
   "metadata": {},
   "outputs": [],
   "source": [
    "invalid_total_students = df['TOTAL STUDENTS'].apply( lambda x : x if ( (str(x)).isdigit() and x != 0) else None)"
   ]
  },
  {
   "cell_type": "code",
   "execution_count": 9,
   "id": "785a1a83",
   "metadata": {},
   "outputs": [],
   "source": [
    "invalid_total_students = invalid_total_students[invalid_total_students.isna() == True].index"
   ]
  },
  {
   "cell_type": "code",
   "execution_count": 10,
   "id": "58dfe503",
   "metadata": {},
   "outputs": [],
   "source": [
    "df.drop(invalid_total_students, inplace = True)"
   ]
  },
  {
   "cell_type": "code",
   "execution_count": 11,
   "id": "ada89f20",
   "metadata": {},
   "outputs": [],
   "source": [
    "df.reset_index(inplace = True, drop = True)"
   ]
  },
  {
   "cell_type": "code",
   "execution_count": 12,
   "id": "53dd03de",
   "metadata": {},
   "outputs": [],
   "source": [
    "invalid_idx = df['FREE LUNCH ELIGIBLE'].apply( lambda x : None if (not str(x).isdigit() and df['FREE LUNCH ELIGIBLE'] > df['TOTAL STUDENTS']) else x)"
   ]
  },
  {
   "cell_type": "code",
   "execution_count": 13,
   "id": "75fee54a",
   "metadata": {},
   "outputs": [],
   "source": [
    "invalid_idx = invalid_idx[invalid_idx.isna() == True].index"
   ]
  },
  {
   "cell_type": "code",
   "execution_count": 14,
   "id": "acc58277",
   "metadata": {},
   "outputs": [],
   "source": [
    "df.drop(invalid_idx, inplace = True)"
   ]
  },
  {
   "cell_type": "code",
   "execution_count": 15,
   "id": "cf2cb120",
   "metadata": {},
   "outputs": [
    {
     "data": {
      "text/plain": [
       "(337803, 12)"
      ]
     },
     "execution_count": 15,
     "metadata": {},
     "output_type": "execute_result"
    }
   ],
   "source": [
    "df.shape"
   ]
  },
  {
   "cell_type": "markdown",
   "id": "7c8daf33",
   "metadata": {},
   "source": [
    "# Adding Label"
   ]
  },
  {
   "cell_type": "code",
   "execution_count": 16,
   "id": "0f7e7612",
   "metadata": {},
   "outputs": [],
   "source": [
    "poverty = df['FREE LUNCH ELIGIBLE']/df['TOTAL STUDENTS']"
   ]
  },
  {
   "cell_type": "code",
   "execution_count": 17,
   "id": "1cfc398a",
   "metadata": {},
   "outputs": [],
   "source": [
    "hi_poverty = poverty.apply( lambda x : 1 if x > 0.233 else 0)"
   ]
  },
  {
   "cell_type": "code",
   "execution_count": 18,
   "id": "d5edd8b7",
   "metadata": {},
   "outputs": [],
   "source": [
    "strict_poverty = poverty.apply( lambda x : 1 if x > 0.339 else 0)"
   ]
  },
  {
   "cell_type": "code",
   "execution_count": 19,
   "id": "f62243b8",
   "metadata": {},
   "outputs": [
    {
     "data": {
      "text/plain": [
       "0     74769\n",
       "1    263034\n",
       "dtype: int64"
      ]
     },
     "execution_count": 19,
     "metadata": {},
     "output_type": "execute_result"
    }
   ],
   "source": [
    "hi_poverty.groupby(hi_poverty).count()"
   ]
  },
  {
   "cell_type": "code",
   "execution_count": 20,
   "id": "5b8f91b9",
   "metadata": {},
   "outputs": [
    {
     "data": {
      "text/plain": [
       "0    120118\n",
       "1    217685\n",
       "dtype: int64"
      ]
     },
     "execution_count": 20,
     "metadata": {},
     "output_type": "execute_result"
    }
   ],
   "source": [
    "strict_poverty.groupby(strict_poverty).count()"
   ]
  },
  {
   "cell_type": "code",
   "execution_count": 21,
   "id": "ce27f5a9",
   "metadata": {},
   "outputs": [],
   "source": [
    "df['HI-LABEL'] = hi_poverty\n",
    "df['STRICT-LABEL'] = strict_poverty"
   ]
  },
  {
   "cell_type": "code",
   "execution_count": 22,
   "id": "5319bfb9",
   "metadata": {
    "scrolled": true
   },
   "outputs": [
    {
     "data": {
      "text/html": [
       "<div>\n",
       "<style scoped>\n",
       "    .dataframe tbody tr th:only-of-type {\n",
       "        vertical-align: middle;\n",
       "    }\n",
       "\n",
       "    .dataframe tbody tr th {\n",
       "        vertical-align: top;\n",
       "    }\n",
       "\n",
       "    .dataframe thead th {\n",
       "        text-align: right;\n",
       "    }\n",
       "</style>\n",
       "<table border=\"1\" class=\"dataframe\">\n",
       "  <thead>\n",
       "    <tr style=\"text-align: right;\">\n",
       "      <th></th>\n",
       "      <th>ABBR</th>\n",
       "      <th>LOCALE</th>\n",
       "      <th>TITLE I ELIGIBLE</th>\n",
       "      <th>TOTAL STUDENTS</th>\n",
       "      <th>FREE LUNCH ELIGIBLE</th>\n",
       "      <th>AMERICAN INDIAN</th>\n",
       "      <th>ASIAN</th>\n",
       "      <th>HISPANIC</th>\n",
       "      <th>BLACK</th>\n",
       "      <th>WHITE</th>\n",
       "      <th>FREE LUNCH ELIGIBLE NUMERIC</th>\n",
       "      <th>REDUCED PRICE LUNCH ELIGIBLE NUMERIC</th>\n",
       "      <th>HI-LABEL</th>\n",
       "      <th>STRICT-LABEL</th>\n",
       "    </tr>\n",
       "  </thead>\n",
       "  <tbody>\n",
       "    <tr>\n",
       "      <th>0</th>\n",
       "      <td>WA</td>\n",
       "      <td>22-Suburb: Mid-size</td>\n",
       "      <td>1-Yes</td>\n",
       "      <td>171</td>\n",
       "      <td>28</td>\n",
       "      <td>8</td>\n",
       "      <td>5</td>\n",
       "      <td>20</td>\n",
       "      <td>1</td>\n",
       "      <td>122</td>\n",
       "      <td>28.0</td>\n",
       "      <td>3.0</td>\n",
       "      <td>0</td>\n",
       "      <td>0</td>\n",
       "    </tr>\n",
       "    <tr>\n",
       "      <th>1</th>\n",
       "      <td>MN</td>\n",
       "      <td>21-Suburb: Large</td>\n",
       "      <td>2-No</td>\n",
       "      <td>34</td>\n",
       "      <td>8</td>\n",
       "      <td>0</td>\n",
       "      <td>1</td>\n",
       "      <td>10</td>\n",
       "      <td>0</td>\n",
       "      <td>22</td>\n",
       "      <td>8.0</td>\n",
       "      <td>3.0</td>\n",
       "      <td>1</td>\n",
       "      <td>0</td>\n",
       "    </tr>\n",
       "    <tr>\n",
       "      <th>2</th>\n",
       "      <td>MN</td>\n",
       "      <td>21-Suburb: Large</td>\n",
       "      <td>2-No</td>\n",
       "      <td>130</td>\n",
       "      <td>54</td>\n",
       "      <td>0</td>\n",
       "      <td>5</td>\n",
       "      <td>32</td>\n",
       "      <td>8</td>\n",
       "      <td>82</td>\n",
       "      <td>54.0</td>\n",
       "      <td>7.0</td>\n",
       "      <td>1</td>\n",
       "      <td>1</td>\n",
       "    </tr>\n",
       "    <tr>\n",
       "      <th>3</th>\n",
       "      <td>MI</td>\n",
       "      <td>13-City: Small</td>\n",
       "      <td>2-No</td>\n",
       "      <td>594</td>\n",
       "      <td>99</td>\n",
       "      <td>0</td>\n",
       "      <td>68</td>\n",
       "      <td>27</td>\n",
       "      <td>48</td>\n",
       "      <td>406</td>\n",
       "      <td>99.0</td>\n",
       "      <td>21.0</td>\n",
       "      <td>0</td>\n",
       "      <td>0</td>\n",
       "    </tr>\n",
       "    <tr>\n",
       "      <th>4</th>\n",
       "      <td>NE</td>\n",
       "      <td>41-Rural: Fringe</td>\n",
       "      <td>2-No</td>\n",
       "      <td>171</td>\n",
       "      <td>15</td>\n",
       "      <td>1</td>\n",
       "      <td>0</td>\n",
       "      <td>12</td>\n",
       "      <td>3</td>\n",
       "      <td>155</td>\n",
       "      <td>15.0</td>\n",
       "      <td>30.0</td>\n",
       "      <td>0</td>\n",
       "      <td>0</td>\n",
       "    </tr>\n",
       "  </tbody>\n",
       "</table>\n",
       "</div>"
      ],
      "text/plain": [
       "  ABBR               LOCALE TITLE I ELIGIBLE  TOTAL STUDENTS  \\\n",
       "0  WA   22-Suburb: Mid-size            1-Yes             171   \n",
       "1  MN      21-Suburb: Large             2-No              34   \n",
       "2  MN      21-Suburb: Large             2-No             130   \n",
       "3  MI        13-City: Small             2-No             594   \n",
       "4  NE      41-Rural: Fringe             2-No             171   \n",
       "\n",
       "   FREE LUNCH ELIGIBLE  AMERICAN INDIAN  ASIAN  HISPANIC  BLACK  WHITE  \\\n",
       "0                   28                8      5        20      1    122   \n",
       "1                    8                0      1        10      0     22   \n",
       "2                   54                0      5        32      8     82   \n",
       "3                   99                0     68        27     48    406   \n",
       "4                   15                1      0        12      3    155   \n",
       "\n",
       "   FREE LUNCH ELIGIBLE NUMERIC  REDUCED PRICE LUNCH ELIGIBLE NUMERIC  \\\n",
       "0                         28.0                                   3.0   \n",
       "1                          8.0                                   3.0   \n",
       "2                         54.0                                   7.0   \n",
       "3                         99.0                                  21.0   \n",
       "4                         15.0                                  30.0   \n",
       "\n",
       "   HI-LABEL  STRICT-LABEL  \n",
       "0         0             0  \n",
       "1         1             0  \n",
       "2         1             1  \n",
       "3         0             0  \n",
       "4         0             0  "
      ]
     },
     "execution_count": 22,
     "metadata": {},
     "output_type": "execute_result"
    }
   ],
   "source": [
    "df.head()"
   ]
  },
  {
   "cell_type": "code",
   "execution_count": 23,
   "id": "fce0042d",
   "metadata": {},
   "outputs": [],
   "source": [
    "#df['HI-LABEL'].to_csv('High-label.csv')"
   ]
  },
  {
   "cell_type": "code",
   "execution_count": 24,
   "id": "548372f9",
   "metadata": {},
   "outputs": [],
   "source": [
    "#df['STRICT-LABEL'].to_csv('Strict-label.csv')"
   ]
  },
  {
   "cell_type": "code",
   "execution_count": 25,
   "id": "5c7f26b4",
   "metadata": {},
   "outputs": [],
   "source": [
    "df.drop( columns = ['TITLE I ELIGIBLE', 'FREE LUNCH ELIGIBLE', 'FREE LUNCH ELIGIBLE NUMERIC', 'REDUCED PRICE LUNCH ELIGIBLE NUMERIC', 'HI-LABEL', 'STRICT-LABEL'], inplace = True)"
   ]
  },
  {
   "cell_type": "code",
   "execution_count": 26,
   "id": "79a774df",
   "metadata": {
    "scrolled": false
   },
   "outputs": [
    {
     "data": {
      "text/html": [
       "<div>\n",
       "<style scoped>\n",
       "    .dataframe tbody tr th:only-of-type {\n",
       "        vertical-align: middle;\n",
       "    }\n",
       "\n",
       "    .dataframe tbody tr th {\n",
       "        vertical-align: top;\n",
       "    }\n",
       "\n",
       "    .dataframe thead th {\n",
       "        text-align: right;\n",
       "    }\n",
       "</style>\n",
       "<table border=\"1\" class=\"dataframe\">\n",
       "  <thead>\n",
       "    <tr style=\"text-align: right;\">\n",
       "      <th></th>\n",
       "      <th>ABBR</th>\n",
       "      <th>LOCALE</th>\n",
       "      <th>TOTAL STUDENTS</th>\n",
       "      <th>AMERICAN INDIAN</th>\n",
       "      <th>ASIAN</th>\n",
       "      <th>HISPANIC</th>\n",
       "      <th>BLACK</th>\n",
       "      <th>WHITE</th>\n",
       "    </tr>\n",
       "  </thead>\n",
       "  <tbody>\n",
       "    <tr>\n",
       "      <th>0</th>\n",
       "      <td>WA</td>\n",
       "      <td>22-Suburb: Mid-size</td>\n",
       "      <td>171</td>\n",
       "      <td>8</td>\n",
       "      <td>5</td>\n",
       "      <td>20</td>\n",
       "      <td>1</td>\n",
       "      <td>122</td>\n",
       "    </tr>\n",
       "    <tr>\n",
       "      <th>1</th>\n",
       "      <td>MN</td>\n",
       "      <td>21-Suburb: Large</td>\n",
       "      <td>34</td>\n",
       "      <td>0</td>\n",
       "      <td>1</td>\n",
       "      <td>10</td>\n",
       "      <td>0</td>\n",
       "      <td>22</td>\n",
       "    </tr>\n",
       "    <tr>\n",
       "      <th>2</th>\n",
       "      <td>MN</td>\n",
       "      <td>21-Suburb: Large</td>\n",
       "      <td>130</td>\n",
       "      <td>0</td>\n",
       "      <td>5</td>\n",
       "      <td>32</td>\n",
       "      <td>8</td>\n",
       "      <td>82</td>\n",
       "    </tr>\n",
       "    <tr>\n",
       "      <th>3</th>\n",
       "      <td>MI</td>\n",
       "      <td>13-City: Small</td>\n",
       "      <td>594</td>\n",
       "      <td>0</td>\n",
       "      <td>68</td>\n",
       "      <td>27</td>\n",
       "      <td>48</td>\n",
       "      <td>406</td>\n",
       "    </tr>\n",
       "    <tr>\n",
       "      <th>4</th>\n",
       "      <td>NE</td>\n",
       "      <td>41-Rural: Fringe</td>\n",
       "      <td>171</td>\n",
       "      <td>1</td>\n",
       "      <td>0</td>\n",
       "      <td>12</td>\n",
       "      <td>3</td>\n",
       "      <td>155</td>\n",
       "    </tr>\n",
       "  </tbody>\n",
       "</table>\n",
       "</div>"
      ],
      "text/plain": [
       "  ABBR               LOCALE  TOTAL STUDENTS  AMERICAN INDIAN  ASIAN  HISPANIC  \\\n",
       "0  WA   22-Suburb: Mid-size             171                8      5        20   \n",
       "1  MN      21-Suburb: Large              34                0      1        10   \n",
       "2  MN      21-Suburb: Large             130                0      5        32   \n",
       "3  MI        13-City: Small             594                0     68        27   \n",
       "4  NE      41-Rural: Fringe             171                1      0        12   \n",
       "\n",
       "   BLACK  WHITE  \n",
       "0      1    122  \n",
       "1      0     22  \n",
       "2      8     82  \n",
       "3     48    406  \n",
       "4      3    155  "
      ]
     },
     "execution_count": 26,
     "metadata": {},
     "output_type": "execute_result"
    }
   ],
   "source": [
    "df.head()"
   ]
  },
  {
   "cell_type": "code",
   "execution_count": 27,
   "id": "61679980",
   "metadata": {},
   "outputs": [],
   "source": [
    "df['ABBR'] = df['ABBR'].astype('str')"
   ]
  },
  {
   "cell_type": "code",
   "execution_count": 28,
   "id": "fb273781",
   "metadata": {},
   "outputs": [],
   "source": [
    "state_code = {\n",
    "    'CA ':1,'WY ':2,'MO ':3,'TX ':4,'OK ':5,'MS ':6, 'KY ':7,'ID ':8,'OR ':9,'WI ':10, 'ME ':11,'MA ':12,'NC ':13,\n",
    "    'VA ':14, 'OH ':15,'IN ':16, 'AL ':17, 'IA ':18, 'FL ':19, 'LA ':20, 'CT ':21, 'SC ':22, 'GA ':23, 'MD ':24,\n",
    "    'NE ':25, 'SD ':26, 'MT ':27, 'RI ':28, 'UT ':29, 'WV ':30, 'AR ':31, 'NV ':32, 'HI ':33, 'DE ':34, 'NY ':35,\n",
    "    'DE ':37, 'NY ':38, 'MN ':39, 'NM ':40, 'NJ ':41,'PA ':42, 'ND ':43, 'NH ': 44, 'MI ':45, 'KS ':46, 'CO ':47,\n",
    "    'VT ':48, 'DC ':49, 'WA ':50, 'IL ':51, 'AK ': 52, 'AZ ':53,'TN ':54\n",
    "}"
   ]
  },
  {
   "cell_type": "code",
   "execution_count": 29,
   "id": "bf735c2c",
   "metadata": {
    "scrolled": true
   },
   "outputs": [
    {
     "name": "stdout",
     "output_type": "stream",
     "text": [
      "dict_keys(['CA ', 'WY ', 'MO ', 'TX ', 'OK ', 'MS ', 'KY ', 'ID ', 'OR ', 'WI ', 'ME ', 'MA ', 'NC ', 'VA ', 'OH ', 'IN ', 'AL ', 'IA ', 'FL ', 'LA ', 'CT ', 'SC ', 'GA ', 'MD ', 'NE ', 'SD ', 'MT ', 'RI ', 'UT ', 'WV ', 'AR ', 'NV ', 'HI ', 'DE ', 'NY ', 'MN ', 'NM ', 'NJ ', 'PA ', 'ND ', 'NH ', 'MI ', 'KS ', 'CO ', 'VT ', 'DC ', 'WA ', 'IL ', 'AK ', 'AZ ', 'TN '])\n"
     ]
    }
   ],
   "source": [
    "print(state_code.keys())"
   ]
  },
  {
   "cell_type": "code",
   "execution_count": 30,
   "id": "66adddaf",
   "metadata": {},
   "outputs": [
    {
     "name": "stdout",
     "output_type": "stream",
     "text": [
      "['WA ' 'MN ' 'MI ' 'NE ' 'KY ' 'IN ' 'PA ' 'TX ' 'WI ' 'KS ' 'CA ' 'IL '\n",
      " 'NY ' 'RI ' 'ID ' 'WY ' 'MO ' 'CO ' 'OK ' 'NM ' 'NJ ' 'OR ' 'NC ' 'VA '\n",
      " 'OH ' 'AZ ' 'ND ' 'MS ' 'LA ' 'CT ' 'SC ' 'FL ' 'NH ' 'MD ' 'WV ' 'GA '\n",
      " 'SD ' 'AK ' 'IA ' 'ME ' 'MT ' 'DE ' 'AR ' 'UT ' 'NV ' 'VT ' 'DC ' 'HI '\n",
      " 'TN ' 'AL ']\n"
     ]
    }
   ],
   "source": [
    "print( df['ABBR'].unique())"
   ]
  },
  {
   "cell_type": "code",
   "execution_count": 31,
   "id": "d1f1ad71",
   "metadata": {},
   "outputs": [],
   "source": [
    "locale_code = {\n",
    "    '3-Urban fringe of large city': 101, '6-Small town': 102, '5-Large town': 103, '2-Midsize city':104, \n",
    "    '8-Rural - inside CBSA/MSA':105,'7-Rural - outside CBSA/MSA':106, '4-Urban fringe of midsize city':107,\n",
    "    '1-Large city':108, '41-Rural: Fringe':109, '22-Suburb: Mid-size':110, '21-Suburb: Large':111, \n",
    "    '42-Rural: Distant':112, '11-City: Large':113, '13-City: Small':114, '43-Rural: Remote':115,\n",
    "    '33-Town: Remote':116, '12-City: Mid-size':117, '32-Town: Distant':118, '31-Town: Fringe':119,\n",
    "    '23-Suburb: Small':120\n",
    "}"
   ]
  },
  {
   "cell_type": "code",
   "execution_count": 32,
   "id": "8d7fd255",
   "metadata": {},
   "outputs": [],
   "source": [
    "df['ABBR'] = df['ABBR'].apply(lambda x : state_code[x] if x in state_code else 0)\n",
    "df['ABBR'] = df['ABBR'].astype('category')\n",
    "df['ABBR'] = df['ABBR'].astype('str')"
   ]
  },
  {
   "cell_type": "code",
   "execution_count": 33,
   "id": "2e1f9b43",
   "metadata": {},
   "outputs": [],
   "source": [
    "df['LOCALE'] = df['LOCALE'].apply(lambda x : locale_code[x] if x in locale_code else 121)\n",
    "df['LOCALE'] = df['LOCALE'].astype('category')\n",
    "df['LOCALE'] = df['LOCALE'].astype('str')"
   ]
  },
  {
   "cell_type": "code",
   "execution_count": 34,
   "id": "1f714194",
   "metadata": {},
   "outputs": [],
   "source": [
    "num_cat = ['TOTAL STUDENTS', 'ASIAN', 'AMERICAN INDIAN','HISPANIC', 'BLACK', 'WHITE']\n",
    "scl = StandardScaler()\n",
    "\n",
    "for col in num_cat:\n",
    "    df[col] = scl.fit_transform(df[[col]].values)"
   ]
  },
  {
   "cell_type": "code",
   "execution_count": 35,
   "id": "7a9f10c3",
   "metadata": {
    "scrolled": true
   },
   "outputs": [
    {
     "data": {
      "text/html": [
       "<div>\n",
       "<style scoped>\n",
       "    .dataframe tbody tr th:only-of-type {\n",
       "        vertical-align: middle;\n",
       "    }\n",
       "\n",
       "    .dataframe tbody tr th {\n",
       "        vertical-align: top;\n",
       "    }\n",
       "\n",
       "    .dataframe thead th {\n",
       "        text-align: right;\n",
       "    }\n",
       "</style>\n",
       "<table border=\"1\" class=\"dataframe\">\n",
       "  <thead>\n",
       "    <tr style=\"text-align: right;\">\n",
       "      <th></th>\n",
       "      <th>ABBR</th>\n",
       "      <th>LOCALE</th>\n",
       "      <th>TOTAL STUDENTS</th>\n",
       "      <th>AMERICAN INDIAN</th>\n",
       "      <th>ASIAN</th>\n",
       "      <th>HISPANIC</th>\n",
       "      <th>BLACK</th>\n",
       "      <th>WHITE</th>\n",
       "    </tr>\n",
       "  </thead>\n",
       "  <tbody>\n",
       "    <tr>\n",
       "      <th>0</th>\n",
       "      <td>50</td>\n",
       "      <td>110</td>\n",
       "      <td>-0.820101</td>\n",
       "      <td>0.118183</td>\n",
       "      <td>-0.280551</td>\n",
       "      <td>-0.521809</td>\n",
       "      <td>-0.520741</td>\n",
       "      <td>-0.490510</td>\n",
       "    </tr>\n",
       "    <tr>\n",
       "      <th>1</th>\n",
       "      <td>39</td>\n",
       "      <td>111</td>\n",
       "      <td>-1.122707</td>\n",
       "      <td>-0.217000</td>\n",
       "      <td>-0.327979</td>\n",
       "      <td>-0.561820</td>\n",
       "      <td>-0.527422</td>\n",
       "      <td>-0.854489</td>\n",
       "    </tr>\n",
       "    <tr>\n",
       "      <th>2</th>\n",
       "      <td>39</td>\n",
       "      <td>111</td>\n",
       "      <td>-0.910662</td>\n",
       "      <td>-0.217000</td>\n",
       "      <td>-0.280551</td>\n",
       "      <td>-0.473797</td>\n",
       "      <td>-0.473977</td>\n",
       "      <td>-0.636101</td>\n",
       "    </tr>\n",
       "    <tr>\n",
       "      <th>3</th>\n",
       "      <td>45</td>\n",
       "      <td>114</td>\n",
       "      <td>0.114222</td>\n",
       "      <td>-0.217000</td>\n",
       "      <td>0.466429</td>\n",
       "      <td>-0.493802</td>\n",
       "      <td>-0.206750</td>\n",
       "      <td>0.543192</td>\n",
       "    </tr>\n",
       "    <tr>\n",
       "      <th>4</th>\n",
       "      <td>25</td>\n",
       "      <td>109</td>\n",
       "      <td>-0.820101</td>\n",
       "      <td>-0.175102</td>\n",
       "      <td>-0.339835</td>\n",
       "      <td>-0.553817</td>\n",
       "      <td>-0.507380</td>\n",
       "      <td>-0.370396</td>\n",
       "    </tr>\n",
       "  </tbody>\n",
       "</table>\n",
       "</div>"
      ],
      "text/plain": [
       "  ABBR LOCALE  TOTAL STUDENTS  AMERICAN INDIAN     ASIAN  HISPANIC     BLACK  \\\n",
       "0   50    110       -0.820101         0.118183 -0.280551 -0.521809 -0.520741   \n",
       "1   39    111       -1.122707        -0.217000 -0.327979 -0.561820 -0.527422   \n",
       "2   39    111       -0.910662        -0.217000 -0.280551 -0.473797 -0.473977   \n",
       "3   45    114        0.114222        -0.217000  0.466429 -0.493802 -0.206750   \n",
       "4   25    109       -0.820101        -0.175102 -0.339835 -0.553817 -0.507380   \n",
       "\n",
       "      WHITE  \n",
       "0 -0.490510  \n",
       "1 -0.854489  \n",
       "2 -0.636101  \n",
       "3  0.543192  \n",
       "4 -0.370396  "
      ]
     },
     "execution_count": 35,
     "metadata": {},
     "output_type": "execute_result"
    }
   ],
   "source": [
    "df.head()"
   ]
  },
  {
   "cell_type": "code",
   "execution_count": 36,
   "id": "06e2c2a5",
   "metadata": {},
   "outputs": [],
   "source": [
    "#df.to_csv('data_for_model_selection.csv')"
   ]
  }
 ],
 "metadata": {
  "kernelspec": {
   "display_name": "Python 3 (ipykernel)",
   "language": "python",
   "name": "python3"
  },
  "language_info": {
   "codemirror_mode": {
    "name": "ipython",
    "version": 3
   },
   "file_extension": ".py",
   "mimetype": "text/x-python",
   "name": "python",
   "nbconvert_exporter": "python",
   "pygments_lexer": "ipython3",
   "version": "3.8.11"
  }
 },
 "nbformat": 4,
 "nbformat_minor": 5
}
